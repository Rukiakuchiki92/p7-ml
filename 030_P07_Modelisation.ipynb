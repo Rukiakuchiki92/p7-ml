{
 "cells": [
  {
   "cell_type": "markdown",
   "id": "27f6018e",
   "metadata": {},
   "source": [
    "- **Regression** logistique : col num uniquement\n",
    "score train, score test, pipeline(knnimputer, standard scaler, regression log) = dans gridsearch avec 10 crossvalidation et ressortir le score\n",
    "\n",
    "- *Pipeline*(features num, knnimputer, scaler, et features cat à onehot (knn imputer random forest classifier,dummy regressor, reg log, KNN)) = calculer ACCURACY SCORE\n",
    "et resultgrid\n",
    "\n",
    "On peut frac = 0.25 , 0.30 ou 0.20\n",
    "\n",
    "\n",
    "[mon super lien](http://cneuuziu.com)"
   ]
  },
  {
   "cell_type": "code",
   "execution_count": null,
   "id": "a524bae2-489b-4cfd-89b6-2c5c15fdecad",
   "metadata": {},
   "outputs": [],
   "source": [
    "import pandas as pd\n",
    "import numpy as np\n",
    "import scipy.stats as stats"
   ]
  },
  {
   "cell_type": "code",
   "execution_count": null,
   "id": "033ab7ad",
   "metadata": {},
   "outputs": [],
   "source": [
    "\n",
    "import seaborn as sns\n",
    "import matplotlib.pyplot as plt\n",
    "\n",
    "import plotly.express as px\n"
   ]
  },
  {
   "cell_type": "code",
   "execution_count": null,
   "id": "ebe93dad",
   "metadata": {},
   "outputs": [],
   "source": [
    "\n",
    "import sklearn\n",
    "from sklearn.model_selection import train_test_split\n",
    "from sklearn.preprocessing import StandardScaler\n",
    "from sklearn.model_selection import GridSearchCV\n",
    "from sklearn.model_selection import RandomizedSearchCV\n",
    "from sklearn.dummy import DummyClassifier\n",
    "from sklearn import model_selection\n",
    "\n",
    "from sklearn.ensemble import RandomForestClassifier\n",
    "from sklearn.linear_model import LogisticRegression\n",
    "from sklearn.metrics import accuracy_score\n",
    "from imblearn.under_sampling import RandomUnderSampler\n",
    "from imblearn.pipeline import Pipeline\n",
    "\n",
    "# from sklearn.pipeline import Pipeline\n",
    "from sklearn.pipeline import make_pipeline\n",
    "from sklearn.impute import SimpleImputer\n",
    "from sklearn.compose import ColumnTransformer\n",
    "from sklearn.preprocessing import OneHotEncoder\n",
    "from sklearn.linear_model import LogisticRegression\n",
    "from sklearn.impute import KNNImputer\n",
    "from sklearn.compose import make_column_selector\n"
   ]
  },
  {
   "cell_type": "code",
   "execution_count": null,
   "id": "172ff24c",
   "metadata": {},
   "outputs": [],
   "source": [
    "\n",
    "# Feature Selection\n",
    "import shap"
   ]
  },
  {
   "cell_type": "markdown",
   "id": "efa55a0a-3437-4a04-9d9f-14326264faac",
   "metadata": {},
   "source": [
    "<div style=\"background-color:#9dedde; padding: 10px\">\n",
    "<h2>Chargement des données</h2>\n",
    "</div>"
   ]
  },
  {
   "cell_type": "code",
   "execution_count": null,
   "id": "8b4068a6-1c3e-4e59-ac25-a89a336a5655",
   "metadata": {},
   "outputs": [],
   "source": [
    "df = pd.read_csv(\"app_train_sample_clean.csv\")\n",
    "df.head(5)"
   ]
  },
  {
   "cell_type": "code",
   "execution_count": null,
   "id": "a415a9fb-1b1b-4f89-9b3f-ee6c8545dcfe",
   "metadata": {},
   "outputs": [],
   "source": [
    "df.shape"
   ]
  },
  {
   "cell_type": "code",
   "execution_count": null,
   "id": "187d743b-66a6-4a96-bc86-eefcdabf99b5",
   "metadata": {},
   "outputs": [],
   "source": [
    "df.tail()"
   ]
  },
  {
   "cell_type": "code",
   "execution_count": null,
   "id": "0d41eb52-2934-41ca-8393-1d5de218db57",
   "metadata": {},
   "outputs": [],
   "source": [
    "df.info()"
   ]
  },
  {
   "cell_type": "markdown",
   "id": "42937206-1cff-4be6-ab23-390205292143",
   "metadata": {},
   "source": [
    "<div style=\"background-color:#d699f2; padding: 10px\">\n",
    "    <h2>\n",
    "        <b>Analyse exploratoire</b>\n",
    "    </h2>\n",
    "</div>\n"
   ]
  },
  {
   "cell_type": "code",
   "execution_count": null,
   "id": "06673dc0-4f31-4776-99d7-bb06a6de1e6c",
   "metadata": {},
   "outputs": [],
   "source": [
    "plt.figure(figsize=(20, 12))\n",
    "corr = df.select_dtypes(include=(\"float64\", \"int64\")).corr()\n",
    "mask = np.triu(np.ones_like(corr, dtype=bool))\n",
    "sns.heatmap(corr, vmin=-1, vmax=1, cmap=\"coolwarm\", fmt=\".2f\", mask=mask, annot=True)\n",
    "plt.show()"
   ]
  },
  {
   "cell_type": "code",
   "execution_count": null,
   "id": "56635e3d-9ffc-49c8-b2f7-827e5ab67dcd",
   "metadata": {},
   "outputs": [],
   "source": [
    "df = df.sample(frac=0.10)\n"
   ]
  },
  {
   "cell_type": "code",
   "execution_count": null,
   "id": "f4fced44",
   "metadata": {},
   "outputs": [],
   "source": [
    "df"
   ]
  },
  {
   "cell_type": "code",
   "execution_count": null,
   "id": "403d059b",
   "metadata": {},
   "outputs": [],
   "source": [
    "19/3000"
   ]
  },
  {
   "cell_type": "code",
   "execution_count": null,
   "id": "3675acb8-721f-4fbc-bf3b-ad47cf12c720",
   "metadata": {},
   "outputs": [],
   "source": [
    "# df_1 =df.loc[df.CIBLE==1]\n",
    "# df_1"
   ]
  },
  {
   "cell_type": "code",
   "execution_count": null,
   "id": "d980aa77-c75c-478e-ab13-aa4099fc7f81",
   "metadata": {},
   "outputs": [],
   "source": [
    "# n = df_1.shape[0]"
   ]
  },
  {
   "cell_type": "code",
   "execution_count": null,
   "id": "74479b8f-8be1-4c5a-b8de-6272f21f0c3d",
   "metadata": {},
   "outputs": [],
   "source": [
    "# df_0 = df.loc[df.CIBLE==0]\n",
    "# df_0 = df_0.sample(n)\n",
    "# df_0"
   ]
  },
  {
   "cell_type": "code",
   "execution_count": null,
   "id": "53985f9e-9dde-4d61-a6ab-8ee83a6ea134",
   "metadata": {},
   "outputs": [],
   "source": [
    "# df = pd.concat([df_0, df_1], axis=0, ignore_index = True)\n",
    "# df"
   ]
  },
  {
   "cell_type": "code",
   "execution_count": null,
   "id": "92b312e8-7319-45c2-aa23-31b0f79d3065",
   "metadata": {},
   "outputs": [],
   "source": []
  },
  {
   "cell_type": "code",
   "execution_count": null,
   "id": "b42c24f8-cee4-4746-b1bc-0e18231ee609",
   "metadata": {},
   "outputs": [],
   "source": [
    "y = df[\"CIBLE\"]"
   ]
  },
  {
   "cell_type": "code",
   "execution_count": null,
   "id": "64d93325-09da-47f3-a60d-2cb2b208cf03",
   "metadata": {},
   "outputs": [],
   "source": [
    "y.shape"
   ]
  },
  {
   "cell_type": "code",
   "execution_count": null,
   "id": "66d1b5a5-8814-46a6-bb34-69f30c823d7f",
   "metadata": {},
   "outputs": [],
   "source": [
    "# Dataframe des autres features, supression des targets\n",
    "x_train = df.copy()\n",
    "\n",
    "col_cible = [\"ID_CLIENT\", \"CIBLE\", \"DATE_NAISSANCE\"]\n",
    "x_train.drop(col_cible, axis=1, inplace=True)\n",
    "x_train"
   ]
  },
  {
   "cell_type": "code",
   "execution_count": null,
   "id": "941caffd-9b6c-42fb-9e5d-da02a7ce1231",
   "metadata": {},
   "outputs": [],
   "source": [
    "x_train.shape"
   ]
  },
  {
   "cell_type": "code",
   "execution_count": null,
   "id": "a8835430-1e44-4144-ac97-966ef135cb93",
   "metadata": {},
   "outputs": [],
   "source": [
    "categ_col = x_train.select_dtypes([\"object\"]).columns\n",
    "num_col = x_train.select_dtypes([\"float64\", \"int64\"]).columns"
   ]
  },
  {
   "cell_type": "code",
   "execution_count": null,
   "id": "be15cf7b-ceaf-4139-9255-fcb03dc4a818",
   "metadata": {},
   "outputs": [],
   "source": [
    "categ_col"
   ]
  },
  {
   "cell_type": "code",
   "execution_count": null,
   "id": "16c0cce3-fd66-4e13-922c-c8d3f16d0d3d",
   "metadata": {},
   "outputs": [],
   "source": [
    "categ_col.shape"
   ]
  },
  {
   "cell_type": "code",
   "execution_count": null,
   "id": "c7459675-63bf-4b2a-a5d5-0a1d1af6ec9f",
   "metadata": {},
   "outputs": [],
   "source": [
    "num_col"
   ]
  },
  {
   "cell_type": "code",
   "execution_count": null,
   "id": "dd8ee567-f113-4726-b870-bb90980084ff",
   "metadata": {},
   "outputs": [],
   "source": [
    "num_col.shape"
   ]
  },
  {
   "cell_type": "markdown",
   "id": "47f42389-ce77-4dd4-accd-46f6bd9d8da6",
   "metadata": {},
   "source": [
    "<div style=\"background-color:#d699f2; padding: 10px\">\n",
    "    <h2>\n",
    "        <b>Modélisation</b>\n",
    "    </h2>\n",
    "</div>\n"
   ]
  },
  {
   "cell_type": "code",
   "execution_count": null,
   "id": "cba3b39c-e410-4817-b0e6-6428a8a09c42",
   "metadata": {},
   "outputs": [],
   "source": [
    "# Créer les transformateurs\n",
    "numeric_transformer = make_pipeline(SimpleImputer(strategy=\"mean\"), StandardScaler())\n",
    "\n",
    "categorical_transformer = make_pipeline(\n",
    "    SimpleImputer(strategy=\"most_frequent\"), OneHotEncoder(handle_unknown=\"ignore\")\n",
    ")\n",
    "\n",
    "\n",
    "preprocessor_1 = ColumnTransformer(\n",
    "    transformers=[\n",
    "        (\"num\", numeric_transformer, num_col),\n",
    "        (\"cat\", categorical_transformer, categ_col),\n",
    "    ],\n",
    "    remainder=\"drop\",\n",
    ")\n",
    "\n",
    "\n",
    "\n",
    "pipeline = Pipeline(\n",
    "    steps=[\n",
    "        (\"preprocessor\", preprocessor_1),\n",
    "        (\"sampler\", RandomUnderSampler()),\n",
    "        (\"estimator\", RandomForestClassifier()),\n",
    "    ]\n",
    ")"
   ]
  },
  {
   "cell_type": "code",
   "execution_count": null,
   "id": "795b2074-34d7-4b10-87e2-19bd729bf3ca",
   "metadata": {},
   "outputs": [],
   "source": [
    "def resultize(grid):\n",
    "    res = pd.DataFrame(grid.cv_results_)  # Utilisez la méthode cv_results_()\n",
    "    cols = [i for i in res.columns if \"split\" not in i]\n",
    "    res = res.loc[:, cols]\n",
    "    res.sort_values(\"mean_test_score\", ascending=False, inplace=True)\n",
    "    return res"
   ]
  },
  {
   "cell_type": "code",
   "execution_count": null,
   "id": "73a46a9e-7179-4d58-a5f3-7fd9ca0f7f99",
   "metadata": {},
   "outputs": [],
   "source": [
    "param_grid = {\n",
    "\n",
    "    \"estimator\": [RandomForestClassifier()],  # LogisticRegression(), DummyClassifier(),\n",
    "    #'preprocessor__num__simpleimputer__strategy': ['mean', 'median'],\n",
    "    #'preprocessor__cat__simpleimputer__strategy': ['most_frequent', 'constant', 'mean'],\n",
    "    #'estimator__C': [0.1, 1.0, 10.0]\n",
    "    \"estimator__n_estimators\" : [100, 200, 300, 500]\n",
    "}\n",
    "\n",
    "param_grid"
   ]
  },
  {
   "cell_type": "code",
   "execution_count": null,
   "id": "45e7caf9-5c33-4b9b-9f08-7186995959b4",
   "metadata": {},
   "outputs": [],
   "source": [
    "from sklearn.metrics import get_scorer_names # mettre en haut"
   ]
  },
  {
   "cell_type": "code",
   "execution_count": null,
   "id": "ebd02575-4f3d-4b66-8103-046f9a8ac60d",
   "metadata": {},
   "outputs": [],
   "source": [
    "get_scorer_names()"
   ]
  },
  {
   "cell_type": "code",
   "execution_count": null,
   "id": "59a52900-7737-477d-9c9e-09fcb11432f8",
   "metadata": {},
   "outputs": [],
   "source": [
    "grid_1 = GridSearchCV(\n",
    "    pipeline,\n",
    "    param_grid,\n",
    "    cv=5,\n",
    "    n_jobs=-1,\n",
    "    return_train_score=True,\n",
    "    verbose=2,\n",
    "    scoring=\"f1\",\n",
    ")\n",
    "grid_1"
   ]
  },
  {
   "cell_type": "code",
   "execution_count": null,
   "id": "59b20cfb-feb2-4771-8e7c-bccb736c9420",
   "metadata": {},
   "outputs": [],
   "source": [
    "print(\"Pipeline Steps:\", pipeline.named_steps)\n",
    "\n",
    "grid_1.fit(x_train, y)"
   ]
  },
  {
   "cell_type": "code",
   "execution_count": null,
   "id": "97a9d5b6-ec16-4e71-aab3-d25789ec1ba4",
   "metadata": {},
   "outputs": [],
   "source": [
    "resultize(grid_1)"
   ]
  },
  {
   "cell_type": "code",
   "execution_count": null,
   "id": "a9d3315b-2c3d-4d27-8af2-eb674fb1ecbf",
   "metadata": {},
   "outputs": [],
   "source": [
    "y.value_counts(normalize=True)"
   ]
  },
  {
   "cell_type": "code",
   "execution_count": null,
   "id": "b475ad28-9062-4922-849f-55813d864669",
   "metadata": {},
   "outputs": [],
   "source": [
    "best_model = grid_1.best_estimator_\n",
    "\n",
    "best_model"
   ]
  },
  {
   "cell_type": "code",
   "execution_count": null,
   "id": "bf7ecc96-337a-49b2-8d3c-43ce7f3dcf51",
   "metadata": {},
   "outputs": [],
   "source": [
    "\n",
    "# mettre en haut ==> double import\n",
    "from sklearn.model_selection import train_test_split\n",
    "from sklearn.metrics import classification_report\n",
    "from sklearn.metrics import accuracy_score"
   ]
  },
  {
   "cell_type": "code",
   "execution_count": null,
   "id": "501f7c79-7c21-4fbf-ae8f-aa2ee5a7d375",
   "metadata": {},
   "outputs": [],
   "source": [
    "# Séparez vos données en ensembles d'entraînement et de test\n",
    "X_train, X_test, y_train, y_test = train_test_split(\n",
    "    x_train, y, test_size=0.2, random_state=42\n",
    ")"
   ]
  },
  {
   "cell_type": "markdown",
   "id": "1f35863d",
   "metadata": {},
   "source": [
    "## Init and Fit a Grid Search"
   ]
  },
  {
   "cell_type": "code",
   "execution_count": null,
   "id": "fa06b42c-8619-45f3-9539-92f6837fd951",
   "metadata": {},
   "outputs": [],
   "source": [
    "# Utilisez GridSearchCV pour ajuster votre modèle\n",
    "grid_1 = GridSearchCV(\n",
    "    pipeline,\n",
    "    param_grid,\n",
    "    cv=5,\n",
    "    n_jobs=-1,\n",
    "    return_train_score=True,\n",
    "    verbose=2,\n",
    "    scoring=\"f1\",\n",
    ")\n",
    "grid_1.fit(X_train, y_train)"
   ]
  },
  {
   "cell_type": "code",
   "execution_count": null,
   "id": "6392b1b0-f32d-4996-9a52-659f9563782c",
   "metadata": {},
   "outputs": [],
   "source": [
    "df.columns.tolist()"
   ]
  },
  {
   "cell_type": "code",
   "execution_count": null,
   "id": "4165ba7c",
   "metadata": {},
   "outputs": [],
   "source": [
    "pipe = grid_1.best_estimator_\n",
    "pipe"
   ]
  },
  {
   "cell_type": "code",
   "execution_count": null,
   "id": "4b494e7b",
   "metadata": {},
   "outputs": [],
   "source": [
    "X_train.shape"
   ]
  },
  {
   "cell_type": "markdown",
   "id": "2f0ec2d8",
   "metadata": {},
   "source": [
    "## Feature Importance"
   ]
  },
  {
   "cell_type": "code",
   "execution_count": null,
   "id": "07fae5cf",
   "metadata": {},
   "outputs": [],
   "source": [
    "est = pipe.steps[-1]\n",
    "est = est[1]\n",
    "est"
   ]
  },
  {
   "cell_type": "code",
   "execution_count": null,
   "id": "1a0a4129",
   "metadata": {},
   "outputs": [],
   "source": [
    "preprocessor = pipe[:-1]"
   ]
  },
  {
   "cell_type": "code",
   "execution_count": null,
   "id": "3bb2bc23",
   "metadata": {},
   "outputs": [],
   "source": [
    "feature_names_out = preprocessor.get_feature_names_out()\n",
    "feature_names_out"
   ]
  },
  {
   "cell_type": "code",
   "execution_count": null,
   "id": "8a2c55da",
   "metadata": {},
   "outputs": [],
   "source": [
    "feat_imp = est.feature_importances_\n",
    "feat_imp "
   ]
  },
  {
   "cell_type": "code",
   "execution_count": null,
   "id": "10e45894",
   "metadata": {},
   "outputs": [],
   "source": [
    "len(est.feature_importances_)"
   ]
  },
  {
   "cell_type": "code",
   "execution_count": null,
   "id": "15993c61",
   "metadata": {},
   "outputs": [],
   "source": [
    "feature_imp_dict = {k: v for k, v in zip(feature_names_out, feat_imp)}\n",
    "feature_imp_dict"
   ]
  },
  {
   "cell_type": "code",
   "execution_count": null,
   "id": "4c286e14",
   "metadata": {},
   "outputs": [],
   "source": [
    "# Recupere la feat importance, créé un pd.Serie et on filtre\n",
    "feature_imp_ser = pd.Series(feature_imp_dict)\n",
    "feature_imp_ser = feature_imp_ser.sort_values(ascending=False)\n",
    "feature_imp_ser = feature_imp_ser[feature_imp_ser > 0.01]\n",
    "feature_imp_ser = feature_imp_ser.round(4)\n",
    "\n",
    "feature_imp_ser"
   ]
  },
  {
   "cell_type": "code",
   "execution_count": null,
   "id": "ec97712a",
   "metadata": {},
   "outputs": [],
   "source": [
    "# save la feat importance\n",
    "\n",
    "import pickle as pk  #  remonter la haut\n",
    "\n",
    "with open(\"feat_importance.pk\", \"wb\") as f : \n",
    "    pk.dump(feature_imp_ser, f)"
   ]
  },
  {
   "cell_type": "code",
   "execution_count": null,
   "id": "e077edc4",
   "metadata": {},
   "outputs": [],
   "source": []
  },
  {
   "cell_type": "markdown",
   "id": "e6478100",
   "metadata": {},
   "source": [
    "## Travaille sur Shap"
   ]
  },
  {
   "cell_type": "code",
   "execution_count": null,
   "id": "1d6ebef2",
   "metadata": {},
   "outputs": [],
   "source": [
    "def build_x_train_preprocessor(pipe, x_train):\n",
    "\n",
    "    preprocessor = pipe.steps[0]\n",
    "    preprocessor = preprocessor[1]\n",
    "    preprocessor\n",
    "\n",
    "    feat_name_out = preprocessor.get_feature_names_out()\n",
    "    feat_name_out\n",
    "\n",
    "    x_train_after_preprocess = preprocessor.transform(x_train)\n",
    "    x_train_after_preprocess\n",
    "\n",
    "    x_train_after_preprocess = pd.DataFrame(\n",
    "        x_train_after_preprocess, columns=feat_name_out\n",
    "    )\n",
    "\n",
    "    return x_train_after_preprocess\n",
    "\n",
    "\n",
    "\n",
    "def extract_est(pipe) : \n",
    "\n",
    "    return pipe.steps[-1][1]"
   ]
  },
  {
   "cell_type": "code",
   "execution_count": null,
   "id": "e9cb2481",
   "metadata": {},
   "outputs": [],
   "source": [
    "x_train_after_preprocess = build_x_train_preprocessor(pipe, X_train)\n",
    "x_train_after_preprocess"
   ]
  },
  {
   "cell_type": "code",
   "execution_count": null,
   "id": "e0321408",
   "metadata": {},
   "outputs": [],
   "source": [
    "x_train_after_preprocess.shape"
   ]
  },
  {
   "cell_type": "code",
   "execution_count": null,
   "id": "e9f14eaa",
   "metadata": {},
   "outputs": [],
   "source": [
    "explainer = shap.TreeExplainer(est, x_train_after_preprocess)\n",
    "explainer"
   ]
  },
  {
   "cell_type": "code",
   "execution_count": null,
   "id": "86a6f7cc",
   "metadata": {},
   "outputs": [],
   "source": [
    "explainer.__dict__.keys()"
   ]
  },
  {
   "cell_type": "code",
   "execution_count": null,
   "id": "30c074c1",
   "metadata": {},
   "outputs": [],
   "source": [
    "with open(\"shap_explainer.pk\", \"wb\") as f:\n",
    "    pk.dump(explainer, f)"
   ]
  },
  {
   "cell_type": "code",
   "execution_count": null,
   "id": "b7a876f2",
   "metadata": {},
   "outputs": [],
   "source": [
    "# [i for i in explainer.__dir__() if \"__\" not in i]"
   ]
  },
  {
   "cell_type": "code",
   "execution_count": null,
   "id": "083ccb9c",
   "metadata": {},
   "outputs": [],
   "source": [
    "def shapeit(i, explainer, x_train_after_preprocess):\n",
    "    \"\"\"take x_train_after_preprocess and i and give back shap values\"\"\"\n",
    "\n",
    "    val_ = explainer.shap_values(x_train_after_preprocess.iloc[i])\n",
    "    val_ = pd.DataFrame(\n",
    "        val_, index=x_train_after_preprocess.columns, columns=[\"TRUE\", \"FALSE\"]\n",
    "    )\n",
    "    val_ = val_.iloc[:, 0].sort_values(ascending=False).head(15)\n",
    "\n",
    "    return val_.round(4).to_dict()"
   ]
  },
  {
   "cell_type": "code",
   "execution_count": null,
   "id": "537154cc",
   "metadata": {},
   "outputs": [],
   "source": [
    "explainer.__dict__.keys()"
   ]
  },
  {
   "cell_type": "code",
   "execution_count": null,
   "id": "0b350368",
   "metadata": {},
   "outputs": [],
   "source": [
    "x_train_after_preprocess.iloc[:100]"
   ]
  },
  {
   "cell_type": "code",
   "execution_count": null,
   "id": "77d1440d",
   "metadata": {},
   "outputs": [],
   "source": [
    "shap_values = explainer(x_train_after_preprocess, check_additivity=False)\n",
    "shap_values"
   ]
  },
  {
   "cell_type": "code",
   "execution_count": null,
   "id": "dfc37b98",
   "metadata": {},
   "outputs": [],
   "source": [
    "import pickle as pk\n",
    "\n",
    "with open(\"shap.pk\", \"wb\") as f : \n",
    "\n",
    "    pk.dump(shap_values, f)"
   ]
  },
  {
   "cell_type": "markdown",
   "id": "b2952d24",
   "metadata": {},
   "source": [
    "## Test shap values for one id"
   ]
  },
  {
   "cell_type": "code",
   "execution_count": null,
   "id": "c1c91ff7",
   "metadata": {},
   "outputs": [],
   "source": [
    "x_train_after_preprocess.iloc[10, :]"
   ]
  },
  {
   "cell_type": "code",
   "execution_count": null,
   "id": "5b4ece83",
   "metadata": {},
   "outputs": [],
   "source": [
    "x_train_after_preprocess.isna().sum().sum()"
   ]
  },
  {
   "cell_type": "code",
   "execution_count": null,
   "id": "c6f37981",
   "metadata": {},
   "outputs": [],
   "source": [
    "3075*2"
   ]
  },
  {
   "cell_type": "code",
   "execution_count": null,
   "id": "97332b61",
   "metadata": {},
   "outputs": [],
   "source": [
    "6131/2"
   ]
  },
  {
   "cell_type": "code",
   "execution_count": null,
   "id": "af87ee3b",
   "metadata": {},
   "outputs": [],
   "source": [
    "x_train_after_preprocess.iloc[3063].to_dict()"
   ]
  },
  {
   "cell_type": "code",
   "execution_count": null,
   "id": "73d5ef41",
   "metadata": {},
   "outputs": [],
   "source": [
    "x_train_after_preprocess.iloc[3064].to_dict()"
   ]
  },
  {
   "cell_type": "code",
   "execution_count": null,
   "id": "8bfec36b",
   "metadata": {},
   "outputs": [],
   "source": [
    "x_train_after_preprocess.iloc[3065].to_dict()"
   ]
  },
  {
   "cell_type": "code",
   "execution_count": null,
   "id": "620f5c34",
   "metadata": {},
   "outputs": [],
   "source": [
    "x_train_after_preprocess.iloc[3066].to_dict()"
   ]
  },
  {
   "cell_type": "markdown",
   "id": "05d314d7",
   "metadata": {},
   "source": [
    "\n",
    "\n",
    "shap.force_plot(\n",
    "    explainer.expected_value, shap_values.values[1, :], X_display.iloc[0, :]\n",
    ")\n",
    "\n"
   ]
  },
  {
   "cell_type": "code",
   "execution_count": null,
   "id": "d76aa738",
   "metadata": {},
   "outputs": [],
   "source": [
    "shap.force_plot(\n",
    "    explainer.expected_value,\n",
    "    shap_values.values[:1000, :],\n",
    "    x_train_after_preprocess.iloc[:1000, :],\n",
    ")"
   ]
  },
  {
   "cell_type": "code",
   "execution_count": null,
   "id": "e3a4cfe6",
   "metadata": {},
   "outputs": [],
   "source": [
    "x_train"
   ]
  },
  {
   "cell_type": "markdown",
   "id": "e1e2dd59",
   "metadata": {},
   "source": []
  },
  {
   "cell_type": "markdown",
   "id": "0ee79497-9655-4809-8e33-9d7fccb3d885",
   "metadata": {},
   "source": [
    "<div style=\"background-color:#d699f2; padding: 10px\">\n",
    "    <h2>\n",
    "        <b>First Approch</b>\n",
    "    </h2>\n",
    "</div>\n"
   ]
  },
  {
   "cell_type": "code",
   "execution_count": null,
   "id": "d82aa298-49d0-4711-b99d-897a46821ca2",
   "metadata": {},
   "outputs": [],
   "source": [
    "# y_pred = notre prediction finale 'oui ou non'\n",
    "# y_true = CIBLE"
   ]
  },
  {
   "cell_type": "code",
   "execution_count": null,
   "id": "df3d1193-254d-4c2d-b333-d4868ca1086c",
   "metadata": {},
   "outputs": [],
   "source": [
    "# def calcul_benef(total_credit, y_true, y_pred, taux_interet=0.04):\n",
    "#    'on accorde un crédit, ou on refuse'\n",
    "#    if y_pred : #cas où on refuse le crédit\n",
    "#        return 0\n",
    "#    else :\n",
    "#        if y_true  :#On accorde le crédit donc on fait un bénéfice\n",
    "#            total_credit * taux_interet\n",
    "#            return total_credit * taux_interet\n",
    "#        if  y_true ==1 :\n",
    "#             return -total_credit *0.25 #On met un - car on a perdu le crédit accordé non remboursé\n",
    "\n",
    "\n",
    "def calcul_benef(montant, y_true, y_pred, taux=0.04, default_rate=1):\n",
    "    if y_pred:\n",
    "        return 0\n",
    "\n",
    "    if y_true:\n",
    "        return -default_rate * montant\n",
    "\n",
    "    return montant * taux"
   ]
  },
  {
   "cell_type": "code",
   "execution_count": null,
   "id": "df334355-a6cc-4ca5-88ba-890e9826d418",
   "metadata": {},
   "outputs": [],
   "source": [
    "calcul_benef(1000, 0, 0)"
   ]
  },
  {
   "cell_type": "code",
   "execution_count": null,
   "id": "3b6a01a7-ffc9-4b2c-9266-7ef15dcc19eb",
   "metadata": {},
   "outputs": [],
   "source": [
    "calcul_benef(1000, 1, 0)"
   ]
  },
  {
   "cell_type": "code",
   "execution_count": null,
   "id": "c4fca672-4e04-42ac-84ab-5aac08d1056f",
   "metadata": {},
   "outputs": [],
   "source": [
    "calcul_benef(1000, 1, 1)"
   ]
  },
  {
   "cell_type": "code",
   "execution_count": null,
   "id": "173b8e41-a3cb-478a-8da9-a7d66207a61f",
   "metadata": {},
   "outputs": [],
   "source": [
    "def calcul_benef_bis(row, taux_interet=0.04):\n",
    "    if row[\"CIBLE\"] == 1:  # cas où on refuse le crédit\n",
    "        return pd.Series(\n",
    "            {\"benef\": 0, \"pertes\": -row[\"TOTAL_CREDIT\"] * 0.25}\n",
    "        )  # Pertes avec un signe négatif\n",
    "    else:\n",
    "        if row[\"CIBLE\"] == 0:  # On accorde le crédit donc on fait un bénéfice\n",
    "            benef = row[\"TOTAL_CREDIT\"] * taux_interet\n",
    "            return pd.Series({\"benef\": benef, \"pertes\": 0})\n",
    "        else:\n",
    "            pertes = (\n",
    "                -row[\"TOTAL_CREDIT\"] * 0.25\n",
    "            )  # On met un - car on a perdu le crédit accordé non remboursé\n",
    "            return pd.Series({\"benef\": 0, \"pertes\": pertes})"
   ]
  },
  {
   "cell_type": "code",
   "execution_count": null,
   "id": "4c0e6f60-d48c-4aa7-b264-f372c465279b",
   "metadata": {},
   "outputs": [],
   "source": [
    "df[[\"benef\", \"pertes\"]] = df.apply(calcul_benef_bis, axis=1)"
   ]
  },
  {
   "cell_type": "code",
   "execution_count": null,
   "id": "99c2ce7a-b545-4b18-afca-9e892e0ad315",
   "metadata": {},
   "outputs": [],
   "source": [
    "df[[\"TOTAL_CREDIT\", \"CIBLE\", \"benef\", \"pertes\"]]"
   ]
  },
  {
   "cell_type": "code",
   "execution_count": null,
   "id": "cf73a126-1236-4f27-b1e1-54375ec26e24",
   "metadata": {},
   "outputs": [],
   "source": [
    "y_pred_list = grid_1.predict(X_test)\n",
    "y_pred_list"
   ]
  },
  {
   "cell_type": "code",
   "execution_count": null,
   "id": "16b7b5a9-376d-4e45-952e-53d6c1d2d848",
   "metadata": {},
   "outputs": [],
   "source": [
    "y_true_list = y_test.values\n",
    "y_true_list"
   ]
  },
  {
   "cell_type": "code",
   "execution_count": null,
   "id": "bdd0786f-a275-4ada-99cd-d10fc92c0f89",
   "metadata": {},
   "outputs": [],
   "source": [
    "montant_list = X_test.loc[:, \"TOTAL_CREDIT\"].values\n",
    "montant_list"
   ]
  },
  {
   "cell_type": "code",
   "execution_count": null,
   "id": "74712368-9212-4e73-9b02-5731fce28337",
   "metadata": {},
   "outputs": [],
   "source": [
    "l1 = [\"a\", \"b\"]\n",
    "l2 = [0, 1]"
   ]
  },
  {
   "cell_type": "code",
   "execution_count": null,
   "id": "5820b8a0-8c70-4fe8-a091-2c49c23f9eb5",
   "metadata": {},
   "outputs": [],
   "source": [
    "v = 0\n",
    "for m, y_true, y_pred in zip(montant_list, y_true_list, y_pred_list):\n",
    "    v += calcul_benef(m, y_true=y_true, y_pred=y_pred)\n",
    "round(v / 1_000_000, 2)"
   ]
  },
  {
   "cell_type": "code",
   "execution_count": null,
   "id": "35aaff39-84da-4988-9f8f-ade1de5c30d4",
   "metadata": {},
   "outputs": [],
   "source": [
    "sum(montant_list / 1_000_000).round(2)"
   ]
  },
  {
   "cell_type": "markdown",
   "id": "51548998-8383-441d-8240-60d5f2f8a7fd",
   "metadata": {},
   "source": [
    "<div style=\"background-color:#d699f2; padding: 10px\">\n",
    "    <h2>\n",
    "        <b>Prédict Proba</b>\n",
    "    </h2>\n",
    "</div>\n"
   ]
  },
  {
   "cell_type": "code",
   "execution_count": null,
   "id": "557fee11-7a15-4f6a-86a6-9bacf067c652",
   "metadata": {},
   "outputs": [],
   "source": [
    "X_test"
   ]
  },
  {
   "cell_type": "code",
   "execution_count": null,
   "id": "45273117-9598-459f-b0e7-85adb5642ec6",
   "metadata": {},
   "outputs": [],
   "source": [
    "y_pred_proba_list = grid_1.predict_proba(X_test)\n",
    "y_pred_proba_list = list(y_pred_proba_list[:, 0])\n",
    "y_pred_proba_list = [round(x, 4) for x in y_pred_proba_list]\n",
    "y_pred_proba_list[:10]"
   ]
  },
  {
   "cell_type": "code",
   "execution_count": null,
   "id": "5e4f3cc5-16b9-4b3b-a180-e5667ab7f194",
   "metadata": {},
   "outputs": [],
   "source": [
    "def calcul_pnl_one_complexe(\n",
    "    montant,\n",
    "    y_true,\n",
    "    y_pred_proba,\n",
    "    taux=0.04,\n",
    "    default_rate=1,\n",
    "    threshold=0.5,\n",
    "):\n",
    "    y_pred = 0 if y_pred_proba > threshold else 1\n",
    "\n",
    "    if y_pred:\n",
    "        return 0\n",
    "\n",
    "    if y_true:\n",
    "        return -default_rate * montant\n",
    "\n",
    "    return montant * taux"
   ]
  },
  {
   "cell_type": "code",
   "execution_count": null,
   "id": "dd7e42dc-b261-4df0-a6cb-ef6ae0409859",
   "metadata": {},
   "outputs": [],
   "source": [
    "v = 0\n",
    "for m, y_true, y_pred_proba in zip(montant_list, y_true_list, y_pred_proba_list):\n",
    "    v += calcul_pnl_one_complexe(m, y_true=y_true, y_pred_proba=y_pred_proba)\n",
    "round(v / 1_000_000, 2)"
   ]
  },
  {
   "cell_type": "code",
   "execution_count": null,
   "id": "8d3e4100-2168-46f2-96d1-e374c5f634a0",
   "metadata": {},
   "outputs": [],
   "source": [
    "v = 0\n",
    "for m, y_true, y_pred_proba in zip(montant_list, y_true_list, y_pred_proba_list):\n",
    "    v += calcul_pnl_one_complexe(\n",
    "        m, y_true=y_true, y_pred_proba=y_pred_proba, threshold=0.0\n",
    "    )\n",
    "round(v / 1_000_000, 2)"
   ]
  },
  {
   "cell_type": "code",
   "execution_count": null,
   "id": "cf665a16-38b4-4d10-a53e-ec7e4a8d2e5f",
   "metadata": {},
   "outputs": [],
   "source": [
    "v = 0\n",
    "for m, y_true, y_pred_proba in zip(montant_list, y_true_list, y_pred_proba_list):\n",
    "    v += calcul_pnl_one_complexe(\n",
    "        m, y_true=y_true, y_pred_proba=y_pred_proba, threshold=1\n",
    "    )\n",
    "round(v / 1_000_000, 2)"
   ]
  },
  {
   "cell_type": "code",
   "execution_count": null,
   "id": "e1e94b4d-7a50-45ba-825d-526144746b40",
   "metadata": {},
   "outputs": [],
   "source": [
    "threshold_list = np.linspace(0, 1, 100)\n",
    "pnl_list = []\n",
    "\n",
    "taux = 0.04\n",
    "default_rate = 1\n",
    "for threshold in threshold_list:\n",
    "    v = 0\n",
    "    for m, y_true, y_pred_proba in zip(montant_list, y_true_list, y_pred_proba_list):\n",
    "        v += calcul_pnl_one_complexe(\n",
    "            m,\n",
    "            y_true=y_true,\n",
    "            y_pred_proba=y_pred_proba,\n",
    "            threshold=threshold,\n",
    "            default_rate=default_rate,\n",
    "            taux=taux,\n",
    "        )\n",
    "    pnl_list.append(v)"
   ]
  },
  {
   "cell_type": "code",
   "execution_count": null,
   "id": "3691bc4c-cb76-4134-97bc-ce564b43ebf5",
   "metadata": {},
   "outputs": [],
   "source": [
    "plt.plot(threshold_list, pnl_list)"
   ]
  },
  {
   "cell_type": "code",
   "execution_count": null,
   "id": "f6328d68-66be-4e89-a3c9-4393a8d3774b",
   "metadata": {},
   "outputs": [],
   "source": [
    "px.line(x=threshold_list, y=pnl_list)"
   ]
  },
  {
   "cell_type": "code",
   "execution_count": null,
   "id": "a4536ed8-955f-44c7-923b-f95e1da0eb59",
   "metadata": {},
   "outputs": [],
   "source": [
    "pnl_df = pd.DataFrame({\"threshold\": threshold_list, \"pnl\": pnl_list}).sort_values(\n",
    "    by=\"pnl\", ascending=False\n",
    ")\n",
    "pnl_df"
   ]
  },
  {
   "cell_type": "code",
   "execution_count": null,
   "id": "ba32e28f-a985-4f08-bf96-146c91e5b386",
   "metadata": {},
   "outputs": [],
   "source": [
    "pnl_df.sort_values(by=\"pnl\", ascending=False).head(10)"
   ]
  },
  {
   "cell_type": "code",
   "execution_count": null,
   "id": "0018516e-147b-40e1-91a0-a5488e844fb8",
   "metadata": {},
   "outputs": [],
   "source": [
    "def analyse_pnl(taux=0.04, default_rate=1):\n",
    "    threshold_list = np.linspace(0, 1, 100)\n",
    "    pnl_list = []\n",
    "\n",
    "    for threshold in threshold_list:\n",
    "        v = 0\n",
    "        for m, y_true, y_pred_proba in zip(\n",
    "            montant_list, y_true_list, y_pred_proba_list\n",
    "        ):\n",
    "            v += calcul_pnl_one_complexe(\n",
    "                m,\n",
    "                y_true=y_true,\n",
    "                y_pred_proba=y_pred_proba,\n",
    "                threshold=threshold,\n",
    "                default_rate=default_rate,\n",
    "                taux=taux,\n",
    "            )\n",
    "        pnl_list.append(v)\n",
    "\n",
    "\n",
    "fig = px.line(x=threshold_list, y=pnl_list)\n",
    "fig.show()"
   ]
  },
  {
   "cell_type": "code",
   "execution_count": null,
   "id": "7d2e3091-f93a-49e8-899d-4ad69dc7ff17",
   "metadata": {},
   "outputs": [],
   "source": [
    "analyse_pnl(taux=0.04, default_rate=1)"
   ]
  },
  {
   "cell_type": "code",
   "execution_count": null,
   "id": "c2044c5b-5bdb-44bb-b305-3295e4ff2958",
   "metadata": {},
   "outputs": [],
   "source": [
    "analyse_pnl(0.04, 0.25)"
   ]
  },
  {
   "cell_type": "code",
   "execution_count": null,
   "id": "bb175e65-3235-4398-a960-69290788d6d6",
   "metadata": {},
   "outputs": [],
   "source": [
    "# pert que 25% de la somme\n",
    "# taux interet = 0.03\n",
    "analyse_pnl(0.025, 0.25)"
   ]
  },
  {
   "cell_type": "code",
   "execution_count": null,
   "id": "b833c19e-a34c-4ab3-941c-51c1db858902",
   "metadata": {},
   "outputs": [],
   "source": [
    "# pert que 25% de la somme\n",
    "# taux interet = 0.03\n",
    "analyse_pnl(0.03, 0.25)"
   ]
  },
  {
   "cell_type": "markdown",
   "id": "348d907c",
   "metadata": {},
   "source": [
    "# SHAP VALUES"
   ]
  },
  {
   "cell_type": "code",
   "execution_count": null,
   "id": "3a780aae-d4bb-4500-acfd-6dbce4b4c5c2",
   "metadata": {},
   "outputs": [],
   "source": []
  },
  {
   "cell_type": "code",
   "execution_count": null,
   "id": "32a0f89d-726d-46ab-a51e-14f5c9eb48b5",
   "metadata": {},
   "outputs": [],
   "source": []
  },
  {
   "cell_type": "code",
   "execution_count": null,
   "id": "737a276b-2560-441a-9aaa-4aa6f30a0a72",
   "metadata": {},
   "outputs": [],
   "source": [
    "# Calculer le bénéfice sur l'intégralité du dataset = sur tous les clients\n",
    "# Calculer le predict_proba"
   ]
  },
  {
   "cell_type": "code",
   "execution_count": null,
   "id": "98bd45cb-01ed-4719-bccc-1d3b64e4fa1a",
   "metadata": {},
   "outputs": [],
   "source": []
  },
  {
   "cell_type": "code",
   "execution_count": null,
   "id": "25ad7574-7ef2-4690-9ebe-fa65797c8242",
   "metadata": {},
   "outputs": [],
   "source": []
  },
  {
   "cell_type": "raw",
   "id": "0c86b21e-ed2b-488a-a12d-e729e55c4d3f",
   "metadata": {},
   "source": [
    "# meilleures prédictions avec le meilleur modèle\n",
    "best_model = grid_1.best_estimator_\n",
    "predictions = best_model.predict(X_test)"
   ]
  },
  {
   "cell_type": "raw",
   "id": "c8270c6f-931d-4f53-b7ce-37c3a51f8c8a",
   "metadata": {},
   "source": [
    "def calcul_benefice(predictions):\n",
    "    benefice_total = 0\n",
    "    for prediction in predictions:\n",
    "        if prediction == \"Vrai Positif\":\n",
    "            benefice_total += 100  # Valeur arbitraire pour un vrai positif\n",
    "        elif prediction == \"Faux Positif\":\n",
    "            benefice_total -= 50  # Valeur arbitraire pour un faux positif\n",
    "        \n",
    "\n",
    "    return benefice_total"
   ]
  },
  {
   "cell_type": "raw",
   "id": "03e40324-ddf6-4382-b0a4-9161dc2fc4dd",
   "metadata": {},
   "source": [
    "benefice_simule = calcul_benefice(predictions)"
   ]
  },
  {
   "cell_type": "raw",
   "id": "3b4e5c9f-36d6-40f3-9fe3-3a5593ea224c",
   "metadata": {},
   "source": [
    "# Affichez le bénéfice simulé\n",
    "print(\"Bénéfice simulé :\", benefice_simule)"
   ]
  },
  {
   "cell_type": "raw",
   "id": "486cb59d-37cf-405a-a44d-a73f2649779a",
   "metadata": {},
   "source": [
    "print(\"Classification Report:\\n\", classification_report(y_test, predictions))\n",
    "print(\"Accuracy Score:\", accuracy_score(y_test, predictions))"
   ]
  },
  {
   "cell_type": "raw",
   "id": "fde49829-1261-4a67-97aa-c323593dd280",
   "metadata": {},
   "source": []
  },
  {
   "cell_type": "raw",
   "id": "15d47e53-cd02-4444-bed9-c6d66233acfb",
   "metadata": {},
   "source": []
  },
  {
   "cell_type": "raw",
   "id": "b9e68ecf-4efc-4497-be96-15df69592f6d",
   "metadata": {},
   "source": []
  },
  {
   "cell_type": "raw",
   "id": "2d43c24e-6c1b-4349-aaef-46ff9efc48fc",
   "metadata": {},
   "source": []
  },
  {
   "cell_type": "raw",
   "id": "814d70bf-ec03-4b55-b083-7a5987dca00e",
   "metadata": {},
   "source": []
  },
  {
   "cell_type": "raw",
   "id": "ddd8dfde-0e44-4595-9de1-cad59eba0ee5",
   "metadata": {},
   "source": [
    "\"RAPPEL\" & \"PRECISION\"\n",
    "#Ratio entre l'un et l'autre \n",
    "-> F1 Score\n",
    "-> Ecrire une fonction qui permet de calculer l'argent "
   ]
  },
  {
   "cell_type": "raw",
   "id": "fb299f47-aa79-4660-8b95-719058680cd6",
   "metadata": {},
   "source": []
  },
  {
   "cell_type": "raw",
   "id": "f4570ed7-918c-49d2-aee5-65aa9aac676e",
   "metadata": {},
   "source": [
    "grid_1 = GridSearchCV(pipeline_lr_rf, param_grid, cv=5, n_jobs=-1, return_train_score=True)\n",
    "\n",
    "grid_1.fit(x_train, y)"
   ]
  },
  {
   "cell_type": "code",
   "execution_count": null,
   "id": "49586e82-aa70-4cf9-96df-fa237008dbf1",
   "metadata": {},
   "outputs": [],
   "source": []
  },
  {
   "cell_type": "code",
   "execution_count": null,
   "id": "b130568b-4cfd-438f-98fe-db3fe13b2381",
   "metadata": {},
   "outputs": [],
   "source": []
  },
  {
   "cell_type": "code",
   "execution_count": null,
   "id": "8ea5bb37",
   "metadata": {},
   "outputs": [],
   "source": []
  },
  {
   "cell_type": "code",
   "execution_count": null,
   "id": "a91c3348",
   "metadata": {},
   "outputs": [],
   "source": []
  },
  {
   "cell_type": "code",
   "execution_count": null,
   "id": "3a4ff9c0",
   "metadata": {},
   "outputs": [],
   "source": []
  },
  {
   "cell_type": "code",
   "execution_count": null,
   "id": "c236580f",
   "metadata": {},
   "outputs": [],
   "source": []
  },
  {
   "cell_type": "code",
   "execution_count": null,
   "id": "6afd5526",
   "metadata": {},
   "outputs": [],
   "source": []
  },
  {
   "cell_type": "code",
   "execution_count": null,
   "id": "536c5fc4",
   "metadata": {},
   "outputs": [],
   "source": []
  },
  {
   "cell_type": "code",
   "execution_count": null,
   "id": "19a90f2f",
   "metadata": {},
   "outputs": [],
   "source": []
  },
  {
   "cell_type": "code",
   "execution_count": null,
   "id": "a53c3581",
   "metadata": {},
   "outputs": [],
   "source": []
  },
  {
   "cell_type": "code",
   "execution_count": null,
   "id": "8be66436",
   "metadata": {},
   "outputs": [],
   "source": []
  },
  {
   "cell_type": "code",
   "execution_count": null,
   "id": "da69ec27",
   "metadata": {},
   "outputs": [],
   "source": []
  },
  {
   "cell_type": "code",
   "execution_count": null,
   "id": "6acafdac",
   "metadata": {},
   "outputs": [],
   "source": []
  },
  {
   "cell_type": "code",
   "execution_count": null,
   "id": "d4808c35",
   "metadata": {},
   "outputs": [],
   "source": []
  }
 ],
 "metadata": {
  "kernelspec": {
   "display_name": "Python 3",
   "language": "python",
   "name": "python3"
  },
  "language_info": {
   "codemirror_mode": {
    "name": "ipython",
    "version": 3
   },
   "file_extension": ".py",
   "mimetype": "text/x-python",
   "name": "python",
   "nbconvert_exporter": "python",
   "pygments_lexer": "ipython3",
   "version": "3.10.12"
  }
 },
 "nbformat": 4,
 "nbformat_minor": 5
}
