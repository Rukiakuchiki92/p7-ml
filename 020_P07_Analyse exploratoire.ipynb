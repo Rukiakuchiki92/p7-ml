{
 "cells": [
  {
   "cell_type": "markdown",
   "id": "dced097b-3331-461d-b63b-c4a76cb4162a",
   "metadata": {},
   "source": [
    "<div style=\"background-color:#9dedde; padding: 20px\">\n",
    "<h2>Projet 7 : Implémentez un modèle de Scoring</h2>\n",
    "</div>"
   ]
  },
  {
   "cell_type": "code",
   "execution_count": 1,
   "id": "935ed719-66cd-48ea-8580-2e9db7019818",
   "metadata": {},
   "outputs": [],
   "source": [
    "import pandas as pd\n",
    "import numpy as np\n",
    "import matplotlib.pyplot as plt\n",
    "import seaborn as sns\n",
    "import plotly.graph_objects as go\n",
    "from plotly import tools\n",
    "import plotly.express as px\n",
    "from datetime import datetime\n",
    "import datetime\n",
    "\n",
    "# pd.set_option('display.max_columns', 200)\n",
    "# pd.set_option('display.max_rows', 1000)"
   ]
  },
  {
   "cell_type": "markdown",
   "id": "486914ef-af34-4883-9826-0b6c12824bad",
   "metadata": {},
   "source": [
    "<div style=\"background-color:#d699f2; padding: 10px\">\n",
    "    <h2>\n",
    "        <b>Chargement des données</b>\n",
    "    </h2>\n",
    "</div>\n"
   ]
  },
  {
   "cell_type": "code",
   "execution_count": 2,
   "id": "8fd97255-96eb-4cc1-b1d5-b82bab963287",
   "metadata": {},
   "outputs": [],
   "source": [
    "df = pd.read_csv(\"D:\\\\Projet\\\\P07\\\\P07_Implementez_outils_scoring\\\\p7-ml\\\\fichier_ml\\\\app_train_sample_clean.csv\")"
   ]
  },
  {
   "cell_type": "code",
   "execution_count": null,
   "id": "e72e49a8-420c-432c-b09a-7e9a858b1a30",
   "metadata": {},
   "outputs": [],
   "source": [
    "df.shape"
   ]
  },
  {
   "cell_type": "code",
   "execution_count": null,
   "id": "603f9009-d655-4815-9520-ad94304c4cb2",
   "metadata": {},
   "outputs": [],
   "source": [
    "df.info()"
   ]
  },
  {
   "cell_type": "code",
   "execution_count": null,
   "id": "0c4cd7ae-9598-4adc-9f76-eb9511c32ace",
   "metadata": {},
   "outputs": [],
   "source": [
    "df.dtypes"
   ]
  },
  {
   "cell_type": "code",
   "execution_count": null,
   "id": "2a32a54e-ebf5-49c2-965c-004cf852abd6",
   "metadata": {},
   "outputs": [],
   "source": [
    "df.tail()"
   ]
  },
  {
   "cell_type": "code",
   "execution_count": null,
   "id": "e3e693fa-05a4-4067-90a9-ef9184d18913",
   "metadata": {},
   "outputs": [],
   "source": [
    "df.head()"
   ]
  },
  {
   "cell_type": "markdown",
   "id": "508e4c2c-8883-44cd-9124-8a7805d504da",
   "metadata": {},
   "source": [
    "<div style=\"background-color:#d699f2; padding: 10px\">\n",
    "    <h2>\n",
    "        <b> Analyse Exploratoire ---- Features numériques</b>\n",
    "    </h2>\n",
    "</div>\n"
   ]
  },
  {
   "cell_type": "code",
   "execution_count": 8,
   "id": "58be280c",
   "metadata": {},
   "outputs": [],
   "source": [
    "numeric_columns = df.select_dtypes(include=np.number)"
   ]
  },
  {
   "cell_type": "code",
   "execution_count": null,
   "id": "a601c92b-2935-4438-bf8b-dd630aa714e2",
   "metadata": {},
   "outputs": [],
   "source": [
    "fig = plt.subplots(1, 1, figsize=(10, 10))\n",
    "corr = numeric_columns.sample(frac=0.1).corr()\n",
    "mask = np.triu(corr)\n",
    "sns.heatmap(corr, annot=True, cmap=\"coolwarm\", vmin=-1, vmax=1, mask=mask, fmt=\".2f\")"
   ]
  },
  {
   "cell_type": "code",
   "execution_count": null,
   "id": "07b94b2c-7828-4ffa-92d3-3bea12cc5f73",
   "metadata": {},
   "outputs": [],
   "source": [
    "df.CIBLE.value_counts()"
   ]
  },
  {
   "cell_type": "code",
   "execution_count": null,
   "id": "74ae2339-62fb-42c9-85f3-966182b36e7d",
   "metadata": {},
   "outputs": [],
   "source": [
    "note_pie = df[\"CIBLE\"].value_counts()\n",
    "\n",
    "plt.figure(figsize=(12, 8))\n",
    "plt.pie(note_pie, labels=note_pie.index, autopct=\"%1.1f%%\", pctdistance=0.7)\n",
    "plt.title(\"Répartition CIBLE\")\n",
    "plt.show()"
   ]
  },
  {
   "cell_type": "markdown",
   "id": "02c500cd-7ea2-46c7-9db6-2d4cce8413a8",
   "metadata": {},
   "source": [
    "<div style=\"background-color:#a2f5aa; padding: 1px; max-width: 350px;\">\n",
    "    <h2>\n",
    "        <b> Relation Cible x Age</b>\n",
    "    </h2>\n",
    "</div>\n"
   ]
  },
  {
   "cell_type": "code",
   "execution_count": null,
   "id": "ca349d43-ea08-410c-8333-15bc0147dc0f",
   "metadata": {},
   "outputs": [],
   "source": [
    "age_group_cible = df.groupby([pd.cut(df[\"AGE\"], bins=5), \"CIBLE\"]).size().unstack()\n",
    "\n",
    "age_group_cible.plot(kind=\"bar\", stacked=False, figsize=(10, 6))\n",
    "plt.xlabel(\"Tranche d'âge\")\n",
    "plt.ylabel(\"Fréquence\")\n",
    "plt.title(\n",
    "    \"Distribution de la Cible pour chaque tranche d'âge\",\n",
    "    fontsize=20,\n",
    "    fontweight=\"bold\",\n",
    "    color=\"RoyalBlue\",\n",
    ")\n",
    "plt.legend(title=\"CIBLE\", labels=[\"0\", \"1\"])\n",
    "plt.show()"
   ]
  },
  {
   "cell_type": "code",
   "execution_count": null,
   "id": "8f9f8569-3df9-4655-b5d2-83448ef75a5d",
   "metadata": {},
   "outputs": [],
   "source": [
    "custom_colors = [\"#33b4ff\", \"#debefa\"]  # Définir des couleurs personnalisées\n",
    "\n",
    "\n",
    "sns.set(style=\"white\", palette=custom_colors, font_scale=1.2)\n",
    "\n",
    "\n",
    "plt.figure(figsize=(10, 6))\n",
    "sns.kdeplot(\n",
    "    data=df, x=\"AGE\", hue=\"CIBLE\", fill=True, common_norm=False, alpha=0.6, linewidth=0\n",
    ")\n",
    "plt.xlabel(\"Âge\", fontsize=14)\n",
    "plt.ylabel(\"Densité\", fontsize=14)\n",
    "plt.title(\n",
    "    \"Distribution des cibles en fonction de l'âge\",\n",
    "    fontsize=20,\n",
    "    fontweight=\"bold\",\n",
    "    color=\"RoyalBlue\",\n",
    ")\n",
    "plt.grid(False)  # Retirer la grille\n",
    "plt.show()"
   ]
  },
  {
   "cell_type": "code",
   "execution_count": null,
   "id": "37f6ec5d",
   "metadata": {},
   "outputs": [],
   "source": []
  },
  {
   "cell_type": "markdown",
   "id": "731e5f9d-aa8d-4e78-94e9-48f432c0058c",
   "metadata": {},
   "source": [
    "<div style=\"background-color:#a2f5aa; padding: 1px; max-width: 600px;\">\n",
    "    <h2>\n",
    "        <b> Relation Cible x Nombre membre de la famille</b>\n",
    "    </h2>\n",
    "</div>\n"
   ]
  },
  {
   "cell_type": "code",
   "execution_count": null,
   "id": "f56e27ac",
   "metadata": {},
   "outputs": [],
   "source": [
    "df.columns.tolist()"
   ]
  },
  {
   "cell_type": "code",
   "execution_count": null,
   "id": "df4a42fc-14db-44bf-9543-8d91ee2a621b",
   "metadata": {},
   "outputs": [],
   "source": [
    "# Définition de la palette de couleurs personnalisée\n",
    "custom_palette = [\"#33b4ff\", \"#debefa\"]\n",
    "\n",
    "# Paramètres de style pour personnaliser le graphique\n",
    "sns.set(style=\"whitegrid\")\n",
    "\n",
    "# Tracer le graphique catégoriel\n",
    "plt.figure(figsize=(10, 6))\n",
    "ax = sns.countplot(x=\"NBR_MEMBRES_FAMILLE\", hue=\"CIBLE\", data=df, palette=custom_palette)\n",
    "\n",
    "# Ajouter des titres et des étiquettes\n",
    "plt.xlabel(\"Nombre de membres de la famille\")\n",
    "plt.ylabel(\"Fréquence\")\n",
    "plt.title(\n",
    "    \"Relation entre le nombre de membres de la famille et la cible\",\n",
    "    fontsize=20,\n",
    "    fontweight=\"bold\",\n",
    "    color=\"RoyalBlue\",\n",
    ")\n",
    "plt.legend(loc=\"upper right\")\n",
    "# Afficher le graphique\n",
    "plt.show()"
   ]
  },
  {
   "cell_type": "markdown",
   "id": "b8dbc5b0-1651-4e09-9138-cbd4253c38b7",
   "metadata": {
    "tags": []
   },
   "source": [
    "<div style=\"background-color:#a2f5aa; padding: 1px; max-width: 350px;\">\n",
    "    <h2>\n",
    "        <b> Relation Cible x Total Credit</b>\n",
    "    </h2>\n",
    "</div>\n"
   ]
  },
  {
   "cell_type": "code",
   "execution_count": null,
   "id": "a878dc6d",
   "metadata": {},
   "outputs": [],
   "source": [
    "df.columns.tolist()"
   ]
  },
  {
   "cell_type": "code",
   "execution_count": null,
   "id": "a8f50bda-250e-42ea-8c43-5c213c722c86",
   "metadata": {},
   "outputs": [],
   "source": [
    "plt.figure(figsize=(10, 6))\n",
    "sns.boxplot(x=\"CIBLE\", y=\"MONTANT_CREDIT\", data=df)\n",
    "plt.title(\"Distribution du total du crédit par catégorie de la cible\")\n",
    "plt.xlabel(\"Cible\")\n",
    "plt.ylabel(\"Total du crédit\")\n",
    "plt.show()"
   ]
  },
  {
   "cell_type": "code",
   "execution_count": null,
   "id": "0c775b70-8739-42f4-a80c-112e3fd0da27",
   "metadata": {},
   "outputs": [],
   "source": [
    "df[\"MONTANT_CREDIT\"].describe().T"
   ]
  },
  {
   "cell_type": "code",
   "execution_count": null,
   "id": "d28b1464-0af2-4c21-bf8f-b7d9f6834da0",
   "metadata": {},
   "outputs": [],
   "source": []
  },
  {
   "cell_type": "markdown",
   "id": "4e25c2c6-b038-4bb6-92ab-5ebae0eecf3a",
   "metadata": {},
   "source": [
    "<div style=\"background-color:#d699f2; padding: 10px\">\n",
    "    <h2>\n",
    "        <b> Analyse Exploratoire ---- Features catégorielles</b>\n",
    "    </h2>\n",
    "</div>\n"
   ]
  },
  {
   "cell_type": "markdown",
   "id": "c2441114-88e1-4338-a984-94b36f8b9d08",
   "metadata": {},
   "source": [
    "<div style=\"background-color:#a2f5aa; padding: 1px; max-width: 350px;\">\n",
    "    <h2>\n",
    "        <b> Relation Cible x Biens immo</b>\n",
    "    </h2>\n",
    "</div>\n"
   ]
  },
  {
   "cell_type": "code",
   "execution_count": null,
   "id": "d7e088b4",
   "metadata": {},
   "outputs": [],
   "source": [
    "df.columns"
   ]
  },
  {
   "cell_type": "code",
   "execution_count": null,
   "id": "80079532-82da-470b-9f4b-5b600c660a22",
   "metadata": {},
   "outputs": [],
   "source": [
    "custom_palette = [\"#33b4ff\", \"#debefa\"]\n",
    "\n",
    "sns.set(style=\"whitegrid\")\n",
    "\n",
    "g = sns.catplot(\n",
    "    x=\"PROPRIETAIRE_BIEN_IMMO\",\n",
    "    y=\"AGE\",\n",
    "    hue=\"CIBLE\",\n",
    "    col=\"GENRE\",\n",
    "    data=df,\n",
    "    kind=\"bar\",\n",
    "    ci=None,\n",
    "    palette=custom_palette,\n",
    "    height=6,\n",
    "    aspect=0.7,\n",
    ")\n",
    "\n",
    "g.set_axis_labels(\"Type de contrat\", \"Âge\")\n",
    "g.set_titles(\"Genre {col_name}\")\n",
    "\n",
    "for ax in g.axes.flat:\n",
    "    for p in ax.patches:\n",
    "        if p.get_height() > 0:\n",
    "            height = p.get_height()\n",
    "            ax.text(\n",
    "                p.get_x() + p.get_width() / 2.0,\n",
    "                height,\n",
    "                \"{:.1f}%\".format(height),\n",
    "                ha=\"center\",\n",
    "            )\n",
    "\n",
    "plt.show()"
   ]
  },
  {
   "cell_type": "markdown",
   "id": "ce62285c",
   "metadata": {},
   "source": [
    "<div style=\"background-color:#a2f5aa; padding: 1px; max-width: 350px;\">\n",
    "    <h2>\n",
    "        <b> Relation Age x ANNEE TRAVAILLE</b>\n",
    "    </h2>\n",
    "</div>\n"
   ]
  },
  {
   "cell_type": "code",
   "execution_count": null,
   "id": "1c61f465",
   "metadata": {},
   "outputs": [],
   "source": [
    "# Diagramme à barres de 'YEARS_EMPLOYED' par groupe d'âge\n",
    "df['TRANCHE_AGE'] = pd.cut(df['AGE'], bins=[0, 20, 30, 40, 50, 60, 70, 80])\n",
    "plt.figure(figsize=(10, 6))\n",
    "sns.barplot(x='TRANCHE_AGE', y='ANNEES_EMPLOI', data=df)\n",
    "plt.title('Années d\\'emploi par groupe d\\'âge')\n",
    "plt.xlabel('Tranche d\\'âge')\n",
    "plt.ylabel('Années d\\'emploi')\n",
    "plt.show()"
   ]
  },
  {
   "cell_type": "markdown",
   "id": "a6ff7203-4491-458c-8c18-a2140f23b915",
   "metadata": {},
   "source": [
    "<div style=\"background-color:#a2f5aa; padding: 1px; max-width: 300px;\">\n",
    "    <h2>\n",
    "        <b>Relation Cible x Voiture</b>\n",
    "    </h2>\n",
    "</div>\n"
   ]
  },
  {
   "cell_type": "code",
   "execution_count": null,
   "id": "076ebe53-124b-4866-8bc7-95f47cf311e8",
   "metadata": {},
   "outputs": [],
   "source": [
    "custom_palette = [\"#33b4ff\", \"#debefa\"]\n",
    "\n",
    "sns.set(style=\"whitegrid\")\n",
    "\n",
    "g = sns.catplot(\n",
    "    x=\"PROPRIETAIRE_VOITURE\",\n",
    "    y=\"AGE\",\n",
    "    hue=\"CIBLE\",\n",
    "    col=\"GENRE\",\n",
    "    data=df,\n",
    "    kind=\"bar\",\n",
    "    ci=None,\n",
    "    palette=custom_palette,\n",
    "    height=6,\n",
    "    aspect=0.7,\n",
    ")\n",
    "\n",
    "g.set_axis_labels(\"Possession voiture\", \"Âge\")\n",
    "g.set_titles(\"Genre {col_name}\")\n",
    "\n",
    "for ax in g.axes.flat:\n",
    "    for p in ax.patches:\n",
    "        if p.get_height() > 0:\n",
    "            height = p.get_height()\n",
    "            ax.text(\n",
    "                p.get_x() + p.get_width() / 2.0,\n",
    "                height,\n",
    "                \"{:.1f}%\".format(height),\n",
    "                ha=\"center\",\n",
    "            )\n",
    "\n",
    "plt.show()"
   ]
  },
  {
   "cell_type": "markdown",
   "id": "1fda5267-e621-4127-bc3b-65677c67b8f1",
   "metadata": {},
   "source": [
    "<div style=\"background-color:#a2f5aa; padding: 1px; max-width: 500px;\">\n",
    "    <h2>\n",
    "        <b>Relation Cible x Type de Contrat x Genre</b>\n",
    "    </h2>\n",
    "</div>\n"
   ]
  },
  {
   "cell_type": "code",
   "execution_count": null,
   "id": "fab70f8e-f7ea-464d-9f23-441c4d1082ad",
   "metadata": {},
   "outputs": [],
   "source": [
    "custom_palette = [\"#33b4ff\", \"#debefa\"]\n",
    "note_pie = df[\"TYPE_CONTRAT\"].value_counts()\n",
    "\n",
    "plt.figure(figsize=(12, 8))\n",
    "plt.pie(\n",
    "    note_pie,\n",
    "    labels=note_pie.index,\n",
    "    colors=custom_palette,\n",
    "    autopct=\"%1.1f%%\",\n",
    "    pctdistance=0.7,\n",
    ")\n",
    "plt.title(\n",
    "    \"Répartition des types de contrats\",\n",
    "    fontsize=20,\n",
    "    fontweight=\"bold\",\n",
    "    color=\"RoyalBlue\",\n",
    ")\n",
    "plt.show()"
   ]
  },
  {
   "cell_type": "code",
   "execution_count": null,
   "id": "d48ff04c-2739-4956-8598-7a00a9b6d2d5",
   "metadata": {},
   "outputs": [],
   "source": [
    "custom_palette = [\"#33b4ff\", \"#debefa\"]\n",
    "\n",
    "sns.set(style=\"whitegrid\")\n",
    "\n",
    "g = sns.catplot(\n",
    "    x=\"TYPE_CONTRAT\",\n",
    "    y=\"AGE\",\n",
    "    hue=\"CIBLE\",\n",
    "    col=\"GENRE\",\n",
    "    data=df,\n",
    "    kind=\"bar\",\n",
    "    ci=None,\n",
    "    palette=custom_palette,\n",
    "    height=6,\n",
    "    aspect=0.7,\n",
    ")\n",
    "\n",
    "g.set_axis_labels(\"Type de contrat\", \"Âge\")\n",
    "g.set_titles(\"Genre {col_name}\")\n",
    "\n",
    "for ax in g.axes.flat:\n",
    "    for p in ax.patches:\n",
    "        if p.get_height() > 0:\n",
    "            height = p.get_height()\n",
    "            ax.text(\n",
    "                p.get_x() + p.get_width() / 2.0,\n",
    "                height,\n",
    "                \"{:.1f}%\".format(height),\n",
    "                ha=\"center\",\n",
    "            )\n",
    "\n",
    "plt.show()"
   ]
  },
  {
   "cell_type": "code",
   "execution_count": null,
   "id": "019f6d64-cfb7-40e9-9e9e-50925bbb5dc5",
   "metadata": {},
   "outputs": [],
   "source": [
    "custom_palette = [\"#33b4ff\", \"#debefa\"]\n",
    "note_pie = df[\"GENRE\"].value_counts()\n",
    "\n",
    "plt.figure(figsize=(12, 8))\n",
    "plt.pie(\n",
    "    note_pie,\n",
    "    labels=note_pie.index,\n",
    "    colors=custom_palette,\n",
    "    autopct=\"%1.1f%%\",\n",
    "    pctdistance=0.7,\n",
    ")\n",
    "plt.title(\"Répartition des genres\", fontsize=20, fontweight=\"bold\", color=\"RoyalBlue\")\n",
    "plt.show()"
   ]
  },
  {
   "cell_type": "code",
   "execution_count": null,
   "id": "63d7565d-e223-4366-8d65-624959b3d23a",
   "metadata": {},
   "outputs": [],
   "source": [
    "df[\"GENRE\"].value_counts()"
   ]
  },
  {
   "cell_type": "code",
   "execution_count": 27,
   "id": "b821f474-256b-4607-8991-c910e7d52651",
   "metadata": {},
   "outputs": [],
   "source": [
    "df = df[df[\"GENRE\"] != \"XNA\"]"
   ]
  },
  {
   "cell_type": "code",
   "execution_count": null,
   "id": "c9bb9618-f27c-4ce1-bccb-59e6e3fc4459",
   "metadata": {},
   "outputs": [],
   "source": [
    "# Définition de la palette de couleurs personnalisée\n",
    "custom_palette = [\"#33b4ff\", \"#debefa\"]\n",
    "\n",
    "# Paramètres de style pour personnaliser le graphique\n",
    "sns.set(style=\"whitegrid\")\n",
    "plt.figure(figsize=(10, 10))\n",
    "\n",
    "# Tracer le graphique catégoriel\n",
    "ax = sns.catplot(x=\"GENRE\", hue=\"CIBLE\", data=df, kind=\"count\", palette=custom_palette)\n",
    "\n",
    "total = float(len(df))\n",
    "for p in ax.ax.patches:\n",
    "    height = p.get_height()\n",
    "    ax.ax.text(\n",
    "        p.get_x() + p.get_width() / 2.0,\n",
    "        height + 3,\n",
    "        \"{:.1f}%\".format((height / total) * 100),\n",
    "        ha=\"center\",\n",
    "    )\n",
    "\n",
    "# Ajouter des titres et des étiquettes\n",
    "plt.xlabel(\"Genre\")\n",
    "plt.ylabel(\"Fréquence\")\n",
    "plt.title(\n",
    "    \"Relation entre le genre et la cible\",\n",
    "    fontsize=20,\n",
    "    fontweight=\"bold\",\n",
    "    color=\"RoyalBlue\",\n",
    ")\n",
    "\n",
    "\n",
    "# Afficher le graphique\n",
    "plt.show()"
   ]
  },
  {
   "cell_type": "markdown",
   "id": "2a141e68-758f-4cdf-a6db-fae222ba3a53",
   "metadata": {},
   "source": [
    "<div style=\"background-color:#a2f5aa; padding: 1px; max-width: 800px;\">\n",
    "    <h2>\n",
    "        <b>Relation Cible x Satut familial</b>\n",
    "    </h2>\n",
    "</div>\n"
   ]
  },
  {
   "cell_type": "code",
   "execution_count": null,
   "id": "b68ccfd2-5434-400d-81ae-e208ee0b9e67",
   "metadata": {},
   "outputs": [],
   "source": [
    "# Définition de la palette de couleurs personnalisée\n",
    "custom_palette = [\"#33b4ff\", \"#debefa\"]\n",
    "\n",
    "# Paramètres de style pour personnaliser le graphique\n",
    "sns.set(style=\"whitegrid\")\n",
    "\n",
    "# Tracer le graphique catégoriel\n",
    "plt.figure(figsize=(10, 10))\n",
    "ax = sns.countplot(x=\"NIVEAU_EDUCATION\", hue=\"CIBLE\", data=df, palette=custom_palette)\n",
    "\n",
    "total = float(len(df))\n",
    "for p in ax.patches:\n",
    "    height = p.get_height()\n",
    "    ax.text(\n",
    "        p.get_x() + p.get_width() / 2.0,\n",
    "        height + 3,\n",
    "        \"{:.1f}%\".format((height / total) * 100),\n",
    "        ha=\"center\",\n",
    "    )\n",
    "\n",
    "# Ajouter des titres et des étiquettes\n",
    "plt.xlabel(\"Niveau scolaire\")\n",
    "plt.ylabel(\"Fréquence\")\n",
    "plt.title(\n",
    "    \"Relation entre le niveau scolaire et la cible\",\n",
    "    fontsize=20,\n",
    "    fontweight=\"bold\",\n",
    "    color=\"RoyalBlue\",\n",
    ")\n",
    "plt.xticks(rotation=45)\n",
    "# Afficher le graphique\n",
    "plt.show()"
   ]
  },
  {
   "cell_type": "markdown",
   "id": "b6595499-a686-427b-9e09-6cc01c33a3c1",
   "metadata": {},
   "source": [
    "<div style=\"background-color:#a2f5aa; padding: 1px; max-width: 800px;\">\n",
    "    <h2>\n",
    "        <b>Relation Cible x Type de revenus</b>\n",
    "    </h2>\n",
    "</div>\n"
   ]
  },
  {
   "cell_type": "code",
   "execution_count": null,
   "id": "c5ff35b4-5090-46c2-bf2e-6f1b67949ab7",
   "metadata": {},
   "outputs": [],
   "source": [
    "df[\"TYPE_REVENUS\"].value_counts()"
   ]
  },
  {
   "cell_type": "code",
   "execution_count": null,
   "id": "394b4071-86b7-4b49-95a2-ba5321099837",
   "metadata": {},
   "outputs": [],
   "source": [
    "# Définition de la palette de couleurs personnalisée\n",
    "custom_palette = [\"#33b4ff\", \"#debefa\"]\n",
    "\n",
    "# Paramètres de style pour personnaliser le graphique\n",
    "sns.set(style=\"whitegrid\")\n",
    "\n",
    "# Tracer le graphique catégoriel\n",
    "plt.figure(figsize=(10, 10))\n",
    "ax = sns.countplot(x=\"TYPE_REVENUS\", hue=\"CIBLE\", data=df, palette=custom_palette)\n",
    "\n",
    "total = float(len(df))\n",
    "for p in ax.patches:\n",
    "    height = p.get_height()\n",
    "    ax.text(\n",
    "        p.get_x() + p.get_width() / 2.0,\n",
    "        height + 3,\n",
    "        \"{:.1f}%\".format((height / total) * 100),\n",
    "        ha=\"center\",\n",
    "    )\n",
    "\n",
    "# Ajouter des titres et des étiquettes\n",
    "plt.xlabel(\"Type de revenus\")\n",
    "plt.ylabel(\"Fréquence\")\n",
    "plt.title(\n",
    "    \"Relation entre le type de revenu et la cible\",\n",
    "    fontsize=20,\n",
    "    fontweight=\"bold\",\n",
    "    color=\"RoyalBlue\",\n",
    ")\n",
    "plt.xticks(rotation=45)\n",
    "# Afficher le graphique\n",
    "plt.show()"
   ]
  },
  {
   "cell_type": "code",
   "execution_count": null,
   "id": "a9f9abc3-1621-4e87-8505-6d0bc8450dcb",
   "metadata": {},
   "outputs": [],
   "source": [
    "df.columns.tolist()"
   ]
  },
  {
   "cell_type": "code",
   "execution_count": null,
   "id": "696d9a2d",
   "metadata": {},
   "outputs": [],
   "source": []
  },
  {
   "cell_type": "markdown",
   "id": "1e302421",
   "metadata": {},
   "source": [
    "<div style=\"background-color:#d699f2; padding: 10px\">\n",
    "    <h2>\n",
    "        <b> Préparation données pour modélisation</b>\n",
    "    </h2>\n",
    "</div>\n"
   ]
  },
  {
   "cell_type": "markdown",
   "id": "c611cbe8",
   "metadata": {},
   "source": [
    "Traitement des variables catégorielles"
   ]
  },
  {
   "cell_type": "code",
   "execution_count": null,
   "id": "acf0272d",
   "metadata": {},
   "outputs": [],
   "source": [
    "df.dtypes"
   ]
  },
  {
   "cell_type": "code",
   "execution_count": 34,
   "id": "0de71d6c",
   "metadata": {},
   "outputs": [],
   "source": [
    "df.drop(columns=['TRANCHE_AGE'], inplace=True)\n"
   ]
  },
  {
   "cell_type": "code",
   "execution_count": null,
   "id": "0c2a2615",
   "metadata": {},
   "outputs": [],
   "source": [
    "liste = df.select_dtypes(include='object').columns.to_list()\n",
    "print(\"nombre de variables catégorielle :\", len(liste), end=\"\\n\")\n",
    "liste"
   ]
  },
  {
   "cell_type": "code",
   "execution_count": null,
   "id": "1dc030df",
   "metadata": {},
   "outputs": [],
   "source": [
    "col_cat = ['TYPE_CONTRAT',\n",
    " 'STATUT_FAMILIAL','PROPRIETAIRE_BIEN_IMMO',\n",
    " 'TYPE_REVENUS',\n",
    " 'GENRE',\n",
    " 'NIVEAU_EDUCATION',\n",
    " 'PROPRIETAIRE_VOITURE']\n",
    "\n",
    "\n",
    "# Afficher les valeurs uniques pour chaque colonne\n",
    "for col in col_cat:\n",
    "    print(col, df[col].unique())"
   ]
  },
  {
   "cell_type": "code",
   "execution_count": null,
   "id": "4530f8ff",
   "metadata": {},
   "outputs": [],
   "source": [
    "df[col_cat].isna().mean().round(2)"
   ]
  },
  {
   "cell_type": "code",
   "execution_count": null,
   "id": "8f6a7895",
   "metadata": {},
   "outputs": [],
   "source": [
    "df.dtypes"
   ]
  },
  {
   "cell_type": "code",
   "execution_count": null,
   "id": "ed46478c",
   "metadata": {},
   "outputs": [],
   "source": [
    "df.columns.tolist()"
   ]
  },
  {
   "cell_type": "code",
   "execution_count": 40,
   "id": "f5d03908",
   "metadata": {},
   "outputs": [],
   "source": [
    "var_cat_nominale = ['TYPE_CONTRAT',\n",
    " 'STATUT_FAMILIAL','PROPRIETAIRE_BIEN_IMMO',\n",
    " 'TYPE_REVENUS',\n",
    " 'GENRE',\n",
    " 'NIVEAU_EDUCATION',\n",
    " 'PROPRIETAIRE_VOITURE','JOURS_ENREGISTREMENT',\n",
    " 'JOURS_ID_PUBLICATION','JOURS_DERNIER_CHANGEMENT_TEL']"
   ]
  },
  {
   "cell_type": "code",
   "execution_count": 41,
   "id": "f74689ce",
   "metadata": {},
   "outputs": [],
   "source": [
    "# Encoder les variables catégorielles nominales\n",
    "df = pd.get_dummies(df, columns=var_cat_nominale, drop_first=True)\n",
    "\n",
    "# Convertir les colonnes booléennes en type entier (0 et 1)\n",
    "colonnes_bool = df.select_dtypes(include='bool').columns\n",
    "df[colonnes_bool] = df[colonnes_bool].astype(int)\n",
    "\n",
    "\n",
    "\n"
   ]
  },
  {
   "cell_type": "code",
   "execution_count": null,
   "id": "565c3cf1",
   "metadata": {},
   "outputs": [],
   "source": [
    "\n",
    "df.dtypes"
   ]
  },
  {
   "cell_type": "code",
   "execution_count": null,
   "id": "3ca89277",
   "metadata": {},
   "outputs": [],
   "source": [
    "df['STATUT_FAMILIAL_Married']"
   ]
  },
  {
   "cell_type": "code",
   "execution_count": null,
   "id": "d32cb405",
   "metadata": {},
   "outputs": [],
   "source": [
    "df['NBR_MEMBRES_FAMILLE'].unique()"
   ]
  },
  {
   "cell_type": "code",
   "execution_count": null,
   "id": "363743a0",
   "metadata": {},
   "outputs": [],
   "source": [
    "# Définir la fonction de mapping\n",
    "def map_nbr_enfants(x):\n",
    "    if x == 1:\n",
    "        return 0\n",
    "    elif x == 2:\n",
    "        return 1\n",
    "    else:\n",
    "        return 2\n",
    "\n",
    "# Appliquer la fonction de mapping pour créer 'nbr_enfants'\n",
    "df['nbr_membre'] = df['NBR_MEMBRES_FAMILLE'].apply(map_nbr_enfants)\n",
    "\n",
    "df = df.copy()\n"
   ]
  },
  {
   "cell_type": "code",
   "execution_count": null,
   "id": "eb25884e",
   "metadata": {},
   "outputs": [],
   "source": [
    "df['nbr_membre'].unique()"
   ]
  },
  {
   "cell_type": "code",
   "execution_count": null,
   "id": "31195ddc",
   "metadata": {},
   "outputs": [],
   "source": [
    "df"
   ]
  },
  {
   "cell_type": "code",
   "execution_count": null,
   "id": "42d19302",
   "metadata": {},
   "outputs": [],
   "source": [
    "df['NIVEAU_EDUCATION_Higher education'].unique()\n"
   ]
  },
  {
   "cell_type": "markdown",
   "id": "5b27fc4b-e103-4b6f-add0-2f0119c6b13d",
   "metadata": {
    "tags": []
   },
   "source": [
    "<div style=\"background-color:#d699f2; padding: 10px\">\n",
    "    <h2>\n",
    "        <b> Export & Save</b>\n",
    "    </h2>\n",
    "</div>\n"
   ]
  },
  {
   "cell_type": "code",
   "execution_count": 49,
   "id": "9ecf09d6-fb75-438d-a8fd-d45714fb1cbb",
   "metadata": {},
   "outputs": [],
   "source": [
    "df.to_csv(\"app_train_sample_clean.csv\", index=False)"
   ]
  },
  {
   "cell_type": "code",
   "execution_count": null,
   "id": "009fea58",
   "metadata": {},
   "outputs": [],
   "source": [
    "df"
   ]
  },
  {
   "cell_type": "code",
   "execution_count": null,
   "id": "49b4122c",
   "metadata": {},
   "outputs": [],
   "source": [
    "df.columns.tolist()"
   ]
  },
  {
   "cell_type": "code",
   "execution_count": null,
   "id": "63706782",
   "metadata": {},
   "outputs": [],
   "source": [
    "df['AGE'].unique()"
   ]
  },
  {
   "cell_type": "code",
   "execution_count": null,
   "id": "2352134c",
   "metadata": {},
   "outputs": [],
   "source": [
    "# Vérifier si YEARS_EMPLOYED dépasse AGE, ce qui serait une incohérence\n",
    "anomalies = df[df['ANNEES_EMPLOI'] > df['AGE']]\n",
    "anomalies\n"
   ]
  },
  {
   "cell_type": "code",
   "execution_count": null,
   "id": "f1b602ac",
   "metadata": {},
   "outputs": [],
   "source": [
    "# Vérifier les cas où les années d'emploi sont supérieures ou égales à l'âge\n",
    "suspect_cases = df[(df['ANNEES_EMPLOI'] >= df['AGE'] - 1) & (df['ANNEES_EMPLOI'] < df['AGE'])]\n",
    "print(suspect_cases)\n"
   ]
  },
  {
   "cell_type": "code",
   "execution_count": 55,
   "id": "1d1339c6",
   "metadata": {},
   "outputs": [],
   "source": [
    "num_col = df.select_dtypes(include=np.number)"
   ]
  },
  {
   "cell_type": "code",
   "execution_count": null,
   "id": "b72bbefe",
   "metadata": {},
   "outputs": [],
   "source": [
    "fig = plt.subplots(1, 1, figsize=(10, 10))\n",
    "corr = numeric_columns.sample(frac=0.1).corr()\n",
    "mask = np.triu(corr)\n",
    "sns.heatmap(corr, annot=True, cmap=\"coolwarm\", vmin=-1, vmax=1, mask=mask, fmt=\".2f\")"
   ]
  },
  {
   "cell_type": "code",
   "execution_count": null,
   "id": "c1577741",
   "metadata": {},
   "outputs": [],
   "source": [
    "df['GENRE_M'].unique()"
   ]
  },
  {
   "cell_type": "code",
   "execution_count": null,
   "id": "3ec9b733",
   "metadata": {},
   "outputs": [],
   "source": []
  }
 ],
 "metadata": {
  "kernelspec": {
   "display_name": "venv",
   "language": "python",
   "name": "python3"
  },
  "language_info": {
   "codemirror_mode": {
    "name": "ipython",
    "version": 3
   },
   "file_extension": ".py",
   "mimetype": "text/x-python",
   "name": "python",
   "nbconvert_exporter": "python",
   "pygments_lexer": "ipython3",
   "version": "3.12.5"
  }
 },
 "nbformat": 4,
 "nbformat_minor": 5
}
