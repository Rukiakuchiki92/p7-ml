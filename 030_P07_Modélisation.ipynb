{
 "cells": [
  {
   "cell_type": "raw",
   "id": "485a7f3e-5131-4162-9db3-88b675f2e1ba",
   "metadata": {},
   "source": [
    "1) #Regression logistique : col num uniquement\n",
    "score train, score test, pipeline(knnimputer, standard scaler, regression log) = dans gridsearch avec 10 crossvalidation et ressortir le score\n",
    "\n",
    "\n",
    "2) Pipeline(features num, knnimputer, scaler, et features cat à onehot (knn imputer random forest classifier,dummy regressor, reg log, KNN)) = calculer ACCURACY SCORE\n",
    "et resultgrid\n",
    "\n",
    "On peut frac = 0.25 , 0.30 ou 0.20"
   ]
  },
  {
   "cell_type": "code",
   "execution_count": 9,
   "id": "5a476995-263f-4bbf-b0d2-a8742d6ccf7a",
   "metadata": {},
   "outputs": [
    {
     "name": "stdout",
     "output_type": "stream",
     "text": [
      "Requirement already satisfied: imbalanced-learn in c:\\users\\acer6\\onedrive\\bureau\\p7\\p7-ml\\venv\\lib\\site-packages (0.11.0)\n",
      "Requirement already satisfied: threadpoolctl>=2.0.0 in c:\\users\\acer6\\onedrive\\bureau\\p7\\p7-ml\\venv\\lib\\site-packages (from imbalanced-learn) (3.2.0)\n",
      "Requirement already satisfied: joblib>=1.1.1 in c:\\users\\acer6\\onedrive\\bureau\\p7\\p7-ml\\venv\\lib\\site-packages (from imbalanced-learn) (1.3.2)\n",
      "Requirement already satisfied: scikit-learn>=1.0.2 in c:\\users\\acer6\\onedrive\\bureau\\p7\\p7-ml\\venv\\lib\\site-packages (from imbalanced-learn) (1.3.2)\n",
      "Requirement already satisfied: numpy>=1.17.3 in c:\\users\\acer6\\onedrive\\bureau\\p7\\p7-ml\\venv\\lib\\site-packages (from imbalanced-learn) (1.26.2)\n",
      "Requirement already satisfied: scipy>=1.5.0 in c:\\users\\acer6\\onedrive\\bureau\\p7\\p7-ml\\venv\\lib\\site-packages (from imbalanced-learn) (1.11.4)\n"
     ]
    },
    {
     "name": "stderr",
     "output_type": "stream",
     "text": [
      "WARNING: You are using pip version 21.2.3; however, version 23.3.2 is available.\n",
      "You should consider upgrading via the 'C:\\Users\\acer6\\OneDrive\\Bureau\\p7\\p7-ml\\venv\\Scripts\\python.exe -m pip install --upgrade pip' command.\n"
     ]
    }
   ],
   "source": [
    "!pip install -U imbalanced-learn\n"
   ]
  },
  {
   "cell_type": "code",
   "execution_count": 10,
   "id": "a524bae2-489b-4cfd-89b6-2c5c15fdecad",
   "metadata": {},
   "outputs": [],
   "source": [
    "import pandas as pd\n",
    "import numpy as np\n",
    "import scipy.stats as stats\n",
    "\n",
    "import seaborn as sns\n",
    "import matplotlib.pyplot as plt\n",
    "\n",
    "import plotly.express as px\n",
    "\n",
    "import sklearn\n",
    "from sklearn.model_selection import train_test_split\n",
    "from sklearn.preprocessing import StandardScaler\n",
    "from sklearn.model_selection import GridSearchCV\n",
    "from sklearn.model_selection import RandomizedSearchCV\n",
    "from sklearn.dummy import DummyClassifier\n",
    "from sklearn import model_selection\n",
    "\n",
    "from sklearn.ensemble import RandomForestClassifier\n",
    "from sklearn.linear_model import LogisticRegression\n",
    "from sklearn.metrics import accuracy_score\n",
    "from imblearn.under_sampling import RandomUnderSampler\n",
    "from imblearn.pipeline import Pipeline\n",
    "\n",
    "#from sklearn.pipeline import Pipeline\n",
    "from sklearn.pipeline import make_pipeline\n",
    "from sklearn.impute import SimpleImputer\n",
    "from sklearn.compose import ColumnTransformer\n",
    "from sklearn.preprocessing import OneHotEncoder\n",
    "from sklearn.linear_model import LogisticRegression\n",
    "from sklearn.impute import KNNImputer\n",
    "from sklearn.compose import make_column_selector\n",
    "\n",
    "# Feature Selection\n",
    "import shap"
   ]
  },
  {
   "cell_type": "markdown",
   "id": "efa55a0a-3437-4a04-9d9f-14326264faac",
   "metadata": {},
   "source": [
    "<div style=\"background-color:#9dedde; padding: 10px\">\n",
    "<h2>Chargement des données</h2>\n",
    "</div>"
   ]
  },
  {
   "cell_type": "code",
   "execution_count": 11,
   "id": "8b4068a6-1c3e-4e59-ac25-a89a336a5655",
   "metadata": {},
   "outputs": [
    {
     "data": {
      "text/html": [
       "<div>\n",
       "<style scoped>\n",
       "    .dataframe tbody tr th:only-of-type {\n",
       "        vertical-align: middle;\n",
       "    }\n",
       "\n",
       "    .dataframe tbody tr th {\n",
       "        vertical-align: top;\n",
       "    }\n",
       "\n",
       "    .dataframe thead th {\n",
       "        text-align: right;\n",
       "    }\n",
       "</style>\n",
       "<table border=\"1\" class=\"dataframe\">\n",
       "  <thead>\n",
       "    <tr style=\"text-align: right;\">\n",
       "      <th></th>\n",
       "      <th>TYPE_CONTRAT</th>\n",
       "      <th>AGE</th>\n",
       "      <th>DATE_NAISSANCE</th>\n",
       "      <th>ID_CLIENT</th>\n",
       "      <th>CIBLE</th>\n",
       "      <th>STATUT_FAMILIAL</th>\n",
       "      <th>JOURS_EMPLOI</th>\n",
       "      <th>TOTAL_CREDIT</th>\n",
       "      <th>REMB_MENSUEL</th>\n",
       "      <th>PROPRIETAIRE_BIEN_IMMO</th>\n",
       "      <th>CNT_FAM_MEMBERS</th>\n",
       "      <th>TYPE_REVENUS</th>\n",
       "      <th>GENRE</th>\n",
       "      <th>MONTANT_PRIX_BIENS</th>\n",
       "      <th>NIVEAU_EDUCATION</th>\n",
       "      <th>REVENU_TOTAL</th>\n",
       "      <th>SOURCE_EXTERNE_2</th>\n",
       "      <th>SOURCE_EXTERNE_3</th>\n",
       "      <th>PROPRIETAIRE_VOITURE</th>\n",
       "    </tr>\n",
       "  </thead>\n",
       "  <tbody>\n",
       "    <tr>\n",
       "      <th>0</th>\n",
       "      <td>Cash loans</td>\n",
       "      <td>48</td>\n",
       "      <td>1976-02-25</td>\n",
       "      <td>196888</td>\n",
       "      <td>0</td>\n",
       "      <td>Married</td>\n",
       "      <td>-152</td>\n",
       "      <td>1350000.0</td>\n",
       "      <td>39604.5</td>\n",
       "      <td>Y</td>\n",
       "      <td>2.0</td>\n",
       "      <td>Working</td>\n",
       "      <td>F</td>\n",
       "      <td>1350000.0</td>\n",
       "      <td>Higher education</td>\n",
       "      <td>135000.0</td>\n",
       "      <td>0.761443</td>\n",
       "      <td>0.757069</td>\n",
       "      <td>N</td>\n",
       "    </tr>\n",
       "    <tr>\n",
       "      <th>1</th>\n",
       "      <td>Cash loans</td>\n",
       "      <td>55</td>\n",
       "      <td>1969-09-19</td>\n",
       "      <td>101392</td>\n",
       "      <td>0</td>\n",
       "      <td>Civil marriage</td>\n",
       "      <td>-717</td>\n",
       "      <td>573628.5</td>\n",
       "      <td>24435.0</td>\n",
       "      <td>Y</td>\n",
       "      <td>2.0</td>\n",
       "      <td>Working</td>\n",
       "      <td>F</td>\n",
       "      <td>463500.0</td>\n",
       "      <td>Higher education</td>\n",
       "      <td>81000.0</td>\n",
       "      <td>0.396825</td>\n",
       "      <td>0.818248</td>\n",
       "      <td>Y</td>\n",
       "    </tr>\n",
       "    <tr>\n",
       "      <th>2</th>\n",
       "      <td>Cash loans</td>\n",
       "      <td>26</td>\n",
       "      <td>1998-10-25</td>\n",
       "      <td>435135</td>\n",
       "      <td>0</td>\n",
       "      <td>Single / not married</td>\n",
       "      <td>-667</td>\n",
       "      <td>298512.0</td>\n",
       "      <td>19948.5</td>\n",
       "      <td>N</td>\n",
       "      <td>1.0</td>\n",
       "      <td>Working</td>\n",
       "      <td>F</td>\n",
       "      <td>270000.0</td>\n",
       "      <td>Higher education</td>\n",
       "      <td>112500.0</td>\n",
       "      <td>0.385353</td>\n",
       "      <td>NaN</td>\n",
       "      <td>N</td>\n",
       "    </tr>\n",
       "    <tr>\n",
       "      <th>3</th>\n",
       "      <td>Cash loans</td>\n",
       "      <td>30</td>\n",
       "      <td>1994-09-10</td>\n",
       "      <td>396314</td>\n",
       "      <td>0</td>\n",
       "      <td>Married</td>\n",
       "      <td>-1825</td>\n",
       "      <td>218016.0</td>\n",
       "      <td>17352.0</td>\n",
       "      <td>N</td>\n",
       "      <td>2.0</td>\n",
       "      <td>Working</td>\n",
       "      <td>M</td>\n",
       "      <td>180000.0</td>\n",
       "      <td>Higher education</td>\n",
       "      <td>81000.0</td>\n",
       "      <td>0.545649</td>\n",
       "      <td>0.336062</td>\n",
       "      <td>N</td>\n",
       "    </tr>\n",
       "    <tr>\n",
       "      <th>4</th>\n",
       "      <td>Cash loans</td>\n",
       "      <td>45</td>\n",
       "      <td>1979-12-31</td>\n",
       "      <td>341153</td>\n",
       "      <td>1</td>\n",
       "      <td>Married</td>\n",
       "      <td>-159</td>\n",
       "      <td>1006920.0</td>\n",
       "      <td>42790.5</td>\n",
       "      <td>Y</td>\n",
       "      <td>2.0</td>\n",
       "      <td>Working</td>\n",
       "      <td>F</td>\n",
       "      <td>900000.0</td>\n",
       "      <td>Secondary / secondary special</td>\n",
       "      <td>90000.0</td>\n",
       "      <td>0.444443</td>\n",
       "      <td>0.673830</td>\n",
       "      <td>N</td>\n",
       "    </tr>\n",
       "  </tbody>\n",
       "</table>\n",
       "</div>"
      ],
      "text/plain": [
       "  TYPE_CONTRAT  AGE DATE_NAISSANCE  ID_CLIENT  CIBLE       STATUT_FAMILIAL  \\\n",
       "0   Cash loans   48     1976-02-25     196888      0               Married   \n",
       "1   Cash loans   55     1969-09-19     101392      0        Civil marriage   \n",
       "2   Cash loans   26     1998-10-25     435135      0  Single / not married   \n",
       "3   Cash loans   30     1994-09-10     396314      0               Married   \n",
       "4   Cash loans   45     1979-12-31     341153      1               Married   \n",
       "\n",
       "   JOURS_EMPLOI  TOTAL_CREDIT  REMB_MENSUEL PROPRIETAIRE_BIEN_IMMO  \\\n",
       "0          -152     1350000.0       39604.5                      Y   \n",
       "1          -717      573628.5       24435.0                      Y   \n",
       "2          -667      298512.0       19948.5                      N   \n",
       "3         -1825      218016.0       17352.0                      N   \n",
       "4          -159     1006920.0       42790.5                      Y   \n",
       "\n",
       "   CNT_FAM_MEMBERS TYPE_REVENUS GENRE  MONTANT_PRIX_BIENS  \\\n",
       "0              2.0      Working     F           1350000.0   \n",
       "1              2.0      Working     F            463500.0   \n",
       "2              1.0      Working     F            270000.0   \n",
       "3              2.0      Working     M            180000.0   \n",
       "4              2.0      Working     F            900000.0   \n",
       "\n",
       "                NIVEAU_EDUCATION  REVENU_TOTAL  SOURCE_EXTERNE_2  \\\n",
       "0               Higher education      135000.0          0.761443   \n",
       "1               Higher education       81000.0          0.396825   \n",
       "2               Higher education      112500.0          0.385353   \n",
       "3               Higher education       81000.0          0.545649   \n",
       "4  Secondary / secondary special       90000.0          0.444443   \n",
       "\n",
       "   SOURCE_EXTERNE_3 PROPRIETAIRE_VOITURE  \n",
       "0          0.757069                    N  \n",
       "1          0.818248                    Y  \n",
       "2               NaN                    N  \n",
       "3          0.336062                    N  \n",
       "4          0.673830                    N  "
      ]
     },
     "execution_count": 11,
     "metadata": {},
     "output_type": "execute_result"
    }
   ],
   "source": [
    "df = pd.read_csv('app_train_sample_clean.csv')\n",
    "df.head(5)\n"
   ]
  },
  {
   "cell_type": "code",
   "execution_count": 12,
   "id": "a415a9fb-1b1b-4f89-9b3f-ee6c8545dcfe",
   "metadata": {},
   "outputs": [
    {
     "data": {
      "text/plain": [
       "(30751, 19)"
      ]
     },
     "execution_count": 12,
     "metadata": {},
     "output_type": "execute_result"
    }
   ],
   "source": [
    "df.shape"
   ]
  },
  {
   "cell_type": "code",
   "execution_count": 13,
   "id": "187d743b-66a6-4a96-bc86-eefcdabf99b5",
   "metadata": {},
   "outputs": [
    {
     "data": {
      "text/html": [
       "<div>\n",
       "<style scoped>\n",
       "    .dataframe tbody tr th:only-of-type {\n",
       "        vertical-align: middle;\n",
       "    }\n",
       "\n",
       "    .dataframe tbody tr th {\n",
       "        vertical-align: top;\n",
       "    }\n",
       "\n",
       "    .dataframe thead th {\n",
       "        text-align: right;\n",
       "    }\n",
       "</style>\n",
       "<table border=\"1\" class=\"dataframe\">\n",
       "  <thead>\n",
       "    <tr style=\"text-align: right;\">\n",
       "      <th></th>\n",
       "      <th>TYPE_CONTRAT</th>\n",
       "      <th>AGE</th>\n",
       "      <th>DATE_NAISSANCE</th>\n",
       "      <th>ID_CLIENT</th>\n",
       "      <th>CIBLE</th>\n",
       "      <th>STATUT_FAMILIAL</th>\n",
       "      <th>JOURS_EMPLOI</th>\n",
       "      <th>TOTAL_CREDIT</th>\n",
       "      <th>REMB_MENSUEL</th>\n",
       "      <th>PROPRIETAIRE_BIEN_IMMO</th>\n",
       "      <th>CNT_FAM_MEMBERS</th>\n",
       "      <th>TYPE_REVENUS</th>\n",
       "      <th>GENRE</th>\n",
       "      <th>MONTANT_PRIX_BIENS</th>\n",
       "      <th>NIVEAU_EDUCATION</th>\n",
       "      <th>REVENU_TOTAL</th>\n",
       "      <th>SOURCE_EXTERNE_2</th>\n",
       "      <th>SOURCE_EXTERNE_3</th>\n",
       "      <th>PROPRIETAIRE_VOITURE</th>\n",
       "    </tr>\n",
       "  </thead>\n",
       "  <tbody>\n",
       "    <tr>\n",
       "      <th>30746</th>\n",
       "      <td>Cash loans</td>\n",
       "      <td>42</td>\n",
       "      <td>1982-10-05</td>\n",
       "      <td>311641</td>\n",
       "      <td>0</td>\n",
       "      <td>Married</td>\n",
       "      <td>-914</td>\n",
       "      <td>808650.0</td>\n",
       "      <td>23773.5</td>\n",
       "      <td>N</td>\n",
       "      <td>3.0</td>\n",
       "      <td>State servant</td>\n",
       "      <td>F</td>\n",
       "      <td>675000.0</td>\n",
       "      <td>Secondary / secondary special</td>\n",
       "      <td>90000.0</td>\n",
       "      <td>0.621768</td>\n",
       "      <td>0.759712</td>\n",
       "      <td>N</td>\n",
       "    </tr>\n",
       "    <tr>\n",
       "      <th>30747</th>\n",
       "      <td>Cash loans</td>\n",
       "      <td>38</td>\n",
       "      <td>1986-03-14</td>\n",
       "      <td>151728</td>\n",
       "      <td>1</td>\n",
       "      <td>Single / not married</td>\n",
       "      <td>-7215</td>\n",
       "      <td>85500.0</td>\n",
       "      <td>9108.0</td>\n",
       "      <td>Y</td>\n",
       "      <td>1.0</td>\n",
       "      <td>Working</td>\n",
       "      <td>M</td>\n",
       "      <td>85500.0</td>\n",
       "      <td>Secondary / secondary special</td>\n",
       "      <td>40500.0</td>\n",
       "      <td>0.393861</td>\n",
       "      <td>NaN</td>\n",
       "      <td>N</td>\n",
       "    </tr>\n",
       "    <tr>\n",
       "      <th>30748</th>\n",
       "      <td>Revolving loans</td>\n",
       "      <td>44</td>\n",
       "      <td>1980-08-20</td>\n",
       "      <td>384640</td>\n",
       "      <td>0</td>\n",
       "      <td>Married</td>\n",
       "      <td>365243</td>\n",
       "      <td>247500.0</td>\n",
       "      <td>12375.0</td>\n",
       "      <td>Y</td>\n",
       "      <td>2.0</td>\n",
       "      <td>Pensioner</td>\n",
       "      <td>F</td>\n",
       "      <td>247500.0</td>\n",
       "      <td>Higher education</td>\n",
       "      <td>69750.0</td>\n",
       "      <td>0.673987</td>\n",
       "      <td>NaN</td>\n",
       "      <td>Y</td>\n",
       "    </tr>\n",
       "    <tr>\n",
       "      <th>30749</th>\n",
       "      <td>Cash loans</td>\n",
       "      <td>61</td>\n",
       "      <td>1963-10-20</td>\n",
       "      <td>437079</td>\n",
       "      <td>0</td>\n",
       "      <td>Widow</td>\n",
       "      <td>365243</td>\n",
       "      <td>270000.0</td>\n",
       "      <td>9828.0</td>\n",
       "      <td>Y</td>\n",
       "      <td>1.0</td>\n",
       "      <td>Pensioner</td>\n",
       "      <td>F</td>\n",
       "      <td>270000.0</td>\n",
       "      <td>Secondary / secondary special</td>\n",
       "      <td>36000.0</td>\n",
       "      <td>0.546689</td>\n",
       "      <td>NaN</td>\n",
       "      <td>N</td>\n",
       "    </tr>\n",
       "    <tr>\n",
       "      <th>30750</th>\n",
       "      <td>Cash loans</td>\n",
       "      <td>59</td>\n",
       "      <td>1965-06-17</td>\n",
       "      <td>389739</td>\n",
       "      <td>0</td>\n",
       "      <td>Widow</td>\n",
       "      <td>-974</td>\n",
       "      <td>1288350.0</td>\n",
       "      <td>37053.0</td>\n",
       "      <td>Y</td>\n",
       "      <td>1.0</td>\n",
       "      <td>Working</td>\n",
       "      <td>F</td>\n",
       "      <td>1125000.0</td>\n",
       "      <td>Secondary / secondary special</td>\n",
       "      <td>148500.0</td>\n",
       "      <td>0.670388</td>\n",
       "      <td>0.157595</td>\n",
       "      <td>Y</td>\n",
       "    </tr>\n",
       "  </tbody>\n",
       "</table>\n",
       "</div>"
      ],
      "text/plain": [
       "          TYPE_CONTRAT  AGE DATE_NAISSANCE  ID_CLIENT  CIBLE  \\\n",
       "30746       Cash loans   42     1982-10-05     311641      0   \n",
       "30747       Cash loans   38     1986-03-14     151728      1   \n",
       "30748  Revolving loans   44     1980-08-20     384640      0   \n",
       "30749       Cash loans   61     1963-10-20     437079      0   \n",
       "30750       Cash loans   59     1965-06-17     389739      0   \n",
       "\n",
       "            STATUT_FAMILIAL  JOURS_EMPLOI  TOTAL_CREDIT  REMB_MENSUEL  \\\n",
       "30746               Married          -914      808650.0       23773.5   \n",
       "30747  Single / not married         -7215       85500.0        9108.0   \n",
       "30748               Married        365243      247500.0       12375.0   \n",
       "30749                 Widow        365243      270000.0        9828.0   \n",
       "30750                 Widow          -974     1288350.0       37053.0   \n",
       "\n",
       "      PROPRIETAIRE_BIEN_IMMO  CNT_FAM_MEMBERS   TYPE_REVENUS GENRE  \\\n",
       "30746                      N              3.0  State servant     F   \n",
       "30747                      Y              1.0        Working     M   \n",
       "30748                      Y              2.0      Pensioner     F   \n",
       "30749                      Y              1.0      Pensioner     F   \n",
       "30750                      Y              1.0        Working     F   \n",
       "\n",
       "       MONTANT_PRIX_BIENS               NIVEAU_EDUCATION  REVENU_TOTAL  \\\n",
       "30746            675000.0  Secondary / secondary special       90000.0   \n",
       "30747             85500.0  Secondary / secondary special       40500.0   \n",
       "30748            247500.0               Higher education       69750.0   \n",
       "30749            270000.0  Secondary / secondary special       36000.0   \n",
       "30750           1125000.0  Secondary / secondary special      148500.0   \n",
       "\n",
       "       SOURCE_EXTERNE_2  SOURCE_EXTERNE_3 PROPRIETAIRE_VOITURE  \n",
       "30746          0.621768          0.759712                    N  \n",
       "30747          0.393861               NaN                    N  \n",
       "30748          0.673987               NaN                    Y  \n",
       "30749          0.546689               NaN                    N  \n",
       "30750          0.670388          0.157595                    Y  "
      ]
     },
     "execution_count": 13,
     "metadata": {},
     "output_type": "execute_result"
    }
   ],
   "source": [
    "df.tail()"
   ]
  },
  {
   "cell_type": "code",
   "execution_count": 14,
   "id": "0d41eb52-2934-41ca-8393-1d5de218db57",
   "metadata": {},
   "outputs": [
    {
     "name": "stdout",
     "output_type": "stream",
     "text": [
      "<class 'pandas.core.frame.DataFrame'>\n",
      "RangeIndex: 30751 entries, 0 to 30750\n",
      "Data columns (total 19 columns):\n",
      " #   Column                  Non-Null Count  Dtype  \n",
      "---  ------                  --------------  -----  \n",
      " 0   TYPE_CONTRAT            30751 non-null  object \n",
      " 1   AGE                     30751 non-null  int64  \n",
      " 2   DATE_NAISSANCE          30751 non-null  object \n",
      " 3   ID_CLIENT               30751 non-null  int64  \n",
      " 4   CIBLE                   30751 non-null  int64  \n",
      " 5   STATUT_FAMILIAL         30751 non-null  object \n",
      " 6   JOURS_EMPLOI            30751 non-null  int64  \n",
      " 7   TOTAL_CREDIT            30751 non-null  float64\n",
      " 8   REMB_MENSUEL            30751 non-null  float64\n",
      " 9   PROPRIETAIRE_BIEN_IMMO  30751 non-null  object \n",
      " 10  CNT_FAM_MEMBERS         30751 non-null  float64\n",
      " 11  TYPE_REVENUS            30751 non-null  object \n",
      " 12  GENRE                   30751 non-null  object \n",
      " 13  MONTANT_PRIX_BIENS      30727 non-null  float64\n",
      " 14  NIVEAU_EDUCATION        30751 non-null  object \n",
      " 15  REVENU_TOTAL            30751 non-null  float64\n",
      " 16  SOURCE_EXTERNE_2        30691 non-null  float64\n",
      " 17  SOURCE_EXTERNE_3        24713 non-null  float64\n",
      " 18  PROPRIETAIRE_VOITURE    30751 non-null  object \n",
      "dtypes: float64(7), int64(4), object(8)\n",
      "memory usage: 4.5+ MB\n"
     ]
    }
   ],
   "source": [
    "df.info()"
   ]
  },
  {
   "cell_type": "markdown",
   "id": "42937206-1cff-4be6-ab23-390205292143",
   "metadata": {},
   "source": [
    "<div style=\"background-color:#d699f2; padding: 10px\">\n",
    "    <h2>\n",
    "        <b>Analyse exploratoire</b>\n",
    "    </h2>\n",
    "</div>\n"
   ]
  },
  {
   "cell_type": "code",
   "execution_count": 15,
   "id": "06673dc0-4f31-4776-99d7-bb06a6de1e6c",
   "metadata": {},
   "outputs": [
    {
     "data": {
      "image/png": "[encoded data removed]",
      "text/plain": [
       "<Figure size 2000x1200 with 2 Axes>"
      ]
     },
     "metadata": {},
     "output_type": "display_data"
    }
   ],
   "source": [
    "plt.figure(figsize=(20,12))\n",
    "corr = df.select_dtypes(include=('float64', 'int64')).corr()\n",
    "mask = np.triu(np.ones_like(corr, dtype=bool))\n",
    "sns.heatmap(corr,vmin = -1, vmax =1, cmap ='coolwarm', fmt = \".2f\", mask = mask, annot=True)\n",
    "plt.show()"
   ]
  },
  {
   "cell_type": "code",
   "execution_count": 16,
   "id": "56635e3d-9ffc-49c8-b2f7-827e5ab67dcd",
   "metadata": {},
   "outputs": [],
   "source": [
    "df = df.sample(frac=0.10)"
   ]
  },
  {
   "cell_type": "code",
   "execution_count": 17,
   "id": "3675acb8-721f-4fbc-bf3b-ad47cf12c720",
   "metadata": {},
   "outputs": [],
   "source": [
    "#df_1 =df.loc[df.CIBLE==1]\n",
    "#df_1"
   ]
  },
  {
   "cell_type": "code",
   "execution_count": 18,
   "id": "d980aa77-c75c-478e-ab13-aa4099fc7f81",
   "metadata": {},
   "outputs": [],
   "source": [
    "#n = df_1.shape[0]"
   ]
  },
  {
   "cell_type": "code",
   "execution_count": 19,
   "id": "74479b8f-8be1-4c5a-b8de-6272f21f0c3d",
   "metadata": {},
   "outputs": [],
   "source": [
    "#df_0 = df.loc[df.CIBLE==0]\n",
    "#df_0 = df_0.sample(n)\n",
    "#df_0"
   ]
  },
  {
   "cell_type": "code",
   "execution_count": 20,
   "id": "53985f9e-9dde-4d61-a6ab-8ee83a6ea134",
   "metadata": {},
   "outputs": [],
   "source": [
    "#df = pd.concat([df_0, df_1], axis=0, ignore_index = True)\n",
    "#df"
   ]
  },
  {
   "cell_type": "code",
   "execution_count": null,
   "id": "92b312e8-7319-45c2-aa23-31b0f79d3065",
   "metadata": {},
   "outputs": [],
   "source": []
  },
  {
   "cell_type": "code",
   "execution_count": 21,
   "id": "b42c24f8-cee4-4746-b1bc-0e18231ee609",
   "metadata": {},
   "outputs": [],
   "source": [
    "y = df['CIBLE']"
   ]
  },
  {
   "cell_type": "code",
   "execution_count": 22,
   "id": "64d93325-09da-47f3-a60d-2cb2b208cf03",
   "metadata": {},
   "outputs": [
    {
     "data": {
      "text/plain": [
       "(3075,)"
      ]
     },
     "execution_count": 22,
     "metadata": {},
     "output_type": "execute_result"
    }
   ],
   "source": [
    "y.shape"
   ]
  },
  {
   "cell_type": "code",
   "execution_count": 23,
   "id": "66d1b5a5-8814-46a6-bb34-69f30c823d7f",
   "metadata": {},
   "outputs": [
    {
     "data": {
      "text/html": [
       "<div>\n",
       "<style scoped>\n",
       "    .dataframe tbody tr th:only-of-type {\n",
       "        vertical-align: middle;\n",
       "    }\n",
       "\n",
       "    .dataframe tbody tr th {\n",
       "        vertical-align: top;\n",
       "    }\n",
       "\n",
       "    .dataframe thead th {\n",
       "        text-align: right;\n",
       "    }\n",
       "</style>\n",
       "<table border=\"1\" class=\"dataframe\">\n",
       "  <thead>\n",
       "    <tr style=\"text-align: right;\">\n",
       "      <th></th>\n",
       "      <th>TYPE_CONTRAT</th>\n",
       "      <th>AGE</th>\n",
       "      <th>STATUT_FAMILIAL</th>\n",
       "      <th>JOURS_EMPLOI</th>\n",
       "      <th>TOTAL_CREDIT</th>\n",
       "      <th>REMB_MENSUEL</th>\n",
       "      <th>PROPRIETAIRE_BIEN_IMMO</th>\n",
       "      <th>CNT_FAM_MEMBERS</th>\n",
       "      <th>TYPE_REVENUS</th>\n",
       "      <th>GENRE</th>\n",
       "      <th>MONTANT_PRIX_BIENS</th>\n",
       "      <th>NIVEAU_EDUCATION</th>\n",
       "      <th>REVENU_TOTAL</th>\n",
       "      <th>SOURCE_EXTERNE_2</th>\n",
       "      <th>SOURCE_EXTERNE_3</th>\n",
       "      <th>PROPRIETAIRE_VOITURE</th>\n",
       "    </tr>\n",
       "  </thead>\n",
       "  <tbody>\n",
       "    <tr>\n",
       "      <th>4429</th>\n",
       "      <td>Cash loans</td>\n",
       "      <td>62</td>\n",
       "      <td>Separated</td>\n",
       "      <td>365243</td>\n",
       "      <td>225000.0</td>\n",
       "      <td>8613.0</td>\n",
       "      <td>Y</td>\n",
       "      <td>1.0</td>\n",
       "      <td>Pensioner</td>\n",
       "      <td>F</td>\n",
       "      <td>225000.0</td>\n",
       "      <td>Secondary / secondary special</td>\n",
       "      <td>157500.0</td>\n",
       "      <td>0.647977</td>\n",
       "      <td>0.468660</td>\n",
       "      <td>N</td>\n",
       "    </tr>\n",
       "    <tr>\n",
       "      <th>15262</th>\n",
       "      <td>Cash loans</td>\n",
       "      <td>33</td>\n",
       "      <td>Married</td>\n",
       "      <td>-3211</td>\n",
       "      <td>284400.0</td>\n",
       "      <td>22599.0</td>\n",
       "      <td>N</td>\n",
       "      <td>2.0</td>\n",
       "      <td>Working</td>\n",
       "      <td>F</td>\n",
       "      <td>225000.0</td>\n",
       "      <td>Secondary / secondary special</td>\n",
       "      <td>540000.0</td>\n",
       "      <td>0.479251</td>\n",
       "      <td>0.295583</td>\n",
       "      <td>N</td>\n",
       "    </tr>\n",
       "    <tr>\n",
       "      <th>13371</th>\n",
       "      <td>Cash loans</td>\n",
       "      <td>27</td>\n",
       "      <td>Married</td>\n",
       "      <td>-649</td>\n",
       "      <td>225000.0</td>\n",
       "      <td>10489.5</td>\n",
       "      <td>N</td>\n",
       "      <td>2.0</td>\n",
       "      <td>Working</td>\n",
       "      <td>M</td>\n",
       "      <td>225000.0</td>\n",
       "      <td>Secondary / secondary special</td>\n",
       "      <td>117000.0</td>\n",
       "      <td>0.667302</td>\n",
       "      <td>0.780144</td>\n",
       "      <td>Y</td>\n",
       "    </tr>\n",
       "    <tr>\n",
       "      <th>19747</th>\n",
       "      <td>Cash loans</td>\n",
       "      <td>40</td>\n",
       "      <td>Married</td>\n",
       "      <td>-5426</td>\n",
       "      <td>760122.0</td>\n",
       "      <td>24651.0</td>\n",
       "      <td>N</td>\n",
       "      <td>2.0</td>\n",
       "      <td>State servant</td>\n",
       "      <td>F</td>\n",
       "      <td>544500.0</td>\n",
       "      <td>Secondary / secondary special</td>\n",
       "      <td>144000.0</td>\n",
       "      <td>0.181631</td>\n",
       "      <td>0.770087</td>\n",
       "      <td>N</td>\n",
       "    </tr>\n",
       "    <tr>\n",
       "      <th>7011</th>\n",
       "      <td>Cash loans</td>\n",
       "      <td>43</td>\n",
       "      <td>Married</td>\n",
       "      <td>-6518</td>\n",
       "      <td>381528.0</td>\n",
       "      <td>13833.0</td>\n",
       "      <td>N</td>\n",
       "      <td>3.0</td>\n",
       "      <td>Working</td>\n",
       "      <td>F</td>\n",
       "      <td>315000.0</td>\n",
       "      <td>Secondary / secondary special</td>\n",
       "      <td>90000.0</td>\n",
       "      <td>0.716825</td>\n",
       "      <td>0.614414</td>\n",
       "      <td>Y</td>\n",
       "    </tr>\n",
       "    <tr>\n",
       "      <th>...</th>\n",
       "      <td>...</td>\n",
       "      <td>...</td>\n",
       "      <td>...</td>\n",
       "      <td>...</td>\n",
       "      <td>...</td>\n",
       "      <td>...</td>\n",
       "      <td>...</td>\n",
       "      <td>...</td>\n",
       "      <td>...</td>\n",
       "      <td>...</td>\n",
       "      <td>...</td>\n",
       "      <td>...</td>\n",
       "      <td>...</td>\n",
       "      <td>...</td>\n",
       "      <td>...</td>\n",
       "      <td>...</td>\n",
       "    </tr>\n",
       "    <tr>\n",
       "      <th>5187</th>\n",
       "      <td>Cash loans</td>\n",
       "      <td>59</td>\n",
       "      <td>Single / not married</td>\n",
       "      <td>365243</td>\n",
       "      <td>555273.0</td>\n",
       "      <td>16042.5</td>\n",
       "      <td>Y</td>\n",
       "      <td>1.0</td>\n",
       "      <td>Pensioner</td>\n",
       "      <td>F</td>\n",
       "      <td>463500.0</td>\n",
       "      <td>Secondary / secondary special</td>\n",
       "      <td>180000.0</td>\n",
       "      <td>0.687093</td>\n",
       "      <td>0.657784</td>\n",
       "      <td>N</td>\n",
       "    </tr>\n",
       "    <tr>\n",
       "      <th>11115</th>\n",
       "      <td>Cash loans</td>\n",
       "      <td>29</td>\n",
       "      <td>Married</td>\n",
       "      <td>-398</td>\n",
       "      <td>227520.0</td>\n",
       "      <td>16618.5</td>\n",
       "      <td>N</td>\n",
       "      <td>2.0</td>\n",
       "      <td>Working</td>\n",
       "      <td>M</td>\n",
       "      <td>180000.0</td>\n",
       "      <td>Secondary / secondary special</td>\n",
       "      <td>135000.0</td>\n",
       "      <td>0.536989</td>\n",
       "      <td>NaN</td>\n",
       "      <td>N</td>\n",
       "    </tr>\n",
       "    <tr>\n",
       "      <th>14790</th>\n",
       "      <td>Cash loans</td>\n",
       "      <td>33</td>\n",
       "      <td>Married</td>\n",
       "      <td>-3599</td>\n",
       "      <td>729792.0</td>\n",
       "      <td>23044.5</td>\n",
       "      <td>Y</td>\n",
       "      <td>2.0</td>\n",
       "      <td>Commercial associate</td>\n",
       "      <td>F</td>\n",
       "      <td>630000.0</td>\n",
       "      <td>Higher education</td>\n",
       "      <td>202500.0</td>\n",
       "      <td>0.673372</td>\n",
       "      <td>0.766234</td>\n",
       "      <td>N</td>\n",
       "    </tr>\n",
       "    <tr>\n",
       "      <th>16813</th>\n",
       "      <td>Cash loans</td>\n",
       "      <td>29</td>\n",
       "      <td>Married</td>\n",
       "      <td>-709</td>\n",
       "      <td>381528.0</td>\n",
       "      <td>17914.5</td>\n",
       "      <td>Y</td>\n",
       "      <td>2.0</td>\n",
       "      <td>Working</td>\n",
       "      <td>F</td>\n",
       "      <td>315000.0</td>\n",
       "      <td>Higher education</td>\n",
       "      <td>49500.0</td>\n",
       "      <td>0.223517</td>\n",
       "      <td>NaN</td>\n",
       "      <td>N</td>\n",
       "    </tr>\n",
       "    <tr>\n",
       "      <th>23331</th>\n",
       "      <td>Cash loans</td>\n",
       "      <td>35</td>\n",
       "      <td>Married</td>\n",
       "      <td>-1963</td>\n",
       "      <td>334152.0</td>\n",
       "      <td>18256.5</td>\n",
       "      <td>Y</td>\n",
       "      <td>3.0</td>\n",
       "      <td>Working</td>\n",
       "      <td>F</td>\n",
       "      <td>270000.0</td>\n",
       "      <td>Secondary / secondary special</td>\n",
       "      <td>135000.0</td>\n",
       "      <td>0.578230</td>\n",
       "      <td>0.408359</td>\n",
       "      <td>N</td>\n",
       "    </tr>\n",
       "  </tbody>\n",
       "</table>\n",
       "<p>3075 rows × 16 columns</p>\n",
       "</div>"
      ],
      "text/plain": [
       "      TYPE_CONTRAT  AGE       STATUT_FAMILIAL  JOURS_EMPLOI  TOTAL_CREDIT  \\\n",
       "4429    Cash loans   62             Separated        365243      225000.0   \n",
       "15262   Cash loans   33               Married         -3211      284400.0   \n",
       "13371   Cash loans   27               Married          -649      225000.0   \n",
       "19747   Cash loans   40               Married         -5426      760122.0   \n",
       "7011    Cash loans   43               Married         -6518      381528.0   \n",
       "...            ...  ...                   ...           ...           ...   \n",
       "5187    Cash loans   59  Single / not married        365243      555273.0   \n",
       "11115   Cash loans   29               Married          -398      227520.0   \n",
       "14790   Cash loans   33               Married         -3599      729792.0   \n",
       "16813   Cash loans   29               Married          -709      381528.0   \n",
       "23331   Cash loans   35               Married         -1963      334152.0   \n",
       "\n",
       "       REMB_MENSUEL PROPRIETAIRE_BIEN_IMMO  CNT_FAM_MEMBERS  \\\n",
       "4429         8613.0                      Y              1.0   \n",
       "15262       22599.0                      N              2.0   \n",
       "13371       10489.5                      N              2.0   \n",
       "19747       24651.0                      N              2.0   \n",
       "7011        13833.0                      N              3.0   \n",
       "...             ...                    ...              ...   \n",
       "5187        16042.5                      Y              1.0   \n",
       "11115       16618.5                      N              2.0   \n",
       "14790       23044.5                      Y              2.0   \n",
       "16813       17914.5                      Y              2.0   \n",
       "23331       18256.5                      Y              3.0   \n",
       "\n",
       "               TYPE_REVENUS GENRE  MONTANT_PRIX_BIENS  \\\n",
       "4429              Pensioner     F            225000.0   \n",
       "15262               Working     F            225000.0   \n",
       "13371               Working     M            225000.0   \n",
       "19747         State servant     F            544500.0   \n",
       "7011                Working     F            315000.0   \n",
       "...                     ...   ...                 ...   \n",
       "5187              Pensioner     F            463500.0   \n",
       "11115               Working     M            180000.0   \n",
       "14790  Commercial associate     F            630000.0   \n",
       "16813               Working     F            315000.0   \n",
       "23331               Working     F            270000.0   \n",
       "\n",
       "                    NIVEAU_EDUCATION  REVENU_TOTAL  SOURCE_EXTERNE_2  \\\n",
       "4429   Secondary / secondary special      157500.0          0.647977   \n",
       "15262  Secondary / secondary special      540000.0          0.479251   \n",
       "13371  Secondary / secondary special      117000.0          0.667302   \n",
       "19747  Secondary / secondary special      144000.0          0.181631   \n",
       "7011   Secondary / secondary special       90000.0          0.716825   \n",
       "...                              ...           ...               ...   \n",
       "5187   Secondary / secondary special      180000.0          0.687093   \n",
       "11115  Secondary / secondary special      135000.0          0.536989   \n",
       "14790               Higher education      202500.0          0.673372   \n",
       "16813               Higher education       49500.0          0.223517   \n",
       "23331  Secondary / secondary special      135000.0          0.578230   \n",
       "\n",
       "       SOURCE_EXTERNE_3 PROPRIETAIRE_VOITURE  \n",
       "4429           0.468660                    N  \n",
       "15262          0.295583                    N  \n",
       "13371          0.780144                    Y  \n",
       "19747          0.770087                    N  \n",
       "7011           0.614414                    Y  \n",
       "...                 ...                  ...  \n",
       "5187           0.657784                    N  \n",
       "11115               NaN                    N  \n",
       "14790          0.766234                    N  \n",
       "16813               NaN                    N  \n",
       "23331          0.408359                    N  \n",
       "\n",
       "[3075 rows x 16 columns]"
      ]
     },
     "execution_count": 23,
     "metadata": {},
     "output_type": "execute_result"
    }
   ],
   "source": [
    "#Dataframe des autres features, supression des targets\n",
    "x_train = df.copy()\n",
    "\n",
    "col_cible = ['ID_CLIENT', 'CIBLE', 'DATE_NAISSANCE']\n",
    "x_train.drop(col_cible, axis=1, inplace=True)\n",
    "x_train"
   ]
  },
  {
   "cell_type": "code",
   "execution_count": 24,
   "id": "941caffd-9b6c-42fb-9e5d-da02a7ce1231",
   "metadata": {},
   "outputs": [
    {
     "data": {
      "text/plain": [
       "(3075, 16)"
      ]
     },
     "execution_count": 24,
     "metadata": {},
     "output_type": "execute_result"
    }
   ],
   "source": [
    "x_train.shape"
   ]
  },
  {
   "cell_type": "code",
   "execution_count": 25,
   "id": "a8835430-1e44-4144-ac97-966ef135cb93",
   "metadata": {},
   "outputs": [],
   "source": [
    "categ_col = x_train.select_dtypes(['object']).columns\n",
    "num_col = x_train.select_dtypes(['float64', 'int64']).columns"
   ]
  },
  {
   "cell_type": "code",
   "execution_count": 26,
   "id": "be15cf7b-ceaf-4139-9255-fcb03dc4a818",
   "metadata": {},
   "outputs": [
    {
     "data": {
      "text/plain": [
       "Index(['TYPE_CONTRAT', 'STATUT_FAMILIAL', 'PROPRIETAIRE_BIEN_IMMO',\n",
       "       'TYPE_REVENUS', 'GENRE', 'NIVEAU_EDUCATION', 'PROPRIETAIRE_VOITURE'],\n",
       "      dtype='object')"
      ]
     },
     "execution_count": 26,
     "metadata": {},
     "output_type": "execute_result"
    }
   ],
   "source": [
    "categ_col"
   ]
  },
  {
   "cell_type": "code",
   "execution_count": 27,
   "id": "16c0cce3-fd66-4e13-922c-c8d3f16d0d3d",
   "metadata": {},
   "outputs": [
    {
     "data": {
      "text/plain": [
       "(7,)"
      ]
     },
     "execution_count": 27,
     "metadata": {},
     "output_type": "execute_result"
    }
   ],
   "source": [
    "categ_col.shape"
   ]
  },
  {
   "cell_type": "code",
   "execution_count": 28,
   "id": "c7459675-63bf-4b2a-a5d5-0a1d1af6ec9f",
   "metadata": {},
   "outputs": [
    {
     "data": {
      "text/plain": [
       "Index(['AGE', 'JOURS_EMPLOI', 'TOTAL_CREDIT', 'REMB_MENSUEL',\n",
       "       'CNT_FAM_MEMBERS', 'MONTANT_PRIX_BIENS', 'REVENU_TOTAL',\n",
       "       'SOURCE_EXTERNE_2', 'SOURCE_EXTERNE_3'],\n",
       "      dtype='object')"
      ]
     },
     "execution_count": 28,
     "metadata": {},
     "output_type": "execute_result"
    }
   ],
   "source": [
    "num_col"
   ]
  },
  {
   "cell_type": "code",
   "execution_count": 29,
   "id": "dd8ee567-f113-4726-b870-bb90980084ff",
   "metadata": {},
   "outputs": [
    {
     "data": {
      "text/plain": [
       "(9,)"
      ]
     },
     "execution_count": 29,
     "metadata": {},
     "output_type": "execute_result"
    }
   ],
   "source": [
    "num_col.shape"
   ]
  },
  {
   "cell_type": "markdown",
   "id": "47f42389-ce77-4dd4-accd-46f6bd9d8da6",
   "metadata": {},
   "source": [
    "<div style=\"background-color:#d699f2; padding: 10px\">\n",
    "    <h2>\n",
    "        <b>Modélisation</b>\n",
    "    </h2>\n",
    "</div>\n"
   ]
  },
  {
   "cell_type": "code",
   "execution_count": 30,
   "id": "cba3b39c-e410-4817-b0e6-6428a8a09c42",
   "metadata": {},
   "outputs": [],
   "source": [
    "# Créer les transformateurs\n",
    "numeric_transformer = make_pipeline(\n",
    "    SimpleImputer(strategy='mean'), \n",
    "    StandardScaler()\n",
    ")\n",
    "\n",
    "categorical_transformer = make_pipeline(\n",
    "    SimpleImputer(strategy='most_frequent'), \n",
    "    OneHotEncoder(handle_unknown='ignore')\n",
    ")\n",
    "\n",
    "\n",
    "preprocessor_1 = ColumnTransformer(\n",
    "    transformers=[\n",
    "        (\"num\", numeric_transformer, num_col),\n",
    "        (\"cat\", categorical_transformer, categ_col)\n",
    "    ],\n",
    "    remainder=\"drop\"\n",
    ")\n",
    "\n",
    "\n",
    "#preprocessor_2 = ColumnTransformer(\n",
    "   # transformers=[\n",
    "       # (\"num\", numeric_transformer, num_col),\n",
    "     #   (\"cat\", categorical_transformer, categ_col),],\n",
    "  #  remainder=\"drop\")\n",
    "\n",
    "\n",
    "pipeline = Pipeline(\n",
    "    steps=[(\"preprocessor\", preprocessor_1),('sampler', RandomUnderSampler()), (\"estimator\", RandomForestClassifier()),])\n"
   ]
  },
  {
   "cell_type": "code",
   "execution_count": 31,
   "id": "795b2074-34d7-4b10-87e2-19bd729bf3ca",
   "metadata": {},
   "outputs": [],
   "source": [
    "def resultize(grid):\n",
    "    res = pd.DataFrame(grid.cv_results_)  # Utilisez la méthode cv_results_()\n",
    "    cols = [i for i in res.columns if \"split\" not in i]\n",
    "    res = res.loc[:, cols]\n",
    "    res.sort_values(\"mean_test_score\", ascending=False, inplace=True)\n",
    "    return res"
   ]
  },
  {
   "cell_type": "raw",
   "id": "1490b9f7-f5f6-4601-af05-646511be0efa",
   "metadata": {},
   "source": [
    "\n",
    "pipeline_lr_rf = Pipeline(\n",
    "    steps=[(\"preprocessor\", preprocessor_2), (\"estimator\", LogisticRegression())]\n",
    ")"
   ]
  },
  {
   "cell_type": "code",
   "execution_count": 32,
   "id": "73a46a9e-7179-4d58-a5f3-7fd9ca0f7f99",
   "metadata": {},
   "outputs": [],
   "source": [
    "param_grid = {'estimator' : [LogisticRegression(), DummyClassifier(), RandomForestClassifier() ],\n",
    "             #'preprocessor__num__simpleimputer__strategy': ['mean', 'median'], \n",
    "             #'preprocessor__cat__simpleimputer__strategy': ['most_frequent', 'constant', 'mean'], \n",
    "             #'estimator__C': [0.1, 1.0, 10.0] \n",
    "}"
   ]
  },
  {
   "cell_type": "code",
   "execution_count": 33,
   "id": "45e7caf9-5c33-4b9b-9f08-7186995959b4",
   "metadata": {},
   "outputs": [],
   "source": [
    "from sklearn.metrics import get_scorer_names"
   ]
  },
  {
   "cell_type": "code",
   "execution_count": 34,
   "id": "ebd02575-4f3d-4b66-8103-046f9a8ac60d",
   "metadata": {},
   "outputs": [
    {
     "data": {
      "text/plain": [
       "['accuracy',\n",
       " 'adjusted_mutual_info_score',\n",
       " 'adjusted_rand_score',\n",
       " 'average_precision',\n",
       " 'balanced_accuracy',\n",
       " 'completeness_score',\n",
       " 'explained_variance',\n",
       " 'f1',\n",
       " 'f1_macro',\n",
       " 'f1_micro',\n",
       " 'f1_samples',\n",
       " 'f1_weighted',\n",
       " 'fowlkes_mallows_score',\n",
       " 'homogeneity_score',\n",
       " 'jaccard',\n",
       " 'jaccard_macro',\n",
       " 'jaccard_micro',\n",
       " 'jaccard_samples',\n",
       " 'jaccard_weighted',\n",
       " 'matthews_corrcoef',\n",
       " 'max_error',\n",
       " 'mutual_info_score',\n",
       " 'neg_brier_score',\n",
       " 'neg_log_loss',\n",
       " 'neg_mean_absolute_error',\n",
       " 'neg_mean_absolute_percentage_error',\n",
       " 'neg_mean_gamma_deviance',\n",
       " 'neg_mean_poisson_deviance',\n",
       " 'neg_mean_squared_error',\n",
       " 'neg_mean_squared_log_error',\n",
       " 'neg_median_absolute_error',\n",
       " 'neg_negative_likelihood_ratio',\n",
       " 'neg_root_mean_squared_error',\n",
       " 'normalized_mutual_info_score',\n",
       " 'positive_likelihood_ratio',\n",
       " 'precision',\n",
       " 'precision_macro',\n",
       " 'precision_micro',\n",
       " 'precision_samples',\n",
       " 'precision_weighted',\n",
       " 'r2',\n",
       " 'rand_score',\n",
       " 'recall',\n",
       " 'recall_macro',\n",
       " 'recall_micro',\n",
       " 'recall_samples',\n",
       " 'recall_weighted',\n",
       " 'roc_auc',\n",
       " 'roc_auc_ovo',\n",
       " 'roc_auc_ovo_weighted',\n",
       " 'roc_auc_ovr',\n",
       " 'roc_auc_ovr_weighted',\n",
       " 'top_k_accuracy',\n",
       " 'v_measure_score']"
      ]
     },
     "execution_count": 34,
     "metadata": {},
     "output_type": "execute_result"
    }
   ],
   "source": [
    "get_scorer_names()"
   ]
  },
  {
   "cell_type": "code",
   "execution_count": 35,
   "id": "59a52900-7737-477d-9c9e-09fcb11432f8",
   "metadata": {},
   "outputs": [],
   "source": [
    "grid_1 = GridSearchCV(pipeline, param_grid, cv=5, n_jobs=-1, return_train_score=True, verbose =2, scoring = 'f1')\n"
   ]
  },
  {
   "cell_type": "code",
   "execution_count": null,
   "id": "906e876c-a41f-42b1-964e-ac5c767e4e7a",
   "metadata": {},
   "outputs": [],
   "source": []
  },
  {
   "cell_type": "code",
   "execution_count": 36,
   "id": "59b20cfb-feb2-4771-8e7c-bccb736c9420",
   "metadata": {},
   "outputs": [
    {
     "name": "stdout",
     "output_type": "stream",
     "text": [
      "Pipeline Steps: {'preprocessor': ColumnTransformer(transformers=[('num',\n",
      "                                 Pipeline(steps=[('simpleimputer',\n",
      "                                                  SimpleImputer()),\n",
      "                                                 ('standardscaler',\n",
      "                                                  StandardScaler())]),\n",
      "                                 Index(['AGE', 'JOURS_EMPLOI', 'TOTAL_CREDIT', 'REMB_MENSUEL',\n",
      "       'CNT_FAM_MEMBERS', 'MONTANT_PRIX_BIENS', 'REVENU_TOTAL',\n",
      "       'SOURCE_EXTERNE_2', 'SOURCE_EXTERNE_3'],\n",
      "      dtype='object')),\n",
      "                                ('cat',\n",
      "                                 Pipeline(steps=[('simpleimputer',\n",
      "                                                  SimpleImputer(strategy='most_frequent')),\n",
      "                                                 ('onehotencoder',\n",
      "                                                  OneHotEncoder(handle_unknown='ignore'))]),\n",
      "                                 Index(['TYPE_CONTRAT', 'STATUT_FAMILIAL', 'PROPRIETAIRE_BIEN_IMMO',\n",
      "       'TYPE_REVENUS', 'GENRE', 'NIVEAU_EDUCATION', 'PROPRIETAIRE_VOITURE'],\n",
      "      dtype='object'))]), 'sampler': RandomUnderSampler(), 'estimator': RandomForestClassifier()}\n",
      "Fitting 5 folds for each of 3 candidates, totalling 15 fits\n"
     ]
    },
    {
     "data": {
      "text/html": [
       "<style>#sk-container-id-1 {color: black;}#sk-container-id-1 pre{padding: 0;}#sk-container-id-1 div.sk-toggleable {background-color: white;}#sk-container-id-1 label.sk-toggleable__label {cursor: pointer;display: block;width: 100%;margin-bottom: 0;padding: 0.3em;box-sizing: border-box;text-align: center;}#sk-container-id-1 label.sk-toggleable__label-arrow:before {content: \"▸\";float: left;margin-right: 0.25em;color: #696969;}#sk-container-id-1 label.sk-toggleable__label-arrow:hover:before {color: black;}#sk-container-id-1 div.sk-estimator:hover label.sk-toggleable__label-arrow:before {color: black;}#sk-container-id-1 div.sk-toggleable__content {max-height: 0;max-width: 0;overflow: hidden;text-align: left;background-color: #f0f8ff;}#sk-container-id-1 div.sk-toggleable__content pre {margin: 0.2em;color: black;border-radius: 0.25em;background-color: #f0f8ff;}#sk-container-id-1 input.sk-toggleable__control:checked~div.sk-toggleable__content {max-height: 200px;max-width: 100%;overflow: auto;}#sk-container-id-1 input.sk-toggleable__control:checked~label.sk-toggleable__label-arrow:before {content: \"▾\";}#sk-container-id-1 div.sk-estimator input.sk-toggleable__control:checked~label.sk-toggleable__label {background-color: #d4ebff;}#sk-container-id-1 div.sk-label input.sk-toggleable__control:checked~label.sk-toggleable__label {background-color: #d4ebff;}#sk-container-id-1 input.sk-hidden--visually {border: 0;clip: rect(1px 1px 1px 1px);clip: rect(1px, 1px, 1px, 1px);height: 1px;margin: -1px;overflow: hidden;padding: 0;position: absolute;width: 1px;}#sk-container-id-1 div.sk-estimator {font-family: monospace;background-color: #f0f8ff;border: 1px dotted black;border-radius: 0.25em;box-sizing: border-box;margin-bottom: 0.5em;}#sk-container-id-1 div.sk-estimator:hover {background-color: #d4ebff;}#sk-container-id-1 div.sk-parallel-item::after {content: \"\";width: 100%;border-bottom: 1px solid gray;flex-grow: 1;}#sk-container-id-1 div.sk-label:hover label.sk-toggleable__label {background-color: #d4ebff;}#sk-container-id-1 div.sk-serial::before {content: \"\";position: absolute;border-left: 1px solid gray;box-sizing: border-box;top: 0;bottom: 0;left: 50%;z-index: 0;}#sk-container-id-1 div.sk-serial {display: flex;flex-direction: column;align-items: center;background-color: white;padding-right: 0.2em;padding-left: 0.2em;position: relative;}#sk-container-id-1 div.sk-item {position: relative;z-index: 1;}#sk-container-id-1 div.sk-parallel {display: flex;align-items: stretch;justify-content: center;background-color: white;position: relative;}#sk-container-id-1 div.sk-item::before, #sk-container-id-1 div.sk-parallel-item::before {content: \"\";position: absolute;border-left: 1px solid gray;box-sizing: border-box;top: 0;bottom: 0;left: 50%;z-index: -1;}#sk-container-id-1 div.sk-parallel-item {display: flex;flex-direction: column;z-index: 1;position: relative;background-color: white;}#sk-container-id-1 div.sk-parallel-item:first-child::after {align-self: flex-end;width: 50%;}#sk-container-id-1 div.sk-parallel-item:last-child::after {align-self: flex-start;width: 50%;}#sk-container-id-1 div.sk-parallel-item:only-child::after {width: 0;}#sk-container-id-1 div.sk-dashed-wrapped {border: 1px dashed gray;margin: 0 0.4em 0.5em 0.4em;box-sizing: border-box;padding-bottom: 0.4em;background-color: white;}#sk-container-id-1 div.sk-label label {font-family: monospace;font-weight: bold;display: inline-block;line-height: 1.2em;}#sk-container-id-1 div.sk-label-container {text-align: center;}#sk-container-id-1 div.sk-container {/* jupyter's `normalize.less` sets `[hidden] { display: none; }` but bootstrap.min.css set `[hidden] { display: none !important; }` so we also need the `!important` here to be able to override the default hidden behavior on the sphinx rendered scikit-learn.org. See: https://github.com/scikit-learn/scikit-learn/issues/21755 */display: inline-block !important;position: relative;}#sk-container-id-1 div.sk-text-repr-fallback {display: none;}</style><div id=\"sk-container-id-1\" class=\"sk-top-container\"><div class=\"sk-text-repr-fallback\"><pre>GridSearchCV(cv=5,\n",
       "             estimator=Pipeline(steps=[(&#x27;preprocessor&#x27;,\n",
       "                                        ColumnTransformer(transformers=[(&#x27;num&#x27;,\n",
       "                                                                         Pipeline(steps=[(&#x27;simpleimputer&#x27;,\n",
       "                                                                                          SimpleImputer()),\n",
       "                                                                                         (&#x27;standardscaler&#x27;,\n",
       "                                                                                          StandardScaler())]),\n",
       "                                                                         Index([&#x27;AGE&#x27;, &#x27;JOURS_EMPLOI&#x27;, &#x27;TOTAL_CREDIT&#x27;, &#x27;REMB_MENSUEL&#x27;,\n",
       "       &#x27;CNT_FAM_MEMBERS&#x27;, &#x27;MONTANT_PRIX_BIENS&#x27;, &#x27;REVENU_TOTAL&#x27;,\n",
       "       &#x27;SOURCE_EXTERNE_2&#x27;, &#x27;SOURCE_EXTERNE_3&#x27;],\n",
       "      dtype=&#x27;objec...\n",
       "                                                                         Index([&#x27;TYPE_CONTRAT&#x27;, &#x27;STATUT_FAMILIAL&#x27;, &#x27;PROPRIETAIRE_BIEN_IMMO&#x27;,\n",
       "       &#x27;TYPE_REVENUS&#x27;, &#x27;GENRE&#x27;, &#x27;NIVEAU_EDUCATION&#x27;, &#x27;PROPRIETAIRE_VOITURE&#x27;],\n",
       "      dtype=&#x27;object&#x27;))])),\n",
       "                                       (&#x27;sampler&#x27;, RandomUnderSampler()),\n",
       "                                       (&#x27;estimator&#x27;,\n",
       "                                        RandomForestClassifier())]),\n",
       "             n_jobs=-1,\n",
       "             param_grid={&#x27;estimator&#x27;: [LogisticRegression(), DummyClassifier(),\n",
       "                                       RandomForestClassifier()]},\n",
       "             return_train_score=True, scoring=&#x27;f1&#x27;, verbose=2)</pre><b>In a Jupyter environment, please rerun this cell to show the HTML representation or trust the notebook. <br />On GitHub, the HTML representation is unable to render, please try loading this page with nbviewer.org.</b></div><div class=\"sk-container\" hidden><div class=\"sk-item sk-dashed-wrapped\"><div class=\"sk-label-container\"><div class=\"sk-label sk-toggleable\"><input class=\"sk-toggleable__control sk-hidden--visually\" id=\"sk-estimator-id-1\" type=\"checkbox\" ><label for=\"sk-estimator-id-1\" class=\"sk-toggleable__label sk-toggleable__label-arrow\">GridSearchCV</label><div class=\"sk-toggleable__content\"><pre>GridSearchCV(cv=5,\n",
       "             estimator=Pipeline(steps=[(&#x27;preprocessor&#x27;,\n",
       "                                        ColumnTransformer(transformers=[(&#x27;num&#x27;,\n",
       "                                                                         Pipeline(steps=[(&#x27;simpleimputer&#x27;,\n",
       "                                                                                          SimpleImputer()),\n",
       "                                                                                         (&#x27;standardscaler&#x27;,\n",
       "                                                                                          StandardScaler())]),\n",
       "                                                                         Index([&#x27;AGE&#x27;, &#x27;JOURS_EMPLOI&#x27;, &#x27;TOTAL_CREDIT&#x27;, &#x27;REMB_MENSUEL&#x27;,\n",
       "       &#x27;CNT_FAM_MEMBERS&#x27;, &#x27;MONTANT_PRIX_BIENS&#x27;, &#x27;REVENU_TOTAL&#x27;,\n",
       "       &#x27;SOURCE_EXTERNE_2&#x27;, &#x27;SOURCE_EXTERNE_3&#x27;],\n",
       "      dtype=&#x27;objec...\n",
       "                                                                         Index([&#x27;TYPE_CONTRAT&#x27;, &#x27;STATUT_FAMILIAL&#x27;, &#x27;PROPRIETAIRE_BIEN_IMMO&#x27;,\n",
       "       &#x27;TYPE_REVENUS&#x27;, &#x27;GENRE&#x27;, &#x27;NIVEAU_EDUCATION&#x27;, &#x27;PROPRIETAIRE_VOITURE&#x27;],\n",
       "      dtype=&#x27;object&#x27;))])),\n",
       "                                       (&#x27;sampler&#x27;, RandomUnderSampler()),\n",
       "                                       (&#x27;estimator&#x27;,\n",
       "                                        RandomForestClassifier())]),\n",
       "             n_jobs=-1,\n",
       "             param_grid={&#x27;estimator&#x27;: [LogisticRegression(), DummyClassifier(),\n",
       "                                       RandomForestClassifier()]},\n",
       "             return_train_score=True, scoring=&#x27;f1&#x27;, verbose=2)</pre></div></div></div><div class=\"sk-parallel\"><div class=\"sk-parallel-item\"><div class=\"sk-item\"><div class=\"sk-label-container\"><div class=\"sk-label sk-toggleable\"><input class=\"sk-toggleable__control sk-hidden--visually\" id=\"sk-estimator-id-2\" type=\"checkbox\" ><label for=\"sk-estimator-id-2\" class=\"sk-toggleable__label sk-toggleable__label-arrow\">estimator: Pipeline</label><div class=\"sk-toggleable__content\"><pre>Pipeline(steps=[(&#x27;preprocessor&#x27;,\n",
       "                 ColumnTransformer(transformers=[(&#x27;num&#x27;,\n",
       "                                                  Pipeline(steps=[(&#x27;simpleimputer&#x27;,\n",
       "                                                                   SimpleImputer()),\n",
       "                                                                  (&#x27;standardscaler&#x27;,\n",
       "                                                                   StandardScaler())]),\n",
       "                                                  Index([&#x27;AGE&#x27;, &#x27;JOURS_EMPLOI&#x27;, &#x27;TOTAL_CREDIT&#x27;, &#x27;REMB_MENSUEL&#x27;,\n",
       "       &#x27;CNT_FAM_MEMBERS&#x27;, &#x27;MONTANT_PRIX_BIENS&#x27;, &#x27;REVENU_TOTAL&#x27;,\n",
       "       &#x27;SOURCE_EXTERNE_2&#x27;, &#x27;SOURCE_EXTERNE_3&#x27;],\n",
       "      dtype=&#x27;object&#x27;)),\n",
       "                                                 (&#x27;cat&#x27;,\n",
       "                                                  Pipeline(steps=[(&#x27;simpleimputer&#x27;,\n",
       "                                                                   SimpleImputer(strategy=&#x27;most_frequent&#x27;)),\n",
       "                                                                  (&#x27;onehotencoder&#x27;,\n",
       "                                                                   OneHotEncoder(handle_unknown=&#x27;ignore&#x27;))]),\n",
       "                                                  Index([&#x27;TYPE_CONTRAT&#x27;, &#x27;STATUT_FAMILIAL&#x27;, &#x27;PROPRIETAIRE_BIEN_IMMO&#x27;,\n",
       "       &#x27;TYPE_REVENUS&#x27;, &#x27;GENRE&#x27;, &#x27;NIVEAU_EDUCATION&#x27;, &#x27;PROPRIETAIRE_VOITURE&#x27;],\n",
       "      dtype=&#x27;object&#x27;))])),\n",
       "                (&#x27;sampler&#x27;, RandomUnderSampler()),\n",
       "                (&#x27;estimator&#x27;, RandomForestClassifier())])</pre></div></div></div><div class=\"sk-serial\"><div class=\"sk-item\"><div class=\"sk-serial\"><div class=\"sk-item sk-dashed-wrapped\"><div class=\"sk-label-container\"><div class=\"sk-label sk-toggleable\"><input class=\"sk-toggleable__control sk-hidden--visually\" id=\"sk-estimator-id-3\" type=\"checkbox\" ><label for=\"sk-estimator-id-3\" class=\"sk-toggleable__label sk-toggleable__label-arrow\">preprocessor: ColumnTransformer</label><div class=\"sk-toggleable__content\"><pre>ColumnTransformer(transformers=[(&#x27;num&#x27;,\n",
       "                                 Pipeline(steps=[(&#x27;simpleimputer&#x27;,\n",
       "                                                  SimpleImputer()),\n",
       "                                                 (&#x27;standardscaler&#x27;,\n",
       "                                                  StandardScaler())]),\n",
       "                                 Index([&#x27;AGE&#x27;, &#x27;JOURS_EMPLOI&#x27;, &#x27;TOTAL_CREDIT&#x27;, &#x27;REMB_MENSUEL&#x27;,\n",
       "       &#x27;CNT_FAM_MEMBERS&#x27;, &#x27;MONTANT_PRIX_BIENS&#x27;, &#x27;REVENU_TOTAL&#x27;,\n",
       "       &#x27;SOURCE_EXTERNE_2&#x27;, &#x27;SOURCE_EXTERNE_3&#x27;],\n",
       "      dtype=&#x27;object&#x27;)),\n",
       "                                (&#x27;cat&#x27;,\n",
       "                                 Pipeline(steps=[(&#x27;simpleimputer&#x27;,\n",
       "                                                  SimpleImputer(strategy=&#x27;most_frequent&#x27;)),\n",
       "                                                 (&#x27;onehotencoder&#x27;,\n",
       "                                                  OneHotEncoder(handle_unknown=&#x27;ignore&#x27;))]),\n",
       "                                 Index([&#x27;TYPE_CONTRAT&#x27;, &#x27;STATUT_FAMILIAL&#x27;, &#x27;PROPRIETAIRE_BIEN_IMMO&#x27;,\n",
       "       &#x27;TYPE_REVENUS&#x27;, &#x27;GENRE&#x27;, &#x27;NIVEAU_EDUCATION&#x27;, &#x27;PROPRIETAIRE_VOITURE&#x27;],\n",
       "      dtype=&#x27;object&#x27;))])</pre></div></div></div><div class=\"sk-parallel\"><div class=\"sk-parallel-item\"><div class=\"sk-item\"><div class=\"sk-label-container\"><div class=\"sk-label sk-toggleable\"><input class=\"sk-toggleable__control sk-hidden--visually\" id=\"sk-estimator-id-4\" type=\"checkbox\" ><label for=\"sk-estimator-id-4\" class=\"sk-toggleable__label sk-toggleable__label-arrow\">num</label><div class=\"sk-toggleable__content\"><pre>Index([&#x27;AGE&#x27;, &#x27;JOURS_EMPLOI&#x27;, &#x27;TOTAL_CREDIT&#x27;, &#x27;REMB_MENSUEL&#x27;,\n",
       "       &#x27;CNT_FAM_MEMBERS&#x27;, &#x27;MONTANT_PRIX_BIENS&#x27;, &#x27;REVENU_TOTAL&#x27;,\n",
       "       &#x27;SOURCE_EXTERNE_2&#x27;, &#x27;SOURCE_EXTERNE_3&#x27;],\n",
       "      dtype=&#x27;object&#x27;)</pre></div></div></div><div class=\"sk-serial\"><div class=\"sk-item\"><div class=\"sk-serial\"><div class=\"sk-item\"><div class=\"sk-estimator sk-toggleable\"><input class=\"sk-toggleable__control sk-hidden--visually\" id=\"sk-estimator-id-5\" type=\"checkbox\" ><label for=\"sk-estimator-id-5\" class=\"sk-toggleable__label sk-toggleable__label-arrow\">SimpleImputer</label><div class=\"sk-toggleable__content\"><pre>SimpleImputer()</pre></div></div></div><div class=\"sk-item\"><div class=\"sk-estimator sk-toggleable\"><input class=\"sk-toggleable__control sk-hidden--visually\" id=\"sk-estimator-id-6\" type=\"checkbox\" ><label for=\"sk-estimator-id-6\" class=\"sk-toggleable__label sk-toggleable__label-arrow\">StandardScaler</label><div class=\"sk-toggleable__content\"><pre>StandardScaler()</pre></div></div></div></div></div></div></div></div><div class=\"sk-parallel-item\"><div class=\"sk-item\"><div class=\"sk-label-container\"><div class=\"sk-label sk-toggleable\"><input class=\"sk-toggleable__control sk-hidden--visually\" id=\"sk-estimator-id-7\" type=\"checkbox\" ><label for=\"sk-estimator-id-7\" class=\"sk-toggleable__label sk-toggleable__label-arrow\">cat</label><div class=\"sk-toggleable__content\"><pre>Index([&#x27;TYPE_CONTRAT&#x27;, &#x27;STATUT_FAMILIAL&#x27;, &#x27;PROPRIETAIRE_BIEN_IMMO&#x27;,\n",
       "       &#x27;TYPE_REVENUS&#x27;, &#x27;GENRE&#x27;, &#x27;NIVEAU_EDUCATION&#x27;, &#x27;PROPRIETAIRE_VOITURE&#x27;],\n",
       "      dtype=&#x27;object&#x27;)</pre></div></div></div><div class=\"sk-serial\"><div class=\"sk-item\"><div class=\"sk-serial\"><div class=\"sk-item\"><div class=\"sk-estimator sk-toggleable\"><input class=\"sk-toggleable__control sk-hidden--visually\" id=\"sk-estimator-id-8\" type=\"checkbox\" ><label for=\"sk-estimator-id-8\" class=\"sk-toggleable__label sk-toggleable__label-arrow\">SimpleImputer</label><div class=\"sk-toggleable__content\"><pre>SimpleImputer(strategy=&#x27;most_frequent&#x27;)</pre></div></div></div><div class=\"sk-item\"><div class=\"sk-estimator sk-toggleable\"><input class=\"sk-toggleable__control sk-hidden--visually\" id=\"sk-estimator-id-9\" type=\"checkbox\" ><label for=\"sk-estimator-id-9\" class=\"sk-toggleable__label sk-toggleable__label-arrow\">OneHotEncoder</label><div class=\"sk-toggleable__content\"><pre>OneHotEncoder(handle_unknown=&#x27;ignore&#x27;)</pre></div></div></div></div></div></div></div></div></div></div><div class=\"sk-item\"><div class=\"sk-estimator sk-toggleable\"><input class=\"sk-toggleable__control sk-hidden--visually\" id=\"sk-estimator-id-10\" type=\"checkbox\" ><label for=\"sk-estimator-id-10\" class=\"sk-toggleable__label sk-toggleable__label-arrow\">RandomUnderSampler</label><div class=\"sk-toggleable__content\"><pre>RandomUnderSampler()</pre></div></div></div><div class=\"sk-item\"><div class=\"sk-estimator sk-toggleable\"><input class=\"sk-toggleable__control sk-hidden--visually\" id=\"sk-estimator-id-11\" type=\"checkbox\" ><label for=\"sk-estimator-id-11\" class=\"sk-toggleable__label sk-toggleable__label-arrow\">RandomForestClassifier</label><div class=\"sk-toggleable__content\"><pre>RandomForestClassifier()</pre></div></div></div></div></div></div></div></div></div></div></div></div>"
      ],
      "text/plain": [
       "GridSearchCV(cv=5,\n",
       "             estimator=Pipeline(steps=[('preprocessor',\n",
       "                                        ColumnTransformer(transformers=[('num',\n",
       "                                                                         Pipeline(steps=[('simpleimputer',\n",
       "                                                                                          SimpleImputer()),\n",
       "                                                                                         ('standardscaler',\n",
       "                                                                                          StandardScaler())]),\n",
       "                                                                         Index(['AGE', 'JOURS_EMPLOI', 'TOTAL_CREDIT', 'REMB_MENSUEL',\n",
       "       'CNT_FAM_MEMBERS', 'MONTANT_PRIX_BIENS', 'REVENU_TOTAL',\n",
       "       'SOURCE_EXTERNE_2', 'SOURCE_EXTERNE_3'],\n",
       "      dtype='objec...\n",
       "                                                                         Index(['TYPE_CONTRAT', 'STATUT_FAMILIAL', 'PROPRIETAIRE_BIEN_IMMO',\n",
       "       'TYPE_REVENUS', 'GENRE', 'NIVEAU_EDUCATION', 'PROPRIETAIRE_VOITURE'],\n",
       "      dtype='object'))])),\n",
       "                                       ('sampler', RandomUnderSampler()),\n",
       "                                       ('estimator',\n",
       "                                        RandomForestClassifier())]),\n",
       "             n_jobs=-1,\n",
       "             param_grid={'estimator': [LogisticRegression(), DummyClassifier(),\n",
       "                                       RandomForestClassifier()]},\n",
       "             return_train_score=True, scoring='f1', verbose=2)"
      ]
     },
     "execution_count": 36,
     "metadata": {},
     "output_type": "execute_result"
    }
   ],
   "source": [
    "print(\"Pipeline Steps:\", pipeline.named_steps)\n",
    "\n",
    "grid_1.fit(x_train, y)"
   ]
  },
  {
   "cell_type": "code",
   "execution_count": 37,
   "id": "97a9d5b6-ec16-4e71-aab3-d25789ec1ba4",
   "metadata": {},
   "outputs": [
    {
     "data": {
      "text/html": [
       "<div>\n",
       "<style scoped>\n",
       "    .dataframe tbody tr th:only-of-type {\n",
       "        vertical-align: middle;\n",
       "    }\n",
       "\n",
       "    .dataframe tbody tr th {\n",
       "        vertical-align: top;\n",
       "    }\n",
       "\n",
       "    .dataframe thead th {\n",
       "        text-align: right;\n",
       "    }\n",
       "</style>\n",
       "<table border=\"1\" class=\"dataframe\">\n",
       "  <thead>\n",
       "    <tr style=\"text-align: right;\">\n",
       "      <th></th>\n",
       "      <th>mean_fit_time</th>\n",
       "      <th>std_fit_time</th>\n",
       "      <th>mean_score_time</th>\n",
       "      <th>std_score_time</th>\n",
       "      <th>param_estimator</th>\n",
       "      <th>params</th>\n",
       "      <th>mean_test_score</th>\n",
       "      <th>std_test_score</th>\n",
       "      <th>rank_test_score</th>\n",
       "      <th>mean_train_score</th>\n",
       "      <th>std_train_score</th>\n",
       "    </tr>\n",
       "  </thead>\n",
       "  <tbody>\n",
       "    <tr>\n",
       "      <th>0</th>\n",
       "      <td>0.062214</td>\n",
       "      <td>0.004616</td>\n",
       "      <td>0.016304</td>\n",
       "      <td>0.001161</td>\n",
       "      <td>LogisticRegression()</td>\n",
       "      <td>{'estimator': LogisticRegression()}</td>\n",
       "      <td>0.205156</td>\n",
       "      <td>0.021713</td>\n",
       "      <td>1</td>\n",
       "      <td>0.226162</td>\n",
       "      <td>0.011982</td>\n",
       "    </tr>\n",
       "    <tr>\n",
       "      <th>2</th>\n",
       "      <td>0.318390</td>\n",
       "      <td>0.011636</td>\n",
       "      <td>0.025213</td>\n",
       "      <td>0.003121</td>\n",
       "      <td>RandomForestClassifier()</td>\n",
       "      <td>{'estimator': RandomForestClassifier()}</td>\n",
       "      <td>0.187311</td>\n",
       "      <td>0.022326</td>\n",
       "      <td>2</td>\n",
       "      <td>0.308770</td>\n",
       "      <td>0.005586</td>\n",
       "    </tr>\n",
       "    <tr>\n",
       "      <th>1</th>\n",
       "      <td>0.038613</td>\n",
       "      <td>0.006484</td>\n",
       "      <td>0.016205</td>\n",
       "      <td>0.001722</td>\n",
       "      <td>DummyClassifier()</td>\n",
       "      <td>{'estimator': DummyClassifier()}</td>\n",
       "      <td>0.000000</td>\n",
       "      <td>0.000000</td>\n",
       "      <td>3</td>\n",
       "      <td>0.000000</td>\n",
       "      <td>0.000000</td>\n",
       "    </tr>\n",
       "  </tbody>\n",
       "</table>\n",
       "</div>"
      ],
      "text/plain": [
       "   mean_fit_time  std_fit_time  mean_score_time  std_score_time  \\\n",
       "0       0.062214      0.004616         0.016304        0.001161   \n",
       "2       0.318390      0.011636         0.025213        0.003121   \n",
       "1       0.038613      0.006484         0.016205        0.001722   \n",
       "\n",
       "            param_estimator                                   params  \\\n",
       "0      LogisticRegression()      {'estimator': LogisticRegression()}   \n",
       "2  RandomForestClassifier()  {'estimator': RandomForestClassifier()}   \n",
       "1         DummyClassifier()         {'estimator': DummyClassifier()}   \n",
       "\n",
       "   mean_test_score  std_test_score  rank_test_score  mean_train_score  \\\n",
       "0         0.205156        0.021713                1          0.226162   \n",
       "2         0.187311        0.022326                2          0.308770   \n",
       "1         0.000000        0.000000                3          0.000000   \n",
       "\n",
       "   std_train_score  \n",
       "0         0.011982  \n",
       "2         0.005586  \n",
       "1         0.000000  "
      ]
     },
     "execution_count": 37,
     "metadata": {},
     "output_type": "execute_result"
    }
   ],
   "source": [
    "resultize(grid_1)"
   ]
  },
  {
   "cell_type": "code",
   "execution_count": 38,
   "id": "a9d3315b-2c3d-4d27-8af2-eb674fb1ecbf",
   "metadata": {},
   "outputs": [
    {
     "data": {
      "text/plain": [
       "CIBLE\n",
       "0    0.924878\n",
       "1    0.075122\n",
       "Name: proportion, dtype: float64"
      ]
     },
     "execution_count": 38,
     "metadata": {},
     "output_type": "execute_result"
    }
   ],
   "source": [
    "y.value_counts(normalize = True)"
   ]
  },
  {
   "cell_type": "code",
   "execution_count": 39,
   "id": "b475ad28-9062-4922-849f-55813d864669",
   "metadata": {},
   "outputs": [],
   "source": [
    "best_model = grid_1.best_estimator_"
   ]
  },
  {
   "cell_type": "code",
   "execution_count": 40,
   "id": "bf7ecc96-337a-49b2-8d3c-43ce7f3dcf51",
   "metadata": {},
   "outputs": [],
   "source": [
    "from sklearn.model_selection import train_test_split\n",
    "from sklearn.metrics import classification_report\n",
    "from sklearn.metrics import accuracy_score"
   ]
  },
  {
   "cell_type": "code",
   "execution_count": 41,
   "id": "501f7c79-7c21-4fbf-ae8f-aa2ee5a7d375",
   "metadata": {},
   "outputs": [],
   "source": [
    "# Séparez vos données en ensembles d'entraînement et de test\n",
    "X_train, X_test, y_train, y_test = train_test_split(x_train, y, test_size=0.2, random_state=42)\n"
   ]
  },
  {
   "cell_type": "code",
   "execution_count": 42,
   "id": "fa06b42c-8619-45f3-9539-92f6837fd951",
   "metadata": {},
   "outputs": [
    {
     "name": "stdout",
     "output_type": "stream",
     "text": [
      "Fitting 5 folds for each of 3 candidates, totalling 15 fits\n"
     ]
    },
    {
     "data": {
      "text/html": [
       "<style>#sk-container-id-2 {color: black;}#sk-container-id-2 pre{padding: 0;}#sk-container-id-2 div.sk-toggleable {background-color: white;}#sk-container-id-2 label.sk-toggleable__label {cursor: pointer;display: block;width: 100%;margin-bottom: 0;padding: 0.3em;box-sizing: border-box;text-align: center;}#sk-container-id-2 label.sk-toggleable__label-arrow:before {content: \"▸\";float: left;margin-right: 0.25em;color: #696969;}#sk-container-id-2 label.sk-toggleable__label-arrow:hover:before {color: black;}#sk-container-id-2 div.sk-estimator:hover label.sk-toggleable__label-arrow:before {color: black;}#sk-container-id-2 div.sk-toggleable__content {max-height: 0;max-width: 0;overflow: hidden;text-align: left;background-color: #f0f8ff;}#sk-container-id-2 div.sk-toggleable__content pre {margin: 0.2em;color: black;border-radius: 0.25em;background-color: #f0f8ff;}#sk-container-id-2 input.sk-toggleable__control:checked~div.sk-toggleable__content {max-height: 200px;max-width: 100%;overflow: auto;}#sk-container-id-2 input.sk-toggleable__control:checked~label.sk-toggleable__label-arrow:before {content: \"▾\";}#sk-container-id-2 div.sk-estimator input.sk-toggleable__control:checked~label.sk-toggleable__label {background-color: #d4ebff;}#sk-container-id-2 div.sk-label input.sk-toggleable__control:checked~label.sk-toggleable__label {background-color: #d4ebff;}#sk-container-id-2 input.sk-hidden--visually {border: 0;clip: rect(1px 1px 1px 1px);clip: rect(1px, 1px, 1px, 1px);height: 1px;margin: -1px;overflow: hidden;padding: 0;position: absolute;width: 1px;}#sk-container-id-2 div.sk-estimator {font-family: monospace;background-color: #f0f8ff;border: 1px dotted black;border-radius: 0.25em;box-sizing: border-box;margin-bottom: 0.5em;}#sk-container-id-2 div.sk-estimator:hover {background-color: #d4ebff;}#sk-container-id-2 div.sk-parallel-item::after {content: \"\";width: 100%;border-bottom: 1px solid gray;flex-grow: 1;}#sk-container-id-2 div.sk-label:hover label.sk-toggleable__label {background-color: #d4ebff;}#sk-container-id-2 div.sk-serial::before {content: \"\";position: absolute;border-left: 1px solid gray;box-sizing: border-box;top: 0;bottom: 0;left: 50%;z-index: 0;}#sk-container-id-2 div.sk-serial {display: flex;flex-direction: column;align-items: center;background-color: white;padding-right: 0.2em;padding-left: 0.2em;position: relative;}#sk-container-id-2 div.sk-item {position: relative;z-index: 1;}#sk-container-id-2 div.sk-parallel {display: flex;align-items: stretch;justify-content: center;background-color: white;position: relative;}#sk-container-id-2 div.sk-item::before, #sk-container-id-2 div.sk-parallel-item::before {content: \"\";position: absolute;border-left: 1px solid gray;box-sizing: border-box;top: 0;bottom: 0;left: 50%;z-index: -1;}#sk-container-id-2 div.sk-parallel-item {display: flex;flex-direction: column;z-index: 1;position: relative;background-color: white;}#sk-container-id-2 div.sk-parallel-item:first-child::after {align-self: flex-end;width: 50%;}#sk-container-id-2 div.sk-parallel-item:last-child::after {align-self: flex-start;width: 50%;}#sk-container-id-2 div.sk-parallel-item:only-child::after {width: 0;}#sk-container-id-2 div.sk-dashed-wrapped {border: 1px dashed gray;margin: 0 0.4em 0.5em 0.4em;box-sizing: border-box;padding-bottom: 0.4em;background-color: white;}#sk-container-id-2 div.sk-label label {font-family: monospace;font-weight: bold;display: inline-block;line-height: 1.2em;}#sk-container-id-2 div.sk-label-container {text-align: center;}#sk-container-id-2 div.sk-container {/* jupyter's `normalize.less` sets `[hidden] { display: none; }` but bootstrap.min.css set `[hidden] { display: none !important; }` so we also need the `!important` here to be able to override the default hidden behavior on the sphinx rendered scikit-learn.org. See: https://github.com/scikit-learn/scikit-learn/issues/21755 */display: inline-block !important;position: relative;}#sk-container-id-2 div.sk-text-repr-fallback {display: none;}</style><div id=\"sk-container-id-2\" class=\"sk-top-container\"><div class=\"sk-text-repr-fallback\"><pre>GridSearchCV(cv=5,\n",
       "             estimator=Pipeline(steps=[(&#x27;preprocessor&#x27;,\n",
       "                                        ColumnTransformer(transformers=[(&#x27;num&#x27;,\n",
       "                                                                         Pipeline(steps=[(&#x27;simpleimputer&#x27;,\n",
       "                                                                                          SimpleImputer()),\n",
       "                                                                                         (&#x27;standardscaler&#x27;,\n",
       "                                                                                          StandardScaler())]),\n",
       "                                                                         Index([&#x27;AGE&#x27;, &#x27;JOURS_EMPLOI&#x27;, &#x27;TOTAL_CREDIT&#x27;, &#x27;REMB_MENSUEL&#x27;,\n",
       "       &#x27;CNT_FAM_MEMBERS&#x27;, &#x27;MONTANT_PRIX_BIENS&#x27;, &#x27;REVENU_TOTAL&#x27;,\n",
       "       &#x27;SOURCE_EXTERNE_2&#x27;, &#x27;SOURCE_EXTERNE_3&#x27;],\n",
       "      dtype=&#x27;objec...\n",
       "                                                                         Index([&#x27;TYPE_CONTRAT&#x27;, &#x27;STATUT_FAMILIAL&#x27;, &#x27;PROPRIETAIRE_BIEN_IMMO&#x27;,\n",
       "       &#x27;TYPE_REVENUS&#x27;, &#x27;GENRE&#x27;, &#x27;NIVEAU_EDUCATION&#x27;, &#x27;PROPRIETAIRE_VOITURE&#x27;],\n",
       "      dtype=&#x27;object&#x27;))])),\n",
       "                                       (&#x27;sampler&#x27;, RandomUnderSampler()),\n",
       "                                       (&#x27;estimator&#x27;,\n",
       "                                        RandomForestClassifier())]),\n",
       "             n_jobs=-1,\n",
       "             param_grid={&#x27;estimator&#x27;: [LogisticRegression(), DummyClassifier(),\n",
       "                                       RandomForestClassifier()]},\n",
       "             return_train_score=True, scoring=&#x27;f1&#x27;, verbose=2)</pre><b>In a Jupyter environment, please rerun this cell to show the HTML representation or trust the notebook. <br />On GitHub, the HTML representation is unable to render, please try loading this page with nbviewer.org.</b></div><div class=\"sk-container\" hidden><div class=\"sk-item sk-dashed-wrapped\"><div class=\"sk-label-container\"><div class=\"sk-label sk-toggleable\"><input class=\"sk-toggleable__control sk-hidden--visually\" id=\"sk-estimator-id-12\" type=\"checkbox\" ><label for=\"sk-estimator-id-12\" class=\"sk-toggleable__label sk-toggleable__label-arrow\">GridSearchCV</label><div class=\"sk-toggleable__content\"><pre>GridSearchCV(cv=5,\n",
       "             estimator=Pipeline(steps=[(&#x27;preprocessor&#x27;,\n",
       "                                        ColumnTransformer(transformers=[(&#x27;num&#x27;,\n",
       "                                                                         Pipeline(steps=[(&#x27;simpleimputer&#x27;,\n",
       "                                                                                          SimpleImputer()),\n",
       "                                                                                         (&#x27;standardscaler&#x27;,\n",
       "                                                                                          StandardScaler())]),\n",
       "                                                                         Index([&#x27;AGE&#x27;, &#x27;JOURS_EMPLOI&#x27;, &#x27;TOTAL_CREDIT&#x27;, &#x27;REMB_MENSUEL&#x27;,\n",
       "       &#x27;CNT_FAM_MEMBERS&#x27;, &#x27;MONTANT_PRIX_BIENS&#x27;, &#x27;REVENU_TOTAL&#x27;,\n",
       "       &#x27;SOURCE_EXTERNE_2&#x27;, &#x27;SOURCE_EXTERNE_3&#x27;],\n",
       "      dtype=&#x27;objec...\n",
       "                                                                         Index([&#x27;TYPE_CONTRAT&#x27;, &#x27;STATUT_FAMILIAL&#x27;, &#x27;PROPRIETAIRE_BIEN_IMMO&#x27;,\n",
       "       &#x27;TYPE_REVENUS&#x27;, &#x27;GENRE&#x27;, &#x27;NIVEAU_EDUCATION&#x27;, &#x27;PROPRIETAIRE_VOITURE&#x27;],\n",
       "      dtype=&#x27;object&#x27;))])),\n",
       "                                       (&#x27;sampler&#x27;, RandomUnderSampler()),\n",
       "                                       (&#x27;estimator&#x27;,\n",
       "                                        RandomForestClassifier())]),\n",
       "             n_jobs=-1,\n",
       "             param_grid={&#x27;estimator&#x27;: [LogisticRegression(), DummyClassifier(),\n",
       "                                       RandomForestClassifier()]},\n",
       "             return_train_score=True, scoring=&#x27;f1&#x27;, verbose=2)</pre></div></div></div><div class=\"sk-parallel\"><div class=\"sk-parallel-item\"><div class=\"sk-item\"><div class=\"sk-label-container\"><div class=\"sk-label sk-toggleable\"><input class=\"sk-toggleable__control sk-hidden--visually\" id=\"sk-estimator-id-13\" type=\"checkbox\" ><label for=\"sk-estimator-id-13\" class=\"sk-toggleable__label sk-toggleable__label-arrow\">estimator: Pipeline</label><div class=\"sk-toggleable__content\"><pre>Pipeline(steps=[(&#x27;preprocessor&#x27;,\n",
       "                 ColumnTransformer(transformers=[(&#x27;num&#x27;,\n",
       "                                                  Pipeline(steps=[(&#x27;simpleimputer&#x27;,\n",
       "                                                                   SimpleImputer()),\n",
       "                                                                  (&#x27;standardscaler&#x27;,\n",
       "                                                                   StandardScaler())]),\n",
       "                                                  Index([&#x27;AGE&#x27;, &#x27;JOURS_EMPLOI&#x27;, &#x27;TOTAL_CREDIT&#x27;, &#x27;REMB_MENSUEL&#x27;,\n",
       "       &#x27;CNT_FAM_MEMBERS&#x27;, &#x27;MONTANT_PRIX_BIENS&#x27;, &#x27;REVENU_TOTAL&#x27;,\n",
       "       &#x27;SOURCE_EXTERNE_2&#x27;, &#x27;SOURCE_EXTERNE_3&#x27;],\n",
       "      dtype=&#x27;object&#x27;)),\n",
       "                                                 (&#x27;cat&#x27;,\n",
       "                                                  Pipeline(steps=[(&#x27;simpleimputer&#x27;,\n",
       "                                                                   SimpleImputer(strategy=&#x27;most_frequent&#x27;)),\n",
       "                                                                  (&#x27;onehotencoder&#x27;,\n",
       "                                                                   OneHotEncoder(handle_unknown=&#x27;ignore&#x27;))]),\n",
       "                                                  Index([&#x27;TYPE_CONTRAT&#x27;, &#x27;STATUT_FAMILIAL&#x27;, &#x27;PROPRIETAIRE_BIEN_IMMO&#x27;,\n",
       "       &#x27;TYPE_REVENUS&#x27;, &#x27;GENRE&#x27;, &#x27;NIVEAU_EDUCATION&#x27;, &#x27;PROPRIETAIRE_VOITURE&#x27;],\n",
       "      dtype=&#x27;object&#x27;))])),\n",
       "                (&#x27;sampler&#x27;, RandomUnderSampler()),\n",
       "                (&#x27;estimator&#x27;, RandomForestClassifier())])</pre></div></div></div><div class=\"sk-serial\"><div class=\"sk-item\"><div class=\"sk-serial\"><div class=\"sk-item sk-dashed-wrapped\"><div class=\"sk-label-container\"><div class=\"sk-label sk-toggleable\"><input class=\"sk-toggleable__control sk-hidden--visually\" id=\"sk-estimator-id-14\" type=\"checkbox\" ><label for=\"sk-estimator-id-14\" class=\"sk-toggleable__label sk-toggleable__label-arrow\">preprocessor: ColumnTransformer</label><div class=\"sk-toggleable__content\"><pre>ColumnTransformer(transformers=[(&#x27;num&#x27;,\n",
       "                                 Pipeline(steps=[(&#x27;simpleimputer&#x27;,\n",
       "                                                  SimpleImputer()),\n",
       "                                                 (&#x27;standardscaler&#x27;,\n",
       "                                                  StandardScaler())]),\n",
       "                                 Index([&#x27;AGE&#x27;, &#x27;JOURS_EMPLOI&#x27;, &#x27;TOTAL_CREDIT&#x27;, &#x27;REMB_MENSUEL&#x27;,\n",
       "       &#x27;CNT_FAM_MEMBERS&#x27;, &#x27;MONTANT_PRIX_BIENS&#x27;, &#x27;REVENU_TOTAL&#x27;,\n",
       "       &#x27;SOURCE_EXTERNE_2&#x27;, &#x27;SOURCE_EXTERNE_3&#x27;],\n",
       "      dtype=&#x27;object&#x27;)),\n",
       "                                (&#x27;cat&#x27;,\n",
       "                                 Pipeline(steps=[(&#x27;simpleimputer&#x27;,\n",
       "                                                  SimpleImputer(strategy=&#x27;most_frequent&#x27;)),\n",
       "                                                 (&#x27;onehotencoder&#x27;,\n",
       "                                                  OneHotEncoder(handle_unknown=&#x27;ignore&#x27;))]),\n",
       "                                 Index([&#x27;TYPE_CONTRAT&#x27;, &#x27;STATUT_FAMILIAL&#x27;, &#x27;PROPRIETAIRE_BIEN_IMMO&#x27;,\n",
       "       &#x27;TYPE_REVENUS&#x27;, &#x27;GENRE&#x27;, &#x27;NIVEAU_EDUCATION&#x27;, &#x27;PROPRIETAIRE_VOITURE&#x27;],\n",
       "      dtype=&#x27;object&#x27;))])</pre></div></div></div><div class=\"sk-parallel\"><div class=\"sk-parallel-item\"><div class=\"sk-item\"><div class=\"sk-label-container\"><div class=\"sk-label sk-toggleable\"><input class=\"sk-toggleable__control sk-hidden--visually\" id=\"sk-estimator-id-15\" type=\"checkbox\" ><label for=\"sk-estimator-id-15\" class=\"sk-toggleable__label sk-toggleable__label-arrow\">num</label><div class=\"sk-toggleable__content\"><pre>Index([&#x27;AGE&#x27;, &#x27;JOURS_EMPLOI&#x27;, &#x27;TOTAL_CREDIT&#x27;, &#x27;REMB_MENSUEL&#x27;,\n",
       "       &#x27;CNT_FAM_MEMBERS&#x27;, &#x27;MONTANT_PRIX_BIENS&#x27;, &#x27;REVENU_TOTAL&#x27;,\n",
       "       &#x27;SOURCE_EXTERNE_2&#x27;, &#x27;SOURCE_EXTERNE_3&#x27;],\n",
       "      dtype=&#x27;object&#x27;)</pre></div></div></div><div class=\"sk-serial\"><div class=\"sk-item\"><div class=\"sk-serial\"><div class=\"sk-item\"><div class=\"sk-estimator sk-toggleable\"><input class=\"sk-toggleable__control sk-hidden--visually\" id=\"sk-estimator-id-16\" type=\"checkbox\" ><label for=\"sk-estimator-id-16\" class=\"sk-toggleable__label sk-toggleable__label-arrow\">SimpleImputer</label><div class=\"sk-toggleable__content\"><pre>SimpleImputer()</pre></div></div></div><div class=\"sk-item\"><div class=\"sk-estimator sk-toggleable\"><input class=\"sk-toggleable__control sk-hidden--visually\" id=\"sk-estimator-id-17\" type=\"checkbox\" ><label for=\"sk-estimator-id-17\" class=\"sk-toggleable__label sk-toggleable__label-arrow\">StandardScaler</label><div class=\"sk-toggleable__content\"><pre>StandardScaler()</pre></div></div></div></div></div></div></div></div><div class=\"sk-parallel-item\"><div class=\"sk-item\"><div class=\"sk-label-container\"><div class=\"sk-label sk-toggleable\"><input class=\"sk-toggleable__control sk-hidden--visually\" id=\"sk-estimator-id-18\" type=\"checkbox\" ><label for=\"sk-estimator-id-18\" class=\"sk-toggleable__label sk-toggleable__label-arrow\">cat</label><div class=\"sk-toggleable__content\"><pre>Index([&#x27;TYPE_CONTRAT&#x27;, &#x27;STATUT_FAMILIAL&#x27;, &#x27;PROPRIETAIRE_BIEN_IMMO&#x27;,\n",
       "       &#x27;TYPE_REVENUS&#x27;, &#x27;GENRE&#x27;, &#x27;NIVEAU_EDUCATION&#x27;, &#x27;PROPRIETAIRE_VOITURE&#x27;],\n",
       "      dtype=&#x27;object&#x27;)</pre></div></div></div><div class=\"sk-serial\"><div class=\"sk-item\"><div class=\"sk-serial\"><div class=\"sk-item\"><div class=\"sk-estimator sk-toggleable\"><input class=\"sk-toggleable__control sk-hidden--visually\" id=\"sk-estimator-id-19\" type=\"checkbox\" ><label for=\"sk-estimator-id-19\" class=\"sk-toggleable__label sk-toggleable__label-arrow\">SimpleImputer</label><div class=\"sk-toggleable__content\"><pre>SimpleImputer(strategy=&#x27;most_frequent&#x27;)</pre></div></div></div><div class=\"sk-item\"><div class=\"sk-estimator sk-toggleable\"><input class=\"sk-toggleable__control sk-hidden--visually\" id=\"sk-estimator-id-20\" type=\"checkbox\" ><label for=\"sk-estimator-id-20\" class=\"sk-toggleable__label sk-toggleable__label-arrow\">OneHotEncoder</label><div class=\"sk-toggleable__content\"><pre>OneHotEncoder(handle_unknown=&#x27;ignore&#x27;)</pre></div></div></div></div></div></div></div></div></div></div><div class=\"sk-item\"><div class=\"sk-estimator sk-toggleable\"><input class=\"sk-toggleable__control sk-hidden--visually\" id=\"sk-estimator-id-21\" type=\"checkbox\" ><label for=\"sk-estimator-id-21\" class=\"sk-toggleable__label sk-toggleable__label-arrow\">RandomUnderSampler</label><div class=\"sk-toggleable__content\"><pre>RandomUnderSampler()</pre></div></div></div><div class=\"sk-item\"><div class=\"sk-estimator sk-toggleable\"><input class=\"sk-toggleable__control sk-hidden--visually\" id=\"sk-estimator-id-22\" type=\"checkbox\" ><label for=\"sk-estimator-id-22\" class=\"sk-toggleable__label sk-toggleable__label-arrow\">RandomForestClassifier</label><div class=\"sk-toggleable__content\"><pre>RandomForestClassifier()</pre></div></div></div></div></div></div></div></div></div></div></div></div>"
      ],
      "text/plain": [
       "GridSearchCV(cv=5,\n",
       "             estimator=Pipeline(steps=[('preprocessor',\n",
       "                                        ColumnTransformer(transformers=[('num',\n",
       "                                                                         Pipeline(steps=[('simpleimputer',\n",
       "                                                                                          SimpleImputer()),\n",
       "                                                                                         ('standardscaler',\n",
       "                                                                                          StandardScaler())]),\n",
       "                                                                         Index(['AGE', 'JOURS_EMPLOI', 'TOTAL_CREDIT', 'REMB_MENSUEL',\n",
       "       'CNT_FAM_MEMBERS', 'MONTANT_PRIX_BIENS', 'REVENU_TOTAL',\n",
       "       'SOURCE_EXTERNE_2', 'SOURCE_EXTERNE_3'],\n",
       "      dtype='objec...\n",
       "                                                                         Index(['TYPE_CONTRAT', 'STATUT_FAMILIAL', 'PROPRIETAIRE_BIEN_IMMO',\n",
       "       'TYPE_REVENUS', 'GENRE', 'NIVEAU_EDUCATION', 'PROPRIETAIRE_VOITURE'],\n",
       "      dtype='object'))])),\n",
       "                                       ('sampler', RandomUnderSampler()),\n",
       "                                       ('estimator',\n",
       "                                        RandomForestClassifier())]),\n",
       "             n_jobs=-1,\n",
       "             param_grid={'estimator': [LogisticRegression(), DummyClassifier(),\n",
       "                                       RandomForestClassifier()]},\n",
       "             return_train_score=True, scoring='f1', verbose=2)"
      ]
     },
     "execution_count": 42,
     "metadata": {},
     "output_type": "execute_result"
    }
   ],
   "source": [
    "# Utilisez GridSearchCV pour ajuster votre modèle\n",
    "grid_1 = GridSearchCV(pipeline, param_grid, cv=5, n_jobs=-1, return_train_score=True, verbose=2, scoring='f1')\n",
    "grid_1.fit(X_train, y_train)"
   ]
  },
  {
   "cell_type": "code",
   "execution_count": 43,
   "id": "6392b1b0-f32d-4996-9a52-659f9563782c",
   "metadata": {},
   "outputs": [
    {
     "data": {
      "text/plain": [
       "['TYPE_CONTRAT',\n",
       " 'AGE',\n",
       " 'DATE_NAISSANCE',\n",
       " 'ID_CLIENT',\n",
       " 'CIBLE',\n",
       " 'STATUT_FAMILIAL',\n",
       " 'JOURS_EMPLOI',\n",
       " 'TOTAL_CREDIT',\n",
       " 'REMB_MENSUEL',\n",
       " 'PROPRIETAIRE_BIEN_IMMO',\n",
       " 'CNT_FAM_MEMBERS',\n",
       " 'TYPE_REVENUS',\n",
       " 'GENRE',\n",
       " 'MONTANT_PRIX_BIENS',\n",
       " 'NIVEAU_EDUCATION',\n",
       " 'REVENU_TOTAL',\n",
       " 'SOURCE_EXTERNE_2',\n",
       " 'SOURCE_EXTERNE_3',\n",
       " 'PROPRIETAIRE_VOITURE']"
      ]
     },
     "execution_count": 43,
     "metadata": {},
     "output_type": "execute_result"
    }
   ],
   "source": [
    "df.columns.tolist()"
   ]
  },
  {
   "cell_type": "markdown",
   "id": "0ee79497-9655-4809-8e33-9d7fccb3d885",
   "metadata": {},
   "source": [
    "<div style=\"background-color:#d699f2; padding: 10px\">\n",
    "    <h2>\n",
    "        <b>First Approch</b>\n",
    "    </h2>\n",
    "</div>\n"
   ]
  },
  {
   "cell_type": "code",
   "execution_count": 44,
   "id": "d82aa298-49d0-4711-b99d-897a46821ca2",
   "metadata": {},
   "outputs": [],
   "source": [
    "#y_pred = notre prediction finale 'oui ou non'\n",
    "#y_true = CIBLE"
   ]
  },
  {
   "cell_type": "code",
   "execution_count": 45,
   "id": "df3d1193-254d-4c2d-b333-d4868ca1086c",
   "metadata": {},
   "outputs": [],
   "source": [
    "#def calcul_benef(total_credit, y_true, y_pred, taux_interet=0.04):\n",
    "#    'on accorde un crédit, ou on refuse'\n",
    "#    if y_pred : #cas où on refuse le crédit\n",
    "#        return 0\n",
    "#    else :\n",
    "#        if y_true  :#On accorde le crédit donc on fait un bénéfice\n",
    "#            total_credit * taux_interet \n",
    "#            return total_credit * taux_interet\n",
    "#        if  y_true ==1 : \n",
    "#             return -total_credit *0.25 #On met un - car on a perdu le crédit accordé non remboursé\n",
    "    \n",
    "    \n",
    "    \n",
    "def calcul_benef(montant, y_true, y_pred, taux=0.04, default_rate=1):\n",
    "\n",
    "    if y_pred :\n",
    "        return 0\n",
    "    \n",
    "    if y_true : \n",
    "        return -default_rate * montant\n",
    "\n",
    "    return montant * taux"
   ]
  },
  {
   "cell_type": "code",
   "execution_count": 46,
   "id": "df334355-a6cc-4ca5-88ba-890e9826d418",
   "metadata": {},
   "outputs": [
    {
     "data": {
      "text/plain": [
       "40.0"
      ]
     },
     "execution_count": 46,
     "metadata": {},
     "output_type": "execute_result"
    }
   ],
   "source": [
    "calcul_benef(1000, 0, 0)"
   ]
  },
  {
   "cell_type": "code",
   "execution_count": 47,
   "id": "3b6a01a7-ffc9-4b2c-9266-7ef15dcc19eb",
   "metadata": {},
   "outputs": [
    {
     "data": {
      "text/plain": [
       "-1000"
      ]
     },
     "execution_count": 47,
     "metadata": {},
     "output_type": "execute_result"
    }
   ],
   "source": [
    "calcul_benef(1000, 1, 0)"
   ]
  },
  {
   "cell_type": "code",
   "execution_count": 48,
   "id": "c4fca672-4e04-42ac-84ab-5aac08d1056f",
   "metadata": {},
   "outputs": [
    {
     "data": {
      "text/plain": [
       "0"
      ]
     },
     "execution_count": 48,
     "metadata": {},
     "output_type": "execute_result"
    }
   ],
   "source": [
    "calcul_benef(1000, 1, 1)"
   ]
  },
  {
   "cell_type": "code",
   "execution_count": 49,
   "id": "173b8e41-a3cb-478a-8da9-a7d66207a61f",
   "metadata": {},
   "outputs": [],
   "source": [
    "def calcul_benef_bis(row, taux_interet=0.04):\n",
    "    if row['CIBLE'] == 1:  # cas où on refuse le crédit\n",
    "        return pd.Series({'benef': 0, 'pertes': -row['TOTAL_CREDIT'] * 0.25})  # Pertes avec un signe négatif\n",
    "    else:\n",
    "        if row['CIBLE'] == 0:  # On accorde le crédit donc on fait un bénéfice\n",
    "            benef = row['TOTAL_CREDIT'] * taux_interet\n",
    "            return pd.Series({'benef': benef, 'pertes': 0})\n",
    "        else:\n",
    "            pertes = -row['TOTAL_CREDIT'] * 0.25  # On met un - car on a perdu le crédit accordé non remboursé\n",
    "            return pd.Series({'benef': 0, 'pertes': pertes})\n"
   ]
  },
  {
   "cell_type": "code",
   "execution_count": 50,
   "id": "4c0e6f60-d48c-4aa7-b264-f372c465279b",
   "metadata": {},
   "outputs": [],
   "source": [
    "df[['benef', 'pertes']] = df.apply(calcul_benef_bis, axis=1)"
   ]
  },
  {
   "cell_type": "code",
   "execution_count": 51,
   "id": "99c2ce7a-b545-4b18-afca-9e892e0ad315",
   "metadata": {},
   "outputs": [
    {
     "data": {
      "text/html": [
       "<div>\n",
       "<style scoped>\n",
       "    .dataframe tbody tr th:only-of-type {\n",
       "        vertical-align: middle;\n",
       "    }\n",
       "\n",
       "    .dataframe tbody tr th {\n",
       "        vertical-align: top;\n",
       "    }\n",
       "\n",
       "    .dataframe thead th {\n",
       "        text-align: right;\n",
       "    }\n",
       "</style>\n",
       "<table border=\"1\" class=\"dataframe\">\n",
       "  <thead>\n",
       "    <tr style=\"text-align: right;\">\n",
       "      <th></th>\n",
       "      <th>TOTAL_CREDIT</th>\n",
       "      <th>CIBLE</th>\n",
       "      <th>benef</th>\n",
       "      <th>pertes</th>\n",
       "    </tr>\n",
       "  </thead>\n",
       "  <tbody>\n",
       "    <tr>\n",
       "      <th>4429</th>\n",
       "      <td>225000.0</td>\n",
       "      <td>0</td>\n",
       "      <td>9000.00</td>\n",
       "      <td>0.0</td>\n",
       "    </tr>\n",
       "    <tr>\n",
       "      <th>15262</th>\n",
       "      <td>284400.0</td>\n",
       "      <td>1</td>\n",
       "      <td>0.00</td>\n",
       "      <td>-71100.0</td>\n",
       "    </tr>\n",
       "    <tr>\n",
       "      <th>13371</th>\n",
       "      <td>225000.0</td>\n",
       "      <td>0</td>\n",
       "      <td>9000.00</td>\n",
       "      <td>0.0</td>\n",
       "    </tr>\n",
       "    <tr>\n",
       "      <th>19747</th>\n",
       "      <td>760122.0</td>\n",
       "      <td>1</td>\n",
       "      <td>0.00</td>\n",
       "      <td>-190030.5</td>\n",
       "    </tr>\n",
       "    <tr>\n",
       "      <th>7011</th>\n",
       "      <td>381528.0</td>\n",
       "      <td>0</td>\n",
       "      <td>15261.12</td>\n",
       "      <td>0.0</td>\n",
       "    </tr>\n",
       "    <tr>\n",
       "      <th>...</th>\n",
       "      <td>...</td>\n",
       "      <td>...</td>\n",
       "      <td>...</td>\n",
       "      <td>...</td>\n",
       "    </tr>\n",
       "    <tr>\n",
       "      <th>5187</th>\n",
       "      <td>555273.0</td>\n",
       "      <td>0</td>\n",
       "      <td>22210.92</td>\n",
       "      <td>0.0</td>\n",
       "    </tr>\n",
       "    <tr>\n",
       "      <th>11115</th>\n",
       "      <td>227520.0</td>\n",
       "      <td>0</td>\n",
       "      <td>9100.80</td>\n",
       "      <td>0.0</td>\n",
       "    </tr>\n",
       "    <tr>\n",
       "      <th>14790</th>\n",
       "      <td>729792.0</td>\n",
       "      <td>0</td>\n",
       "      <td>29191.68</td>\n",
       "      <td>0.0</td>\n",
       "    </tr>\n",
       "    <tr>\n",
       "      <th>16813</th>\n",
       "      <td>381528.0</td>\n",
       "      <td>0</td>\n",
       "      <td>15261.12</td>\n",
       "      <td>0.0</td>\n",
       "    </tr>\n",
       "    <tr>\n",
       "      <th>23331</th>\n",
       "      <td>334152.0</td>\n",
       "      <td>0</td>\n",
       "      <td>13366.08</td>\n",
       "      <td>0.0</td>\n",
       "    </tr>\n",
       "  </tbody>\n",
       "</table>\n",
       "<p>3075 rows × 4 columns</p>\n",
       "</div>"
      ],
      "text/plain": [
       "       TOTAL_CREDIT  CIBLE     benef    pertes\n",
       "4429       225000.0      0   9000.00       0.0\n",
       "15262      284400.0      1      0.00  -71100.0\n",
       "13371      225000.0      0   9000.00       0.0\n",
       "19747      760122.0      1      0.00 -190030.5\n",
       "7011       381528.0      0  15261.12       0.0\n",
       "...             ...    ...       ...       ...\n",
       "5187       555273.0      0  22210.92       0.0\n",
       "11115      227520.0      0   9100.80       0.0\n",
       "14790      729792.0      0  29191.68       0.0\n",
       "16813      381528.0      0  15261.12       0.0\n",
       "23331      334152.0      0  13366.08       0.0\n",
       "\n",
       "[3075 rows x 4 columns]"
      ]
     },
     "execution_count": 51,
     "metadata": {},
     "output_type": "execute_result"
    }
   ],
   "source": [
    "df[['TOTAL_CREDIT', 'CIBLE', 'benef', 'pertes']]"
   ]
  },
  {
   "cell_type": "code",
   "execution_count": 52,
   "id": "cf73a126-1236-4f27-b1e1-54375ec26e24",
   "metadata": {},
   "outputs": [
    {
     "data": {
      "text/plain": [
       "array([0, 1, 0, 0, 0, 1, 0, 0, 1, 0, 1, 1, 1, 0, 1, 0, 1, 0, 0, 0, 0, 0,\n",
       "       1, 0, 0, 1, 0, 0, 0, 0, 0, 0, 1, 0, 0, 0, 0, 1, 0, 0, 1, 0, 0, 1,\n",
       "       1, 0, 0, 1, 1, 0, 1, 0, 0, 0, 0, 0, 0, 0, 0, 1, 1, 1, 0, 0, 0, 0,\n",
       "       0, 1, 0, 0, 0, 1, 0, 0, 1, 1, 0, 0, 0, 1, 0, 0, 1, 0, 0, 1, 1, 0,\n",
       "       0, 0, 0, 1, 1, 0, 0, 1, 0, 0, 1, 0, 0, 0, 0, 0, 0, 0, 0, 0, 1, 1,\n",
       "       1, 1, 1, 1, 0, 1, 0, 0, 0, 0, 0, 1, 0, 0, 0, 1, 1, 1, 0, 1, 1, 0,\n",
       "       1, 0, 0, 0, 0, 0, 0, 0, 0, 0, 1, 1, 1, 0, 0, 1, 0, 0, 0, 0, 1, 0,\n",
       "       0, 0, 1, 1, 0, 0, 0, 0, 0, 0, 0, 0, 0, 1, 1, 0, 1, 0, 0, 1, 1, 1,\n",
       "       0, 0, 1, 1, 1, 0, 1, 0, 1, 0, 0, 1, 0, 0, 1, 0, 1, 1, 1, 0, 0, 0,\n",
       "       1, 0, 0, 1, 1, 0, 0, 0, 0, 0, 0, 0, 0, 0, 0, 1, 0, 1, 0, 1, 1, 0,\n",
       "       0, 0, 0, 0, 0, 1, 0, 0, 0, 0, 1, 1, 0, 0, 0, 0, 1, 0, 1, 1, 1, 0,\n",
       "       0, 0, 1, 1, 1, 1, 0, 1, 1, 1, 0, 0, 0, 0, 1, 0, 0, 0, 1, 0, 1, 0,\n",
       "       0, 0, 1, 1, 0, 0, 0, 1, 1, 1, 1, 0, 1, 0, 1, 1, 1, 1, 1, 0, 0, 0,\n",
       "       0, 1, 1, 0, 0, 0, 0, 1, 1, 0, 0, 0, 0, 1, 1, 0, 0, 0, 1, 0, 0, 0,\n",
       "       1, 0, 0, 1, 0, 0, 0, 0, 0, 1, 0, 1, 1, 1, 0, 0, 1, 1, 0, 1, 1, 1,\n",
       "       0, 1, 0, 1, 0, 1, 1, 0, 0, 0, 1, 0, 0, 1, 0, 0, 0, 1, 1, 0, 0, 0,\n",
       "       0, 1, 1, 1, 1, 0, 0, 0, 0, 1, 0, 0, 0, 0, 1, 0, 0, 0, 0, 0, 0, 0,\n",
       "       1, 1, 0, 0, 1, 1, 1, 0, 1, 0, 1, 0, 0, 0, 0, 0, 0, 0, 1, 1, 0, 0,\n",
       "       1, 0, 0, 1, 1, 0, 1, 1, 0, 0, 1, 1, 0, 1, 0, 0, 0, 0, 1, 1, 1, 0,\n",
       "       0, 0, 0, 0, 1, 0, 0, 1, 1, 1, 1, 0, 1, 0, 0, 0, 0, 0, 0, 1, 0, 1,\n",
       "       0, 0, 0, 1, 0, 0, 0, 0, 1, 1, 0, 1, 0, 0, 0, 0, 0, 0, 0, 1, 0, 0,\n",
       "       0, 1, 0, 1, 1, 0, 0, 1, 0, 0, 0, 1, 0, 0, 0, 0, 1, 0, 1, 0, 1, 0,\n",
       "       0, 1, 1, 0, 0, 1, 1, 1, 0, 0, 0, 1, 1, 0, 1, 0, 0, 1, 0, 0, 0, 1,\n",
       "       1, 1, 1, 0, 0, 0, 1, 1, 1, 1, 0, 1, 1, 0, 1, 1, 0, 0, 0, 0, 1, 0,\n",
       "       0, 0, 0, 1, 0, 0, 0, 0, 1, 0, 0, 0, 0, 0, 0, 0, 0, 0, 1, 0, 0, 0,\n",
       "       0, 0, 0, 0, 1, 0, 0, 0, 0, 1, 0, 1, 0, 1, 1, 0, 0, 1, 0, 0, 0, 1,\n",
       "       0, 1, 0, 0, 0, 0, 1, 1, 1, 0, 1, 1, 0, 0, 1, 0, 0, 1, 0, 0, 0, 0,\n",
       "       0, 0, 1, 0, 1, 0, 0, 0, 0, 1, 1, 1, 0, 0, 0, 1, 0, 0, 0, 0, 0],\n",
       "      dtype=int64)"
      ]
     },
     "execution_count": 52,
     "metadata": {},
     "output_type": "execute_result"
    }
   ],
   "source": [
    "y_pred_list = grid_1.predict(X_test)\n",
    "y_pred_list "
   ]
  },
  {
   "cell_type": "code",
   "execution_count": 53,
   "id": "16b7b5a9-376d-4e45-952e-53d6c1d2d848",
   "metadata": {},
   "outputs": [
    {
     "data": {
      "text/plain": [
       "array([0, 0, 0, 0, 0, 0, 0, 0, 0, 0, 0, 0, 0, 0, 0, 0, 0, 0, 0, 1, 0, 0,\n",
       "       0, 0, 0, 0, 0, 0, 0, 0, 0, 0, 0, 1, 0, 0, 0, 1, 0, 0, 0, 0, 0, 0,\n",
       "       0, 0, 0, 1, 0, 0, 0, 0, 0, 0, 0, 0, 0, 0, 0, 1, 0, 0, 0, 0, 0, 0,\n",
       "       0, 0, 0, 0, 0, 0, 1, 0, 0, 0, 0, 0, 0, 1, 0, 0, 0, 0, 0, 0, 0, 1,\n",
       "       0, 0, 0, 0, 0, 0, 0, 0, 0, 0, 0, 0, 0, 0, 0, 0, 0, 0, 0, 0, 1, 0,\n",
       "       0, 0, 0, 1, 0, 0, 0, 0, 0, 0, 0, 0, 0, 0, 0, 0, 0, 0, 0, 0, 0, 0,\n",
       "       0, 1, 0, 0, 0, 0, 0, 0, 0, 0, 0, 0, 0, 0, 0, 0, 0, 0, 0, 0, 0, 0,\n",
       "       0, 0, 0, 1, 0, 0, 0, 0, 0, 0, 0, 0, 0, 0, 0, 0, 0, 0, 0, 1, 0, 0,\n",
       "       0, 0, 1, 1, 0, 0, 0, 0, 0, 0, 0, 0, 0, 0, 0, 0, 0, 0, 0, 0, 0, 0,\n",
       "       0, 0, 0, 0, 0, 0, 1, 0, 0, 0, 0, 0, 0, 0, 0, 0, 1, 0, 0, 1, 0, 0,\n",
       "       0, 0, 0, 0, 0, 0, 0, 0, 0, 0, 0, 0, 0, 0, 0, 0, 0, 0, 1, 0, 0, 0,\n",
       "       0, 1, 0, 0, 1, 0, 0, 0, 1, 1, 0, 0, 0, 0, 0, 0, 0, 0, 0, 0, 1, 0,\n",
       "       0, 0, 1, 0, 0, 0, 0, 0, 0, 0, 0, 0, 1, 0, 0, 0, 0, 0, 1, 0, 0, 0,\n",
       "       0, 0, 0, 1, 0, 0, 0, 0, 0, 0, 0, 0, 1, 0, 0, 0, 0, 0, 1, 0, 0, 0,\n",
       "       1, 0, 0, 1, 0, 0, 0, 0, 0, 0, 0, 0, 0, 0, 0, 0, 0, 0, 0, 0, 0, 0,\n",
       "       0, 0, 0, 0, 0, 1, 0, 0, 1, 0, 0, 0, 0, 0, 0, 0, 0, 0, 0, 0, 0, 0,\n",
       "       0, 0, 0, 1, 0, 0, 0, 0, 0, 0, 0, 0, 0, 0, 0, 0, 0, 1, 0, 0, 0, 0,\n",
       "       0, 0, 0, 0, 0, 0, 0, 0, 0, 0, 0, 0, 0, 0, 0, 0, 0, 0, 0, 0, 0, 0,\n",
       "       0, 0, 0, 0, 0, 0, 0, 0, 0, 0, 0, 0, 0, 0, 0, 0, 0, 0, 0, 0, 0, 0,\n",
       "       0, 0, 0, 0, 0, 0, 0, 0, 0, 1, 0, 0, 0, 0, 0, 0, 0, 0, 0, 0, 0, 0,\n",
       "       0, 0, 0, 0, 0, 0, 0, 0, 0, 0, 0, 0, 0, 0, 0, 0, 0, 0, 0, 1, 0, 1,\n",
       "       0, 0, 0, 0, 0, 0, 0, 0, 0, 0, 0, 0, 0, 0, 0, 0, 0, 0, 0, 0, 0, 0,\n",
       "       0, 1, 0, 0, 0, 0, 0, 0, 0, 0, 0, 0, 0, 0, 0, 0, 0, 0, 0, 0, 0, 0,\n",
       "       0, 0, 0, 0, 0, 0, 0, 1, 0, 0, 0, 0, 1, 0, 0, 0, 0, 0, 0, 0, 0, 0,\n",
       "       0, 0, 0, 0, 0, 0, 0, 0, 0, 0, 0, 0, 0, 0, 0, 0, 0, 1, 0, 0, 0, 0,\n",
       "       0, 0, 0, 0, 0, 0, 0, 0, 0, 0, 0, 0, 0, 0, 0, 0, 0, 0, 0, 0, 0, 0,\n",
       "       0, 0, 0, 0, 1, 0, 0, 0, 0, 0, 0, 0, 0, 0, 0, 0, 0, 0, 0, 0, 0, 0,\n",
       "       0, 0, 0, 1, 0, 0, 0, 0, 0, 0, 0, 0, 0, 0, 0, 0, 0, 0, 0, 0, 0],\n",
       "      dtype=int64)"
      ]
     },
     "execution_count": 53,
     "metadata": {},
     "output_type": "execute_result"
    }
   ],
   "source": [
    "y_true_list = y_test.values\n",
    "y_true_list"
   ]
  },
  {
   "cell_type": "code",
   "execution_count": 54,
   "id": "bdd0786f-a275-4ada-99cd-d10fc92c0f89",
   "metadata": {},
   "outputs": [
    {
     "data": {
      "text/plain": [
       "array([ 729922.5,  755190. ,  763870.5, 1012653. ,  277969.5,  903289.5,\n",
       "       1224000. ,  450000. ,  150948. , 1260000. ,  450000. ,  291915. ,\n",
       "        225000. ,   91692. ,  314100. ,  180000. ,  253737. ,  956574. ,\n",
       "        450000. ,  536917.5,  427500. ,  258709.5,  545040. , 1350000. ,\n",
       "        521280. ,  180000. ,  900000. , 1305000. ,  874152. ,  356580. ,\n",
       "       2250000. ,  286704. ,  270000. ,  450000. , 1280884.5,  225000. ,\n",
       "        755190. ,  225000. ,  598486.5,  971280. , 1546020. ,  593010. ,\n",
       "        328405.5,  145557. ,  254700. ,  315000. ,  381528. ,  536917.5,\n",
       "        675000. ,  139230. ,  765000. , 1040985. ,  229230. ,  161730. ,\n",
       "         49752. ,  263686.5,  675000. ,  808650. , 1035832.5,  512338.5,\n",
       "        535306.5,  486000. ,  675000. , 1418692.5,  808650. ,  260640. ,\n",
       "        263686.5,  312768. ,  545040. , 2250000. ,  298512. ,  481495.5,\n",
       "        239850. ,  555273. ,  398160. ,  301464. ,  450000. ,  621900. ,\n",
       "        677664. ,  495000. ,  675000. ,   76410. ,  664884. , 1800000. ,\n",
       "        331632. ,  675000. ,  418500. ,  315000. ,  943425. ,  119925. ,\n",
       "        970380. ,  296280. ,  814041. ,  741276. ,  298728. ,  225000. ,\n",
       "        148500. , 1293502.5,  270000. ,  701730. ,  838453.5,  630000. ,\n",
       "        360000. ,  239850. ,  254700. ,  229500. ,  497520. ,  343800. ,\n",
       "        528633. , 1082214. ,  147726. ,  900000. ,  377649. , 1321020. ,\n",
       "       1546020. ,  640080. ,  450000. ,  500211. ,  225000. , 1027327.5,\n",
       "        315000. ,  521280. , 1687266. ,  254700. , 1125000. , 1350000. ,\n",
       "        417024. ,  900000. , 1223010. ,  382500. , 1056447. ,  685386. ,\n",
       "        360000. , 1971072. ,  961146. ,  922666.5,  495000. ,  785259. ,\n",
       "        497520. ,  107820. ,  225000. ,  238500. ,  381528. ,  263686.5,\n",
       "        180000. ,  360000. ,  755190. ,  450000. ,  691020. ,  170640. ,\n",
       "        894766.5,  143910. ,  194922. ,  607500. ,  549882. ,  900000. ,\n",
       "        508495.5,  544491. ,  270000. ,  286704. ,  327024. ,  202500. ,\n",
       "        511920. ,  485640. ,  204768. ,  761872.5,  675000. , 1113840. ,\n",
       "        427500. , 1080000. ,  227520. ,  517500. ,  215865. ,  755190. ,\n",
       "        900000. , 1546020. ,  328405.5,  900000. ,  167895. ,  612612. ,\n",
       "       1288350. ,  270000. ,  180000. ,  454500. ,  545040. ,  706473. ,\n",
       "        450000. ,  312768. ,  634887. ,  312768. ,  229230. , 1086426. ,\n",
       "        513531. ,  296280. ,  873342. ,  794173.5,  495000. ,  405000. ,\n",
       "        651816. ,  288873. , 1066752. ,  274500. ,  562500. ,  135000. ,\n",
       "        752553. ,  270000. ,  590485.5,  675000. ,  696150. ,  562500. ,\n",
       "        624514.5,  157500. ,  137520. ,  101880. ,  728460. ,  161730. ,\n",
       "        225000. ,  436032. ,  553806. ,  916470. , 1288350. ,  135000. ,\n",
       "        436500. ,  797557.5, 1350000. , 2013840. ,  943425. ,  405000. ,\n",
       "        728460. ,  247275. ,  728712. ,  474048. ,  733315.5,  270000. ,\n",
       "        450000. , 1312110. ,  439740. ,  450000. ,  314055. ,  225000. ,\n",
       "       1724220. ,  675000. ,  211500. ,  728460. ,  497520. ,  284400. ,\n",
       "        900000. ,  675000. , 1215000. ,  511920. ,  440784. , 1113840. ,\n",
       "       1125000. , 1288350. ,  291915. , 1666746. ,  808650. ,  337500. ,\n",
       "        585000. ,  263686.5,  307818. , 1724220. ,  360000. ,  316125. ,\n",
       "        270000. ,  337500. ,  961146. ,  135000. ,  589045.5,  746280. ,\n",
       "        781920. ,  545040. ,  755856. ,  247275. ,  879480. ,  314100. ,\n",
       "        314100. ,  675000. ,  536917.5,  444010.5, 1066320. ,  420912. ,\n",
       "       1125000. ,  592560. ,  723604.5, 1125000. ,  180000. ,  229500. ,\n",
       "        797557.5, 1125000. ,  656811. ,  288873. ,  472500. ,  225000. ,\n",
       "        318528. , 1288350. ,  900000. ,  360000. ,  254700. ,  808650. ,\n",
       "        359725.5,  751500. ,  341280. ,  970380. , 1308964.5,  808650. ,\n",
       "       1288350. ,  263844. ,  220032. ,  119448. ,  167895. ,  412942.5,\n",
       "        486459. , 1125000. ,  206271. , 1320849. ,  862560. ,  485640. ,\n",
       "        971280. ,  601470. ,  314055. ,  450000. ,  931401. ,  675000. ,\n",
       "        255960. ,  225000. ,  367389. , 1256400. ,  382500. ,  521280. ,\n",
       "        254700. , 1125000. ,  835380. ,  254700. ,  835380. ,  225000. ,\n",
       "        646920. , 1443150. ,  636138. ,  204768. ,  156384. ,  225000. ,\n",
       "        180000. , 1288350. ,  225000. ,  835605. ,  315000. ,  251280. ,\n",
       "        450000. ,  225000. ,  414000. ,  364500. ,  380533.5,  270000. ,\n",
       "        765000. , 1288350. ,  703584. ,  814041. ,  772686. ,  679500. ,\n",
       "        244584. ,  855000. ,  568057.5,  225000. , 1258650. , 1530517.5,\n",
       "        900000. ,  206280. , 1078200. ,  450000. ,  405000. ,  254700. ,\n",
       "        312840. , 1431000. ,  728460. ,  942300. ,  452385. ,  547339.5,\n",
       "        508495.5,  314055. ,  568908. ,  900000. ,  284400. ,  414792. ,\n",
       "        942300. , 1215000. ,  557770.5,  415408.5,  198666. ,  450000. ,\n",
       "        180000. ,  202500. ,  229500. ,  675000. ,  679500. ,  579942. ,\n",
       "        135000. ,  254700. ,  450000. ,  610335. ,  270000. ,  270000. ,\n",
       "        164952. ,  571446. ,  450000. ,  159264. ,  765261. , 1226511. ,\n",
       "       1223010. ,  640080. ,  704844. ,  654498. ,  900000. ,  562491. ,\n",
       "        770913. ,  808650. ,  675000. , 1024740. ,  284400. ,  180000. ,\n",
       "        270000. ,  945000. ,  135000. ,  370629. ,  180000. ,  119358. ,\n",
       "       1288350. ,  973710. ,  781920. ,  225000. , 1125000. ,  544491. ,\n",
       "        247275. ,  835380. ,  675000. ,  654498. ,  187083. ,  539100. ,\n",
       "       1800000. , 1113133.5,  485190. ,  376078.5,  848745. ,  473760. ,\n",
       "        450000. ,  225000. ,  269550. , 1275921. , 1256400. ,  817560. ,\n",
       "        678996. ,  199080. ,  544491. ,  152820. ,   89019. ,  808650. ,\n",
       "        450000. ,  248760. , 1024740. ,  521280. , 1546020. ,  263686.5,\n",
       "        254700. ,  417024. ,  254700. ,  292500. ,  562491. ,  450000. ,\n",
       "        382500. ,  270000. ,  143910. , 1350000. ,  315000. ,  675000. ,\n",
       "        180000. , 1044000. , 1350000. ,  924394.5,  239850. ,  738171. ,\n",
       "        640080. ,  272520. ,  545040. ,  675000. ,  142632. ,  233208. ,\n",
       "        675000. ,  834048. ,  225000. , 1133748. ,  573628.5,  343800. ,\n",
       "        450000. ,  582768. , 1223010. ,  339948. ,  450000. ,  463500. ,\n",
       "       1374480. ,  270000. ,  646920. ,  225000. ,  284400. , 1812456. ,\n",
       "        747886.5,  592560. ,  497520. ,  450000. ,  225000. ,  450000. ,\n",
       "        180000. ,  298512. ,  431280. , 1185282. ,  609183. ,  765000. ,\n",
       "        474048. ,  334152. ,  450000. , 1230795. ,  781920. ,  734994. ,\n",
       "        327024. ,  900000. ,  180000. , 1125000. ,  477000. ,  900000. ,\n",
       "        755190. ,  225000. ,  961609.5, 1256400. , 1125000. ,  135000. ,\n",
       "        463941. ,  178290. ,  921330. , 1006920. ,  592560. ,  301095. ,\n",
       "        698517. ,  219042. ,  225000. ,  539100. ,  774117. ,  172021.5,\n",
       "        225000. , 1325475. ,  971280. ,  900000. ,  529398. ,  276277.5,\n",
       "        712944. , 1312110. , 1078200. , 1728000. ,  485190. ,  360000. ,\n",
       "        156384. ,  675000. , 1575000. ,  781920. ,  314100. ,  177903. ,\n",
       "        675000. ,  180000. ,  508495.5,   81000. ,  118602. ,  675000. ,\n",
       "        239850. , 1288350. ,  454500. ,  540000. , 1123443. ,  846517.5,\n",
       "        180000. ,  355536. , 1006920. ,  271066.5,  152820. , 1288350. ,\n",
       "        270000. ,  760225.5,  808650. ,  781920. ,  439074. ,  270000. ,\n",
       "        269550. ,  555273. ,  180000. ,  963256.5,  790825.5, 1125000. ,\n",
       "        697500. ,  180000. ,  180000. ,  550980. , 1206000. ,  270000. ,\n",
       "        450000. ,  585000. ,  225000. ,  450000. ,  622188. ,  135000. ,\n",
       "       2250000. ,  180000. ,  239850. ,  348264. ,  254700. , 1237684.5,\n",
       "        495000. ,  172021.5,  562491. ])"
      ]
     },
     "execution_count": 54,
     "metadata": {},
     "output_type": "execute_result"
    }
   ],
   "source": [
    "montant_list = X_test.loc[:, 'TOTAL_CREDIT'].values\n",
    "montant_list"
   ]
  },
  {
   "cell_type": "code",
   "execution_count": 55,
   "id": "74712368-9212-4e73-9b02-5731fce28337",
   "metadata": {},
   "outputs": [],
   "source": [
    "l1 = [\"a\", \"b\"]\n",
    "l2 = [0 ,1]"
   ]
  },
  {
   "cell_type": "code",
   "execution_count": 56,
   "id": "5820b8a0-8c70-4fe8-a091-2c49c23f9eb5",
   "metadata": {},
   "outputs": [
    {
     "data": {
      "text/plain": [
       "-0.12"
      ]
     },
     "execution_count": 56,
     "metadata": {},
     "output_type": "execute_result"
    }
   ],
   "source": [
    "v = 0\n",
    "for m, y_true, y_pred in zip(montant_list, y_true_list, y_pred_list):\n",
    "    v += calcul_benef(m, y_true=y_true, y_pred=y_pred)\n",
    "round(v/1_000_000,2) "
   ]
  },
  {
   "cell_type": "code",
   "execution_count": 57,
   "id": "35aaff39-84da-4988-9f8f-ade1de5c30d4",
   "metadata": {},
   "outputs": [
    {
     "data": {
      "text/plain": [
       "370.29"
      ]
     },
     "execution_count": 57,
     "metadata": {},
     "output_type": "execute_result"
    }
   ],
   "source": [
    "sum(montant_list/1_000_000).round(2)"
   ]
  },
  {
   "cell_type": "markdown",
   "id": "51548998-8383-441d-8240-60d5f2f8a7fd",
   "metadata": {},
   "source": [
    "<div style=\"background-color:#d699f2; padding: 10px\">\n",
    "    <h2>\n",
    "        <b>Prédict Proba</b>\n",
    "    </h2>\n",
    "</div>\n"
   ]
  },
  {
   "cell_type": "code",
   "execution_count": 58,
   "id": "557fee11-7a15-4f6a-86a6-9bacf067c652",
   "metadata": {},
   "outputs": [
    {
     "data": {
      "text/html": [
       "<div>\n",
       "<style scoped>\n",
       "    .dataframe tbody tr th:only-of-type {\n",
       "        vertical-align: middle;\n",
       "    }\n",
       "\n",
       "    .dataframe tbody tr th {\n",
       "        vertical-align: top;\n",
       "    }\n",
       "\n",
       "    .dataframe thead th {\n",
       "        text-align: right;\n",
       "    }\n",
       "</style>\n",
       "<table border=\"1\" class=\"dataframe\">\n",
       "  <thead>\n",
       "    <tr style=\"text-align: right;\">\n",
       "      <th></th>\n",
       "      <th>TYPE_CONTRAT</th>\n",
       "      <th>AGE</th>\n",
       "      <th>STATUT_FAMILIAL</th>\n",
       "      <th>JOURS_EMPLOI</th>\n",
       "      <th>TOTAL_CREDIT</th>\n",
       "      <th>REMB_MENSUEL</th>\n",
       "      <th>PROPRIETAIRE_BIEN_IMMO</th>\n",
       "      <th>CNT_FAM_MEMBERS</th>\n",
       "      <th>TYPE_REVENUS</th>\n",
       "      <th>GENRE</th>\n",
       "      <th>MONTANT_PRIX_BIENS</th>\n",
       "      <th>NIVEAU_EDUCATION</th>\n",
       "      <th>REVENU_TOTAL</th>\n",
       "      <th>SOURCE_EXTERNE_2</th>\n",
       "      <th>SOURCE_EXTERNE_3</th>\n",
       "      <th>PROPRIETAIRE_VOITURE</th>\n",
       "    </tr>\n",
       "  </thead>\n",
       "  <tbody>\n",
       "    <tr>\n",
       "      <th>114</th>\n",
       "      <td>Cash loans</td>\n",
       "      <td>44</td>\n",
       "      <td>Married</td>\n",
       "      <td>-3880</td>\n",
       "      <td>729922.5</td>\n",
       "      <td>32283.0</td>\n",
       "      <td>Y</td>\n",
       "      <td>4.0</td>\n",
       "      <td>Commercial associate</td>\n",
       "      <td>F</td>\n",
       "      <td>580500.0</td>\n",
       "      <td>Higher education</td>\n",
       "      <td>675000.0</td>\n",
       "      <td>0.675062</td>\n",
       "      <td>0.656158</td>\n",
       "      <td>N</td>\n",
       "    </tr>\n",
       "    <tr>\n",
       "      <th>22912</th>\n",
       "      <td>Cash loans</td>\n",
       "      <td>60</td>\n",
       "      <td>Widow</td>\n",
       "      <td>-2936</td>\n",
       "      <td>755190.0</td>\n",
       "      <td>30078.0</td>\n",
       "      <td>N</td>\n",
       "      <td>1.0</td>\n",
       "      <td>Working</td>\n",
       "      <td>F</td>\n",
       "      <td>675000.0</td>\n",
       "      <td>Secondary / secondary special</td>\n",
       "      <td>135000.0</td>\n",
       "      <td>0.173342</td>\n",
       "      <td>0.394495</td>\n",
       "      <td>Y</td>\n",
       "    </tr>\n",
       "    <tr>\n",
       "      <th>22014</th>\n",
       "      <td>Cash loans</td>\n",
       "      <td>55</td>\n",
       "      <td>Married</td>\n",
       "      <td>-441</td>\n",
       "      <td>763870.5</td>\n",
       "      <td>41566.5</td>\n",
       "      <td>Y</td>\n",
       "      <td>2.0</td>\n",
       "      <td>Working</td>\n",
       "      <td>M</td>\n",
       "      <td>607500.0</td>\n",
       "      <td>Secondary / secondary special</td>\n",
       "      <td>189450.0</td>\n",
       "      <td>0.639960</td>\n",
       "      <td>NaN</td>\n",
       "      <td>Y</td>\n",
       "    </tr>\n",
       "    <tr>\n",
       "      <th>2896</th>\n",
       "      <td>Cash loans</td>\n",
       "      <td>52</td>\n",
       "      <td>Married</td>\n",
       "      <td>-7978</td>\n",
       "      <td>1012653.0</td>\n",
       "      <td>43033.5</td>\n",
       "      <td>Y</td>\n",
       "      <td>2.0</td>\n",
       "      <td>Working</td>\n",
       "      <td>F</td>\n",
       "      <td>931500.0</td>\n",
       "      <td>Secondary / secondary special</td>\n",
       "      <td>157500.0</td>\n",
       "      <td>0.591424</td>\n",
       "      <td>0.633032</td>\n",
       "      <td>N</td>\n",
       "    </tr>\n",
       "    <tr>\n",
       "      <th>14612</th>\n",
       "      <td>Cash loans</td>\n",
       "      <td>54</td>\n",
       "      <td>Married</td>\n",
       "      <td>-7856</td>\n",
       "      <td>277969.5</td>\n",
       "      <td>15651.0</td>\n",
       "      <td>Y</td>\n",
       "      <td>2.0</td>\n",
       "      <td>Commercial associate</td>\n",
       "      <td>F</td>\n",
       "      <td>229500.0</td>\n",
       "      <td>Higher education</td>\n",
       "      <td>112500.0</td>\n",
       "      <td>0.711832</td>\n",
       "      <td>0.667458</td>\n",
       "      <td>N</td>\n",
       "    </tr>\n",
       "    <tr>\n",
       "      <th>...</th>\n",
       "      <td>...</td>\n",
       "      <td>...</td>\n",
       "      <td>...</td>\n",
       "      <td>...</td>\n",
       "      <td>...</td>\n",
       "      <td>...</td>\n",
       "      <td>...</td>\n",
       "      <td>...</td>\n",
       "      <td>...</td>\n",
       "      <td>...</td>\n",
       "      <td>...</td>\n",
       "      <td>...</td>\n",
       "      <td>...</td>\n",
       "      <td>...</td>\n",
       "      <td>...</td>\n",
       "      <td>...</td>\n",
       "    </tr>\n",
       "    <tr>\n",
       "      <th>8078</th>\n",
       "      <td>Cash loans</td>\n",
       "      <td>29</td>\n",
       "      <td>Married</td>\n",
       "      <td>-2318</td>\n",
       "      <td>254700.0</td>\n",
       "      <td>25321.5</td>\n",
       "      <td>Y</td>\n",
       "      <td>2.0</td>\n",
       "      <td>Working</td>\n",
       "      <td>F</td>\n",
       "      <td>225000.0</td>\n",
       "      <td>Secondary / secondary special</td>\n",
       "      <td>54000.0</td>\n",
       "      <td>0.584792</td>\n",
       "      <td>NaN</td>\n",
       "      <td>N</td>\n",
       "    </tr>\n",
       "    <tr>\n",
       "      <th>11180</th>\n",
       "      <td>Cash loans</td>\n",
       "      <td>29</td>\n",
       "      <td>Married</td>\n",
       "      <td>-200</td>\n",
       "      <td>1237684.5</td>\n",
       "      <td>49216.5</td>\n",
       "      <td>Y</td>\n",
       "      <td>4.0</td>\n",
       "      <td>State servant</td>\n",
       "      <td>M</td>\n",
       "      <td>1138500.0</td>\n",
       "      <td>Higher education</td>\n",
       "      <td>243000.0</td>\n",
       "      <td>0.608828</td>\n",
       "      <td>0.643026</td>\n",
       "      <td>Y</td>\n",
       "    </tr>\n",
       "    <tr>\n",
       "      <th>20084</th>\n",
       "      <td>Revolving loans</td>\n",
       "      <td>59</td>\n",
       "      <td>Married</td>\n",
       "      <td>-1542</td>\n",
       "      <td>495000.0</td>\n",
       "      <td>24750.0</td>\n",
       "      <td>Y</td>\n",
       "      <td>2.0</td>\n",
       "      <td>Working</td>\n",
       "      <td>M</td>\n",
       "      <td>495000.0</td>\n",
       "      <td>Higher education</td>\n",
       "      <td>157500.0</td>\n",
       "      <td>0.294369</td>\n",
       "      <td>NaN</td>\n",
       "      <td>Y</td>\n",
       "    </tr>\n",
       "    <tr>\n",
       "      <th>12892</th>\n",
       "      <td>Cash loans</td>\n",
       "      <td>34</td>\n",
       "      <td>Married</td>\n",
       "      <td>-2904</td>\n",
       "      <td>172021.5</td>\n",
       "      <td>18193.5</td>\n",
       "      <td>N</td>\n",
       "      <td>2.0</td>\n",
       "      <td>State servant</td>\n",
       "      <td>M</td>\n",
       "      <td>148500.0</td>\n",
       "      <td>Higher education</td>\n",
       "      <td>175500.0</td>\n",
       "      <td>0.579526</td>\n",
       "      <td>0.535276</td>\n",
       "      <td>Y</td>\n",
       "    </tr>\n",
       "    <tr>\n",
       "      <th>3154</th>\n",
       "      <td>Cash loans</td>\n",
       "      <td>59</td>\n",
       "      <td>Widow</td>\n",
       "      <td>365243</td>\n",
       "      <td>562491.0</td>\n",
       "      <td>22437.0</td>\n",
       "      <td>N</td>\n",
       "      <td>1.0</td>\n",
       "      <td>Pensioner</td>\n",
       "      <td>F</td>\n",
       "      <td>454500.0</td>\n",
       "      <td>Secondary / secondary special</td>\n",
       "      <td>112500.0</td>\n",
       "      <td>0.480757</td>\n",
       "      <td>NaN</td>\n",
       "      <td>N</td>\n",
       "    </tr>\n",
       "  </tbody>\n",
       "</table>\n",
       "<p>615 rows × 16 columns</p>\n",
       "</div>"
      ],
      "text/plain": [
       "          TYPE_CONTRAT  AGE STATUT_FAMILIAL  JOURS_EMPLOI  TOTAL_CREDIT  \\\n",
       "114         Cash loans   44         Married         -3880      729922.5   \n",
       "22912       Cash loans   60           Widow         -2936      755190.0   \n",
       "22014       Cash loans   55         Married          -441      763870.5   \n",
       "2896        Cash loans   52         Married         -7978     1012653.0   \n",
       "14612       Cash loans   54         Married         -7856      277969.5   \n",
       "...                ...  ...             ...           ...           ...   \n",
       "8078        Cash loans   29         Married         -2318      254700.0   \n",
       "11180       Cash loans   29         Married          -200     1237684.5   \n",
       "20084  Revolving loans   59         Married         -1542      495000.0   \n",
       "12892       Cash loans   34         Married         -2904      172021.5   \n",
       "3154        Cash loans   59           Widow        365243      562491.0   \n",
       "\n",
       "       REMB_MENSUEL PROPRIETAIRE_BIEN_IMMO  CNT_FAM_MEMBERS  \\\n",
       "114         32283.0                      Y              4.0   \n",
       "22912       30078.0                      N              1.0   \n",
       "22014       41566.5                      Y              2.0   \n",
       "2896        43033.5                      Y              2.0   \n",
       "14612       15651.0                      Y              2.0   \n",
       "...             ...                    ...              ...   \n",
       "8078        25321.5                      Y              2.0   \n",
       "11180       49216.5                      Y              4.0   \n",
       "20084       24750.0                      Y              2.0   \n",
       "12892       18193.5                      N              2.0   \n",
       "3154        22437.0                      N              1.0   \n",
       "\n",
       "               TYPE_REVENUS GENRE  MONTANT_PRIX_BIENS  \\\n",
       "114    Commercial associate     F            580500.0   \n",
       "22912               Working     F            675000.0   \n",
       "22014               Working     M            607500.0   \n",
       "2896                Working     F            931500.0   \n",
       "14612  Commercial associate     F            229500.0   \n",
       "...                     ...   ...                 ...   \n",
       "8078                Working     F            225000.0   \n",
       "11180         State servant     M           1138500.0   \n",
       "20084               Working     M            495000.0   \n",
       "12892         State servant     M            148500.0   \n",
       "3154              Pensioner     F            454500.0   \n",
       "\n",
       "                    NIVEAU_EDUCATION  REVENU_TOTAL  SOURCE_EXTERNE_2  \\\n",
       "114                 Higher education      675000.0          0.675062   \n",
       "22912  Secondary / secondary special      135000.0          0.173342   \n",
       "22014  Secondary / secondary special      189450.0          0.639960   \n",
       "2896   Secondary / secondary special      157500.0          0.591424   \n",
       "14612               Higher education      112500.0          0.711832   \n",
       "...                              ...           ...               ...   \n",
       "8078   Secondary / secondary special       54000.0          0.584792   \n",
       "11180               Higher education      243000.0          0.608828   \n",
       "20084               Higher education      157500.0          0.294369   \n",
       "12892               Higher education      175500.0          0.579526   \n",
       "3154   Secondary / secondary special      112500.0          0.480757   \n",
       "\n",
       "       SOURCE_EXTERNE_3 PROPRIETAIRE_VOITURE  \n",
       "114            0.656158                    N  \n",
       "22912          0.394495                    Y  \n",
       "22014               NaN                    Y  \n",
       "2896           0.633032                    N  \n",
       "14612          0.667458                    N  \n",
       "...                 ...                  ...  \n",
       "8078                NaN                    N  \n",
       "11180          0.643026                    Y  \n",
       "20084               NaN                    Y  \n",
       "12892          0.535276                    Y  \n",
       "3154                NaN                    N  \n",
       "\n",
       "[615 rows x 16 columns]"
      ]
     },
     "execution_count": 58,
     "metadata": {},
     "output_type": "execute_result"
    }
   ],
   "source": [
    "X_test"
   ]
  },
  {
   "cell_type": "code",
   "execution_count": 59,
   "id": "45273117-9598-459f-b0e7-85adb5642ec6",
   "metadata": {},
   "outputs": [
    {
     "data": {
      "text/plain": [
       "[0.915, 0.3735, 0.5195, 0.662, 0.8596, 0.4984, 0.521, 0.8293, 0.3607, 0.7058]"
      ]
     },
     "execution_count": 59,
     "metadata": {},
     "output_type": "execute_result"
    }
   ],
   "source": [
    "y_pred_proba_list = grid_1.predict_proba(X_test)\n",
    "y_pred_proba_list = list(y_pred_proba_list[ :, 0])\n",
    "y_pred_proba_list = [round(x, 4) for x in y_pred_proba_list]\n",
    "y_pred_proba_list[:10]"
   ]
  },
  {
   "cell_type": "code",
   "execution_count": 60,
   "id": "5e4f3cc5-16b9-4b3b-a180-e5667ab7f194",
   "metadata": {},
   "outputs": [],
   "source": [
    "def calcul_pnl_one_complexe(montant, \n",
    "                            y_true, \n",
    "                            y_pred_proba, \n",
    "                            taux=0.04, \n",
    "                            default_rate=1, \n",
    "                            threshold=0.5, ):\n",
    "\n",
    "\n",
    "    y_pred = 0 if y_pred_proba > threshold else 1\n",
    "\n",
    "    if y_pred : \n",
    "        return 0\n",
    "    \n",
    "    if y_true :\n",
    "        return -default_rate* montant\n",
    "\n",
    "    return montant * taux"
   ]
  },
  {
   "cell_type": "code",
   "execution_count": 61,
   "id": "dd7e42dc-b261-4df0-a6cb-ef6ae0409859",
   "metadata": {},
   "outputs": [
    {
     "data": {
      "text/plain": [
       "-0.12"
      ]
     },
     "execution_count": 61,
     "metadata": {},
     "output_type": "execute_result"
    }
   ],
   "source": [
    "v = 0\n",
    "for m, y_true, y_pred_proba in zip(montant_list, y_true_list, y_pred_proba_list):\n",
    "    v += calcul_pnl_one_complexe(m, y_true=y_true, y_pred_proba=y_pred_proba)\n",
    "round(v/1_000_000,2) "
   ]
  },
  {
   "cell_type": "code",
   "execution_count": 62,
   "id": "8d3e4100-2168-46f2-96d1-e374c5f634a0",
   "metadata": {},
   "outputs": [
    {
     "data": {
      "text/plain": [
       "-14.14"
      ]
     },
     "execution_count": 62,
     "metadata": {},
     "output_type": "execute_result"
    }
   ],
   "source": [
    "v = 0\n",
    "for m, y_true, y_pred_proba in zip(montant_list, y_true_list, y_pred_proba_list):\n",
    "    v += calcul_pnl_one_complexe(m, y_true=y_true, y_pred_proba=y_pred_proba,threshold=0.0)\n",
    "round(v/1_000_000,2) "
   ]
  },
  {
   "cell_type": "code",
   "execution_count": 63,
   "id": "cf665a16-38b4-4d10-a53e-ec7e4a8d2e5f",
   "metadata": {},
   "outputs": [
    {
     "data": {
      "text/plain": [
       "0.0"
      ]
     },
     "execution_count": 63,
     "metadata": {},
     "output_type": "execute_result"
    }
   ],
   "source": [
    "v = 0\n",
    "for m, y_true, y_pred_proba in zip(montant_list, y_true_list, y_pred_proba_list):\n",
    "    v += calcul_pnl_one_complexe(m, y_true=y_true, y_pred_proba=y_pred_proba,threshold=1)\n",
    "round(v/1_000_000,2) "
   ]
  },
  {
   "cell_type": "code",
   "execution_count": 64,
   "id": "e1e94b4d-7a50-45ba-825d-526144746b40",
   "metadata": {},
   "outputs": [],
   "source": [
    "threshold_list = np.linspace(0, 1, 100)\n",
    "pnl_list = []\n",
    "\n",
    "taux = 0.04\n",
    "default_rate = 1 \n",
    "for threshold in threshold_list:\n",
    "    v = 0\n",
    "    for m, y_true, y_pred_proba in zip(montant_list, y_true_list, y_pred_proba_list):\n",
    "        v += calcul_pnl_one_complexe(m, y_true=y_true, y_pred_proba=y_pred_proba,threshold=threshold, default_rate=default_rate, taux=taux  )\n",
    "    pnl_list.append(v)"
   ]
  },
  {
   "cell_type": "code",
   "execution_count": 65,
   "id": "3691bc4c-cb76-4134-97bc-ce564b43ebf5",
   "metadata": {},
   "outputs": [
    {
     "data": {
      "text/plain": [
       "[<matplotlib.lines.Line2D at 0x1afe3f6d900>]"
      ]
     },
     "execution_count": 65,
     "metadata": {},
     "output_type": "execute_result"
    },
    {
     "data": {
      "image/png": "[encoded data removed]",
      "text/plain": [
       "<Figure size 640x480 with 1 Axes>"
      ]
     },
     "metadata": {},
     "output_type": "display_data"
    }
   ],
   "source": [
    "plt.plot(threshold_list, pnl_list)"
   ]
  },
  {
   "cell_type": "code",
   "execution_count": 66,
   "id": "f6328d68-66be-4e89-a3c9-4393a8d3774b",
   "metadata": {},
   "outputs": [
    {
     "data": {
      "application/vnd.plotly.v1+json": {
       "config": {
        "plotlyServerURL": "https://plot.ly"
       },
       "data": [
        {
         "hovertemplate": "x=%{x}<br>y=%{y}<extra></extra>",
         "legendgroup": "",
         "line": {
          "color": "#636efa",
          "dash": "solid"
         },
         "marker": {
          "symbol": "circle"
         },
         "mode": "lines",
         "name": "",
         "orientation": "v",
         "showlegend": false,
         "type": "scatter",
         "x": [
          0,
          0.010101010101010102,
          0.020202020202020204,
          0.030303030303030304,
          0.04040404040404041,
          0.05050505050505051,
          0.06060606060606061,
          0.07070707070707072,
          0.08080808080808081,
          0.09090909090909091,
          0.10101010101010102,
          0.11111111111111112,
          0.12121212121212122,
          0.13131313131313133,
          0.14141414141414144,
          0.15151515151515152,
          0.16161616161616163,
          0.17171717171717174,
          0.18181818181818182,
          0.19191919191919193,
          0.20202020202020204,
          0.21212121212121213,
          0.22222222222222224,
          0.23232323232323235,
          0.24242424242424243,
          0.25252525252525254,
          0.26262626262626265,
          0.27272727272727276,
          0.2828282828282829,
          0.29292929292929293,
          0.30303030303030304,
          0.31313131313131315,
          0.32323232323232326,
          0.33333333333333337,
          0.3434343434343435,
          0.3535353535353536,
          0.36363636363636365,
          0.37373737373737376,
          0.38383838383838387,
          0.393939393939394,
          0.4040404040404041,
          0.4141414141414142,
          0.42424242424242425,
          0.43434343434343436,
          0.4444444444444445,
          0.4545454545454546,
          0.4646464646464647,
          0.4747474747474748,
          0.48484848484848486,
          0.494949494949495,
          0.5050505050505051,
          0.5151515151515152,
          0.5252525252525253,
          0.5353535353535354,
          0.5454545454545455,
          0.5555555555555556,
          0.5656565656565657,
          0.5757575757575758,
          0.5858585858585859,
          0.595959595959596,
          0.6060606060606061,
          0.6161616161616162,
          0.6262626262626263,
          0.6363636363636365,
          0.6464646464646465,
          0.6565656565656566,
          0.6666666666666667,
          0.6767676767676768,
          0.686868686868687,
          0.696969696969697,
          0.7070707070707072,
          0.7171717171717172,
          0.7272727272727273,
          0.7373737373737375,
          0.7474747474747475,
          0.7575757575757577,
          0.7676767676767677,
          0.7777777777777778,
          0.787878787878788,
          0.797979797979798,
          0.8080808080808082,
          0.8181818181818182,
          0.8282828282828284,
          0.8383838383838385,
          0.8484848484848485,
          0.8585858585858587,
          0.8686868686868687,
          0.8787878787878789,
          0.888888888888889,
          0.8989898989898991,
          0.9090909090909092,
          0.9191919191919192,
          0.9292929292929294,
          0.9393939393939394,
          0.9494949494949496,
          0.9595959595959597,
          0.9696969696969697,
          0.9797979797979799,
          0.98989898989899,
          1
         ],
         "xaxis": "x",
         "y": [
          -14139705.239999996,
          -14139705.239999996,
          -14139705.239999996,
          -14139705.239999996,
          -14139705.239999996,
          -14139705.239999996,
          -14139705.239999996,
          -14139705.239999996,
          -14189961.239999996,
          -13583258.280000001,
          -13604670.54,
          -12316320.54,
          -12316320.54,
          -11956320.54,
          -12018161.34,
          -12068417.34,
          -10919135.34,
          -10726175.339999998,
          -10726175.339999998,
          -9601175.339999998,
          -9119603.879999999,
          -9119603.879999999,
          -9149882.76,
          -9188417.52,
          -9338571.000000002,
          -9408282.48,
          -8572077,
          -8444691,
          -8079720.12,
          -7183635.120000005,
          -7323269.400000008,
          -7546707.54,
          -7069281.300000007,
          -6698521.620000008,
          -6884162.820000009,
          -6970966.200000008,
          -6617885.400000008,
          -6720923.520000008,
          -5100876.540000003,
          -3947260.3200000026,
          -3688487.6400000053,
          -1907700.8400000003,
          -2183737.5000000005,
          -401633.81999999913,
          -576943.9199999996,
          -979522.9200000003,
          -1146208.8600000008,
          -1093467.2399999998,
          -974999.8799999991,
          -604232.0999999988,
          -150433.19999999966,
          -534588.8399999985,
          -262223.46,
          -518529.7799999992,
          469425.5999999988,
          46498.49999999943,
          -294306.8399999997,
          138995.45999999973,
          -146269.8000000004,
          1468428.84,
          1347662.700000001,
          1196561.3400000005,
          1613633.3999999997,
          1347899.22,
          1003929.1200000003,
          1942621.9199999997,
          2224193.939999999,
          2360764.2600000002,
          1994007.2399999998,
          1902834,
          1507196.8800000004,
          1804834.08,
          1634189.4,
          2050674.48,
          1939588.3800000004,
          1652720.7600000007,
          1398143.8800000008,
          1313252.8200000008,
          1025165.5200000004,
          888873.3000000002,
          632090.8800000004,
          750663.7200000002,
          513152.28,
          352419.8400000001,
          763197.8400000001,
          611128.4400000001,
          528990.6600000001,
          498266.10000000003,
          449203.14,
          323207.1,
          230796.9,
          104400,
          104400,
          14400,
          14400,
          14400,
          0,
          0,
          0,
          0
         ],
         "yaxis": "y"
        }
       ],
       "layout": {
        "legend": {
         "tracegroupgap": 0
        },
        "margin": {
         "t": 60
        },
        "template": {
         "data": {
          "bar": [
           {
            "error_x": {
             "color": "#2a3f5f"
            },
            "error_y": {
             "color": "#2a3f5f"
            },
            "marker": {
             "line": {
              "color": "#E5ECF6",
              "width": 0.5
             },
             "pattern": {
              "fillmode": "overlay",
              "size": 10,
              "solidity": 0.2
             }
            },
            "type": "bar"
           }
          ],
          "barpolar": [
           {
            "marker": {
             "line": {
              "color": "#E5ECF6",
              "width": 0.5
             },
             "pattern": {
              "fillmode": "overlay",
              "size": 10,
              "solidity": 0.2
             }
            },
            "type": "barpolar"
           }
          ],
          "carpet": [
           {
            "aaxis": {
             "endlinecolor": "#2a3f5f",
             "gridcolor": "white",
             "linecolor": "white",
             "minorgridcolor": "white",
             "startlinecolor": "#2a3f5f"
            },
            "baxis": {
             "endlinecolor": "#2a3f5f",
             "gridcolor": "white",
             "linecolor": "white",
             "minorgridcolor": "white",
             "startlinecolor": "#2a3f5f"
            },
            "type": "carpet"
           }
          ],
          "choropleth": [
           {
            "colorbar": {
             "outlinewidth": 0,
             "ticks": ""
            },
            "type": "choropleth"
           }
          ],
          "contour": [
           {
            "colorbar": {
             "outlinewidth": 0,
             "ticks": ""
            },
            "colorscale": [
             [
              0,
              "#0d0887"
             ],
             [
              0.1111111111111111,
              "#46039f"
             ],
             [
              0.2222222222222222,
              "#7201a8"
             ],
             [
              0.3333333333333333,
              "#9c179e"
             ],
             [
              0.4444444444444444,
              "#bd3786"
             ],
             [
              0.5555555555555556,
              "#d8576b"
             ],
             [
              0.6666666666666666,
              "#ed7953"
             ],
             [
              0.7777777777777778,
              "#fb9f3a"
             ],
             [
              0.8888888888888888,
              "#fdca26"
             ],
             [
              1,
              "#f0f921"
             ]
            ],
            "type": "contour"
           }
          ],
          "contourcarpet": [
           {
            "colorbar": {
             "outlinewidth": 0,
             "ticks": ""
            },
            "type": "contourcarpet"
           }
          ],
          "heatmap": [
           {
            "colorbar": {
             "outlinewidth": 0,
             "ticks": ""
            },
            "colorscale": [
             [
              0,
              "#0d0887"
             ],
             [
              0.1111111111111111,
              "#46039f"
             ],
             [
              0.2222222222222222,
              "#7201a8"
             ],
             [
              0.3333333333333333,
              "#9c179e"
             ],
             [
              0.4444444444444444,
              "#bd3786"
             ],
             [
              0.5555555555555556,
              "#d8576b"
             ],
             [
              0.6666666666666666,
              "#ed7953"
             ],
             [
              0.7777777777777778,
              "#fb9f3a"
             ],
             [
              0.8888888888888888,
              "#fdca26"
             ],
             [
              1,
              "#f0f921"
             ]
            ],
            "type": "heatmap"
           }
          ],
          "heatmapgl": [
           {
            "colorbar": {
             "outlinewidth": 0,
             "ticks": ""
            },
            "colorscale": [
             [
              0,
              "#0d0887"
             ],
             [
              0.1111111111111111,
              "#46039f"
             ],
             [
              0.2222222222222222,
              "#7201a8"
             ],
             [
              0.3333333333333333,
              "#9c179e"
             ],
             [
              0.4444444444444444,
              "#bd3786"
             ],
             [
              0.5555555555555556,
              "#d8576b"
             ],
             [
              0.6666666666666666,
              "#ed7953"
             ],
             [
              0.7777777777777778,
              "#fb9f3a"
             ],
             [
              0.8888888888888888,
              "#fdca26"
             ],
             [
              1,
              "#f0f921"
             ]
            ],
            "type": "heatmapgl"
           }
          ],
          "histogram": [
           {
            "marker": {
             "pattern": {
              "fillmode": "overlay",
              "size": 10,
              "solidity": 0.2
             }
            },
            "type": "histogram"
           }
          ],
          "histogram2d": [
           {
            "colorbar": {
             "outlinewidth": 0,
             "ticks": ""
            },
            "colorscale": [
             [
              0,
              "#0d0887"
             ],
             [
              0.1111111111111111,
              "#46039f"
             ],
             [
              0.2222222222222222,
              "#7201a8"
             ],
             [
              0.3333333333333333,
              "#9c179e"
             ],
             [
              0.4444444444444444,
              "#bd3786"
             ],
             [
              0.5555555555555556,
              "#d8576b"
             ],
             [
              0.6666666666666666,
              "#ed7953"
             ],
             [
              0.7777777777777778,
              "#fb9f3a"
             ],
             [
              0.8888888888888888,
              "#fdca26"
             ],
             [
              1,
              "#f0f921"
             ]
            ],
            "type": "histogram2d"
           }
          ],
          "histogram2dcontour": [
           {
            "colorbar": {
             "outlinewidth": 0,
             "ticks": ""
            },
            "colorscale": [
             [
              0,
              "#0d0887"
             ],
             [
              0.1111111111111111,
              "#46039f"
             ],
             [
              0.2222222222222222,
              "#7201a8"
             ],
             [
              0.3333333333333333,
              "#9c179e"
             ],
             [
              0.4444444444444444,
              "#bd3786"
             ],
             [
              0.5555555555555556,
              "#d8576b"
             ],
             [
              0.6666666666666666,
              "#ed7953"
             ],
             [
              0.7777777777777778,
              "#fb9f3a"
             ],
             [
              0.8888888888888888,
              "#fdca26"
             ],
             [
              1,
              "#f0f921"
             ]
            ],
            "type": "histogram2dcontour"
           }
          ],
          "mesh3d": [
           {
            "colorbar": {
             "outlinewidth": 0,
             "ticks": ""
            },
            "type": "mesh3d"
           }
          ],
          "parcoords": [
           {
            "line": {
             "colorbar": {
              "outlinewidth": 0,
              "ticks": ""
             }
            },
            "type": "parcoords"
           }
          ],
          "pie": [
           {
            "automargin": true,
            "type": "pie"
           }
          ],
          "scatter": [
           {
            "fillpattern": {
             "fillmode": "overlay",
             "size": 10,
             "solidity": 0.2
            },
            "type": "scatter"
           }
          ],
          "scatter3d": [
           {
            "line": {
             "colorbar": {
              "outlinewidth": 0,
              "ticks": ""
             }
            },
            "marker": {
             "colorbar": {
              "outlinewidth": 0,
              "ticks": ""
             }
            },
            "type": "scatter3d"
           }
          ],
          "scattercarpet": [
           {
            "marker": {
             "colorbar": {
              "outlinewidth": 0,
              "ticks": ""
             }
            },
            "type": "scattercarpet"
           }
          ],
          "scattergeo": [
           {
            "marker": {
             "colorbar": {
              "outlinewidth": 0,
              "ticks": ""
             }
            },
            "type": "scattergeo"
           }
          ],
          "scattergl": [
           {
            "marker": {
             "colorbar": {
              "outlinewidth": 0,
              "ticks": ""
             }
            },
            "type": "scattergl"
           }
          ],
          "scattermapbox": [
           {
            "marker": {
             "colorbar": {
              "outlinewidth": 0,
              "ticks": ""
             }
            },
            "type": "scattermapbox"
           }
          ],
          "scatterpolar": [
           {
            "marker": {
             "colorbar": {
              "outlinewidth": 0,
              "ticks": ""
             }
            },
            "type": "scatterpolar"
           }
          ],
          "scatterpolargl": [
           {
            "marker": {
             "colorbar": {
              "outlinewidth": 0,
              "ticks": ""
             }
            },
            "type": "scatterpolargl"
           }
          ],
          "scatterternary": [
           {
            "marker": {
             "colorbar": {
              "outlinewidth": 0,
              "ticks": ""
             }
            },
            "type": "scatterternary"
           }
          ],
          "surface": [
           {
            "colorbar": {
             "outlinewidth": 0,
             "ticks": ""
            },
            "colorscale": [
             [
              0,
              "#0d0887"
             ],
             [
              0.1111111111111111,
              "#46039f"
             ],
             [
              0.2222222222222222,
              "#7201a8"
             ],
             [
              0.3333333333333333,
              "#9c179e"
             ],
             [
              0.4444444444444444,
              "#bd3786"
             ],
             [
              0.5555555555555556,
              "#d8576b"
             ],
             [
              0.6666666666666666,
              "#ed7953"
             ],
             [
              0.7777777777777778,
              "#fb9f3a"
             ],
             [
              0.8888888888888888,
              "#fdca26"
             ],
             [
              1,
              "#f0f921"
             ]
            ],
            "type": "surface"
           }
          ],
          "table": [
           {
            "cells": {
             "fill": {
              "color": "#EBF0F8"
             },
             "line": {
              "color": "white"
             }
            },
            "header": {
             "fill": {
              "color": "#C8D4E3"
             },
             "line": {
              "color": "white"
             }
            },
            "type": "table"
           }
          ]
         },
         "layout": {
          "annotationdefaults": {
           "arrowcolor": "#2a3f5f",
           "arrowhead": 0,
           "arrowwidth": 1
          },
          "autotypenumbers": "strict",
          "coloraxis": {
           "colorbar": {
            "outlinewidth": 0,
            "ticks": ""
           }
          },
          "colorscale": {
           "diverging": [
            [
             0,
             "#8e0152"
            ],
            [
             0.1,
             "#c51b7d"
            ],
            [
             0.2,
             "#de77ae"
            ],
            [
             0.3,
             "#f1b6da"
            ],
            [
             0.4,
             "#fde0ef"
            ],
            [
             0.5,
             "#f7f7f7"
            ],
            [
             0.6,
             "#e6f5d0"
            ],
            [
             0.7,
             "#b8e186"
            ],
            [
             0.8,
             "#7fbc41"
            ],
            [
             0.9,
             "#4d9221"
            ],
            [
             1,
             "#276419"
            ]
           ],
           "sequential": [
            [
             0,
             "#0d0887"
            ],
            [
             0.1111111111111111,
             "#46039f"
            ],
            [
             0.2222222222222222,
             "#7201a8"
            ],
            [
             0.3333333333333333,
             "#9c179e"
            ],
            [
             0.4444444444444444,
             "#bd3786"
            ],
            [
             0.5555555555555556,
             "#d8576b"
            ],
            [
             0.6666666666666666,
             "#ed7953"
            ],
            [
             0.7777777777777778,
             "#fb9f3a"
            ],
            [
             0.8888888888888888,
             "#fdca26"
            ],
            [
             1,
             "#f0f921"
            ]
           ],
           "sequentialminus": [
            [
             0,
             "#0d0887"
            ],
            [
             0.1111111111111111,
             "#46039f"
            ],
            [
             0.2222222222222222,
             "#7201a8"
            ],
            [
             0.3333333333333333,
             "#9c179e"
            ],
            [
             0.4444444444444444,
             "#bd3786"
            ],
            [
             0.5555555555555556,
             "#d8576b"
            ],
            [
             0.6666666666666666,
             "#ed7953"
            ],
            [
             0.7777777777777778,
             "#fb9f3a"
            ],
            [
             0.8888888888888888,
             "#fdca26"
            ],
            [
             1,
             "#f0f921"
            ]
           ]
          },
          "colorway": [
           "#636efa",
           "#EF553B",
           "#00cc96",
           "#ab63fa",
           "#FFA15A",
           "#19d3f3",
           "#FF6692",
           "#B6E880",
           "#FF97FF",
           "#FECB52"
          ],
          "font": {
           "color": "#2a3f5f"
          },
          "geo": {
           "bgcolor": "white",
           "lakecolor": "white",
           "landcolor": "#E5ECF6",
           "showlakes": true,
           "showland": true,
           "subunitcolor": "white"
          },
          "hoverlabel": {
           "align": "left"
          },
          "hovermode": "closest",
          "mapbox": {
           "style": "light"
          },
          "paper_bgcolor": "white",
          "plot_bgcolor": "#E5ECF6",
          "polar": {
           "angularaxis": {
            "gridcolor": "white",
            "linecolor": "white",
            "ticks": ""
           },
           "bgcolor": "#E5ECF6",
           "radialaxis": {
            "gridcolor": "white",
            "linecolor": "white",
            "ticks": ""
           }
          },
          "scene": {
           "xaxis": {
            "backgroundcolor": "#E5ECF6",
            "gridcolor": "white",
            "gridwidth": 2,
            "linecolor": "white",
            "showbackground": true,
            "ticks": "",
            "zerolinecolor": "white"
           },
           "yaxis": {
            "backgroundcolor": "#E5ECF6",
            "gridcolor": "white",
            "gridwidth": 2,
            "linecolor": "white",
            "showbackground": true,
            "ticks": "",
            "zerolinecolor": "white"
           },
           "zaxis": {
            "backgroundcolor": "#E5ECF6",
            "gridcolor": "white",
            "gridwidth": 2,
            "linecolor": "white",
            "showbackground": true,
            "ticks": "",
            "zerolinecolor": "white"
           }
          },
          "shapedefaults": {
           "line": {
            "color": "#2a3f5f"
           }
          },
          "ternary": {
           "aaxis": {
            "gridcolor": "white",
            "linecolor": "white",
            "ticks": ""
           },
           "baxis": {
            "gridcolor": "white",
            "linecolor": "white",
            "ticks": ""
           },
           "bgcolor": "#E5ECF6",
           "caxis": {
            "gridcolor": "white",
            "linecolor": "white",
            "ticks": ""
           }
          },
          "title": {
           "x": 0.05
          },
          "xaxis": {
           "automargin": true,
           "gridcolor": "white",
           "linecolor": "white",
           "ticks": "",
           "title": {
            "standoff": 15
           },
           "zerolinecolor": "white",
           "zerolinewidth": 2
          },
          "yaxis": {
           "automargin": true,
           "gridcolor": "white",
           "linecolor": "white",
           "ticks": "",
           "title": {
            "standoff": 15
           },
           "zerolinecolor": "white",
           "zerolinewidth": 2
          }
         }
        },
        "xaxis": {
         "anchor": "y",
         "domain": [
          0,
          1
         ],
         "title": {
          "text": "x"
         }
        },
        "yaxis": {
         "anchor": "x",
         "domain": [
          0,
          1
         ],
         "title": {
          "text": "y"
         }
        }
       }
      }
     },
     "metadata": {},
     "output_type": "display_data"
    }
   ],
   "source": [
    "px.line(x=threshold_list, y=pnl_list)"
   ]
  },
  {
   "cell_type": "code",
   "execution_count": 67,
   "id": "a4536ed8-955f-44c7-923b-f95e1da0eb59",
   "metadata": {},
   "outputs": [
    {
     "data": {
      "text/html": [
       "<div>\n",
       "<style scoped>\n",
       "    .dataframe tbody tr th:only-of-type {\n",
       "        vertical-align: middle;\n",
       "    }\n",
       "\n",
       "    .dataframe tbody tr th {\n",
       "        vertical-align: top;\n",
       "    }\n",
       "\n",
       "    .dataframe thead th {\n",
       "        text-align: right;\n",
       "    }\n",
       "</style>\n",
       "<table border=\"1\" class=\"dataframe\">\n",
       "  <thead>\n",
       "    <tr style=\"text-align: right;\">\n",
       "      <th></th>\n",
       "      <th>threshold</th>\n",
       "      <th>pnl</th>\n",
       "    </tr>\n",
       "  </thead>\n",
       "  <tbody>\n",
       "    <tr>\n",
       "      <th>67</th>\n",
       "      <td>0.676768</td>\n",
       "      <td>2360764.26</td>\n",
       "    </tr>\n",
       "    <tr>\n",
       "      <th>66</th>\n",
       "      <td>0.666667</td>\n",
       "      <td>2224193.94</td>\n",
       "    </tr>\n",
       "    <tr>\n",
       "      <th>73</th>\n",
       "      <td>0.737374</td>\n",
       "      <td>2050674.48</td>\n",
       "    </tr>\n",
       "    <tr>\n",
       "      <th>68</th>\n",
       "      <td>0.686869</td>\n",
       "      <td>1994007.24</td>\n",
       "    </tr>\n",
       "    <tr>\n",
       "      <th>65</th>\n",
       "      <td>0.656566</td>\n",
       "      <td>1942621.92</td>\n",
       "    </tr>\n",
       "    <tr>\n",
       "      <th>...</th>\n",
       "      <td>...</td>\n",
       "      <td>...</td>\n",
       "    </tr>\n",
       "    <tr>\n",
       "      <th>1</th>\n",
       "      <td>0.010101</td>\n",
       "      <td>-14139705.24</td>\n",
       "    </tr>\n",
       "    <tr>\n",
       "      <th>6</th>\n",
       "      <td>0.060606</td>\n",
       "      <td>-14139705.24</td>\n",
       "    </tr>\n",
       "    <tr>\n",
       "      <th>7</th>\n",
       "      <td>0.070707</td>\n",
       "      <td>-14139705.24</td>\n",
       "    </tr>\n",
       "    <tr>\n",
       "      <th>0</th>\n",
       "      <td>0.000000</td>\n",
       "      <td>-14139705.24</td>\n",
       "    </tr>\n",
       "    <tr>\n",
       "      <th>8</th>\n",
       "      <td>0.080808</td>\n",
       "      <td>-14189961.24</td>\n",
       "    </tr>\n",
       "  </tbody>\n",
       "</table>\n",
       "<p>100 rows × 2 columns</p>\n",
       "</div>"
      ],
      "text/plain": [
       "    threshold          pnl\n",
       "67   0.676768   2360764.26\n",
       "66   0.666667   2224193.94\n",
       "73   0.737374   2050674.48\n",
       "68   0.686869   1994007.24\n",
       "65   0.656566   1942621.92\n",
       "..        ...          ...\n",
       "1    0.010101 -14139705.24\n",
       "6    0.060606 -14139705.24\n",
       "7    0.070707 -14139705.24\n",
       "0    0.000000 -14139705.24\n",
       "8    0.080808 -14189961.24\n",
       "\n",
       "[100 rows x 2 columns]"
      ]
     },
     "execution_count": 67,
     "metadata": {},
     "output_type": "execute_result"
    }
   ],
   "source": [
    "pnl_df = pd.DataFrame({'threshold': threshold_list, 'pnl': pnl_list}).sort_values(by='pnl', ascending=False)\n",
    "pnl_df"
   ]
  },
  {
   "cell_type": "code",
   "execution_count": 68,
   "id": "ba32e28f-a985-4f08-bf96-146c91e5b386",
   "metadata": {},
   "outputs": [
    {
     "data": {
      "text/html": [
       "<div>\n",
       "<style scoped>\n",
       "    .dataframe tbody tr th:only-of-type {\n",
       "        vertical-align: middle;\n",
       "    }\n",
       "\n",
       "    .dataframe tbody tr th {\n",
       "        vertical-align: top;\n",
       "    }\n",
       "\n",
       "    .dataframe thead th {\n",
       "        text-align: right;\n",
       "    }\n",
       "</style>\n",
       "<table border=\"1\" class=\"dataframe\">\n",
       "  <thead>\n",
       "    <tr style=\"text-align: right;\">\n",
       "      <th></th>\n",
       "      <th>threshold</th>\n",
       "      <th>pnl</th>\n",
       "    </tr>\n",
       "  </thead>\n",
       "  <tbody>\n",
       "    <tr>\n",
       "      <th>67</th>\n",
       "      <td>0.676768</td>\n",
       "      <td>2360764.26</td>\n",
       "    </tr>\n",
       "    <tr>\n",
       "      <th>66</th>\n",
       "      <td>0.666667</td>\n",
       "      <td>2224193.94</td>\n",
       "    </tr>\n",
       "    <tr>\n",
       "      <th>73</th>\n",
       "      <td>0.737374</td>\n",
       "      <td>2050674.48</td>\n",
       "    </tr>\n",
       "    <tr>\n",
       "      <th>68</th>\n",
       "      <td>0.686869</td>\n",
       "      <td>1994007.24</td>\n",
       "    </tr>\n",
       "    <tr>\n",
       "      <th>65</th>\n",
       "      <td>0.656566</td>\n",
       "      <td>1942621.92</td>\n",
       "    </tr>\n",
       "    <tr>\n",
       "      <th>74</th>\n",
       "      <td>0.747475</td>\n",
       "      <td>1939588.38</td>\n",
       "    </tr>\n",
       "    <tr>\n",
       "      <th>69</th>\n",
       "      <td>0.696970</td>\n",
       "      <td>1902834.00</td>\n",
       "    </tr>\n",
       "    <tr>\n",
       "      <th>71</th>\n",
       "      <td>0.717172</td>\n",
       "      <td>1804834.08</td>\n",
       "    </tr>\n",
       "    <tr>\n",
       "      <th>75</th>\n",
       "      <td>0.757576</td>\n",
       "      <td>1652720.76</td>\n",
       "    </tr>\n",
       "    <tr>\n",
       "      <th>72</th>\n",
       "      <td>0.727273</td>\n",
       "      <td>1634189.40</td>\n",
       "    </tr>\n",
       "  </tbody>\n",
       "</table>\n",
       "</div>"
      ],
      "text/plain": [
       "    threshold         pnl\n",
       "67   0.676768  2360764.26\n",
       "66   0.666667  2224193.94\n",
       "73   0.737374  2050674.48\n",
       "68   0.686869  1994007.24\n",
       "65   0.656566  1942621.92\n",
       "74   0.747475  1939588.38\n",
       "69   0.696970  1902834.00\n",
       "71   0.717172  1804834.08\n",
       "75   0.757576  1652720.76\n",
       "72   0.727273  1634189.40"
      ]
     },
     "execution_count": 68,
     "metadata": {},
     "output_type": "execute_result"
    }
   ],
   "source": [
    "pnl_df.sort_values(by='pnl', ascending=False).head(10)"
   ]
  },
  {
   "cell_type": "code",
   "execution_count": 69,
   "id": "0018516e-147b-40e1-91a0-a5488e844fb8",
   "metadata": {},
   "outputs": [
    {
     "data": {
      "application/vnd.plotly.v1+json": {
       "config": {
        "plotlyServerURL": "https://plot.ly"
       },
       "data": [
        {
         "hovertemplate": "x=%{x}<br>y=%{y}<extra></extra>",
         "legendgroup": "",
         "line": {
          "color": "#636efa",
          "dash": "solid"
         },
         "marker": {
          "symbol": "circle"
         },
         "mode": "lines",
         "name": "",
         "orientation": "v",
         "showlegend": false,
         "type": "scatter",
         "x": [
          0,
          0.010101010101010102,
          0.020202020202020204,
          0.030303030303030304,
          0.04040404040404041,
          0.05050505050505051,
          0.06060606060606061,
          0.07070707070707072,
          0.08080808080808081,
          0.09090909090909091,
          0.10101010101010102,
          0.11111111111111112,
          0.12121212121212122,
          0.13131313131313133,
          0.14141414141414144,
          0.15151515151515152,
          0.16161616161616163,
          0.17171717171717174,
          0.18181818181818182,
          0.19191919191919193,
          0.20202020202020204,
          0.21212121212121213,
          0.22222222222222224,
          0.23232323232323235,
          0.24242424242424243,
          0.25252525252525254,
          0.26262626262626265,
          0.27272727272727276,
          0.2828282828282829,
          0.29292929292929293,
          0.30303030303030304,
          0.31313131313131315,
          0.32323232323232326,
          0.33333333333333337,
          0.3434343434343435,
          0.3535353535353536,
          0.36363636363636365,
          0.37373737373737376,
          0.38383838383838387,
          0.393939393939394,
          0.4040404040404041,
          0.4141414141414142,
          0.42424242424242425,
          0.43434343434343436,
          0.4444444444444445,
          0.4545454545454546,
          0.4646464646464647,
          0.4747474747474748,
          0.48484848484848486,
          0.494949494949495,
          0.5050505050505051,
          0.5151515151515152,
          0.5252525252525253,
          0.5353535353535354,
          0.5454545454545455,
          0.5555555555555556,
          0.5656565656565657,
          0.5757575757575758,
          0.5858585858585859,
          0.595959595959596,
          0.6060606060606061,
          0.6161616161616162,
          0.6262626262626263,
          0.6363636363636365,
          0.6464646464646465,
          0.6565656565656566,
          0.6666666666666667,
          0.6767676767676768,
          0.686868686868687,
          0.696969696969697,
          0.7070707070707072,
          0.7171717171717172,
          0.7272727272727273,
          0.7373737373737375,
          0.7474747474747475,
          0.7575757575757577,
          0.7676767676767677,
          0.7777777777777778,
          0.787878787878788,
          0.797979797979798,
          0.8080808080808082,
          0.8181818181818182,
          0.8282828282828284,
          0.8383838383838385,
          0.8484848484848485,
          0.8585858585858587,
          0.8686868686868687,
          0.8787878787878789,
          0.888888888888889,
          0.8989898989898991,
          0.9090909090909092,
          0.9191919191919192,
          0.9292929292929294,
          0.9393939393939394,
          0.9494949494949496,
          0.9595959595959597,
          0.9696969696969697,
          0.9797979797979799,
          0.98989898989899,
          1
         ],
         "xaxis": "x",
         "y": [
          -14139705.239999996,
          -14139705.239999996,
          -14139705.239999996,
          -14139705.239999996,
          -14139705.239999996,
          -14139705.239999996,
          -14139705.239999996,
          -14139705.239999996,
          -14189961.239999996,
          -13583258.280000001,
          -13604670.54,
          -12316320.54,
          -12316320.54,
          -11956320.54,
          -12018161.34,
          -12068417.34,
          -10919135.34,
          -10726175.339999998,
          -10726175.339999998,
          -9601175.339999998,
          -9119603.879999999,
          -9119603.879999999,
          -9149882.76,
          -9188417.52,
          -9338571.000000002,
          -9408282.48,
          -8572077,
          -8444691,
          -8079720.12,
          -7183635.120000005,
          -7323269.400000008,
          -7546707.54,
          -7069281.300000007,
          -6698521.620000008,
          -6884162.820000009,
          -6970966.200000008,
          -6617885.400000008,
          -6720923.520000008,
          -5100876.540000003,
          -3947260.3200000026,
          -3688487.6400000053,
          -1907700.8400000003,
          -2183737.5000000005,
          -401633.81999999913,
          -576943.9199999996,
          -979522.9200000003,
          -1146208.8600000008,
          -1093467.2399999998,
          -974999.8799999991,
          -604232.0999999988,
          -150433.19999999966,
          -534588.8399999985,
          -262223.46,
          -518529.7799999992,
          469425.5999999988,
          46498.49999999943,
          -294306.8399999997,
          138995.45999999973,
          -146269.8000000004,
          1468428.84,
          1347662.700000001,
          1196561.3400000005,
          1613633.3999999997,
          1347899.22,
          1003929.1200000003,
          1942621.9199999997,
          2224193.939999999,
          2360764.2600000002,
          1994007.2399999998,
          1902834,
          1507196.8800000004,
          1804834.08,
          1634189.4,
          2050674.48,
          1939588.3800000004,
          1652720.7600000007,
          1398143.8800000008,
          1313252.8200000008,
          1025165.5200000004,
          888873.3000000002,
          632090.8800000004,
          750663.7200000002,
          513152.28,
          352419.8400000001,
          763197.8400000001,
          611128.4400000001,
          528990.6600000001,
          498266.10000000003,
          449203.14,
          323207.1,
          230796.9,
          104400,
          104400,
          14400,
          14400,
          14400,
          0,
          0,
          0,
          0
         ],
         "yaxis": "y"
        }
       ],
       "layout": {
        "legend": {
         "tracegroupgap": 0
        },
        "margin": {
         "t": 60
        },
        "template": {
         "data": {
          "bar": [
           {
            "error_x": {
             "color": "#2a3f5f"
            },
            "error_y": {
             "color": "#2a3f5f"
            },
            "marker": {
             "line": {
              "color": "#E5ECF6",
              "width": 0.5
             },
             "pattern": {
              "fillmode": "overlay",
              "size": 10,
              "solidity": 0.2
             }
            },
            "type": "bar"
           }
          ],
          "barpolar": [
           {
            "marker": {
             "line": {
              "color": "#E5ECF6",
              "width": 0.5
             },
             "pattern": {
              "fillmode": "overlay",
              "size": 10,
              "solidity": 0.2
             }
            },
            "type": "barpolar"
           }
          ],
          "carpet": [
           {
            "aaxis": {
             "endlinecolor": "#2a3f5f",
             "gridcolor": "white",
             "linecolor": "white",
             "minorgridcolor": "white",
             "startlinecolor": "#2a3f5f"
            },
            "baxis": {
             "endlinecolor": "#2a3f5f",
             "gridcolor": "white",
             "linecolor": "white",
             "minorgridcolor": "white",
             "startlinecolor": "#2a3f5f"
            },
            "type": "carpet"
           }
          ],
          "choropleth": [
           {
            "colorbar": {
             "outlinewidth": 0,
             "ticks": ""
            },
            "type": "choropleth"
           }
          ],
          "contour": [
           {
            "colorbar": {
             "outlinewidth": 0,
             "ticks": ""
            },
            "colorscale": [
             [
              0,
              "#0d0887"
             ],
             [
              0.1111111111111111,
              "#46039f"
             ],
             [
              0.2222222222222222,
              "#7201a8"
             ],
             [
              0.3333333333333333,
              "#9c179e"
             ],
             [
              0.4444444444444444,
              "#bd3786"
             ],
             [
              0.5555555555555556,
              "#d8576b"
             ],
             [
              0.6666666666666666,
              "#ed7953"
             ],
             [
              0.7777777777777778,
              "#fb9f3a"
             ],
             [
              0.8888888888888888,
              "#fdca26"
             ],
             [
              1,
              "#f0f921"
             ]
            ],
            "type": "contour"
           }
          ],
          "contourcarpet": [
           {
            "colorbar": {
             "outlinewidth": 0,
             "ticks": ""
            },
            "type": "contourcarpet"
           }
          ],
          "heatmap": [
           {
            "colorbar": {
             "outlinewidth": 0,
             "ticks": ""
            },
            "colorscale": [
             [
              0,
              "#0d0887"
             ],
             [
              0.1111111111111111,
              "#46039f"
             ],
             [
              0.2222222222222222,
              "#7201a8"
             ],
             [
              0.3333333333333333,
              "#9c179e"
             ],
             [
              0.4444444444444444,
              "#bd3786"
             ],
             [
              0.5555555555555556,
              "#d8576b"
             ],
             [
              0.6666666666666666,
              "#ed7953"
             ],
             [
              0.7777777777777778,
              "#fb9f3a"
             ],
             [
              0.8888888888888888,
              "#fdca26"
             ],
             [
              1,
              "#f0f921"
             ]
            ],
            "type": "heatmap"
           }
          ],
          "heatmapgl": [
           {
            "colorbar": {
             "outlinewidth": 0,
             "ticks": ""
            },
            "colorscale": [
             [
              0,
              "#0d0887"
             ],
             [
              0.1111111111111111,
              "#46039f"
             ],
             [
              0.2222222222222222,
              "#7201a8"
             ],
             [
              0.3333333333333333,
              "#9c179e"
             ],
             [
              0.4444444444444444,
              "#bd3786"
             ],
             [
              0.5555555555555556,
              "#d8576b"
             ],
             [
              0.6666666666666666,
              "#ed7953"
             ],
             [
              0.7777777777777778,
              "#fb9f3a"
             ],
             [
              0.8888888888888888,
              "#fdca26"
             ],
             [
              1,
              "#f0f921"
             ]
            ],
            "type": "heatmapgl"
           }
          ],
          "histogram": [
           {
            "marker": {
             "pattern": {
              "fillmode": "overlay",
              "size": 10,
              "solidity": 0.2
             }
            },
            "type": "histogram"
           }
          ],
          "histogram2d": [
           {
            "colorbar": {
             "outlinewidth": 0,
             "ticks": ""
            },
            "colorscale": [
             [
              0,
              "#0d0887"
             ],
             [
              0.1111111111111111,
              "#46039f"
             ],
             [
              0.2222222222222222,
              "#7201a8"
             ],
             [
              0.3333333333333333,
              "#9c179e"
             ],
             [
              0.4444444444444444,
              "#bd3786"
             ],
             [
              0.5555555555555556,
              "#d8576b"
             ],
             [
              0.6666666666666666,
              "#ed7953"
             ],
             [
              0.7777777777777778,
              "#fb9f3a"
             ],
             [
              0.8888888888888888,
              "#fdca26"
             ],
             [
              1,
              "#f0f921"
             ]
            ],
            "type": "histogram2d"
           }
          ],
          "histogram2dcontour": [
           {
            "colorbar": {
             "outlinewidth": 0,
             "ticks": ""
            },
            "colorscale": [
             [
              0,
              "#0d0887"
             ],
             [
              0.1111111111111111,
              "#46039f"
             ],
             [
              0.2222222222222222,
              "#7201a8"
             ],
             [
              0.3333333333333333,
              "#9c179e"
             ],
             [
              0.4444444444444444,
              "#bd3786"
             ],
             [
              0.5555555555555556,
              "#d8576b"
             ],
             [
              0.6666666666666666,
              "#ed7953"
             ],
             [
              0.7777777777777778,
              "#fb9f3a"
             ],
             [
              0.8888888888888888,
              "#fdca26"
             ],
             [
              1,
              "#f0f921"
             ]
            ],
            "type": "histogram2dcontour"
           }
          ],
          "mesh3d": [
           {
            "colorbar": {
             "outlinewidth": 0,
             "ticks": ""
            },
            "type": "mesh3d"
           }
          ],
          "parcoords": [
           {
            "line": {
             "colorbar": {
              "outlinewidth": 0,
              "ticks": ""
             }
            },
            "type": "parcoords"
           }
          ],
          "pie": [
           {
            "automargin": true,
            "type": "pie"
           }
          ],
          "scatter": [
           {
            "fillpattern": {
             "fillmode": "overlay",
             "size": 10,
             "solidity": 0.2
            },
            "type": "scatter"
           }
          ],
          "scatter3d": [
           {
            "line": {
             "colorbar": {
              "outlinewidth": 0,
              "ticks": ""
             }
            },
            "marker": {
             "colorbar": {
              "outlinewidth": 0,
              "ticks": ""
             }
            },
            "type": "scatter3d"
           }
          ],
          "scattercarpet": [
           {
            "marker": {
             "colorbar": {
              "outlinewidth": 0,
              "ticks": ""
             }
            },
            "type": "scattercarpet"
           }
          ],
          "scattergeo": [
           {
            "marker": {
             "colorbar": {
              "outlinewidth": 0,
              "ticks": ""
             }
            },
            "type": "scattergeo"
           }
          ],
          "scattergl": [
           {
            "marker": {
             "colorbar": {
              "outlinewidth": 0,
              "ticks": ""
             }
            },
            "type": "scattergl"
           }
          ],
          "scattermapbox": [
           {
            "marker": {
             "colorbar": {
              "outlinewidth": 0,
              "ticks": ""
             }
            },
            "type": "scattermapbox"
           }
          ],
          "scatterpolar": [
           {
            "marker": {
             "colorbar": {
              "outlinewidth": 0,
              "ticks": ""
             }
            },
            "type": "scatterpolar"
           }
          ],
          "scatterpolargl": [
           {
            "marker": {
             "colorbar": {
              "outlinewidth": 0,
              "ticks": ""
             }
            },
            "type": "scatterpolargl"
           }
          ],
          "scatterternary": [
           {
            "marker": {
             "colorbar": {
              "outlinewidth": 0,
              "ticks": ""
             }
            },
            "type": "scatterternary"
           }
          ],
          "surface": [
           {
            "colorbar": {
             "outlinewidth": 0,
             "ticks": ""
            },
            "colorscale": [
             [
              0,
              "#0d0887"
             ],
             [
              0.1111111111111111,
              "#46039f"
             ],
             [
              0.2222222222222222,
              "#7201a8"
             ],
             [
              0.3333333333333333,
              "#9c179e"
             ],
             [
              0.4444444444444444,
              "#bd3786"
             ],
             [
              0.5555555555555556,
              "#d8576b"
             ],
             [
              0.6666666666666666,
              "#ed7953"
             ],
             [
              0.7777777777777778,
              "#fb9f3a"
             ],
             [
              0.8888888888888888,
              "#fdca26"
             ],
             [
              1,
              "#f0f921"
             ]
            ],
            "type": "surface"
           }
          ],
          "table": [
           {
            "cells": {
             "fill": {
              "color": "#EBF0F8"
             },
             "line": {
              "color": "white"
             }
            },
            "header": {
             "fill": {
              "color": "#C8D4E3"
             },
             "line": {
              "color": "white"
             }
            },
            "type": "table"
           }
          ]
         },
         "layout": {
          "annotationdefaults": {
           "arrowcolor": "#2a3f5f",
           "arrowhead": 0,
           "arrowwidth": 1
          },
          "autotypenumbers": "strict",
          "coloraxis": {
           "colorbar": {
            "outlinewidth": 0,
            "ticks": ""
           }
          },
          "colorscale": {
           "diverging": [
            [
             0,
             "#8e0152"
            ],
            [
             0.1,
             "#c51b7d"
            ],
            [
             0.2,
             "#de77ae"
            ],
            [
             0.3,
             "#f1b6da"
            ],
            [
             0.4,
             "#fde0ef"
            ],
            [
             0.5,
             "#f7f7f7"
            ],
            [
             0.6,
             "#e6f5d0"
            ],
            [
             0.7,
             "#b8e186"
            ],
            [
             0.8,
             "#7fbc41"
            ],
            [
             0.9,
             "#4d9221"
            ],
            [
             1,
             "#276419"
            ]
           ],
           "sequential": [
            [
             0,
             "#0d0887"
            ],
            [
             0.1111111111111111,
             "#46039f"
            ],
            [
             0.2222222222222222,
             "#7201a8"
            ],
            [
             0.3333333333333333,
             "#9c179e"
            ],
            [
             0.4444444444444444,
             "#bd3786"
            ],
            [
             0.5555555555555556,
             "#d8576b"
            ],
            [
             0.6666666666666666,
             "#ed7953"
            ],
            [
             0.7777777777777778,
             "#fb9f3a"
            ],
            [
             0.8888888888888888,
             "#fdca26"
            ],
            [
             1,
             "#f0f921"
            ]
           ],
           "sequentialminus": [
            [
             0,
             "#0d0887"
            ],
            [
             0.1111111111111111,
             "#46039f"
            ],
            [
             0.2222222222222222,
             "#7201a8"
            ],
            [
             0.3333333333333333,
             "#9c179e"
            ],
            [
             0.4444444444444444,
             "#bd3786"
            ],
            [
             0.5555555555555556,
             "#d8576b"
            ],
            [
             0.6666666666666666,
             "#ed7953"
            ],
            [
             0.7777777777777778,
             "#fb9f3a"
            ],
            [
             0.8888888888888888,
             "#fdca26"
            ],
            [
             1,
             "#f0f921"
            ]
           ]
          },
          "colorway": [
           "#636efa",
           "#EF553B",
           "#00cc96",
           "#ab63fa",
           "#FFA15A",
           "#19d3f3",
           "#FF6692",
           "#B6E880",
           "#FF97FF",
           "#FECB52"
          ],
          "font": {
           "color": "#2a3f5f"
          },
          "geo": {
           "bgcolor": "white",
           "lakecolor": "white",
           "landcolor": "#E5ECF6",
           "showlakes": true,
           "showland": true,
           "subunitcolor": "white"
          },
          "hoverlabel": {
           "align": "left"
          },
          "hovermode": "closest",
          "mapbox": {
           "style": "light"
          },
          "paper_bgcolor": "white",
          "plot_bgcolor": "#E5ECF6",
          "polar": {
           "angularaxis": {
            "gridcolor": "white",
            "linecolor": "white",
            "ticks": ""
           },
           "bgcolor": "#E5ECF6",
           "radialaxis": {
            "gridcolor": "white",
            "linecolor": "white",
            "ticks": ""
           }
          },
          "scene": {
           "xaxis": {
            "backgroundcolor": "#E5ECF6",
            "gridcolor": "white",
            "gridwidth": 2,
            "linecolor": "white",
            "showbackground": true,
            "ticks": "",
            "zerolinecolor": "white"
           },
           "yaxis": {
            "backgroundcolor": "#E5ECF6",
            "gridcolor": "white",
            "gridwidth": 2,
            "linecolor": "white",
            "showbackground": true,
            "ticks": "",
            "zerolinecolor": "white"
           },
           "zaxis": {
            "backgroundcolor": "#E5ECF6",
            "gridcolor": "white",
            "gridwidth": 2,
            "linecolor": "white",
            "showbackground": true,
            "ticks": "",
            "zerolinecolor": "white"
           }
          },
          "shapedefaults": {
           "line": {
            "color": "#2a3f5f"
           }
          },
          "ternary": {
           "aaxis": {
            "gridcolor": "white",
            "linecolor": "white",
            "ticks": ""
           },
           "baxis": {
            "gridcolor": "white",
            "linecolor": "white",
            "ticks": ""
           },
           "bgcolor": "#E5ECF6",
           "caxis": {
            "gridcolor": "white",
            "linecolor": "white",
            "ticks": ""
           }
          },
          "title": {
           "x": 0.05
          },
          "xaxis": {
           "automargin": true,
           "gridcolor": "white",
           "linecolor": "white",
           "ticks": "",
           "title": {
            "standoff": 15
           },
           "zerolinecolor": "white",
           "zerolinewidth": 2
          },
          "yaxis": {
           "automargin": true,
           "gridcolor": "white",
           "linecolor": "white",
           "ticks": "",
           "title": {
            "standoff": 15
           },
           "zerolinecolor": "white",
           "zerolinewidth": 2
          }
         }
        },
        "xaxis": {
         "anchor": "y",
         "domain": [
          0,
          1
         ],
         "title": {
          "text": "x"
         }
        },
        "yaxis": {
         "anchor": "x",
         "domain": [
          0,
          1
         ],
         "title": {
          "text": "y"
         }
        }
       }
      }
     },
     "metadata": {},
     "output_type": "display_data"
    }
   ],
   "source": [
    "def analyse_pnl(taux = 0.04, default_rate = 1 ):\n",
    "\n",
    "\n",
    "    threshold_list = np.linspace(0, 1, 100)\n",
    "    pnl_list = []\n",
    "\n",
    "    for threshold in threshold_list:\n",
    "        v = 0\n",
    "        for m, y_true, y_pred_proba in zip(montant_list, y_true_list, y_pred_proba_list):\n",
    "            v += calcul_pnl_one_complexe(m, y_true=y_true, y_pred_proba=y_pred_proba,threshold=threshold, default_rate=default_rate, taux=taux  )\n",
    "        pnl_list.append(v)\n",
    "\n",
    "fig = px.line(x=threshold_list, y=pnl_list)\n",
    "fig.show()"
   ]
  },
  {
   "cell_type": "code",
   "execution_count": 70,
   "id": "7d2e3091-f93a-49e8-899d-4ad69dc7ff17",
   "metadata": {},
   "outputs": [],
   "source": [
    "analyse_pnl(taux=0.04, default_rate=1)"
   ]
  },
  {
   "cell_type": "code",
   "execution_count": 71,
   "id": "c2044c5b-5bdb-44bb-b305-3295e4ff2958",
   "metadata": {},
   "outputs": [],
   "source": [
    "analyse_pnl(0.04, 0.25)"
   ]
  },
  {
   "cell_type": "code",
   "execution_count": 72,
   "id": "bb175e65-3235-4398-a960-69290788d6d6",
   "metadata": {},
   "outputs": [],
   "source": [
    "# pert que 25% de la somme\n",
    "# taux interet = 0.03\n",
    "analyse_pnl(0.025, 0.25)"
   ]
  },
  {
   "cell_type": "code",
   "execution_count": 73,
   "id": "b833c19e-a34c-4ab3-941c-51c1db858902",
   "metadata": {},
   "outputs": [],
   "source": [
    "# pert que 25% de la somme\n",
    "# taux interet = 0.03\n",
    "analyse_pnl(0.03, 0.25)"
   ]
  },
  {
   "cell_type": "code",
   "execution_count": 74,
   "id": "3a780aae-d4bb-4500-acfd-6dbce4b4c5c2",
   "metadata": {},
   "outputs": [],
   "source": [
    "# SHAP VALUES"
   ]
  },
  {
   "cell_type": "code",
   "execution_count": null,
   "id": "32a0f89d-726d-46ab-a51e-14f5c9eb48b5",
   "metadata": {},
   "outputs": [],
   "source": []
  },
  {
   "cell_type": "code",
   "execution_count": 75,
   "id": "737a276b-2560-441a-9aaa-4aa6f30a0a72",
   "metadata": {},
   "outputs": [],
   "source": [
    "#Calculer le bénéfice sur l'intégralité du dataset = sur tous les clients\n",
    "#Calculer le predict_proba"
   ]
  },
  {
   "cell_type": "code",
   "execution_count": null,
   "id": "98bd45cb-01ed-4719-bccc-1d3b64e4fa1a",
   "metadata": {},
   "outputs": [],
   "source": []
  },
  {
   "cell_type": "code",
   "execution_count": null,
   "id": "25ad7574-7ef2-4690-9ebe-fa65797c8242",
   "metadata": {},
   "outputs": [],
   "source": []
  },
  {
   "cell_type": "raw",
   "id": "0c86b21e-ed2b-488a-a12d-e729e55c4d3f",
   "metadata": {},
   "source": [
    "# meilleures prédictions avec le meilleur modèle\n",
    "best_model = grid_1.best_estimator_\n",
    "predictions = best_model.predict(X_test)"
   ]
  },
  {
   "cell_type": "raw",
   "id": "c8270c6f-931d-4f53-b7ce-37c3a51f8c8a",
   "metadata": {},
   "source": [
    "def calcul_benefice(predictions):\n",
    "    benefice_total = 0\n",
    "    for prediction in predictions:\n",
    "        if prediction == \"Vrai Positif\":\n",
    "            benefice_total += 100  # Valeur arbitraire pour un vrai positif\n",
    "        elif prediction == \"Faux Positif\":\n",
    "            benefice_total -= 50  # Valeur arbitraire pour un faux positif\n",
    "        \n",
    "\n",
    "    return benefice_total"
   ]
  },
  {
   "cell_type": "raw",
   "id": "03e40324-ddf6-4382-b0a4-9161dc2fc4dd",
   "metadata": {},
   "source": [
    "benefice_simule = calcul_benefice(predictions)"
   ]
  },
  {
   "cell_type": "raw",
   "id": "3b4e5c9f-36d6-40f3-9fe3-3a5593ea224c",
   "metadata": {},
   "source": [
    "# Affichez le bénéfice simulé\n",
    "print(\"Bénéfice simulé :\", benefice_simule)"
   ]
  },
  {
   "cell_type": "raw",
   "id": "486cb59d-37cf-405a-a44d-a73f2649779a",
   "metadata": {},
   "source": [
    "print(\"Classification Report:\\n\", classification_report(y_test, predictions))\n",
    "print(\"Accuracy Score:\", accuracy_score(y_test, predictions))"
   ]
  },
  {
   "cell_type": "raw",
   "id": "fde49829-1261-4a67-97aa-c323593dd280",
   "metadata": {},
   "source": []
  },
  {
   "cell_type": "raw",
   "id": "15d47e53-cd02-4444-bed9-c6d66233acfb",
   "metadata": {},
   "source": []
  },
  {
   "cell_type": "raw",
   "id": "b9e68ecf-4efc-4497-be96-15df69592f6d",
   "metadata": {},
   "source": []
  },
  {
   "cell_type": "raw",
   "id": "2d43c24e-6c1b-4349-aaef-46ff9efc48fc",
   "metadata": {},
   "source": []
  },
  {
   "cell_type": "raw",
   "id": "814d70bf-ec03-4b55-b083-7a5987dca00e",
   "metadata": {},
   "source": []
  },
  {
   "cell_type": "raw",
   "id": "ddd8dfde-0e44-4595-9de1-cad59eba0ee5",
   "metadata": {},
   "source": [
    "\"RAPPEL\" & \"PRECISION\"\n",
    "#Ratio entre l'un et l'autre \n",
    "-> F1 Score\n",
    "-> Ecrire une fonction qui permet de calculer l'argent "
   ]
  },
  {
   "cell_type": "raw",
   "id": "fb299f47-aa79-4660-8b95-719058680cd6",
   "metadata": {},
   "source": []
  },
  {
   "cell_type": "raw",
   "id": "f4570ed7-918c-49d2-aee5-65aa9aac676e",
   "metadata": {},
   "source": [
    "grid_1 = GridSearchCV(pipeline_lr_rf, param_grid, cv=5, n_jobs=-1, return_train_score=True)\n",
    "\n",
    "grid_1.fit(x_train, y)"
   ]
  },
  {
   "cell_type": "code",
   "execution_count": null,
   "id": "49586e82-aa70-4cf9-96df-fa237008dbf1",
   "metadata": {},
   "outputs": [],
   "source": []
  },
  {
   "cell_type": "code",
   "execution_count": null,
   "id": "b130568b-4cfd-438f-98fe-db3fe13b2381",
   "metadata": {},
   "outputs": [],
   "source": []
  }
 ],
 "metadata": {
  "kernelspec": {
   "display_name": "Python 3",
   "language": "python",
   "name": "python3"
  },
  "language_info": {
   "codemirror_mode": {
    "name": "ipython",
    "version": 3
   },
   "file_extension": ".py",
   "mimetype": "text/x-python",
   "name": "python",
   "nbconvert_exporter": "python",
   "pygments_lexer": "ipython3",
   "version": "3.10.0"
  }
 },
 "nbformat": 4,
 "nbformat_minor": 5
}
