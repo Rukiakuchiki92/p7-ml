{
 "cells": [
  {
   "cell_type": "markdown",
   "id": "2f64481e-a0fd-4ff0-ba5a-77f8d1d83e72",
   "metadata": {},
   "source": [
    "<div style=\"background-color:#9dedde; padding: 15px\">\n",
    "<h2>Projet 7 : Implémentez un modèle de Scoring</h2>\n",
    "</div>"
   ]
  },
  {
   "cell_type": "code",
   "execution_count": null,
   "id": "ff11e8c2-1696-48e5-8565-f2065d619b0e",
   "metadata": {},
   "outputs": [],
   "source": [
    "import pandas as pd\n",
    "import numpy as np\n",
    "import matplotlib.pyplot as plt\n",
    "import seaborn as sns\n",
    "import plotly.graph_objects as go\n",
    "from plotly import tools\n",
    "import plotly.express as px\n",
    "from datetime import datetime\n",
    "import datetime\n",
    "\n",
    "# pd.set_option('display.max_columns', 200)\n",
    "# pd.set_option('display.max_rows', 1000)"
   ]
  },
  {
   "cell_type": "markdown",
   "id": "0defaedd-3d03-4d21-a358-fcea2da1d666",
   "metadata": {},
   "source": [
    "# **Chargement des données**"
   ]
  },
  {
   "cell_type": "code",
   "execution_count": null,
   "id": "696fe7a0-0fe2-4ec8-9e11-b0d1fa4f9651",
   "metadata": {},
   "outputs": [],
   "source": [
    "df = pd.read_csv(\"app_train_sample.csv\")"
   ]
  },
  {
   "cell_type": "code",
   "execution_count": null,
   "id": "b5343db0-7839-43ac-8104-1ac6529b25f0",
   "metadata": {},
   "outputs": [],
   "source": [
    "df"
   ]
  },
  {
   "cell_type": "markdown",
   "id": "847e9325-8e2a-45ac-bc10-c572adb312e5",
   "metadata": {},
   "source": [
    "# **Analyse de la forme du dataset**"
   ]
  },
  {
   "cell_type": "code",
   "execution_count": null,
   "id": "47c8f78b-d4d1-48e7-86f6-1db257567b3c",
   "metadata": {},
   "outputs": [],
   "source": [
    "df.shape"
   ]
  },
  {
   "cell_type": "code",
   "execution_count": null,
   "id": "dead893c-7e29-45d3-9492-94088df45ba5",
   "metadata": {},
   "outputs": [],
   "source": [
    "df.info()"
   ]
  },
  {
   "cell_type": "code",
   "execution_count": null,
   "id": "038cf691-cf09-4a6a-be54-3d2ab22590f8",
   "metadata": {},
   "outputs": [],
   "source": [
    "df.dtypes"
   ]
  },
  {
   "cell_type": "code",
   "execution_count": null,
   "id": "4464d6d6-a419-4901-bd72-aeb643524b34",
   "metadata": {},
   "outputs": [],
   "source": [
    "df.dtypes.value_counts()"
   ]
  },
  {
   "cell_type": "code",
   "execution_count": null,
   "id": "944d56d4-f3de-49d2-a320-8fc00ffcff4d",
   "metadata": {},
   "outputs": [],
   "source": [
    "df.select_dtypes(object).nunique().sort_values(ascending=False)"
   ]
  },
  {
   "cell_type": "code",
   "execution_count": null,
   "id": "f880e4ea-b730-4177-8cff-ef10bd6be6b8",
   "metadata": {},
   "outputs": [],
   "source": [
    "(df.select_dtypes(object).nunique().sort_values(ascending=False) / len(df)).round(3)"
   ]
  },
  {
   "cell_type": "markdown",
   "id": "bd4f63ea-6711-4efe-89e2-e02231b84e08",
   "metadata": {},
   "source": [
    "# **NaN & Duplicated**"
   ]
  },
  {
   "cell_type": "code",
   "execution_count": null,
   "id": "97a6123b-5aea-497e-abe2-65ccb39a66a9",
   "metadata": {},
   "outputs": [],
   "source": [
    "df.duplicated().sum()"
   ]
  },
  {
   "cell_type": "code",
   "execution_count": null,
   "id": "f5a18ed6-73cf-4414-a6d1-863a60b83adb",
   "metadata": {},
   "outputs": [],
   "source": [
    "# Calculer les taux de NaN pour chaque colonne\n",
    "nan_counts = df.isna().sum() / len(df) * 100\n",
    "\n",
    "# Créer un graphique à barres horizontales pour visualiser les taux de NaN\n",
    "plt.figure(figsize=(10, 30))\n",
    "nan_counts.sort_values().plot(kind=\"barh\")\n",
    "plt.title(\"Taux de NaN pour chaque colonne\")\n",
    "plt.xlabel(\"Pourcentage de NaN\")\n",
    "plt.ylabel(\"Colonnes\")\n",
    "plt.show()"
   ]
  },
  {
   "cell_type": "code",
   "execution_count": null,
   "id": "696c36be-99b0-4a68-8fea-9d01043486ed",
   "metadata": {},
   "outputs": [],
   "source": [
    "# Calculer les taux de NaN pour chaque colonne\n",
    "nan_counts = df.isna().sum() / len(df) * 100\n",
    "\n",
    "# Créer une dataframe triée par ordre décroissant des taux de NaN\n",
    "sorted_nan_counts = nan_counts.sort_values(ascending=False).reset_index()\n",
    "sorted_nan_counts.columns = [\"Colonnes\", \"Taux_NaN\"]\n",
    "\n",
    "\n",
    "# Créer une coloration (cmap) pour la dataframe\n",
    "cmap = plt.get_cmap(\"Reds\")\n",
    "sorted_nan_counts.style.background_gradient(cmap=\"Reds\", subset=[\"Taux_NaN\"])"
   ]
  },
  {
   "cell_type": "raw",
   "id": "c3df0076-4513-4d3e-ba1e-ad967ccc440f",
   "metadata": {},
   "source": [
    "On supprime les colonnes qui possèdent plus de 60% de NaN"
   ]
  },
  {
   "cell_type": "code",
   "execution_count": null,
   "id": "3e7e61c3-9078-4d91-8b84-6d40ff8f6770",
   "metadata": {},
   "outputs": [],
   "source": [
    "# Calculer les taux de NaN pour chaque colonne\n",
    "nan_percentages = df.isna().mean() * 100\n",
    "\n",
    "# Identifier les colonnes avec plus de 60% de NaN\n",
    "cols_to_drop = nan_percentages[nan_percentages > 60].index\n",
    "\n",
    "# Supprimer les colonnes identifiées\n",
    "df = df.drop(cols_to_drop, axis=1)"
   ]
  },
  {
   "cell_type": "code",
   "execution_count": null,
   "id": "e67f1fe9-2da8-4ae4-8d39-d5be9850becf",
   "metadata": {},
   "outputs": [],
   "source": [
    "# Calculer les taux de NaN pour chaque colonne\n",
    "nan_counts = df.isna().sum() / len(df) * 100\n",
    "\n",
    "# Créer une dataframe triée par ordre décroissant des taux de NaN\n",
    "sorted_nan_counts = nan_counts.sort_values(ascending=False).reset_index()\n",
    "sorted_nan_counts.columns = [\"Colonnes\", \"Taux_NaN\"]\n",
    "\n",
    "\n",
    "# Créer une coloration (cmap) pour la dataframe\n",
    "cmap = plt.get_cmap(\"Greens\")\n",
    "sorted_nan_counts.style.background_gradient(cmap=\"Greens\", subset=[\"Taux_NaN\"])"
   ]
  },
  {
   "cell_type": "code",
   "execution_count": null,
   "id": "6c659481-6a3d-4526-b1d6-5687440f4b2d",
   "metadata": {},
   "outputs": [],
   "source": [
    "df.duplicated(subset=\"SK_ID_CURR\").sum()"
   ]
  },
  {
   "cell_type": "markdown",
   "id": "9d0a6e69-e069-46c8-95ba-93d4197aff5d",
   "metadata": {},
   "source": [
    "# **Data Analyse**"
   ]
  },
  {
   "cell_type": "code",
   "execution_count": null,
   "id": "5c1068c4-7553-4132-a074-e5b126458bdb",
   "metadata": {},
   "outputs": [],
   "source": [
    "df.describe()"
   ]
  },
  {
   "cell_type": "code",
   "execution_count": null,
   "id": "02908e50-eb81-4814-85ec-0cfcc15b4a81",
   "metadata": {},
   "outputs": [],
   "source": [
    "df.describe(include=object)"
   ]
  },
  {
   "cell_type": "markdown",
   "id": "110b525c-b839-465d-9a62-b529708c8d89",
   "metadata": {},
   "source": [
    "# **SELECTION DES COLONNES**"
   ]
  },
  {
   "cell_type": "code",
   "execution_count": null,
   "id": "0b9ad8cc-cb91-4a88-856e-56f26dd1bece",
   "metadata": {},
   "outputs": [],
   "source": [
    "df"
   ]
  },
  {
   "cell_type": "code",
   "execution_count": null,
   "id": "4f008497-6228-4ab7-8a33-a2cd00ddc7e9",
   "metadata": {},
   "outputs": [],
   "source": [
    "# Liste des noms de colonnes\n",
    "columns = {\n",
    "    # Informations générales sur les clients :\n",
    "    \"SK_ID_CURR\": \"ID_CLIENT\",\n",
    "    \"TARGET\": \"CIBLE\",\n",
    "    \"NAME_CONTRACT_TYPE\": \"TYPE_CONTRAT\",\n",
    "    # Informations personnelles sur le client :\n",
    "    \"CODE_GENDER\": \"GENRE\",\n",
    "    \"FLAG_OWN_CAR\": \"PROPRIETAIRE_VOITURE\",\n",
    "    \"FLAG_OWN_REALTY\": \"PROPRIETAIRE_BIEN_IMMO\",\n",
    "    \"CNT_CHILDREN\": \"NBR_ENFANTS\",\n",
    "    \"AMT_INCOME_TOTAL\": \"REVENU_TOTAL\",\n",
    "    \"NAME_TYPE_SUITE\": \"NOM_TYPE_SUITE\",\n",
    "    \"NAME_INCOME_TYPE\": \"TYPE_REVENUS\",\n",
    "    \"NAME_EDUCATION_TYPE\": \"NIVEAU_EDUCATION\",\n",
    "    \"NAME_FAMILY_STATUS\": \"STATUT_FAMILIAL\",\n",
    "    \"NAME_HOUSING_TYPE\": \"TYPE_LOGEMENT\",\n",
    "    # Informations démographiques et régionales :\n",
    "    \"REGION_POPULATION_RELATIVE\": \"POPULATION_REGION\",\n",
    "    \"REG_REGION_NOT_LIVE_REGION\": \"REG_NON_RESIDENCE_REGION\",\n",
    "    \"REG_REGION_NOT_WORK_REGION\": \"REG_NON_REGION_TRAVAIL\",\n",
    "    \"LIVE_REGION_NOT_WORK_REGION\": \"RESIDENCE_NON_TRAVAIL_REGION\",\n",
    "    \"REG_CITY_NOT_LIVE_CITY\": \"REG_NON_RESIDENCE_VILLE\",\n",
    "    \"REG_CITY_NOT_WORK_CITY\": \"REG_NON_TRAVAIL_VILLE\",\n",
    "    \"LIVE_CITY_NOT_WORK_CITY\": \"RESIDENCE_NON_TRAVAIL_VILLE\",\n",
    "    # Informations temporelles :\n",
    "    \"DAYS_BIRTH\": \"JOURS_NAISSANCE\",\n",
    "    \"DAYS_EMPLOYED\": \"JOURS_EMPLOI\",\n",
    "    \"DAYS_REGISTRATION\": \"JOURS_ENREGISTREMENT\",\n",
    "    \"DAYS_ID_PUBLISH\": \"JOURS_ID_PUBLICATION\",\n",
    "    \"WEEKDAY_APPR_PROCESS_START\": \"JOUR_PROCESSUS_DEBUT\",\n",
    "    \"HOUR_APPR_PROCESS_START\": \"HEURE_PROCESSUS_DEBUT\",\n",
    "    \"DAYS_LAST_PHONE_CHANGE\": \"JOURS_DERNIER_CHANGEMENT_TELEPHONE\",\n",
    "    # Informations sur l'organisation du client :\n",
    "    \"ORGANIZATION_TYPE\": \"TYPE_ORGANISATION\",\n",
    "    # Informations provenant de sources externes :\n",
    "    \"EXT_SOURCE_1\": \"SOURCE_EXTERNE_1\",\n",
    "    \"EXT_SOURCE_2\": \"SOURCE_EXTERNE_2\",\n",
    "    \"EXT_SOURCE_3\": \"SOURCE_EXTERNE_3\",\n",
    "    # Informations sur les biens immobiliers du client :\n",
    "    \"AMT_CREDIT\": \"TOTAL_CREDIT\",\n",
    "    \"AMT_ANNUITY\": \"REMB_MENSUEL\",\n",
    "    \"AMT_GOODS_PRICE\": \"MONTANT_PRIX_BIENS\",\n",
    "    \"APARTMENTS_AVG\": \"APPARTEMENTS_MOYENNE\",\n",
    "    \"BASEMENTAREA_AVG\": \"SUPERFICIE_SOUTERRAINE_MOYENNE\",\n",
    "    \"YEARS_BEGINEXPLUATATION_AVG\": \"DEBUT_EXPLOITATION_MOYENNE\",\n",
    "    \"ELEVATORS_AVG\": \"ASCENSEURS_MOYENNE\",\n",
    "    \"ENTRANCES_AVG\": \"ENTREES_MOYENNE\",\n",
    "    \"FLOORSMAX_AVG\": \"ETAGES_MAX_MOYENNE\",\n",
    "    \"LANDAREA_AVG\": \"SUPERFICIE_TERRAIN_MOYENNE\",\n",
    "    \"LIVINGAREA_AVG\": \"SUPERFICIE_HABITABLE_MOYENNE\",\n",
    "    \"NONLIVINGAREA_AVG\": \"SUPERFICIE_NON_HABITABLE_MOYENNE\",\n",
    "    \"APARTMENTS_MODE\": \"APPARTEMENTS_MODE\",\n",
    "    \"BASEMENTAREA_MODE\": \"SUPERFICIE_SOUTERRAINE_MODE\",\n",
    "    \"YEARS_BEGINEXPLUATATION_MODE\": \"DEBUT_EXPLOITATION_MODE\",\n",
    "    \"ELEVATORS_MODE\": \"ASCENSEURS_MODE\",\n",
    "    \"ENTRANCES_MODE\": \"ENTREES_MODE\",\n",
    "    \"FLOORSMAX_MODE\": \"ETAGES_MAX_MODE\",\n",
    "    \"LANDAREA_MODE\": \"SUPERFICIE_TERRAIN_MODE\",\n",
    "    \"LIVINGAREA_MODE\": \"SUPERFICIE_HABITABLE_MODE\",\n",
    "    \"NONLIVINGAREA_MODE\": \"SUPERFICIE_NON_HABITABLE_MODE\",\n",
    "    \"APARTMENTS_MEDI\": \"APPARTEMENTS_MEDIANE\",\n",
    "    \"BASEMENTAREA_MEDI\": \"SUPERFICIE_SOUTERRAINE_MEDIANE\",\n",
    "    \"YEARS_BEGINEXPLUATATION_MEDI\": \"DEBUT_EXPLOITATION_MEDIANE\",\n",
    "    \"ELEVATORS_MEDI\": \"ASCENSEURS_MEDIANE\",\n",
    "    \"ENTRANCES_MEDI\": \"ENTREES_MEDIANE\",\n",
    "    \"FLOORSMAX_MEDI\": \"ETAGES_MAX_MEDIANE\",\n",
    "    \"LANDAREA_MEDI\": \"SUPERFICIE_TERRAIN_MEDIANE\",\n",
    "    \"LIVINGAREA_MEDI\": \"SUPERFICIE_HABITABLE_MEDIANE\",\n",
    "    \"NONLIVINGAREA_MEDI\": \"SUPERFICIE_NON_HABITABLE_MEDIANE\",\n",
    "    \"HOUSETYPE_MODE\": \"MODELE_TYPE_LOGEMENT\",\n",
    "    \"TOTALAREA_MODE\": \"SUPERFICIE_TOTALE_MODE\",\n",
    "    \"WALLSMATERIAL_MODE\": \"MODELE_MATERIAUX_MURS\",\n",
    "    \"EMERGENCYSTATE_MODE\": \"MODE_URGENCE\",\n",
    "    # Informations sociales du client :\n",
    "    \"OBS_30_CNT_SOCIAL_CIRCLE\": \"OBS_30_CNT_CERCLE_SOCIAL\",\n",
    "    \"DEF_30_CNT_SOCIAL_CIRCLE\": \"DEF_30_CNT_CERCLE_SOCIAL\",\n",
    "    \"OBS_60_CNT_SOCIAL_CIRCLE\": \"OBS_60_CNT_CERCLE_SOCIAL\",\n",
    "    \"DEF_60_CNT_SOCIAL_CIRCLE\": \"DEF_60_CNT_CERCLE_SOCIAL\",\n",
    "    # Informations sur les documents du client :\n",
    "    \"FLAG_MOBIL\": \"FLAG_MOBILE\",\n",
    "    \"FLAG_EMP_PHONE\": \"FLAG_TELEPHONE_EMPLOYE\",\n",
    "    \"FLAG_WORK_PHONE\": \"FLAG_TELEPHONE_TRAVAIL\",\n",
    "    \"FLAG_CONT_MOBILE\": \"FLAG_TELEPHONE_MOBILE\",\n",
    "    \"FLAG_PHONE\": \"FLAG_TELEPHONE\",\n",
    "    \"FLAG_EMAIL\": \"FLAG_EMAIL\",\n",
    "    \"FLAG_DOCUMENT_2\": \"FLAG_DOCUMENT_2\",\n",
    "    \"FLAG_DOCUMENT_3\": \"FLAG_DOCUMENT_3\",\n",
    "    \"FLAG_DOCUMENT_4\": \"FLAG_DOCUMENT_4\",\n",
    "    \"FLAG_DOCUMENT_5\": \"FLAG_DOCUMENT_5\",\n",
    "    \"FLAG_DOCUMENT_6\": \"FLAG_DOCUMENT_6\",\n",
    "    \"FLAG_DOCUMENT_7\": \"FLAG_DOCUMENT_7\",\n",
    "    \"FLAG_DOCUMENT_8\": \"FLAG_DOCUMENT_8\",\n",
    "    \"FLAG_DOCUMENT_9\": \"FLAG_DOCUMENT_9\",\n",
    "    \"FLAG_DOCUMENT_10\": \"FLAG_DOCUMENT_10\",\n",
    "    \"FLAG_DOCUMENT_11\": \"FLAG_DOCUMENT_11\",\n",
    "    \"FLAG_DOCUMENT_12\": \"FLAG_DOCUMENT_12\",\n",
    "    \"FLAG_DOCUMENT_13\": \"FLAG_DOCUMENT_13\",\n",
    "    \"FLAG_DOCUMENT_14\": \"FLAG_DOCUMENT_14\",\n",
    "    \"FLAG_DOCUMENT_15\": \"FLAG_DOCUMENT_15\",\n",
    "    \"FLAG_DOCUMENT_16\": \"FLAG_DOCUMENT_16\",\n",
    "    \"FLAG_DOCUMENT_17\": \"FLAG_DOCUMENT_17\",\n",
    "    \"FLAG_DOCUMENT_18\": \"FLAG_DOCUMENT_18\",\n",
    "    \"FLAG_DOCUMENT_19\": \"FLAG_DOCUMENT_19\",\n",
    "    \"FLAG_DOCUMENT_20\": \"FLAG_DOCUMENT_20\",\n",
    "    \"FLAG_DOCUMENT_21\": \"FLAG_DOCUMENT_21\",\n",
    "    # Informations sur les demandes de crédit au bureau de crédit du client :\n",
    "    \"AMT_REQ_CREDIT_BUREAU_HOUR\": \"NBR_DEMANDES_CREDIT_BUREAU_HEURE\",\n",
    "    \"AMT_REQ_CREDIT_BUREAU_DAY\": \"NBR_DEMANDES_CREDIT_BUREAU_JOUR\",\n",
    "    \"AMT_REQ_CREDIT_BUREAU_WEEK\": \"NBR_DEMANDES_CREDIT_BUREAU_SEMAINE\",\n",
    "    \"AMT_REQ_CREDIT_BUREAU_MON\": \"NBR_DEMANDES_CREDIT_BUREAU_MOIS\",\n",
    "    \"AMT_REQ_CREDIT_BUREAU_QRT\": \"NBR_DEMANDES_CREDIT_BUREAU_TRIMESTRE\",\n",
    "    \"AMT_REQ_CREDIT_BUREAU_YEAR\": \"NBR_DEMANDES_CREDIT_BUREAU_ANNEE\",\n",
    "}"
   ]
  },
  {
   "cell_type": "code",
   "execution_count": null,
   "id": "9c0a8f4c-9fef-4174-9822-fdabde15e4d9",
   "metadata": {},
   "outputs": [],
   "source": [
    "df.rename(columns=columns, inplace=True)"
   ]
  },
  {
   "cell_type": "code",
   "execution_count": null,
   "id": "37d1b9c5-b1b1-4fb8-8890-b3f56241bf26",
   "metadata": {},
   "outputs": [],
   "source": [
    "df"
   ]
  },
  {
   "cell_type": "code",
   "execution_count": null,
   "id": "d28c3e44-b155-43c0-8516-7c1d6ac0b585",
   "metadata": {},
   "outputs": [],
   "source": [
    "# Calculer les taux de NaN pour chaque colonne\n",
    "nan_counts = df.isna().sum() / len(df) * 100\n",
    "\n",
    "# Créer une dataframe triée par ordre décroissant des taux de NaN\n",
    "sorted_nan_counts = nan_counts.sort_values(ascending=False).reset_index()\n",
    "sorted_nan_counts.columns = [\"Colonnes\", \"Taux_NaN\"]\n",
    "\n",
    "\n",
    "# Créer une coloration (cmap) pour la dataframe\n",
    "cmap = plt.get_cmap(\"Greens\")\n",
    "sorted_nan_counts.style.background_gradient(cmap=\"Oranges\", subset=[\"Taux_NaN\"])"
   ]
  },
  {
   "cell_type": "code",
   "execution_count": null,
   "id": "d148746f-a274-40aa-8369-245e49760747",
   "metadata": {},
   "outputs": [],
   "source": [
    "# Calculer les taux de NaN pour chaque colonne\n",
    "nan_percentages = df.isna().mean() * 100\n",
    "\n",
    "# Identifier les colonnes avec plus de 60% de NaN\n",
    "cols_to_drop = nan_percentages[nan_percentages > 30].index\n",
    "\n",
    "# Supprimer les colonnes identifiées\n",
    "df = df.drop(cols_to_drop, axis=1)"
   ]
  },
  {
   "cell_type": "code",
   "execution_count": null,
   "id": "c42f0860-b85b-4b62-aa72-a80b54d1d598",
   "metadata": {},
   "outputs": [],
   "source": [
    "df"
   ]
  },
  {
   "cell_type": "code",
   "execution_count": null,
   "id": "4fa20167-3578-4608-ba6b-65a70964c802",
   "metadata": {},
   "outputs": [],
   "source": [
    "df.columns.tolist()"
   ]
  },
  {
   "cell_type": "code",
   "execution_count": null,
   "id": "ee03f663-d6d0-428d-b04b-121b82ccf982",
   "metadata": {},
   "outputs": [],
   "source": [
    "col = [\n",
    "    \"ID_CLIENT\",\n",
    "    \"CIBLE\",\n",
    "    \"TYPE_CONTRAT\",\n",
    "    \"GENRE\",\n",
    "    \"PROPRIETAIRE_VOITURE\",\n",
    "    \"PROPRIETAIRE_BIEN_IMMO\",\n",
    "    \"NBR_ENFANTS\",\n",
    "    \"REVENU_TOTAL\",\n",
    "    \"TOTAL_CREDIT\",\n",
    "    \"REMB_MENSUEL\",\n",
    "    \"MONTANT_PRIX_BIENS\",\n",
    "    \"NOM_TYPE_SUITE\",\n",
    "    \"TYPE_REVENUS\",\n",
    "    \"NIVEAU_EDUCATION\",\n",
    "    \"STATUT_FAMILIAL\",\n",
    "    \"TYPE_LOGEMENT\",\n",
    "    \"POPULATION_REGION\",\n",
    "    \"JOURS_NAISSANCE\",\n",
    "    \"JOURS_EMPLOI\",\n",
    "    \"JOURS_ENREGISTREMENT\",\n",
    "    \"JOURS_ID_PUBLICATION\",\n",
    "    \"FLAG_MOBILE\",\n",
    "    #'FLAG_TELEPHONE_EMPLOYE',\n",
    "    #'FLAG_TELEPHONE_TRAVAIL',\n",
    "    \"FLAG_TELEPHONE_MOBILE\",\n",
    "    #'FLAG_TELEPHONE',\n",
    "    \"FLAG_EMAIL\",\n",
    "    \"CNT_FAM_MEMBERS\",\n",
    "    \"REGION_RATING_CLIENT\",\n",
    "    \"REGION_RATING_CLIENT_W_CITY\",\n",
    "    \"JOUR_PROCESSUS_DEBUT\",\n",
    "    \"HEURE_PROCESSUS_DEBUT\",\n",
    "    \"REG_NON_RESIDENCE_REGION\",\n",
    "    \"REG_NON_REGION_TRAVAIL\",\n",
    "    \"RESIDENCE_NON_TRAVAIL_REGION\",\n",
    "    \"REG_NON_RESIDENCE_VILLE\",\n",
    "    \"REG_NON_TRAVAIL_VILLE\",\n",
    "    \"RESIDENCE_NON_TRAVAIL_VILLE\",\n",
    "    \"TYPE_ORGANISATION\",\n",
    "    \"SOURCE_EXTERNE_2\",\n",
    "    \"SOURCE_EXTERNE_3\",\n",
    "    #'OBS_30_CNT_CERCLE_SOCIAL',\n",
    "    #'DEF_30_CNT_CERCLE_SOCIAL',\n",
    "    #'OBS_60_CNT_CERCLE_SOCIAL',\n",
    "    #'DEF_60_CNT_CERCLE_SOCIAL',\n",
    "    #'JOURS_DERNIER_CHANGEMENT_TELEPHONE',\n",
    "    \"FLAG_DOCUMENT_2\",\n",
    "    \"FLAG_DOCUMENT_3\",\n",
    "    \"FLAG_DOCUMENT_4\",\n",
    "    # 'FLAG_DOCUMENT_5',\n",
    "    # 'FLAG_DOCUMENT_6',\n",
    "    # 'FLAG_DOCUMENT_7',\n",
    "    # 'FLAG_DOCUMENT_8',\n",
    "    # 'FLAG_DOCUMENT_9',\n",
    "    # 'FLAG_DOCUMENT_10',\n",
    "    # 'FLAG_DOCUMENT_11',\n",
    "    # 'FLAG_DOCUMENT_12',\n",
    "    # 'FLAG_DOCUMENT_13',\n",
    "    # 'FLAG_DOCUMENT_14',\n",
    "    # 'FLAG_DOCUMENT_15',\n",
    "    # 'FLAG_DOCUMENT_16',\n",
    "    # 'FLAG_DOCUMENT_17',\n",
    "    # 'FLAG_DOCUMENT_18',\n",
    "    # 'FLAG_DOCUMENT_19',\n",
    "    # 'FLAG_DOCUMENT_20',\n",
    "    # 'FLAG_DOCUMENT_21',\n",
    "    #'NBR_DEMANDES_CREDIT_BUREAU_HEURE',\n",
    "    #'NBR_DEMANDES_CREDIT_BUREAU_JOUR',\n",
    "    #'NBR_DEMANDES_CREDIT_BUREAU_SEMAINE',\n",
    "    #'NBR_DEMANDES_CREDIT_BUREAU_MOIS',\n",
    "    #'NBR_DEMANDES_CREDIT_BUREAU_TRIMESTRE',\n",
    "    \"NBR_DEMANDES_CREDIT_BUREAU_ANNEE\",\n",
    "]"
   ]
  },
  {
   "cell_type": "code",
   "execution_count": null,
   "id": "0d768406-9e02-420e-b8a1-a07297bdd92b",
   "metadata": {},
   "outputs": [],
   "source": [
    "df = df.loc[:, col]"
   ]
  },
  {
   "cell_type": "code",
   "execution_count": null,
   "id": "d2c85fd3-a4e4-467d-a459-72b20173d625",
   "metadata": {},
   "outputs": [],
   "source": [
    "df.shape"
   ]
  },
  {
   "cell_type": "markdown",
   "id": "7f716501-8ef4-44df-9828-39ea53660aa8",
   "metadata": {},
   "source": [
    "#### **Création colonnes**"
   ]
  },
  {
   "cell_type": "code",
   "execution_count": null,
   "id": "dc496187-4132-432c-9fdb-a75e74713108",
   "metadata": {},
   "outputs": [],
   "source": [
    "df.columns"
   ]
  },
  {
   "cell_type": "markdown",
   "id": "92758d2c-9bde-473e-9dab-ba1e512b4918",
   "metadata": {},
   "source": [
    "**Date de naissance**"
   ]
  },
  {
   "cell_type": "code",
   "execution_count": null,
   "id": "120623e3-635e-4e9e-80cb-ff48953c1d3c",
   "metadata": {},
   "outputs": [],
   "source": [
    "df.JOURS_NAISSANCE"
   ]
  },
  {
   "cell_type": "code",
   "execution_count": null,
   "id": "f2b276c5-972a-4ba6-b9a5-c073cfd8bfee",
   "metadata": {},
   "outputs": [],
   "source": [
    "# Convertir en dates de naissance\n",
    "df[\"DATE_NAISSANCE\"] = pd.to_datetime(\"today\") + pd.to_timedelta(\n",
    "    df[\"JOURS_NAISSANCE\"], unit=\"D\"\n",
    ")\n",
    "\n",
    "\n",
    "# Supprimer l'heure de la date\n",
    "df[\"DATE_NAISSANCE\"] = df[\"DATE_NAISSANCE\"].dt.floor(\"D\")\n",
    "\n",
    "# Changer le format de la date en \"jour/mois/année\" (format français)\n",
    "df[\"DATE_NAISSANCE\"] = df[\"DATE_NAISSANCE\"].dt.strftime(\"%d/%m/%Y\")"
   ]
  },
  {
   "cell_type": "code",
   "execution_count": null,
   "id": "b7a86e54-a552-4e67-95e5-8a3b5c7a3737",
   "metadata": {},
   "outputs": [],
   "source": [
    "df[\"DATE_NAISSANCE\"]"
   ]
  },
  {
   "cell_type": "markdown",
   "id": "7586fd60-53d5-42f7-ab5f-31eadbb0fe9a",
   "metadata": {},
   "source": [
    "**Age des clients**"
   ]
  },
  {
   "cell_type": "code",
   "execution_count": null,
   "id": "4e43fc93-77b9-40c3-82e7-fa662f98dd54",
   "metadata": {},
   "outputs": [],
   "source": [
    "# Convertir en format de date\n",
    "df[\"DATE_NAISSANCE\"] = pd.to_datetime(df[\"DATE_NAISSANCE\"], format=\"%d/%m/%Y\")\n",
    "\n",
    "# Calculer l'âge\n",
    "df[\"AGE\"] = pd.to_datetime(\"today\").year - df[\"DATE_NAISSANCE\"].dt.year"
   ]
  },
  {
   "cell_type": "code",
   "execution_count": null,
   "id": "bf5e4288-c231-4e63-b5d8-ee4be86585a0",
   "metadata": {},
   "outputs": [],
   "source": [
    "df.AGE"
   ]
  },
  {
   "cell_type": "code",
   "execution_count": null,
   "id": "9bbd0d1f-367c-4425-b6ea-19c865773532",
   "metadata": {},
   "outputs": [],
   "source": [
    "df"
   ]
  },
  {
   "cell_type": "markdown",
   "id": "f9b129dc-68e3-4d08-9d25-436233ea645a",
   "metadata": {},
   "source": [
    "**Jours travaillés**"
   ]
  },
  {
   "cell_type": "code",
   "execution_count": null,
   "id": "270ad470-9d32-4616-8ba5-883f7d276d97",
   "metadata": {},
   "outputs": [],
   "source": [
    "df.JOURS_EMPLOI"
   ]
  },
  {
   "cell_type": "code",
   "execution_count": null,
   "id": "719e8315",
   "metadata": {},
   "outputs": [],
   "source": [
    "date_list = [\"DAYS_BIRTH\", \"DAYS_EMPLOYED\", \"DAYS_REGISTRATION\", \"DAYS_ID_PUBLISH\"]\n",
    "for col in date_list:\n",
    "    if col in df.columns:\n",
    "        df[col] = df[col].replace(365243, np.nan)"
   ]
  },
  {
   "cell_type": "code",
   "execution_count": null,
   "id": "4d43934b-2aa3-4139-ac5c-051b27fe5973",
   "metadata": {},
   "outputs": [],
   "source": [
    "df"
   ]
  },
  {
   "cell_type": "code",
   "execution_count": null,
   "id": "eb64a3ba-3abf-4986-b78e-2f39ff5035db",
   "metadata": {},
   "outputs": [],
   "source": [
    "# df.drop(columns=['JOURS_NAISSANCE','JOURS_EMPLOI' ], inplace=True)"
   ]
  },
  {
   "cell_type": "code",
   "execution_count": null,
   "id": "e2309eea-43fd-4a37-9823-2b224b886d39",
   "metadata": {},
   "outputs": [],
   "source": [
    "df"
   ]
  },
  {
   "cell_type": "code",
   "execution_count": null,
   "id": "d845eaaf-4774-4ce2-bc31-dc9dfee28be7",
   "metadata": {},
   "outputs": [],
   "source": [
    "df.columns"
   ]
  },
  {
   "cell_type": "code",
   "execution_count": null,
   "id": "31327159-6277-41d9-87e4-809d2d695f57",
   "metadata": {},
   "outputs": [],
   "source": [
    "# Calculer les taux de NaN pour chaque colonne\n",
    "nan_counts = df.isna().sum() / len(df) * 100\n",
    "\n",
    "# Créer une dataframe triée par ordre décroissant des taux de NaN\n",
    "sorted_nan_counts = nan_counts.sort_values(ascending=False).reset_index()\n",
    "sorted_nan_counts.columns = [\"Colonnes\", \"Taux_NaN\"]\n",
    "\n",
    "\n",
    "# Créer une coloration (cmap) pour la dataframe\n",
    "cmap = plt.get_cmap(\"Greens\")\n",
    "sorted_nan_counts.style.background_gradient(cmap=\"Blues\", subset=[\"Taux_NaN\"])"
   ]
  },
  {
   "cell_type": "markdown",
   "id": "becb86c3-7406-4f20-938a-1c2dc12755f7",
   "metadata": {
    "tags": []
   },
   "source": [
    "## **Colonnes finales**"
   ]
  },
  {
   "cell_type": "code",
   "execution_count": null,
   "id": "50c4742e-b46f-4d41-ae51-a994d9de6414",
   "metadata": {},
   "outputs": [],
   "source": [
    "col_list = [\n",
    "    \"NBR_DEMANDES_CREDIT_BUREAU_ANNEE\",\n",
    "    \"NOM_TYPE_SUITE\",\n",
    "    \"MONTANT_PRIX_BIENS\",\n",
    "    \"CNT_FAM_MEMBERS\",\n",
    "    \"PROPRIETAIRE_BIEN_IMMO\",\n",
    "    \"JOURS_ENREGISTREMENT\",\n",
    "    \"REVENU_TOTAL\",\n",
    "    \"TOTAL_CREDIT\",\n",
    "    \"REMB_MENSUEL\",\n",
    "    \"NIVEAU_EDUCATION\",\n",
    "    \"TYPE_REVENUS\",\n",
    "    \"FLAG_MOBILE\",\n",
    "    \"JOURS_ID_PUBLICATION\",\n",
    "    \"NBR_ENFANTS\",\n",
    "    \"TYPE_CONTRAT\",\n",
    "    \"FLAG_DOCUMENT_4\",\n",
    "    \"RESIDENCE_NON_TRAVAIL_VILLE\",\n",
    "    \"REG_NON_TRAVAIL_VILLE\",\n",
    "    \"DATE_NAISSANCE\",\n",
    "    \"AGE\",\n",
    "    \"ID_CLIENT\",\n",
    "    \"GENRE\",\n",
    "    \"CIBLE\",\n",
    "    \"REGION_RATING_CLIENT\",\n",
    "    \"DATE_DEBUT_TRAVAIL\",\n",
    "    \"JOURS_EMPLOI\",\n",
    "    \"PROPRIETAIRE_VOITURE\",\n",
    "    \"STATUT_FAMILIAL\",\n",
    "    \"TYPE_LOGEMENT\",\n",
    "    \"SOURCE_EXTERNE_2\",\n",
    "    \"SOURCE_EXTERNE_3\",\n",
    "]"
   ]
  },
  {
   "cell_type": "code",
   "execution_count": null,
   "id": "8e67e5f9-9ff0-4525-98a2-5af96152444e",
   "metadata": {},
   "outputs": [],
   "source": [
    "col_fin = [\n",
    "    \"TYPE_CONTRAT\",\n",
    "    \"AGE\",\n",
    "    \"DATE_NAISSANCE\",\n",
    "    \"ID_CLIENT\",\n",
    "    \"CIBLE\",\n",
    "    \"STATUT_FAMILIAL\",\n",
    "    \"JOURS_EMPLOI\",\n",
    "    \"TOTAL_CREDIT\",\n",
    "    \"REMB_MENSUEL\",\n",
    "    \"PROPRIETAIRE_BIEN_IMMO\",\n",
    "    \"CNT_FAM_MEMBERS\",\n",
    "    \"TYPE_REVENUS\",\n",
    "    \"GENRE\",\n",
    "    \"MONTANT_PRIX_BIENS\",\n",
    "    \"NIVEAU_EDUCATION\",\n",
    "    \"REVENU_TOTAL\",\n",
    "    \"SOURCE_EXTERNE_2\",\n",
    "    \"SOURCE_EXTERNE_3\",\n",
    "    \"PROPRIETAIRE_VOITURE\",\n",
    "]"
   ]
  },
  {
   "cell_type": "code",
   "execution_count": null,
   "id": "860b274b",
   "metadata": {},
   "outputs": [],
   "source": [
    "df.columns.tolist()"
   ]
  },
  {
   "cell_type": "code",
   "execution_count": null,
   "id": "f6d59dac-141e-4640-9f5e-5338732451b9",
   "metadata": {},
   "outputs": [],
   "source": [
    "len(col_fin)"
   ]
  },
  {
   "cell_type": "code",
   "execution_count": null,
   "id": "fd3eb0f3-bef9-43e1-a883-53aabaa49a70",
   "metadata": {},
   "outputs": [],
   "source": [
    "df = df.loc[:, col_fin]"
   ]
  },
  {
   "cell_type": "code",
   "execution_count": null,
   "id": "07797426-370f-4d66-820a-c23abdd70ab0",
   "metadata": {},
   "outputs": [],
   "source": [
    "df"
   ]
  },
  {
   "cell_type": "markdown",
   "id": "95a02bcb-00be-4414-8789-fed2977fcd2a",
   "metadata": {},
   "source": [
    "# **Export data**"
   ]
  },
  {
   "cell_type": "code",
   "execution_count": null,
   "id": "36dbb75e-816e-4b2e-bab3-4b0ccc8dc820",
   "metadata": {},
   "outputs": [],
   "source": [
    "df.to_csv(\"app_train_sample_clean.csv\", index=False)"
   ]
  },
  {
   "cell_type": "code",
   "execution_count": null,
   "id": "099b5aee-d359-4289-b77a-1e0b9b270ab6",
   "metadata": {},
   "outputs": [],
   "source": [
    "19/30_000"
   ]
  },
  {
   "cell_type": "code",
   "execution_count": null,
   "id": "7957d5a9",
   "metadata": {},
   "outputs": [],
   "source": []
  }
 ],
 "metadata": {
  "kernelspec": {
   "display_name": "Python 3",
   "language": "python",
   "name": "python3"
  },
  "language_info": {
   "codemirror_mode": {
    "name": "ipython",
    "version": 3
   },
   "file_extension": ".py",
   "mimetype": "text/x-python",
   "name": "python",
   "nbconvert_exporter": "python",
   "pygments_lexer": "ipython3",
   "version": "3.10.12"
  }
 },
 "nbformat": 4,
 "nbformat_minor": 5
}
