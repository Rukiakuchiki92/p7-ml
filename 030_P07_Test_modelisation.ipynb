{
 "cells": [
  {
   "cell_type": "markdown",
   "id": "27f6018e",
   "metadata": {},
   "source": [
    "- **MODELISATION :** \n",
    "\n",
    "\n",
    "1) Chargement et transformation des données\n",
    "2) Modélisation\n",
    "3) Résultats de la modélisation\n",
    "    - RandomForestClassifier\n",
    "    - Regression Logistique\n",
    "    - XGBoost Classifier\n",
    "4) Prédiction du meilleur modèle\n",
    "5) Features Importances\n",
    "6) Conclusion"
   ]
  },
  {
   "cell_type": "code",
   "execution_count": null,
   "id": "bd21ff09",
   "metadata": {},
   "outputs": [],
   "source": []
  },
  {
   "cell_type": "code",
   "execution_count": 1,
   "id": "58cfd430",
   "metadata": {},
   "outputs": [
    {
     "name": "stdout",
     "output_type": "stream",
     "text": [
      "Requirement already satisfied: xgboost in c:\\users\\acer6\\appdata\\local\\programs\\python\\python312\\lib\\site-packages (2.1.3)\n",
      "Requirement already satisfied: numpy in c:\\users\\acer6\\appdata\\local\\programs\\python\\python312\\lib\\site-packages (from xgboost) (1.26.4)\n",
      "Requirement already satisfied: scipy in c:\\users\\acer6\\appdata\\local\\programs\\python\\python312\\lib\\site-packages (from xgboost) (1.13.1)\n"
     ]
    },
    {
     "name": "stderr",
     "output_type": "stream",
     "text": [
      "WARNING: Ignoring invalid distribution ~atplotlib (C:\\Users\\acer6\\AppData\\Local\\Programs\\Python\\Python312\\Lib\\site-packages)\n",
      "WARNING: Ignoring invalid distribution ~lflow-skinny (C:\\Users\\acer6\\AppData\\Local\\Programs\\Python\\Python312\\Lib\\site-packages)\n",
      "WARNING: Ignoring invalid distribution ~treamlit (C:\\Users\\acer6\\AppData\\Local\\Programs\\Python\\Python312\\Lib\\site-packages)\n",
      "WARNING: Ignoring invalid distribution ~atplotlib (C:\\Users\\acer6\\AppData\\Local\\Programs\\Python\\Python312\\Lib\\site-packages)\n",
      "WARNING: Ignoring invalid distribution ~lflow-skinny (C:\\Users\\acer6\\AppData\\Local\\Programs\\Python\\Python312\\Lib\\site-packages)\n",
      "WARNING: Ignoring invalid distribution ~treamlit (C:\\Users\\acer6\\AppData\\Local\\Programs\\Python\\Python312\\Lib\\site-packages)\n",
      "WARNING: Ignoring invalid distribution ~atplotlib (C:\\Users\\acer6\\AppData\\Local\\Programs\\Python\\Python312\\Lib\\site-packages)\n",
      "WARNING: Ignoring invalid distribution ~lflow-skinny (C:\\Users\\acer6\\AppData\\Local\\Programs\\Python\\Python312\\Lib\\site-packages)\n",
      "WARNING: Ignoring invalid distribution ~treamlit (C:\\Users\\acer6\\AppData\\Local\\Programs\\Python\\Python312\\Lib\\site-packages)\n"
     ]
    }
   ],
   "source": [
    "#!pip3 install mlflow \n",
    "#!pip3 install evidently\n",
    "# \n",
    "!pip3 install xgboost\n",
    "\n",
    "\n"
   ]
  },
  {
   "cell_type": "code",
   "execution_count": 2,
   "id": "f047645f",
   "metadata": {},
   "outputs": [
    {
     "name": "stdout",
     "output_type": "stream",
     "text": [
      "Requirement already satisfied: pip in c:\\users\\acer6\\appdata\\local\\programs\\python\\python312\\lib\\site-packages (25.1.1)\n"
     ]
    },
    {
     "name": "stderr",
     "output_type": "stream",
     "text": [
      "WARNING: Ignoring invalid distribution ~atplotlib (C:\\Users\\acer6\\AppData\\Local\\Programs\\Python\\Python312\\Lib\\site-packages)\n",
      "WARNING: Ignoring invalid distribution ~lflow-skinny (C:\\Users\\acer6\\AppData\\Local\\Programs\\Python\\Python312\\Lib\\site-packages)\n",
      "WARNING: Ignoring invalid distribution ~treamlit (C:\\Users\\acer6\\AppData\\Local\\Programs\\Python\\Python312\\Lib\\site-packages)\n",
      "WARNING: Ignoring invalid distribution ~atplotlib (C:\\Users\\acer6\\AppData\\Local\\Programs\\Python\\Python312\\Lib\\site-packages)\n",
      "WARNING: Ignoring invalid distribution ~lflow-skinny (C:\\Users\\acer6\\AppData\\Local\\Programs\\Python\\Python312\\Lib\\site-packages)\n",
      "WARNING: Ignoring invalid distribution ~treamlit (C:\\Users\\acer6\\AppData\\Local\\Programs\\Python\\Python312\\Lib\\site-packages)\n",
      "WARNING: Ignoring invalid distribution ~atplotlib (C:\\Users\\acer6\\AppData\\Local\\Programs\\Python\\Python312\\Lib\\site-packages)\n",
      "WARNING: Ignoring invalid distribution ~lflow-skinny (C:\\Users\\acer6\\AppData\\Local\\Programs\\Python\\Python312\\Lib\\site-packages)\n",
      "WARNING: Ignoring invalid distribution ~treamlit (C:\\Users\\acer6\\AppData\\Local\\Programs\\Python\\Python312\\Lib\\site-packages)\n"
     ]
    }
   ],
   "source": [
    "!pip3 install --upgrade pip\n",
    "\n",
    "\n"
   ]
  },
  {
   "cell_type": "code",
   "execution_count": 3,
   "id": "ba5a876c",
   "metadata": {},
   "outputs": [
    {
     "name": "stdout",
     "output_type": "stream",
     "text": [
      "Requirement already satisfied: nbformat in c:\\users\\acer6\\appdata\\local\\programs\\python\\python312\\lib\\site-packages (5.10.4)\n",
      "Requirement already satisfied: fastjsonschema>=2.15 in c:\\users\\acer6\\appdata\\local\\programs\\python\\python312\\lib\\site-packages (from nbformat) (2.21.1)\n",
      "Requirement already satisfied: jsonschema>=2.6 in c:\\users\\acer6\\appdata\\local\\programs\\python\\python312\\lib\\site-packages (from nbformat) (4.23.0)\n",
      "Requirement already satisfied: jupyter-core!=5.0.*,>=4.12 in c:\\users\\acer6\\appdata\\local\\programs\\python\\python312\\lib\\site-packages (from nbformat) (5.7.2)\n",
      "Requirement already satisfied: traitlets>=5.1 in c:\\users\\acer6\\appdata\\local\\programs\\python\\python312\\lib\\site-packages (from nbformat) (5.14.3)\n",
      "Requirement already satisfied: attrs>=22.2.0 in c:\\users\\acer6\\appdata\\local\\programs\\python\\python312\\lib\\site-packages (from jsonschema>=2.6->nbformat) (24.2.0)\n",
      "Requirement already satisfied: jsonschema-specifications>=2023.03.6 in c:\\users\\acer6\\appdata\\local\\programs\\python\\python312\\lib\\site-packages (from jsonschema>=2.6->nbformat) (2024.10.1)\n",
      "Requirement already satisfied: referencing>=0.28.4 in c:\\users\\acer6\\appdata\\local\\programs\\python\\python312\\lib\\site-packages (from jsonschema>=2.6->nbformat) (0.35.1)\n",
      "Requirement already satisfied: rpds-py>=0.7.1 in c:\\users\\acer6\\appdata\\local\\programs\\python\\python312\\lib\\site-packages (from jsonschema>=2.6->nbformat) (0.22.3)\n",
      "Requirement already satisfied: platformdirs>=2.5 in c:\\users\\acer6\\appdata\\local\\programs\\python\\python312\\lib\\site-packages (from jupyter-core!=5.0.*,>=4.12->nbformat) (4.3.6)\n",
      "Requirement already satisfied: pywin32>=300 in c:\\users\\acer6\\appdata\\local\\programs\\python\\python312\\lib\\site-packages (from jupyter-core!=5.0.*,>=4.12->nbformat) (308)\n"
     ]
    },
    {
     "name": "stderr",
     "output_type": "stream",
     "text": [
      "WARNING: Ignoring invalid distribution ~atplotlib (C:\\Users\\acer6\\AppData\\Local\\Programs\\Python\\Python312\\Lib\\site-packages)\n",
      "WARNING: Ignoring invalid distribution ~lflow-skinny (C:\\Users\\acer6\\AppData\\Local\\Programs\\Python\\Python312\\Lib\\site-packages)\n",
      "WARNING: Ignoring invalid distribution ~treamlit (C:\\Users\\acer6\\AppData\\Local\\Programs\\Python\\Python312\\Lib\\site-packages)\n",
      "WARNING: Ignoring invalid distribution ~atplotlib (C:\\Users\\acer6\\AppData\\Local\\Programs\\Python\\Python312\\Lib\\site-packages)\n",
      "WARNING: Ignoring invalid distribution ~lflow-skinny (C:\\Users\\acer6\\AppData\\Local\\Programs\\Python\\Python312\\Lib\\site-packages)\n",
      "WARNING: Ignoring invalid distribution ~treamlit (C:\\Users\\acer6\\AppData\\Local\\Programs\\Python\\Python312\\Lib\\site-packages)\n",
      "WARNING: Ignoring invalid distribution ~atplotlib (C:\\Users\\acer6\\AppData\\Local\\Programs\\Python\\Python312\\Lib\\site-packages)\n",
      "WARNING: Ignoring invalid distribution ~lflow-skinny (C:\\Users\\acer6\\AppData\\Local\\Programs\\Python\\Python312\\Lib\\site-packages)\n",
      "WARNING: Ignoring invalid distribution ~treamlit (C:\\Users\\acer6\\AppData\\Local\\Programs\\Python\\Python312\\Lib\\site-packages)\n"
     ]
    }
   ],
   "source": [
    "!pip3 install --upgrade nbformat\n"
   ]
  },
  {
   "cell_type": "code",
   "execution_count": 4,
   "id": "eb30ead6",
   "metadata": {},
   "outputs": [
    {
     "name": "stdout",
     "output_type": "stream",
     "text": [
      "Requirement already satisfied: lightgbm in c:\\users\\acer6\\appdata\\local\\programs\\python\\python312\\lib\\site-packages (4.5.0)\n",
      "Requirement already satisfied: numpy>=1.17.0 in c:\\users\\acer6\\appdata\\local\\programs\\python\\python312\\lib\\site-packages (from lightgbm) (1.26.4)\n",
      "Requirement already satisfied: scipy in c:\\users\\acer6\\appdata\\local\\programs\\python\\python312\\lib\\site-packages (from lightgbm) (1.13.1)\n"
     ]
    },
    {
     "name": "stderr",
     "output_type": "stream",
     "text": [
      "WARNING: Ignoring invalid distribution ~atplotlib (C:\\Users\\acer6\\AppData\\Local\\Programs\\Python\\Python312\\Lib\\site-packages)\n",
      "WARNING: Ignoring invalid distribution ~lflow-skinny (C:\\Users\\acer6\\AppData\\Local\\Programs\\Python\\Python312\\Lib\\site-packages)\n",
      "WARNING: Ignoring invalid distribution ~treamlit (C:\\Users\\acer6\\AppData\\Local\\Programs\\Python\\Python312\\Lib\\site-packages)\n",
      "WARNING: Ignoring invalid distribution ~atplotlib (C:\\Users\\acer6\\AppData\\Local\\Programs\\Python\\Python312\\Lib\\site-packages)\n",
      "WARNING: Ignoring invalid distribution ~lflow-skinny (C:\\Users\\acer6\\AppData\\Local\\Programs\\Python\\Python312\\Lib\\site-packages)\n",
      "WARNING: Ignoring invalid distribution ~treamlit (C:\\Users\\acer6\\AppData\\Local\\Programs\\Python\\Python312\\Lib\\site-packages)\n",
      "WARNING: Ignoring invalid distribution ~atplotlib (C:\\Users\\acer6\\AppData\\Local\\Programs\\Python\\Python312\\Lib\\site-packages)\n",
      "WARNING: Ignoring invalid distribution ~lflow-skinny (C:\\Users\\acer6\\AppData\\Local\\Programs\\Python\\Python312\\Lib\\site-packages)\n",
      "WARNING: Ignoring invalid distribution ~treamlit (C:\\Users\\acer6\\AppData\\Local\\Programs\\Python\\Python312\\Lib\\site-packages)\n"
     ]
    }
   ],
   "source": [
    "!pip3 install lightgbm"
   ]
  },
  {
   "cell_type": "code",
   "execution_count": 5,
   "id": "7964c068",
   "metadata": {},
   "outputs": [
    {
     "name": "stdout",
     "output_type": "stream",
     "text": [
      "Requirement already satisfied: mlflow in c:\\users\\acer6\\appdata\\local\\programs\\python\\python312\\lib\\site-packages (2.22.1)\n",
      "Requirement already satisfied: mlflow-skinny==2.22.1 in c:\\users\\acer6\\appdata\\local\\programs\\python\\python312\\lib\\site-packages (from mlflow) (2.22.1)\n",
      "Requirement already satisfied: Flask<4 in c:\\users\\acer6\\appdata\\local\\programs\\python\\python312\\lib\\site-packages (from mlflow) (3.1.0)\n",
      "Requirement already satisfied: Jinja2<4,>=3.0 in c:\\users\\acer6\\appdata\\local\\programs\\python\\python312\\lib\\site-packages (from mlflow) (3.1.4)\n",
      "Requirement already satisfied: alembic!=1.10.0,<2 in c:\\users\\acer6\\appdata\\local\\programs\\python\\python312\\lib\\site-packages (from mlflow) (1.14.0)\n",
      "Requirement already satisfied: docker<8,>=4.0.0 in c:\\users\\acer6\\appdata\\local\\programs\\python\\python312\\lib\\site-packages (from mlflow) (7.1.0)\n",
      "Requirement already satisfied: graphene<4 in c:\\users\\acer6\\appdata\\local\\programs\\python\\python312\\lib\\site-packages (from mlflow) (3.4.3)\n",
      "Requirement already satisfied: markdown<4,>=3.3 in c:\\users\\acer6\\appdata\\roaming\\python\\python312\\site-packages (from mlflow) (3.8)\n",
      "Requirement already satisfied: matplotlib<4 in c:\\users\\acer6\\appdata\\local\\programs\\python\\python312\\lib\\site-packages (from mlflow) (3.10.0)\n",
      "Requirement already satisfied: numpy<3 in c:\\users\\acer6\\appdata\\local\\programs\\python\\python312\\lib\\site-packages (from mlflow) (1.26.4)\n",
      "Requirement already satisfied: pandas!=2.3.0,<3 in c:\\users\\acer6\\appdata\\local\\programs\\python\\python312\\lib\\site-packages (from mlflow) (2.2.3)\n",
      "Requirement already satisfied: pyarrow<20,>=4.0.0 in c:\\users\\acer6\\appdata\\local\\programs\\python\\python312\\lib\\site-packages (from mlflow) (18.1.0)\n",
      "Requirement already satisfied: scikit-learn<2 in c:\\users\\acer6\\appdata\\local\\programs\\python\\python312\\lib\\site-packages (from mlflow) (1.5.0)\n",
      "Requirement already satisfied: scipy<2 in c:\\users\\acer6\\appdata\\local\\programs\\python\\python312\\lib\\site-packages (from mlflow) (1.13.1)\n",
      "Requirement already satisfied: sqlalchemy<3,>=1.4.0 in c:\\users\\acer6\\appdata\\local\\programs\\python\\python312\\lib\\site-packages (from mlflow) (2.0.36)\n",
      "Requirement already satisfied: waitress<4 in c:\\users\\acer6\\appdata\\local\\programs\\python\\python312\\lib\\site-packages (from mlflow) (3.0.2)\n",
      "Requirement already satisfied: cachetools<6,>=5.0.0 in c:\\users\\acer6\\appdata\\local\\programs\\python\\python312\\lib\\site-packages (from mlflow-skinny==2.22.1->mlflow) (5.5.0)\n",
      "Requirement already satisfied: click<9,>=7.0 in c:\\users\\acer6\\appdata\\local\\programs\\python\\python312\\lib\\site-packages (from mlflow-skinny==2.22.1->mlflow) (8.1.7)\n",
      "Requirement already satisfied: cloudpickle<4 in c:\\users\\acer6\\appdata\\local\\programs\\python\\python312\\lib\\site-packages (from mlflow-skinny==2.22.1->mlflow) (3.1.0)\n",
      "Requirement already satisfied: databricks-sdk<1,>=0.20.0 in c:\\users\\acer6\\appdata\\local\\programs\\python\\python312\\lib\\site-packages (from mlflow-skinny==2.22.1->mlflow) (0.39.0)\n",
      "Requirement already satisfied: fastapi<1 in c:\\users\\acer6\\appdata\\local\\programs\\python\\python312\\lib\\site-packages (from mlflow-skinny==2.22.1->mlflow) (0.115.6)\n",
      "Requirement already satisfied: gitpython<4,>=3.1.9 in c:\\users\\acer6\\appdata\\local\\programs\\python\\python312\\lib\\site-packages (from mlflow-skinny==2.22.1->mlflow) (3.1.43)\n",
      "Requirement already satisfied: importlib_metadata!=4.7.0,<9,>=3.7.0 in c:\\users\\acer6\\appdata\\local\\programs\\python\\python312\\lib\\site-packages (from mlflow-skinny==2.22.1->mlflow) (8.4.0)\n",
      "Requirement already satisfied: opentelemetry-api<3,>=1.9.0 in c:\\users\\acer6\\appdata\\local\\programs\\python\\python312\\lib\\site-packages (from mlflow-skinny==2.22.1->mlflow) (1.29.0)\n",
      "Requirement already satisfied: opentelemetry-sdk<3,>=1.9.0 in c:\\users\\acer6\\appdata\\local\\programs\\python\\python312\\lib\\site-packages (from mlflow-skinny==2.22.1->mlflow) (1.29.0)\n",
      "Requirement already satisfied: packaging<25 in c:\\users\\acer6\\appdata\\local\\programs\\python\\python312\\lib\\site-packages (from mlflow-skinny==2.22.1->mlflow) (24.2)\n",
      "Requirement already satisfied: protobuf<7,>=3.12.0 in c:\\users\\acer6\\appdata\\roaming\\python\\python312\\site-packages (from mlflow-skinny==2.22.1->mlflow) (5.29.4)\n",
      "Requirement already satisfied: pydantic<3,>=1.10.8 in c:\\users\\acer6\\appdata\\local\\programs\\python\\python312\\lib\\site-packages (from mlflow-skinny==2.22.1->mlflow) (2.10.3)\n",
      "Requirement already satisfied: pyyaml<7,>=5.1 in c:\\users\\acer6\\appdata\\local\\programs\\python\\python312\\lib\\site-packages (from mlflow-skinny==2.22.1->mlflow) (6.0.2)\n",
      "Requirement already satisfied: requests<3,>=2.17.3 in c:\\users\\acer6\\appdata\\roaming\\python\\python312\\site-packages (from mlflow-skinny==2.22.1->mlflow) (2.32.3)\n",
      "Requirement already satisfied: sqlparse<1,>=0.4.0 in c:\\users\\acer6\\appdata\\local\\programs\\python\\python312\\lib\\site-packages (from mlflow-skinny==2.22.1->mlflow) (0.5.3)\n",
      "Requirement already satisfied: typing-extensions<5,>=4.0.0 in c:\\users\\acer6\\appdata\\roaming\\python\\python312\\site-packages (from mlflow-skinny==2.22.1->mlflow) (4.13.2)\n",
      "Requirement already satisfied: uvicorn<1 in c:\\users\\acer6\\appdata\\local\\programs\\python\\python312\\lib\\site-packages (from mlflow-skinny==2.22.1->mlflow) (0.33.0)\n",
      "Requirement already satisfied: Mako in c:\\users\\acer6\\appdata\\local\\programs\\python\\python312\\lib\\site-packages (from alembic!=1.10.0,<2->mlflow) (1.3.8)\n",
      "Requirement already satisfied: colorama in c:\\users\\acer6\\appdata\\local\\programs\\python\\python312\\lib\\site-packages (from click<9,>=7.0->mlflow-skinny==2.22.1->mlflow) (0.4.6)\n",
      "Requirement already satisfied: google-auth~=2.0 in c:\\users\\acer6\\appdata\\local\\programs\\python\\python312\\lib\\site-packages (from databricks-sdk<1,>=0.20.0->mlflow-skinny==2.22.1->mlflow) (2.37.0)\n",
      "Requirement already satisfied: pywin32>=304 in c:\\users\\acer6\\appdata\\local\\programs\\python\\python312\\lib\\site-packages (from docker<8,>=4.0.0->mlflow) (308)\n",
      "Requirement already satisfied: urllib3>=1.26.0 in c:\\users\\acer6\\appdata\\roaming\\python\\python312\\site-packages (from docker<8,>=4.0.0->mlflow) (2.4.0)\n",
      "Requirement already satisfied: starlette<0.42.0,>=0.40.0 in c:\\users\\acer6\\appdata\\local\\programs\\python\\python312\\lib\\site-packages (from fastapi<1->mlflow-skinny==2.22.1->mlflow) (0.41.3)\n",
      "Requirement already satisfied: Werkzeug>=3.1 in c:\\users\\acer6\\appdata\\roaming\\python\\python312\\site-packages (from Flask<4->mlflow) (3.1.3)\n",
      "Requirement already satisfied: itsdangerous>=2.2 in c:\\users\\acer6\\appdata\\local\\programs\\python\\python312\\lib\\site-packages (from Flask<4->mlflow) (2.2.0)\n",
      "Requirement already satisfied: blinker>=1.9 in c:\\users\\acer6\\appdata\\local\\programs\\python\\python312\\lib\\site-packages (from Flask<4->mlflow) (1.9.0)\n",
      "Requirement already satisfied: gitdb<5,>=4.0.1 in c:\\users\\acer6\\appdata\\local\\programs\\python\\python312\\lib\\site-packages (from gitpython<4,>=3.1.9->mlflow-skinny==2.22.1->mlflow) (4.0.11)\n",
      "Requirement already satisfied: smmap<6,>=3.0.1 in c:\\users\\acer6\\appdata\\local\\programs\\python\\python312\\lib\\site-packages (from gitdb<5,>=4.0.1->gitpython<4,>=3.1.9->mlflow-skinny==2.22.1->mlflow) (5.0.1)\n",
      "Requirement already satisfied: pyasn1-modules>=0.2.1 in c:\\users\\acer6\\appdata\\local\\programs\\python\\python312\\lib\\site-packages (from google-auth~=2.0->databricks-sdk<1,>=0.20.0->mlflow-skinny==2.22.1->mlflow) (0.4.1)\n",
      "Requirement already satisfied: rsa<5,>=3.1.4 in c:\\users\\acer6\\appdata\\local\\programs\\python\\python312\\lib\\site-packages (from google-auth~=2.0->databricks-sdk<1,>=0.20.0->mlflow-skinny==2.22.1->mlflow) (4.9)\n",
      "Requirement already satisfied: graphql-core<3.3,>=3.1 in c:\\users\\acer6\\appdata\\local\\programs\\python\\python312\\lib\\site-packages (from graphene<4->mlflow) (3.2.5)\n",
      "Requirement already satisfied: graphql-relay<3.3,>=3.1 in c:\\users\\acer6\\appdata\\local\\programs\\python\\python312\\lib\\site-packages (from graphene<4->mlflow) (3.2.0)\n",
      "Requirement already satisfied: python-dateutil<3,>=2.7.0 in c:\\users\\acer6\\appdata\\local\\programs\\python\\python312\\lib\\site-packages (from graphene<4->mlflow) (2.9.0.post0)\n",
      "Requirement already satisfied: zipp>=0.5 in c:\\users\\acer6\\appdata\\local\\programs\\python\\python312\\lib\\site-packages (from importlib_metadata!=4.7.0,<9,>=3.7.0->mlflow-skinny==2.22.1->mlflow) (3.21.0)\n",
      "Requirement already satisfied: MarkupSafe>=2.0 in c:\\users\\acer6\\appdata\\roaming\\python\\python312\\site-packages (from Jinja2<4,>=3.0->mlflow) (3.0.2)\n",
      "Requirement already satisfied: contourpy>=1.0.1 in c:\\users\\acer6\\appdata\\local\\programs\\python\\python312\\lib\\site-packages (from matplotlib<4->mlflow) (1.3.1)\n",
      "Requirement already satisfied: cycler>=0.10 in c:\\users\\acer6\\appdata\\local\\programs\\python\\python312\\lib\\site-packages (from matplotlib<4->mlflow) (0.12.1)\n",
      "Requirement already satisfied: fonttools>=4.22.0 in c:\\users\\acer6\\appdata\\local\\programs\\python\\python312\\lib\\site-packages (from matplotlib<4->mlflow) (4.55.3)\n",
      "Requirement already satisfied: kiwisolver>=1.3.1 in c:\\users\\acer6\\appdata\\local\\programs\\python\\python312\\lib\\site-packages (from matplotlib<4->mlflow) (1.4.7)\n",
      "Requirement already satisfied: pillow>=8 in c:\\users\\acer6\\appdata\\local\\programs\\python\\python312\\lib\\site-packages (from matplotlib<4->mlflow) (11.0.0)\n",
      "Requirement already satisfied: pyparsing>=2.3.1 in c:\\users\\acer6\\appdata\\local\\programs\\python\\python312\\lib\\site-packages (from matplotlib<4->mlflow) (3.2.0)\n",
      "Requirement already satisfied: deprecated>=1.2.6 in c:\\users\\acer6\\appdata\\local\\programs\\python\\python312\\lib\\site-packages (from opentelemetry-api<3,>=1.9.0->mlflow-skinny==2.22.1->mlflow) (1.2.15)\n",
      "Requirement already satisfied: opentelemetry-semantic-conventions==0.50b0 in c:\\users\\acer6\\appdata\\local\\programs\\python\\python312\\lib\\site-packages (from opentelemetry-sdk<3,>=1.9.0->mlflow-skinny==2.22.1->mlflow) (0.50b0)\n",
      "Requirement already satisfied: pytz>=2020.1 in c:\\users\\acer6\\appdata\\local\\programs\\python\\python312\\lib\\site-packages (from pandas!=2.3.0,<3->mlflow) (2024.2)\n",
      "Requirement already satisfied: tzdata>=2022.7 in c:\\users\\acer6\\appdata\\local\\programs\\python\\python312\\lib\\site-packages (from pandas!=2.3.0,<3->mlflow) (2024.2)\n",
      "Requirement already satisfied: annotated-types>=0.6.0 in c:\\users\\acer6\\appdata\\local\\programs\\python\\python312\\lib\\site-packages (from pydantic<3,>=1.10.8->mlflow-skinny==2.22.1->mlflow) (0.7.0)\n",
      "Requirement already satisfied: pydantic-core==2.27.1 in c:\\users\\acer6\\appdata\\local\\programs\\python\\python312\\lib\\site-packages (from pydantic<3,>=1.10.8->mlflow-skinny==2.22.1->mlflow) (2.27.1)\n",
      "Requirement already satisfied: six>=1.5 in c:\\users\\acer6\\appdata\\roaming\\python\\python312\\site-packages (from python-dateutil<3,>=2.7.0->graphene<4->mlflow) (1.17.0)\n",
      "Requirement already satisfied: charset-normalizer<4,>=2 in c:\\users\\acer6\\appdata\\roaming\\python\\python312\\site-packages (from requests<3,>=2.17.3->mlflow-skinny==2.22.1->mlflow) (3.4.1)\n",
      "Requirement already satisfied: idna<4,>=2.5 in c:\\users\\acer6\\appdata\\roaming\\python\\python312\\site-packages (from requests<3,>=2.17.3->mlflow-skinny==2.22.1->mlflow) (3.10)\n",
      "Requirement already satisfied: certifi>=2017.4.17 in c:\\users\\acer6\\appdata\\roaming\\python\\python312\\site-packages (from requests<3,>=2.17.3->mlflow-skinny==2.22.1->mlflow) (2025.1.31)\n",
      "Requirement already satisfied: pyasn1>=0.1.3 in c:\\users\\acer6\\appdata\\local\\programs\\python\\python312\\lib\\site-packages (from rsa<5,>=3.1.4->google-auth~=2.0->databricks-sdk<1,>=0.20.0->mlflow-skinny==2.22.1->mlflow) (0.6.1)\n",
      "Requirement already satisfied: joblib>=1.2.0 in c:\\users\\acer6\\appdata\\local\\programs\\python\\python312\\lib\\site-packages (from scikit-learn<2->mlflow) (1.4.2)\n",
      "Requirement already satisfied: threadpoolctl>=3.1.0 in c:\\users\\acer6\\appdata\\local\\programs\\python\\python312\\lib\\site-packages (from scikit-learn<2->mlflow) (3.5.0)\n",
      "Requirement already satisfied: greenlet!=0.4.17 in c:\\users\\acer6\\appdata\\local\\programs\\python\\python312\\lib\\site-packages (from sqlalchemy<3,>=1.4.0->mlflow) (3.1.1)\n",
      "Requirement already satisfied: anyio<5,>=3.4.0 in c:\\users\\acer6\\appdata\\local\\programs\\python\\python312\\lib\\site-packages (from starlette<0.42.0,>=0.40.0->fastapi<1->mlflow-skinny==2.22.1->mlflow) (4.7.0)\n",
      "Requirement already satisfied: sniffio>=1.1 in c:\\users\\acer6\\appdata\\local\\programs\\python\\python312\\lib\\site-packages (from anyio<5,>=3.4.0->starlette<0.42.0,>=0.40.0->fastapi<1->mlflow-skinny==2.22.1->mlflow) (1.3.1)\n",
      "Requirement already satisfied: h11>=0.8 in c:\\users\\acer6\\appdata\\local\\programs\\python\\python312\\lib\\site-packages (from uvicorn<1->mlflow-skinny==2.22.1->mlflow) (0.14.0)\n",
      "Requirement already satisfied: wrapt<2,>=1.10 in c:\\users\\acer6\\appdata\\roaming\\python\\python312\\site-packages (from deprecated>=1.2.6->opentelemetry-api<3,>=1.9.0->mlflow-skinny==2.22.1->mlflow) (1.17.2)\n"
     ]
    },
    {
     "name": "stderr",
     "output_type": "stream",
     "text": [
      "WARNING: Ignoring invalid distribution ~atplotlib (C:\\Users\\acer6\\AppData\\Local\\Programs\\Python\\Python312\\Lib\\site-packages)\n",
      "WARNING: Ignoring invalid distribution ~lflow-skinny (C:\\Users\\acer6\\AppData\\Local\\Programs\\Python\\Python312\\Lib\\site-packages)\n",
      "WARNING: Ignoring invalid distribution ~treamlit (C:\\Users\\acer6\\AppData\\Local\\Programs\\Python\\Python312\\Lib\\site-packages)\n",
      "WARNING: Ignoring invalid distribution ~atplotlib (C:\\Users\\acer6\\AppData\\Local\\Programs\\Python\\Python312\\Lib\\site-packages)\n",
      "WARNING: Ignoring invalid distribution ~lflow-skinny (C:\\Users\\acer6\\AppData\\Local\\Programs\\Python\\Python312\\Lib\\site-packages)\n",
      "WARNING: Ignoring invalid distribution ~treamlit (C:\\Users\\acer6\\AppData\\Local\\Programs\\Python\\Python312\\Lib\\site-packages)\n",
      "WARNING: Ignoring invalid distribution ~atplotlib (C:\\Users\\acer6\\AppData\\Local\\Programs\\Python\\Python312\\Lib\\site-packages)\n",
      "WARNING: Ignoring invalid distribution ~lflow-skinny (C:\\Users\\acer6\\AppData\\Local\\Programs\\Python\\Python312\\Lib\\site-packages)\n",
      "WARNING: Ignoring invalid distribution ~treamlit (C:\\Users\\acer6\\AppData\\Local\\Programs\\Python\\Python312\\Lib\\site-packages)\n"
     ]
    }
   ],
   "source": [
    "!pip3 install --upgrade mlflow\n"
   ]
  },
  {
   "cell_type": "code",
   "execution_count": 6,
   "id": "a524bae2-489b-4cfd-89b6-2c5c15fdecad",
   "metadata": {},
   "outputs": [],
   "source": [
    "import pandas as pd\n",
    "import numpy as np\n",
    "import matplotlib.pyplot as plt\n",
    "import seaborn as sns\n",
    "\n",
    "from sklearn.model_selection import train_test_split, StratifiedKFold, RandomizedSearchCV\n",
    "from sklearn.preprocessing import StandardScaler, OneHotEncoder\n",
    "from sklearn.compose import ColumnTransformer\n",
    "from sklearn.pipeline import Pipeline\n",
    "from sklearn.metrics import roc_auc_score, classification_report, confusion_matrix, fbeta_score, make_scorer, accuracy_score, roc_auc_score, roc_curve, precision_recall_curve, auc\n",
    "from imblearn.over_sampling import SMOTE\n",
    "from imblearn.pipeline import Pipeline as ImbPipeline\n",
    "from sklearn.model_selection import GridSearchCV\n",
    "\n",
    "from sklearn.metrics.pairwise import cosine_similarity \n",
    "\n",
    "import xgboost as xgb\n",
    "from xgboost import XGBClassifier\n",
    "\n",
    "import lightgbm as lgb\n",
    "from lightgbm import LGBMClassifier\n",
    "\n",
    "from sklearn.ensemble import RandomForestClassifier\n",
    "\n",
    "\n",
    "from sklearn.linear_model import LogisticRegression\n",
    "\n",
    "from sklearn.metrics import ConfusionMatrixDisplay\n",
    "\n",
    "\n",
    "from evidently.report import Report\n",
    "from evidently.metric_preset import ClassificationPreset\n",
    "from evidently.metric_preset import DataDriftPreset\n",
    "from evidently import ColumnMapping\n",
    "\n",
    "import mlflow\n",
    "from mlflow.models.signature import infer_signature\n",
    "import shap\n",
    "import mlflow.sklearn\n",
    "\n",
    "\n",
    "from mlflow import evaluate\n",
    "\n",
    "import joblib"
   ]
  },
  {
   "cell_type": "code",
   "execution_count": 7,
   "id": "d4917c53",
   "metadata": {},
   "outputs": [
    {
     "name": "stderr",
     "output_type": "stream",
     "text": [
      "2025/06/10 21:05:00 INFO mlflow.tracking.fluent: Experiment with name 'Credit_Scoring_Test' does not exist. Creating a new experiment.\n"
     ]
    },
    {
     "data": {
      "text/plain": [
       "<Experiment: artifact_location='file:///D:/Projet/P07/P07_Implementez_outils_scoring/p7-ml/.mlruns/543179128818484245', creation_time=1749582300382, experiment_id='543179128818484245', last_update_time=1749582300382, lifecycle_stage='active', name='Credit_Scoring_Test', tags={}>"
      ]
     },
     "execution_count": 7,
     "metadata": {},
     "output_type": "execute_result"
    }
   ],
   "source": [
    "mlflow.set_tracking_uri(\"file:///D:/Projet/P07/P07_Implementez_outils_scoring/p7-ml/.mlruns\")  \n",
    "mlflow.set_experiment(\"Credit_Scoring_Test\") "
   ]
  },
  {
   "cell_type": "markdown",
   "id": "efa55a0a-3437-4a04-9d9f-14326264faac",
   "metadata": {},
   "source": [
    "<div style=\"background-color:#934bd6; padding: 10px\">\n",
    "<h2>Chargement des données</h2>\n",
    "</div>"
   ]
  },
  {
   "cell_type": "markdown",
   "id": "07940fa1",
   "metadata": {},
   "source": [
    "Dans cette section, nous avons les étapes suivantes :\n",
    "\n",
    "- Chargement des données\n",
    "- Traitement des valeurs manquantes\n",
    "- Définition des variables catégorielles et numériques"
   ]
  },
  {
   "cell_type": "code",
   "execution_count": 8,
   "id": "cc8b55eb",
   "metadata": {},
   "outputs": [],
   "source": [
    "def score_metier(tp, fp, fn, tn, penalty_fn=2):\n",
    "    total = tp + fp + fn + tn\n",
    "    if total == 0:\n",
    "        return np.nan\n",
    "    score = (fp + penalty_fn * fn) / total\n",
    "    return score * 100 \n"
   ]
  },
  {
   "cell_type": "code",
   "execution_count": 9,
   "id": "539ff848",
   "metadata": {},
   "outputs": [],
   "source": [
    "def seuil_optimal_metier_contrainte(model, X_test, y_test, penalty_fn=2, pas=0.01, min_taux_accord=25):\n",
    "    best_thresh = None\n",
    "    best_score = np.inf\n",
    "    best_stats = None\n",
    "    for t in np.arange(0.05, 0.9, pas):\n",
    "        y_proba = model.predict_proba(X_test)[:, 1]\n",
    "        y_pred = (y_proba >= t).astype(int)\n",
    "        tn, fp, fn, tp = confusion_matrix(y_test, y_pred).ravel()\n",
    "        total = tp + fp + fn + tn\n",
    "        score = (fp + penalty_fn * fn) / total * 100 if total else np.nan\n",
    "        taux_accord = (tp + fp) / total * 100 if total else 0\n",
    "        if taux_accord >= min_taux_accord and score < best_score:\n",
    "            best_score = score\n",
    "            best_thresh = t\n",
    "            best_stats = (tn, fp, fn, tp, taux_accord)\n",
    "    return best_thresh, best_score, best_stats"
   ]
  },
  {
   "cell_type": "code",
   "execution_count": 10,
   "id": "8b4068a6-1c3e-4e59-ac25-a89a336a5655",
   "metadata": {},
   "outputs": [
    {
     "data": {
      "text/html": [
       "<div>\n",
       "<style scoped>\n",
       "    .dataframe tbody tr th:only-of-type {\n",
       "        vertical-align: middle;\n",
       "    }\n",
       "\n",
       "    .dataframe tbody tr th {\n",
       "        vertical-align: top;\n",
       "    }\n",
       "\n",
       "    .dataframe thead th {\n",
       "        text-align: right;\n",
       "    }\n",
       "</style>\n",
       "<table border=\"1\" class=\"dataframe\">\n",
       "  <thead>\n",
       "    <tr style=\"text-align: right;\">\n",
       "      <th></th>\n",
       "      <th>ID_CLIENT</th>\n",
       "      <th>CIBLE</th>\n",
       "      <th>TYPE_CONTRAT</th>\n",
       "      <th>GENRE</th>\n",
       "      <th>PROPRIETAIRE_VOITURE</th>\n",
       "      <th>PROPRIETAIRE_BIEN_IMMO</th>\n",
       "      <th>NBR_ENFANTS</th>\n",
       "      <th>REVENU_TOTAL</th>\n",
       "      <th>MONTANT_CREDIT</th>\n",
       "      <th>MONTANT_ANNUITE</th>\n",
       "      <th>...</th>\n",
       "      <th>ACCOMPAGNANT_DEMANDE</th>\n",
       "      <th>AGE</th>\n",
       "      <th>ANNEES_EMPLOI</th>\n",
       "      <th>SCORE_CONTACT</th>\n",
       "      <th>RATIO_ENFANTS_FAMILLE</th>\n",
       "      <th>DUREE_CREDIT_MOIS</th>\n",
       "      <th>DELAI_TRAITEMENT_DOSSIER</th>\n",
       "      <th>TRAITEMENT_DOSSIER_GROUPE</th>\n",
       "      <th>TRAITEMENT_DOSSIER_SIMPLIFIE</th>\n",
       "      <th>EMPLOI_TYPE</th>\n",
       "    </tr>\n",
       "  </thead>\n",
       "  <tbody>\n",
       "    <tr>\n",
       "      <th>0</th>\n",
       "      <td>101392</td>\n",
       "      <td>0</td>\n",
       "      <td>Cash loans</td>\n",
       "      <td>F</td>\n",
       "      <td>Y</td>\n",
       "      <td>Y</td>\n",
       "      <td>0</td>\n",
       "      <td>81000.0</td>\n",
       "      <td>573628.5</td>\n",
       "      <td>24435.0</td>\n",
       "      <td>...</td>\n",
       "      <td>Unaccompanied</td>\n",
       "      <td>54.3</td>\n",
       "      <td>2</td>\n",
       "      <td>1</td>\n",
       "      <td>0.000000</td>\n",
       "      <td>23.0</td>\n",
       "      <td>2343.0</td>\n",
       "      <td>120j+</td>\n",
       "      <td>Long</td>\n",
       "      <td>Expérience Faible</td>\n",
       "    </tr>\n",
       "    <tr>\n",
       "      <th>1</th>\n",
       "      <td>435135</td>\n",
       "      <td>0</td>\n",
       "      <td>Cash loans</td>\n",
       "      <td>F</td>\n",
       "      <td>N</td>\n",
       "      <td>N</td>\n",
       "      <td>0</td>\n",
       "      <td>112500.0</td>\n",
       "      <td>298512.0</td>\n",
       "      <td>19948.5</td>\n",
       "      <td>...</td>\n",
       "      <td>Unaccompanied</td>\n",
       "      <td>25.2</td>\n",
       "      <td>2</td>\n",
       "      <td>2</td>\n",
       "      <td>0.000000</td>\n",
       "      <td>15.0</td>\n",
       "      <td>87.0</td>\n",
       "      <td>60-120j</td>\n",
       "      <td>Long</td>\n",
       "      <td>Expérience Faible</td>\n",
       "    </tr>\n",
       "    <tr>\n",
       "      <th>2</th>\n",
       "      <td>341153</td>\n",
       "      <td>1</td>\n",
       "      <td>Cash loans</td>\n",
       "      <td>F</td>\n",
       "      <td>N</td>\n",
       "      <td>Y</td>\n",
       "      <td>0</td>\n",
       "      <td>90000.0</td>\n",
       "      <td>1006920.0</td>\n",
       "      <td>42790.5</td>\n",
       "      <td>...</td>\n",
       "      <td>Unaccompanied</td>\n",
       "      <td>44.0</td>\n",
       "      <td>0</td>\n",
       "      <td>1</td>\n",
       "      <td>0.000000</td>\n",
       "      <td>24.0</td>\n",
       "      <td>3806.0</td>\n",
       "      <td>120j+</td>\n",
       "      <td>Long</td>\n",
       "      <td>Sans emploi</td>\n",
       "    </tr>\n",
       "    <tr>\n",
       "      <th>3</th>\n",
       "      <td>401501</td>\n",
       "      <td>0</td>\n",
       "      <td>Cash loans</td>\n",
       "      <td>M</td>\n",
       "      <td>Y</td>\n",
       "      <td>Y</td>\n",
       "      <td>1</td>\n",
       "      <td>180000.0</td>\n",
       "      <td>364896.0</td>\n",
       "      <td>31347.0</td>\n",
       "      <td>...</td>\n",
       "      <td>Unaccompanied</td>\n",
       "      <td>37.6</td>\n",
       "      <td>14</td>\n",
       "      <td>1</td>\n",
       "      <td>0.333333</td>\n",
       "      <td>12.0</td>\n",
       "      <td>1751.0</td>\n",
       "      <td>120j+</td>\n",
       "      <td>Long</td>\n",
       "      <td>Expérience Moyenne</td>\n",
       "    </tr>\n",
       "    <tr>\n",
       "      <th>4</th>\n",
       "      <td>341989</td>\n",
       "      <td>0</td>\n",
       "      <td>Revolving loans</td>\n",
       "      <td>F</td>\n",
       "      <td>N</td>\n",
       "      <td>Y</td>\n",
       "      <td>1</td>\n",
       "      <td>135000.0</td>\n",
       "      <td>405000.0</td>\n",
       "      <td>20250.0</td>\n",
       "      <td>...</td>\n",
       "      <td>Unaccompanied</td>\n",
       "      <td>31.5</td>\n",
       "      <td>4</td>\n",
       "      <td>1</td>\n",
       "      <td>0.333333</td>\n",
       "      <td>20.0</td>\n",
       "      <td>1782.0</td>\n",
       "      <td>120j+</td>\n",
       "      <td>Long</td>\n",
       "      <td>Expérience Faible</td>\n",
       "    </tr>\n",
       "  </tbody>\n",
       "</table>\n",
       "<p>5 rows × 39 columns</p>\n",
       "</div>"
      ],
      "text/plain": [
       "   ID_CLIENT  CIBLE     TYPE_CONTRAT GENRE PROPRIETAIRE_VOITURE  \\\n",
       "0     101392      0       Cash loans     F                    Y   \n",
       "1     435135      0       Cash loans     F                    N   \n",
       "2     341153      1       Cash loans     F                    N   \n",
       "3     401501      0       Cash loans     M                    Y   \n",
       "4     341989      0  Revolving loans     F                    N   \n",
       "\n",
       "  PROPRIETAIRE_BIEN_IMMO  NBR_ENFANTS  REVENU_TOTAL  MONTANT_CREDIT  \\\n",
       "0                      Y            0       81000.0        573628.5   \n",
       "1                      N            0      112500.0        298512.0   \n",
       "2                      Y            0       90000.0       1006920.0   \n",
       "3                      Y            1      180000.0        364896.0   \n",
       "4                      Y            1      135000.0        405000.0   \n",
       "\n",
       "   MONTANT_ANNUITE  ...  ACCOMPAGNANT_DEMANDE   AGE ANNEES_EMPLOI  \\\n",
       "0          24435.0  ...         Unaccompanied  54.3             2   \n",
       "1          19948.5  ...         Unaccompanied  25.2             2   \n",
       "2          42790.5  ...         Unaccompanied  44.0             0   \n",
       "3          31347.0  ...         Unaccompanied  37.6            14   \n",
       "4          20250.0  ...         Unaccompanied  31.5             4   \n",
       "\n",
       "  SCORE_CONTACT RATIO_ENFANTS_FAMILLE  DUREE_CREDIT_MOIS  \\\n",
       "0             1              0.000000               23.0   \n",
       "1             2              0.000000               15.0   \n",
       "2             1              0.000000               24.0   \n",
       "3             1              0.333333               12.0   \n",
       "4             1              0.333333               20.0   \n",
       "\n",
       "   DELAI_TRAITEMENT_DOSSIER  TRAITEMENT_DOSSIER_GROUPE  \\\n",
       "0                    2343.0                      120j+   \n",
       "1                      87.0                    60-120j   \n",
       "2                    3806.0                      120j+   \n",
       "3                    1751.0                      120j+   \n",
       "4                    1782.0                      120j+   \n",
       "\n",
       "   TRAITEMENT_DOSSIER_SIMPLIFIE         EMPLOI_TYPE  \n",
       "0                          Long   Expérience Faible  \n",
       "1                          Long   Expérience Faible  \n",
       "2                          Long         Sans emploi  \n",
       "3                          Long  Expérience Moyenne  \n",
       "4                          Long   Expérience Faible  \n",
       "\n",
       "[5 rows x 39 columns]"
      ]
     },
     "execution_count": 10,
     "metadata": {},
     "output_type": "execute_result"
    }
   ],
   "source": [
    "df = pd.read_csv(\"D:\\\\Projet\\\\P07\\\\P07_Implementez_outils_scoring\\\\p7-ml\\\\fichier_ml\\\\app_train_sample_clean.csv\")\n",
    "df.head(5)"
   ]
  },
  {
   "cell_type": "code",
   "execution_count": 11,
   "id": "f2a6ebd2",
   "metadata": {},
   "outputs": [
    {
     "data": {
      "text/plain": [
       "array(['Expérience Faible', 'Sans emploi', 'Expérience Moyenne',\n",
       "       'Retraité', 'Expérience Longue'], dtype=object)"
      ]
     },
     "execution_count": 11,
     "metadata": {},
     "output_type": "execute_result"
    }
   ],
   "source": [
    "df['EMPLOI_TYPE'].unique()"
   ]
  },
  {
   "cell_type": "code",
   "execution_count": 12,
   "id": "fb7672b1",
   "metadata": {},
   "outputs": [
    {
     "data": {
      "text/plain": [
       "ID_CLIENT                         int64\n",
       "CIBLE                             int64\n",
       "TYPE_CONTRAT                     object\n",
       "GENRE                            object\n",
       "PROPRIETAIRE_VOITURE             object\n",
       "PROPRIETAIRE_BIEN_IMMO           object\n",
       "NBR_ENFANTS                       int64\n",
       "REVENU_TOTAL                    float64\n",
       "MONTANT_CREDIT                  float64\n",
       "MONTANT_ANNUITE                 float64\n",
       "MONTANT_BIENS                   float64\n",
       "TYPE_REVENUS                     object\n",
       "NIVEAU_EDUCATION                 object\n",
       "STATUT_FAMILIAL                  object\n",
       "TYPE_LOGEMENT                    object\n",
       "JOURS_ENREGISTREMENT            float64\n",
       "JOURS_ID_PUBLICATION              int64\n",
       "FLAG_MOBILE                       int64\n",
       "FLAG_TELEPHONE_PRO                int64\n",
       "FLAG_TELEPHONE_TRAVAIL            int64\n",
       "FLAG_TELEPHONE                    int64\n",
       "FLAG_EMAIL                        int64\n",
       "NBR_MEMBRES_FAMILLE             float64\n",
       "SOURCE_EXTERNE_2                float64\n",
       "JOURS_DERNIER_CHANGEMENT_TEL    float64\n",
       "TYPE_ENTREPRISE                  object\n",
       "HEURE_DEMANDE                     int64\n",
       "JOUR_DEMANDE                     object\n",
       "DEMANDES_CREDIT                 float64\n",
       "ACCOMPAGNANT_DEMANDE             object\n",
       "AGE                             float64\n",
       "ANNEES_EMPLOI                     int64\n",
       "SCORE_CONTACT                     int64\n",
       "RATIO_ENFANTS_FAMILLE           float64\n",
       "DUREE_CREDIT_MOIS               float64\n",
       "DELAI_TRAITEMENT_DOSSIER        float64\n",
       "TRAITEMENT_DOSSIER_GROUPE        object\n",
       "TRAITEMENT_DOSSIER_SIMPLIFIE     object\n",
       "EMPLOI_TYPE                      object\n",
       "dtype: object"
      ]
     },
     "execution_count": 12,
     "metadata": {},
     "output_type": "execute_result"
    }
   ],
   "source": [
    "df.dtypes"
   ]
  },
  {
   "cell_type": "markdown",
   "id": "3fbc5ecc",
   "metadata": {},
   "source": [
    "**Préparation des données**"
   ]
  },
  {
   "cell_type": "code",
   "execution_count": 13,
   "id": "187d743b-66a6-4a96-bc86-eefcdabf99b5",
   "metadata": {},
   "outputs": [],
   "source": [
    "X = df.drop(columns=[\"CIBLE\", \"ID_CLIENT\"])\n",
    "y = df[\"CIBLE\"]"
   ]
  },
  {
   "cell_type": "code",
   "execution_count": 14,
   "id": "af40f2bb",
   "metadata": {},
   "outputs": [],
   "source": [
    "X_train, X_test, y_train, y_test = train_test_split(X, y, stratify=y, test_size=0.2, random_state=42)"
   ]
  },
  {
   "cell_type": "code",
   "execution_count": 15,
   "id": "28bdc401",
   "metadata": {},
   "outputs": [],
   "source": [
    "cat_cols = X.select_dtypes(include='object').columns.tolist()\n",
    "num_cols = X.select_dtypes(include=np.number).columns.tolist()"
   ]
  },
  {
   "cell_type": "code",
   "execution_count": 16,
   "id": "e329f3cf",
   "metadata": {},
   "outputs": [
    {
     "data": {
      "text/plain": [
       "['TYPE_CONTRAT',\n",
       " 'GENRE',\n",
       " 'PROPRIETAIRE_VOITURE',\n",
       " 'PROPRIETAIRE_BIEN_IMMO',\n",
       " 'TYPE_REVENUS',\n",
       " 'NIVEAU_EDUCATION',\n",
       " 'STATUT_FAMILIAL',\n",
       " 'TYPE_LOGEMENT',\n",
       " 'TYPE_ENTREPRISE',\n",
       " 'JOUR_DEMANDE',\n",
       " 'ACCOMPAGNANT_DEMANDE',\n",
       " 'TRAITEMENT_DOSSIER_GROUPE',\n",
       " 'TRAITEMENT_DOSSIER_SIMPLIFIE',\n",
       " 'EMPLOI_TYPE']"
      ]
     },
     "execution_count": 16,
     "metadata": {},
     "output_type": "execute_result"
    }
   ],
   "source": [
    "cat_cols"
   ]
  },
  {
   "cell_type": "code",
   "execution_count": 17,
   "id": "1c0446f6",
   "metadata": {},
   "outputs": [],
   "source": [
    "preprocessor = ColumnTransformer([\n",
    "    (\"num\", StandardScaler(), num_cols),\n",
    "    (\"cat\", OneHotEncoder(handle_unknown=\"ignore\"), cat_cols)\n",
    "])\n"
   ]
  },
  {
   "cell_type": "markdown",
   "id": "57740370",
   "metadata": {},
   "source": [
    "**Définition des modèles**"
   ]
  },
  {
   "cell_type": "code",
   "execution_count": 18,
   "id": "c278e9da",
   "metadata": {},
   "outputs": [],
   "source": [
    "models = {\n",
    "    \"LogisticRegression\": {\n",
    "        \"model\": LogisticRegression(class_weight=\"balanced\", solver=\"liblinear\", random_state=42),\n",
    "        \"params\": {\n",
    "            \"C\": [0.001, 0.01, 0.1, 1, 10]\n",
    "        }\n",
    "    },\n",
    "    \"RandomForest\": {\n",
    "        \"model\": RandomForestClassifier(random_state=42),\n",
    "        \"params\": {\n",
    "            \"n_estimators\": [100, 200, 300],\n",
    "            \"max_depth\": [5, 10, 15]\n",
    "        }\n",
    "    },\n",
    "    \"XGBoost\": {\n",
    "        \"model\": XGBClassifier(tree_method='hist', eval_metric='logloss', random_state=42),\n",
    "        \"params\": {\n",
    "            \"n_estimators\": [100, 200],\n",
    "            \"max_depth\": [5, 7, 9],\n",
    "            \"subsample\": [0.8, 1.0]\n",
    "        }\n",
    "    },\n",
    "    \"LightGBM\": {\n",
    "        \"model\": lgb.LGBMClassifier(random_state=42),\n",
    "        \"params\": {\n",
    "            \"n_estimators\": [100, 200],\n",
    "            \"learning_rate\": [0.05, 0.1],\n",
    "            \"num_leaves\": [31, 50]\n",
    "        }\n",
    "    }\n",
    "}\n"
   ]
  },
  {
   "cell_type": "markdown",
   "id": "aa845c41",
   "metadata": {},
   "source": [
    "**Entrainement et évaluation**"
   ]
  },
  {
   "cell_type": "code",
   "execution_count": 19,
   "id": "215f51b6",
   "metadata": {},
   "outputs": [
    {
     "name": "stderr",
     "output_type": "stream",
     "text": [
      "2025/06/10 21:05:01 INFO mlflow.tracking.fluent: Experiment with name 'Credit_Scoring' does not exist. Creating a new experiment.\n"
     ]
    },
    {
     "data": {
      "text/plain": [
       "<Experiment: artifact_location='file:///D:/Projet/P07/P07_Implementez_outils_scoring/p7-ml/.mlruns/115618283817832140', creation_time=1749582301529, experiment_id='115618283817832140', last_update_time=1749582301529, lifecycle_stage='active', name='Credit_Scoring', tags={}>"
      ]
     },
     "execution_count": 19,
     "metadata": {},
     "output_type": "execute_result"
    }
   ],
   "source": [
    "results = {}\n",
    "best_models = {}\n",
    "mlflow.set_experiment(\"Credit_Scoring\")"
   ]
  },
  {
   "cell_type": "code",
   "execution_count": 20,
   "id": "b0abc2aa",
   "metadata": {},
   "outputs": [],
   "source": [
    "cv = StratifiedKFold(n_splits=3, shuffle=True, random_state=42)\n",
    "f2_scorer = make_scorer(fbeta_score, beta=2)"
   ]
  },
  {
   "cell_type": "code",
   "execution_count": 22,
   "id": "b4c38b41",
   "metadata": {},
   "outputs": [
    {
     "name": "stderr",
     "output_type": "stream",
     "text": [
      "2025/06/10 21:07:08 WARNING mlflow.models.model: Model logged without a signature and input example. Please set `input_example` parameter when logging the model to auto infer the model signature.\n",
      "2025/06/10 21:09:27 WARNING mlflow.models.model: Model logged without a signature and input example. Please set `input_example` parameter when logging the model to auto infer the model signature.\n",
      "2025/06/10 21:10:58 WARNING mlflow.models.model: Model logged without a signature and input example. Please set `input_example` parameter when logging the model to auto infer the model signature.\n"
     ]
    },
    {
     "name": "stdout",
     "output_type": "stream",
     "text": [
      "[LightGBM] [Info] Number of positive: 8146, number of negative: 8146\n",
      "[LightGBM] [Info] Auto-choosing col-wise multi-threading, the overhead of testing was 0.012146 seconds.\n",
      "You can set `force_col_wise=true` to remove the overhead.\n",
      "[LightGBM] [Info] Total Bins 19153\n",
      "[LightGBM] [Info] Number of data points in the train set: 16292, number of used features: 118\n",
      "[LightGBM] [Info] [binary:BoostFromScore]: pavg=0.500000 -> initscore=0.000000\n"
     ]
    },
    {
     "name": "stderr",
     "output_type": "stream",
     "text": [
      "2025/06/10 21:12:50 WARNING mlflow.models.model: Model logged without a signature and input example. Please set `input_example` parameter when logging the model to auto infer the model signature.\n"
     ]
    },
    {
     "data": {
      "image/png": "[encoded data removed]",
      "text/plain": [
       "<Figure size 600x600 with 2 Axes>"
      ]
     },
     "metadata": {},
     "output_type": "display_data"
    },
    {
     "data": {
      "image/png": "[encoded data removed]",
      "text/plain": [
       "<Figure size 600x600 with 2 Axes>"
      ]
     },
     "metadata": {},
     "output_type": "display_data"
    },
    {
     "data": {
      "image/png": "[encoded data removed]",
      "text/plain": [
       "<Figure size 600x600 with 2 Axes>"
      ]
     },
     "metadata": {},
     "output_type": "display_data"
    },
    {
     "data": {
      "image/png": "[encoded data removed]",
      "text/plain": [
       "<Figure size 600x600 with 2 Axes>"
      ]
     },
     "metadata": {},
     "output_type": "display_data"
    }
   ],
   "source": [
    "for name, cfg in models.items():\n",
    "    pipe = ImbPipeline([\n",
    "        (\"preprocessor\", preprocessor),\n",
    "        (\"smote\", SMOTE(random_state=42)),\n",
    "        (\"model\", cfg[\"model\"])\n",
    "    ])\n",
    "\n",
    "    search = GridSearchCV(\n",
    "        pipe,\n",
    "        {\"model__\" + key: val for key, val in cfg[\"params\"].items()},\n",
    "        cv=cv, scoring=f2_scorer, n_jobs=-1\n",
    "    )\n",
    "    search.fit(X_train, y_train)\n",
    "\n",
    "    best_model = search.best_estimator_\n",
    "    y_proba = best_model.predict_proba(X_test)[:, 1]\n",
    "    auc_score = roc_auc_score(y_test, y_proba)\n",
    "    y_pred = (y_proba >= 0.2).astype(int)\n",
    "    f2 = fbeta_score(y_test, y_pred, beta=2)\n",
    "    tn, fp, fn, tp = confusion_matrix(y_test, y_pred).ravel()\n",
    "    acc = accuracy_score(y_test, y_pred) \n",
    "\n",
    "    results[name] = {\n",
    "        \"Best Params\": search.best_params_,\n",
    "        \"AUC\": auc_score,\n",
    "        \"F2 Score\": f2,\n",
    "        \n",
    "        \"Accuracy\": acc\n",
    "    }\n",
    "    best_models[name] = best_model\n",
    "\n",
    "    with mlflow.start_run(run_name=f\"Best_{name}\") as run:\n",
    "    # 🔹 1. Log des hyper-paramètres\n",
    "        mlflow.log_params(search.best_params_)\n",
    "\n",
    "        # 🔹 2. Log des métriques clé\n",
    "        mlflow.log_metric(\"AUC\", auc_score)\n",
    "        mlflow.log_metric(\"F2\", f2),\n",
    "        \n",
    "        mlflow.log_metric(\"Accuracy\", acc)\n",
    "\n",
    "        # 🔹 3. Sauvegarde du modèle\n",
    "        mlflow.sklearn.log_model(best_model, f\"best_model_{name}\")\n",
    "\n",
    "        fig, ax = plt.subplots(figsize=(6, 6))\n",
    "        ConfusionMatrixDisplay.from_estimator(\n",
    "            best_model, X_test, y_test, ax=ax, cmap=\"Blues\"\n",
    "        )\n",
    "        plt.tight_layout()\n",
    "        fig.savefig(\"confusion_matrix.png\")\n",
    "        mlflow.log_artifact(\"confusion_matrix.png\")\n",
    "\n",
    "        \n",
    "\n",
    "        \n",
    "        mlflow.log_artifact(\"030_P07_Test_modelisation.ipynb\")"
   ]
  },
  {
   "cell_type": "code",
   "execution_count": 22,
   "id": "e2c32db2",
   "metadata": {},
   "outputs": [],
   "source": [
    "pipeline = Pipeline([\n",
    "    (\"preprocessor\", preprocessor),\n",
    "    (\"classifier\", LogisticRegression(C=1.0, solver=\"liblinear\", max_iter=100))\n",
    "])\n"
   ]
  },
  {
   "cell_type": "code",
   "execution_count": null,
   "id": "18d0e1a5",
   "metadata": {},
   "outputs": [],
   "source": [
    "\n",
    "\n",
    "with mlflow.start_run(run_name=\"LogReg_Pipeline\"):\n",
    "    \n",
    "    pipeline.fit(X_train, y_train)\n",
    "\n",
    "    # prédictions & métriques\n",
    "    probs = pipeline.predict_proba(X_test)[:,1]\n",
    "    preds = pipeline.predict(X_test)\n",
    "    acc     = accuracy_score(y_test, preds)\n",
    "    roc_auc = roc_auc_score(y_test, probs)\n",
    "    mlflow.log_metric(\"accuracy\", acc)\n",
    "    mlflow.log_metric(\"roc_auc\", roc_auc)\n",
    "\n",
    "    \n",
    "\n",
    "    \n",
    "    input_example = X_train.head(3)\n",
    "    \n",
    "    signature = infer_signature(input_example, pipeline.predict(input_example))\n",
    "\n",
    "    \n",
    "    mlflow.sklearn.log_model(\n",
    "        sk_model=pipeline,\n",
    "        artifact_path=\"pipeline_model\",\n",
    "        signature=signature,\n",
    "        input_example=input_example\n",
    "    )\n"
   ]
  },
  {
   "cell_type": "code",
   "execution_count": null,
   "id": "f3da21c0",
   "metadata": {},
   "outputs": [],
   "source": [
    "joblib.dump(preprocessor, \"preprocessor.joblib\")"
   ]
  },
  {
   "cell_type": "markdown",
   "id": "745fc0fe",
   "metadata": {},
   "source": [
    "**Choix du meilleur modèle**"
   ]
  },
  {
   "cell_type": "code",
   "execution_count": null,
   "id": "455901a4",
   "metadata": {},
   "outputs": [],
   "source": [
    "results_df = pd.DataFrame(results).T\n",
    "print(\"\\nRésultats :\")\n",
    "print(results_df)"
   ]
  },
  {
   "cell_type": "code",
   "execution_count": null,
   "id": "bf673a63",
   "metadata": {},
   "outputs": [],
   "source": []
  },
  {
   "cell_type": "code",
   "execution_count": null,
   "id": "ae136556",
   "metadata": {},
   "outputs": [],
   "source": [
    "best_model_name = results_df[\"F2 Score\"].idxmax()\n",
    "best_model = best_models[best_model_name]\n",
    "print(f\"\\n📌 Meilleur Modèle : {best_model_name}\")\n",
    "print(results_df.loc[best_model_name])"
   ]
  },
  {
   "cell_type": "code",
   "execution_count": null,
   "id": "7025caa3",
   "metadata": {},
   "outputs": [],
   "source": [
    "joblib.dump(best_models, \"best_models.joblib\")\n"
   ]
  },
  {
   "cell_type": "markdown",
   "id": "bf48781e",
   "metadata": {},
   "source": [
    "# **Test Financier et seuil métier**"
   ]
  },
  {
   "cell_type": "markdown",
   "id": "e431db69",
   "metadata": {},
   "source": [
    "***Seuil Optimal avec LogisticRegression***"
   ]
  },
  {
   "cell_type": "code",
   "execution_count": null,
   "id": "18a8d5e6",
   "metadata": {},
   "outputs": [],
   "source": [
    "best_thresh_logreg, best_score_logreg, stats = seuil_optimal_metier_contrainte(\n",
    "    best_models['LogisticRegression'],\n",
    "    X_test,\n",
    "    y_test,\n",
    "    penalty_fn=2,\n",
    "    pas=0.01,\n",
    "    min_taux_accord=25\n",
    ")\n",
    "tn, fp, fn, tp, taux_accord = stats\n",
    "print(f\"✅ Seuil optimal : {round(best_thresh_logreg, 2)} | Score métier : {round(best_score_logreg, 2)} % | Taux d’accord : {round(taux_accord, 2)} %\")\n",
    "print(f\"Accordés (TP+FP) : {tp+fp}, Refusés (TN+FN) : {tn+fn}, TP : {tp}, FP : {fp}, TN : {tn}, FN : {fn}\")"
   ]
  },
  {
   "cell_type": "code",
   "execution_count": null,
   "id": "23cc84b1",
   "metadata": {},
   "outputs": [],
   "source": [
    "seuils = np.arange(0.05, 0.91, 0.01)\n",
    "scores_metier = []\n",
    "taux_accords = []\n",
    "\n",
    "penalty_fn = 2  # à adapter selon les règles métier\n",
    "\n",
    "for t in seuils:\n",
    "    y_proba = best_models['LogisticRegression'].predict_proba(X_test)[:, 1]\n",
    "    y_pred = (y_proba >= t).astype(int)\n",
    "    tn, fp, fn, tp = confusion_matrix(y_test, y_pred).ravel()\n",
    "    total = tp + fp + fn + tn\n",
    "    score_metier = (fp + penalty_fn * fn) / total * 100 if total else np.nan\n",
    "    taux_accord = (tp + fp) / total * 100 if total else 0\n",
    "    scores_metier.append(score_metier)\n",
    "    taux_accords.append(taux_accord)\n",
    "\n",
    "# Seuil optimal\n",
    "seuil_optimal = 0.55\n",
    "idx_opt = np.abs(seuils - seuil_optimal).argmin()\n",
    "score_opt = scores_metier[idx_opt]\n",
    "accord_opt = taux_accords[idx_opt]\n",
    "\n",
    "plt.figure(figsize=(12, 7))\n",
    "plt.plot(seuils, scores_metier, label='Score métier (%)', color='#C0392B', linewidth=2.5)\n",
    "plt.plot(seuils, taux_accords, label='Taux d’accord (%)', color='#2874A6', linewidth=2.5)\n",
    "\n",
    "plt.axvline(x=seuil_optimal, color='green', linestyle='--', linewidth=2, label=f'Seuil optimal = {seuil_optimal:.2f}')\n",
    "plt.scatter([seuil_optimal], [score_opt], color='#C0392B', s=120, zorder=5)\n",
    "plt.scatter([seuil_optimal], [accord_opt], color='#2874A6', s=120, zorder=5)\n",
    "\n",
    "plt.annotate(f'Score métier\\n{score_opt:.2f} %', \n",
    "             xy=(seuil_optimal, score_opt), \n",
    "             xytext=(seuil_optimal+0.05, score_opt+15),\n",
    "             arrowprops=dict(facecolor='#C0392B', shrink=0.07, width=2, headwidth=10),\n",
    "             fontsize=13, bbox=dict(boxstyle=\"round,pad=0.3\", fc=\"white\", ec=\"#C0392B\", lw=2))\n",
    "\n",
    "plt.annotate(f'Taux d’accord\\n{accord_opt:.2f} %',\n",
    "             xy=(seuil_optimal, accord_opt),\n",
    "             xytext=(seuil_optimal-0.30, accord_opt-5),\n",
    "             arrowprops=dict(facecolor='#2874A6', shrink=0.07, width=2, headwidth=10),\n",
    "             fontsize=13, bbox=dict(boxstyle=\"round,pad=0.3\", fc=\"white\", ec=\"#2874A6\", lw=2))\n",
    "\n",
    "plt.title(\"Évolution du score métier et du taux d’accord selon le seuil\", fontsize=17, weight='bold')\n",
    "plt.xlabel(\"Seuil de décision\", fontsize=15)\n",
    "plt.ylabel(\"Pourcentage (%)\", fontsize=15)\n",
    "plt.legend(fontsize=14, frameon=True, fancybox=True, shadow=True)\n",
    "plt.grid(axis=\"y\", linestyle=\"--\", alpha=0.3)\n",
    "plt.ylim(0, 105)\n",
    "plt.xlim(seuils.min(), seuils.max())\n",
    "plt.tight_layout()\n",
    "plt.show()"
   ]
  },
  {
   "cell_type": "code",
   "execution_count": null,
   "id": "a8b3ea09",
   "metadata": {},
   "outputs": [],
   "source": [
    "joblib.dump(best_thresh_logreg, \"best_thresh_logreg.joblib\")\n"
   ]
  },
  {
   "cell_type": "markdown",
   "id": "0ee3c21e",
   "metadata": {},
   "source": [
    "Ici on a un très bon score métier car : \n",
    "\n",
    "- Refus de peu de bons clients (baisse des FP)\n",
    "- Repère beaucoup de mauvais payeurs (hausse des TP)"
   ]
  },
  {
   "cell_type": "markdown",
   "id": "cc332ed2",
   "metadata": {},
   "source": [
    "# **SHAP**"
   ]
  },
  {
   "cell_type": "code",
   "execution_count": null,
   "id": "0b96d4c7",
   "metadata": {},
   "outputs": [],
   "source": [
    "best_model_logreg = best_models['LogisticRegression']\n",
    "\n",
    "joblib.dump(best_model_logreg, \"model_logistic_regression.joblib\")"
   ]
  },
  {
   "cell_type": "code",
   "execution_count": 32,
   "id": "34569318",
   "metadata": {},
   "outputs": [],
   "source": [
    "pipeline = joblib.load(\"model_logistic_regression.joblib\")\n",
    "preprocessor = pipeline.named_steps['preprocessor']\n",
    "model = pipeline.named_steps['model']"
   ]
  },
  {
   "cell_type": "code",
   "execution_count": 33,
   "id": "48ef1158",
   "metadata": {},
   "outputs": [],
   "source": [
    "X_train_t = preprocessor.transform(X_train)\n",
    "feature_names = preprocessor.get_feature_names_out()"
   ]
  },
  {
   "cell_type": "code",
   "execution_count": 34,
   "id": "1e89df43",
   "metadata": {},
   "outputs": [],
   "source": [
    "explainer_logreg = shap.LinearExplainer(\n",
    "    best_model_logreg.named_steps[\"model\"],\n",
    "    X_train_t,\n",
    "    feature_names=preprocessor.get_feature_names_out()\n",
    ")\n",
    "\n",
    "\n",
    "shap_values = explainer_logreg(X_train_t)"
   ]
  },
  {
   "cell_type": "code",
   "execution_count": null,
   "id": "aef6a812",
   "metadata": {},
   "outputs": [],
   "source": [
    "shap.summary_plot(\n",
    "    shap_values, \n",
    "    X_train_t, \n",
    "    feature_names=feature_names, \n",
    "    plot_type=\"bar\",\n",
    "    max_display=10)"
   ]
  },
  {
   "cell_type": "code",
   "execution_count": null,
   "id": "754d5793",
   "metadata": {},
   "outputs": [],
   "source": [
    "joblib.dump(explainer_logreg, \"explainer_logreg.joblib\")"
   ]
  },
  {
   "cell_type": "code",
   "execution_count": 37,
   "id": "1c7b164a",
   "metadata": {},
   "outputs": [],
   "source": [
    "feature_names = best_model_logreg.named_steps['preprocessor'].get_feature_names_out()"
   ]
  },
  {
   "cell_type": "code",
   "execution_count": null,
   "id": "9332c426",
   "metadata": {},
   "outputs": [],
   "source": [
    "joblib.dump(feature_names, \"feature_names.joblib\")"
   ]
  },
  {
   "cell_type": "code",
   "execution_count": 39,
   "id": "38565690",
   "metadata": {},
   "outputs": [],
   "source": [
    "X_test_eval = X_test.copy()"
   ]
  },
  {
   "cell_type": "code",
   "execution_count": 40,
   "id": "c4d01ee7",
   "metadata": {},
   "outputs": [],
   "source": [
    "X_test_eval['ID_CLIENT'] = df.loc[X_test.index, 'ID_CLIENT'].values"
   ]
  },
  {
   "cell_type": "code",
   "execution_count": null,
   "id": "d5815256",
   "metadata": {},
   "outputs": [],
   "source": [
    "X_test_eval"
   ]
  },
  {
   "cell_type": "code",
   "execution_count": null,
   "id": "26dee04e",
   "metadata": {},
   "outputs": [],
   "source": [
    "X_test_eval_display = X_test_eval.copy()\n",
    "X_test_eval_display[\"PROBABILITE\"] = best_model_logreg.predict_proba(X_test)[:, 1]\n",
    "X_test_eval_display[\"PREDICTION\"] = (X_test_eval_display[\"PROBABILITE\"] >= best_thresh_logreg).astype(int)\n",
    "X_test_eval_display[\"DECISION\"] = X_test_eval_display[\"PREDICTION\"].map({1: \"REFUSÉ 🚫\", 0: \"ACCORDÉ 🥳\"})\n",
    "\n",
    "colonnes_a_afficher = [\"ID_CLIENT\", \"AGE\", \"GENRE\",\"PROPRIETAIRE_BIEN_IMMO\", \"NBR_ENFANTS\", \"REVENU_TOTAL\",\"TYPE_CONTRAT\",\"MONTANT_CREDIT\",\"DUREE_CREDIT_MOIS\",\t\"MONTANT_ANNUITE\",\t\"TYPE_REVENUS\",'SOURCE_EXTERNE_2',\n",
    " 'TYPE_ENTREPRISE','HEURE_DEMANDE','JOUR_DEMANDE',\n",
    " \"PREDICTION\", \"DECISION\", \"PROBABILITE\", 'EMPLOI_TYPE']\n",
    "X_test_eval_display[colonnes_a_afficher]\n"
   ]
  },
  {
   "cell_type": "code",
   "execution_count": null,
   "id": "44cc137d",
   "metadata": {},
   "outputs": [],
   "source": [
    "X_test_eval.columns.tolist()"
   ]
  },
  {
   "cell_type": "code",
   "execution_count": null,
   "id": "c56ea384",
   "metadata": {},
   "outputs": [],
   "source": [
    "id_client = 111292\n",
    "\n",
    "# Recherche client dans X_test_eval\n",
    "data_client = X_test_eval[X_test_eval['ID_CLIENT'] == id_client]\n",
    "\n",
    "if data_client.empty:\n",
    "    print(f\"❌ L'ID client {id_client} n'est pas trouvé dans X_test_eval.\")\n",
    "else:\n",
    "    idx_X_test = data_client.index[0]  # position dans X_test_eval\n",
    "    true_index = X_test_eval.loc[idx_X_test, :].name  # index réel dans X_test\n",
    "\n",
    "    model_used = best_model_logreg\n",
    "    explainer_used = explainer_logreg\n",
    "    threshold_used = best_thresh_logreg\n",
    "\n",
    "    # ✅ Attention : on utilise .loc ici\n",
    "    proba = model_used.predict_proba(X_test.loc[[true_index]])[:, 1][0]\n",
    "    prediction = int(proba >= threshold_used)\n",
    "    decision = \"Refusé\" if prediction == 1 else \"Accordé\"\n",
    "\n",
    "    print(f\"\\n🔎 Client ID : {id_client}\")\n",
    "    print(f\"✅ Décision Crédit : {decision}\")\n",
    "    print(f\"🎯 Probabilité de défaut : {proba:.2f}\")\n"
   ]
  },
  {
   "cell_type": "code",
   "execution_count": 45,
   "id": "df4ab2ca",
   "metadata": {},
   "outputs": [],
   "source": [
    "# Tout simplement j'ai crée une dataframe qui détient toutes les données, j'ai séparé les features et les index en 2 dataframes distinctes. \n",
    "# Ensuite avec un système de loc j'ai fais correspondre les ID CLIENT avec les index de la dataframe contenants les features importances, \n",
    "# et de cette manières en récupérant l'échantillon de données, j'arrive à faire correspondre l'explainer avec les prédictions et infos clients. "
   ]
  },
  {
   "cell_type": "code",
   "execution_count": null,
   "id": "7055794b",
   "metadata": {},
   "outputs": [],
   "source": [
    "shap.initjs()\n",
    "\n",
    "# Transformation du client avec .loc pour éviter l'erreur d'index\n",
    "X_client = model_used.named_steps['preprocessor'].transform(X_test.loc[[idx_X_test]])\n",
    "\n",
    "# SHAP values\n",
    "shap_values = explainer_used(X_client)\n",
    "\n",
    "# Waterfall plot\n",
    "shap.plots.waterfall(shap_values[0], max_display=10)\n"
   ]
  },
  {
   "cell_type": "markdown",
   "id": "cf99d711",
   "metadata": {},
   "source": [
    "Visualisons maintenant avec un groupe de clients similaires"
   ]
  },
  {
   "cell_type": "markdown",
   "id": "ac713819",
   "metadata": {},
   "source": [
    "# **Evidently : Rapport de performance et de drift**\n",
    "\n",
    "\n"
   ]
  },
  {
   "cell_type": "markdown",
   "id": "d4cae48d",
   "metadata": {},
   "source": [
    "***Permet d'intégrer un rapport automatique de:*** \n",
    "\n",
    "     - Qualité des prédictions\n",
    "     - Dérive de données (si comparaison avec des données futures)\n",
    "     - Distributions des variables"
   ]
  },
  {
   "cell_type": "code",
   "execution_count": 47,
   "id": "f2508c7b",
   "metadata": {},
   "outputs": [],
   "source": [
    "# Ajout des colonnes nécessaires à Evidently\n",
    "X_test_eval[\"CIBLE_Réelle\"] = y_test.values  # la vraie cible\n",
    "X_test_eval[\"Prédiction_LogReg\"] = best_model_logreg.predict(X_test)  # prédictions\n"
   ]
  },
  {
   "cell_type": "code",
   "execution_count": null,
   "id": "22764887",
   "metadata": {},
   "outputs": [],
   "source": [
    "column_mapping = ColumnMapping()\n",
    "column_mapping.target = \"CIBLE_Réelle\"\n",
    "column_mapping.prediction = \"Prédiction_LogReg\"\n",
    "\n",
    "\n",
    "report = Report(metrics=[\n",
    "    ClassificationPreset(),\n",
    "    DataDriftPreset()\n",
    "])\n",
    "\n",
    "# Lancement de l’analyse\n",
    "report.run(reference_data=X_test_eval, current_data=X_test_eval, column_mapping=column_mapping)\n",
    "\n"
   ]
  },
  {
   "cell_type": "code",
   "execution_count": null,
   "id": "de82da32",
   "metadata": {},
   "outputs": [],
   "source": [
    "\n",
    "report.save_html(\"rapport_evidently.html\")\n",
    "print(\"✅ Rapport Evidently généré et sauvegardé : rapport_evidently.html\")\n",
    "\n",
    "# Affichage inline (facultatif en local)\n",
    "report.show(mode=\"inline\")\n"
   ]
  },
  {
   "cell_type": "markdown",
   "id": "ba33d233",
   "metadata": {},
   "source": [
    "# **Export de la dataframe**"
   ]
  },
  {
   "cell_type": "code",
   "execution_count": null,
   "id": "8e30f123",
   "metadata": {},
   "outputs": [],
   "source": [
    "joblib.dump(X_test_eval, \"X_test_eval.joblib\")\n",
    "print(\"✅ Écrasé dans /mnt/data\")"
   ]
  },
  {
   "cell_type": "code",
   "execution_count": null,
   "id": "19cae022",
   "metadata": {},
   "outputs": [],
   "source": [
    "X_test_eval"
   ]
  },
  {
   "cell_type": "code",
   "execution_count": 52,
   "id": "0250b37b",
   "metadata": {},
   "outputs": [],
   "source": [
    "X_test_eval.to_csv(\"X_test_eval.csv\", index=False)\n"
   ]
  },
  {
   "cell_type": "code",
   "execution_count": null,
   "id": "58811c93",
   "metadata": {},
   "outputs": [],
   "source": [
    "print(\"🗂️ Colonnes X_test_eval:\", X_test_eval.columns.tolist())\n",
    "print(\"🔢 Quelques ID_CLIENT:\", X_test_eval[\"ID_CLIENT\"].head(5).tolist())\n"
   ]
  },
  {
   "cell_type": "code",
   "execution_count": null,
   "id": "f0945ab0",
   "metadata": {},
   "outputs": [],
   "source": [
    "with mlflow.start_run(run_name=\"LogReg_With_Evaluation\"):\n",
    "    pipeline.fit(X_train, y_train)\n",
    "\n",
    "   \n",
    "    mlflow.sklearn.log_model(pipeline, \"pipeline_model\")\n",
    "\n",
    "    \n",
    "    model_uri = mlflow.get_artifact_uri(\"pipeline_model\")\n",
    "\n",
    "\n",
    "loaded_model = mlflow.pyfunc.load_model(model_uri)\n",
    "\n",
    "X_eval = X_test\n",
    "y_eval = y_test\n",
    "\n",
    "eval_data = X_eval.copy()\n",
    "eval_data[\"label\"] = y_eval\n",
    "\n",
    "eval_result = mlflow.evaluate(\n",
    "    model=loaded_model,\n",
    "    data=eval_data,\n",
    "    targets=\"label\",\n",
    "    model_type=\"classifier\",\n",
    "    evaluators=[\"default\"]\n",
    ")"
   ]
  },
  {
   "cell_type": "code",
   "execution_count": null,
   "id": "7ad98b96",
   "metadata": {},
   "outputs": [],
   "source": []
  },
  {
   "cell_type": "code",
   "execution_count": null,
   "id": "f0292ded",
   "metadata": {},
   "outputs": [],
   "source": []
  },
  {
   "cell_type": "code",
   "execution_count": null,
   "id": "3965f1b8",
   "metadata": {},
   "outputs": [],
   "source": []
  },
  {
   "cell_type": "code",
   "execution_count": null,
   "id": "d9ba860c",
   "metadata": {},
   "outputs": [],
   "source": []
  },
  {
   "cell_type": "code",
   "execution_count": null,
   "id": "fb48e435",
   "metadata": {},
   "outputs": [],
   "source": []
  },
  {
   "cell_type": "code",
   "execution_count": 55,
   "id": "94e3fc11",
   "metadata": {},
   "outputs": [],
   "source": [
    "#Trouver la ligne de commande pour lancer mlflow run pour lancer l'interface Mlflow"
   ]
  },
  {
   "cell_type": "code",
   "execution_count": 56,
   "id": "161f4b57",
   "metadata": {},
   "outputs": [],
   "source": [
    "#Ainsi que le positionnement du client par rapport aux autres clients \n",
    "#3EME PAGE AVEC : \n",
    "# LE CLIENT AVEC UNE LISTE DEROULANTE AVEC LA LISTE DES VARIABLES \n",
    "# ET AFFICHER LE BOXPLOT SUR TOUT LE DATASET ET POSITIONNER LE CLIENT ADROITE OU A GAUCHE SUR LA DISTRIBUTION DES SALAIRES par exemple (classe positive : classe negative)\n",
    "#2EME GRAPHIQUE POUR LA MEME VARIABLE LA DISTRIBUTION DE LA VARIABLE SELON LES CLASSES barplot du nombre de clients dans chaque classe. \n",
    "\n",
    "#Un graphique d’analyse bi-variée entre les deux features sélectionnées, avec un dégradé de couleur selon le score des clients, et le positionnement du client\n",
    "\n",
    "#Screen des commit sur github a mettre dans pptx\n",
    "\n",
    "#Test unitaire à faire (qqes lignes de codes : prendre API ou fonction il faut la tester, (pytest))\n",
    "\n",
    "#Github action : manière d'automatiser les choses \n"
   ]
  },
  {
   "cell_type": "code",
   "execution_count": null,
   "id": "fcfe909f",
   "metadata": {},
   "outputs": [],
   "source": []
  }
 ],
 "metadata": {
  "kernelspec": {
   "display_name": "Python 3",
   "language": "python",
   "name": "python3"
  },
  "language_info": {
   "codemirror_mode": {
    "name": "ipython",
    "version": 3
   },
   "file_extension": ".py",
   "mimetype": "text/x-python",
   "name": "python",
   "nbconvert_exporter": "python",
   "pygments_lexer": "ipython3",
   "version": "3.12.5"
  }
 },
 "nbformat": 4,
 "nbformat_minor": 5
}
